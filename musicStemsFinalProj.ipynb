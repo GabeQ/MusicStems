{
 "cells": [
  {
   "cell_type": "markdown",
   "metadata": {},
   "source": [
    "# Music STEMS Final Project\n",
    "## Kai Kaneshina and Gabriel Quiroz"
   ]
  },
  {
   "cell_type": "code",
   "execution_count": 1,
   "metadata": {},
   "outputs": [],
   "source": [
    "import numpy as np\n",
    "import librosa as lb\n",
    "from librosa import display\n",
    "import matplotlib.pyplot as plt\n",
    "import IPython.display as ipd\n",
    "import scipy.signal as ss\n",
    "import scipy.io as sio\n",
    "import glob\n",
    "import subprocess\n",
    "import os.path\n",
    "import operator\n",
    "import pickle"
   ]
  },
  {
   "cell_type": "markdown",
   "metadata": {},
   "source": [
    "## Database Constructor"
   ]
  },
  {
   "cell_type": "code",
   "execution_count": 2,
   "metadata": {},
   "outputs": [],
   "source": [
    "def constructDatabase(indir):\n",
    "    \"\"\"\n",
    "    Construct a database of fingerprints for all mp3 files in the specified directory.\n",
    "    \n",
    "    Arguments:\n",
    "    indir -- directory containing mp3 files\n",
    "    \n",
    "    Returns:\n",
    "    d -- database of artist names, where the key is the artist name\n",
    "        and the value is the audio array extracted with librosa.\n",
    "    \"\"\"\n",
    "    d = {}\n",
    "\n",
    "    ### START CODE BLOCK ###\n",
    "    path = indir + '/*.m4a'\n",
    "    for filename in glob.iglob(path, recursive=True):  \n",
    "        audio, sr = lb.core.load(filename, 22050)\n",
    "        filename = filename.lstrip(indir + '/') #removes the directory from the filename\n",
    "        name = filename.split(' ')[0] #keeps only the name of the artist\n",
    "        d[name] = audio\n",
    "            \n",
    "    ### END CODE BLOCK ###\n",
    "    \n",
    "    return d"
   ]
  },
  {
   "cell_type": "code",
   "execution_count": 3,
   "metadata": {},
   "outputs": [],
   "source": [
    "db_Scales = constructDatabase('scales') # note that this may take a minute or so to run"
   ]
  },
  {
   "cell_type": "code",
   "execution_count": 4,
   "metadata": {},
   "outputs": [],
   "source": [
    "with open('db_Scales.pkl','wb') as scales:\n",
    "    pickle.dump(db_Scales, scales)"
   ]
  },
  {
   "cell_type": "code",
   "execution_count": 5,
   "metadata": {},
   "outputs": [],
   "source": [
    "with open('db_Scales.pkl','rb') as scales:\n",
    "    db_Scales = pickle.load(scales)"
   ]
  },
  {
   "cell_type": "code",
   "execution_count": 6,
   "metadata": {},
   "outputs": [],
   "source": [
    "db_JingleBells = constructDatabase('song') # note that this may take a minute or so to run"
   ]
  },
  {
   "cell_type": "code",
   "execution_count": 7,
   "metadata": {},
   "outputs": [],
   "source": [
    "with open('db_JingleBells.pkl','wb') as JingleBells:\n",
    "    pickle.dump(db_JingleBells, JingleBells)"
   ]
  },
  {
   "cell_type": "code",
   "execution_count": 8,
   "metadata": {},
   "outputs": [],
   "source": [
    "with open('db_JingleBells.pkl','rb') as JingleBells:\n",
    "    db_JingleBells = pickle.load(JingleBells)"
   ]
  },
  {
   "cell_type": "markdown",
   "metadata": {},
   "source": [
    "## Functions for Visualization "
   ]
  },
  {
   "cell_type": "code",
   "execution_count": 9,
   "metadata": {},
   "outputs": [],
   "source": [
    "def visualizeTemplate(W):\n",
    "    '''This function allows us the visualize the template matrix (W)'''\n",
    "    fs = 22050\n",
    "    winsz = 2048\n",
    "    \n",
    "    maxFreq = W.shape[0]*fs/winsz\n",
    "    maxMidi = W.shape[1]\n",
    "    \n",
    "    plt.figure(figsize=(16,5))\n",
    "    plt.imshow(W, cmap='jet', origin = 'lower', aspect='auto', extent=(0, maxMidi, 0, maxFreq))\n",
    "    plt.xlabel('Note')\n",
    "    plt.ylabel('Frequency [Hz]')\n",
    "    plt.title('Template Matrix Visualization')\n",
    "    plt.colorbar()\n",
    "    plt.show()"
   ]
  },
  {
   "cell_type": "code",
   "execution_count": 10,
   "metadata": {},
   "outputs": [],
   "source": [
    "def visualizeActivations(H):\n",
    "    '''This function allows us the visualize the activations matrix (H)'''\n",
    "    fs = 22050\n",
    "    winsz = 2048\n",
    "    \n",
    "    maxNote = H.shape[0]\n",
    "    maxFrame = H.shape[1]\n",
    "    \n",
    "    plt.figure(figsize=(16,5))\n",
    "    plt.imshow(H, cmap='jet', origin = 'lower', aspect='auto', extent=(0, maxFrame, 0, maxNote))\n",
    "    plt.xlabel('Frames')\n",
    "    plt.ylabel('Note')\n",
    "    plt.title('Activation Matrix Visualization')\n",
    "    plt.colorbar()\n",
    "    plt.show()"
   ]
  },
  {
   "cell_type": "code",
   "execution_count": 11,
   "metadata": {},
   "outputs": [],
   "source": [
    "def visualizeSTFT(STFT):\n",
    "    '''This function allows us to visualize the log spectrogram of the STFT'''\n",
    "    fs = 22050\n",
    "    winsz = 2048\n",
    "    \n",
    "    maxFreq = STFT.shape[0]*fs/winsz\n",
    "    maxFrame = STFT.shape[1]\n",
    "    \n",
    "    plt.figure(figsize=(16,5))\n",
    "    plt.imshow(np.log(STFT), cmap='jet', vmin=-12, origin = 'lower', aspect='auto', extent=(0, maxFrame, 0, maxFreq))\n",
    "    plt.xlabel('Frame')\n",
    "    plt.ylabel('Frequency [Hz]')\n",
    "    plt.title('STFT Visualization')\n",
    "    plt.colorbar()\n",
    "    plt.show()"
   ]
  },
  {
   "cell_type": "markdown",
   "metadata": {},
   "source": [
    "## NMF"
   ]
  },
  {
   "cell_type": "code",
   "execution_count": 12,
   "metadata": {},
   "outputs": [],
   "source": [
    "def calcSTFT(audio, sr = 22050, winsz = 2048, hop = 512):\n",
    "    '''Calculate the STFT of the audio'''\n",
    "    f, t, Zxx = ss.stft(audio, sr, nperseg=winsz, noverlap=winsz-hop)\n",
    "    return Zxx"
   ]
  },
  {
   "cell_type": "code",
   "execution_count": 13,
   "metadata": {},
   "outputs": [],
   "source": [
    "def NMF(W, H, V):\n",
    "    '''The NMF function runs the algorithm until the NMF algorithm causes a change of less than 1e-6 '''\n",
    "    \n",
    "    count = 0\n",
    "    while(True):\n",
    "        prevEstimate = np.linalg.norm(V - np.matmul(W,H))\n",
    "        \n",
    "        H = (H*np.matmul(W.T, V))/(np.matmul(np.matmul(W.T, W), H))\n",
    "        W = (W*np.matmul(V, H.T))/(np.matmul(np.matmul(W, H), H.T))\n",
    "        \n",
    "        count += 1\n",
    "        newEstimate = np.linalg.norm(V - np.matmul(W,H))\n",
    "        \n",
    "        # Take the difference of the previous and newly computed values \n",
    "        # If the number is small, then that means there has been little to no change within the NMF algorithm\n",
    "        # and thus we can stop running the function\n",
    "        if np.abs(newEstimate - prevEstimate) <= 1e-6:\n",
    "            break\n",
    "    return W, H, count "
   ]
  },
  {
   "cell_type": "markdown",
   "metadata": {},
   "source": [
    "## Initializing templates"
   ]
  },
  {
   "cell_type": "code",
   "execution_count": 14,
   "metadata": {},
   "outputs": [],
   "source": [
    "def initTemplates(STFT, midiArray, deltaF=30, sr=22050, winSize=2048):\n",
    "    '''Creates the initial template for the W matrix'''\n",
    "    # Convert the midi array values into a frequency array\n",
    "    freqArray = 440 * pow(2, (midiArray-69)/12)\n",
    "    \n",
    "    # Convert the frequency array into an array of k values. Also convert deltaF into a k value as well.\n",
    "    kArray = np.round(freqArray*winSize/sr).astype(int)\n",
    "    deltaK = np.round(deltaF*winSize/sr).astype(int)\n",
    "    \n",
    "    # Create W with the same amount of rows as the STFT, and the amount of columns equal to number of notes\n",
    "    W = np.zeros([STFT.shape[0], len(kArray)])\n",
    "    \n",
    "    # Loop through the rows in each column\n",
    "    for i in range(W.shape[1]):\n",
    "        for j in range(W.shape[0]):\n",
    "            \n",
    "            # If our k value is a multiple of the row, we have hit the note, and/or its harmonic\n",
    "            if (j%kArray[i]==0):\n",
    "                \n",
    "                # Set the W array row equal to the max value\n",
    "                W[j,i] = 1 #np.random.rand()\n",
    "                \n",
    "                # Cases for harmonics are below, first init an array for the k values required to satisfy values\n",
    "                # around harmonic frequencies\n",
    "                deltaKRange = np.arange(1, (deltaK+1)*j/kArray[i])\n",
    "                \n",
    "                # We add the harmonic value to a range of k values based off of the deltaF entered\n",
    "                harmonicsPositive = j + deltaKRange\n",
    "                \n",
    "                # We then remove any k values that are greater than or equal to the amount of rows  \n",
    "                harmonicsPositive = np.delete(harmonicsPositive, np.where(harmonicsPositive>=W.shape[0])).astype(int)\n",
    "                \n",
    "                # We subtract a range of k values based off of the deltaF entered from the harmonic value\n",
    "                harmonicsNegative = j - deltaKRange\n",
    "                \n",
    "                # We then remove any k values that are less than 0 to avoid the out of bounds error  \n",
    "                harmonicsNegative = np.delete(harmonicsNegative, np.where(harmonicsNegative<0)).astype(int)\n",
    "                \n",
    "                # If an array is non-empty, we set the harmonic value + the deltaK values to be a random number\n",
    "\n",
    "                if harmonicsPositive.size > 0:\n",
    "                    # Create as many random numbers as indices selected\n",
    "                    W[harmonicsPositive, i] = np.ones(harmonicsPositive.size)\n",
    "                    \n",
    "                if harmonicsNegative.size > 0:\n",
    "                    # Create as many random numbers as indices selected\n",
    "                    W[harmonicsNegative, i] = np.ones(harmonicsNegative.size)\n",
    "            \n",
    "    return W        "
   ]
  },
  {
   "cell_type": "markdown",
   "metadata": {},
   "source": [
    "## Activation Initialization"
   ]
  },
  {
   "cell_type": "code",
   "execution_count": 15,
   "metadata": {},
   "outputs": [],
   "source": [
    "def initActivationMatrix(STFT, fs=22050, hopsize=512, deltaT=.5):\n",
    "    '''This function allows us to initialize the H matrix by utilizing the STFT and assuming equal note duration.'''\n",
    "    \n",
    "    # Parameters to save for creating the H Matrix.\n",
    "    numRows, numCols = STFT.shape\n",
    "    numNotes = 8\n",
    "    \n",
    "    # Assume that the notes last an equal amount of time.\n",
    "    noteDuration = int(numCols/numNotes)\n",
    "    \n",
    "    deltaFrames = int(deltaT*fs/hopsize) #converts the deltaT (onset value) into frames\n",
    "    \n",
    "    # Create the H Matrix\n",
    "    H = np.zeros([numNotes, numCols])\n",
    "    \n",
    "    # Create a range of values that span from the -onset value to the noteDuration + the onset value\n",
    "    noteLengthInFrames = np.arange(-deltaFrames, noteDuration + deltaFrames + 1)\n",
    "    \n",
    "    # The note initially starts at frame 0.\n",
    "    actFrame = 0\n",
    "    for i in range(H.shape[0]):\n",
    "        \n",
    "        # Creates an array of frame values that need to be set to ones\n",
    "        noteTimeActive = actFrame + noteLengthInFrames\n",
    "        \n",
    "        # Remove frames that are less than zero and greater than shape of activation matrix\n",
    "        noteTimeActive = np.delete(noteTimeActive, np.where(noteTimeActive < 0)).astype(int)\n",
    "        noteTimeActive = np.delete(noteTimeActive, np.where(noteTimeActive >= H.shape[1])).astype(int)\n",
    "        \n",
    "        # Set the H matrix with as many ones as needed\n",
    "        H[i, noteTimeActive] = np.ones(noteTimeActive.size)\n",
    "        \n",
    "        # Increase the actFrame by the noteDuration for setting the next note.\n",
    "        actFrame += noteDuration\n",
    "    return H"
   ]
  },
  {
   "cell_type": "markdown",
   "metadata": {},
   "source": [
    "## Score Metric"
   ]
  },
  {
   "cell_type": "code",
   "execution_count": 16,
   "metadata": {},
   "outputs": [],
   "source": [
    "def accuracyScore(queryStftMag, queryActivation, template):\n",
    "    \n",
    "    '''\n",
    "    This function calculates and returns the score for how accurately a scale matches up with the query.\n",
    "    '''\n",
    "    \n",
    "    vEstimate = np.matmul(template, queryActivation)\n",
    "    score = np.linalg.norm(queryStftMag - vEstimate)\n",
    "    \n",
    "    return score"
   ]
  },
  {
   "cell_type": "code",
   "execution_count": 17,
   "metadata": {},
   "outputs": [],
   "source": [
    "def accuracyScoreMFCCs(queryStftMag, queryActivation, template, hop = 512, winsz=2048, sr=22050, n_mfcc=20):\n",
    "    \n",
    "    '''\n",
    "    This function calculates and returns the score for how accurately a scale matches up with the query based off\n",
    "    of their MFCC coefficients.\n",
    "    '''\n",
    "    \n",
    "    vEstimate = np.matmul(template, queryActivation)\n",
    "    \n",
    "    # Re-create audio based off of magnitude STFTs. Technically need phase here...\n",
    "    queryAudio = lb.core.istft(queryStftMag, hop_length = hop, win_length = winsz)\n",
    "    estimateAudio = lb.core.istft(vEstimate, hop_length = hop, win_length = winsz)\n",
    "\n",
    "    # Calcuate 20 MFCCs for each frame\n",
    "    queryMFCCs = lb.feature.mfcc(y=queryAudio, sr=sr, n_mfcc = n_mfcc)\n",
    "    estimateMFCCs = lb.feature.mfcc(y=estimateAudio, sr=sr, n_mfcc = n_mfcc)\n",
    "    \n",
    "    # Calcuate difference between the MFCCs\n",
    "    scoreMFCCs = np.linalg.norm(queryMFCCs - estimateMFCCs)\n",
    "    \n",
    "    return scoreMFCCs"
   ]
  },
  {
   "cell_type": "code",
   "execution_count": 18,
   "metadata": {},
   "outputs": [],
   "source": [
    "def accuracyScoreMelSpec(songAudio, scaleAudio, sr=22050, n_mels=128, fmax=8000):\n",
    "\n",
    "    '''\n",
    "    This function will be used compute the similarity between a scale and song. The function will compute the Mel\n",
    "    spectrograms for each before performing matrix multiplication, returning the normalized result.\n",
    "    '''\n",
    "    \n",
    "    # Calculate spectrogram for the song and scale, the similarity matrix, and the score\n",
    "    songArtistMelSpec = lb.feature.melspectrogram(y=songAudio, sr=sr, n_mels=n_mels, fmax=fmax)\n",
    "    \n",
    "    scaleArtistMelSpec = lb.feature.melspectrogram(y=scaleAudio, sr=sr, n_mels=n_mels, fmax=fmax)\n",
    "     \n",
    "    songArtistDb = lb.power_to_db(songArtistMelSpec, ref=np.max)\n",
    "    scaleArtistDb = lb.power_to_db(scaleArtistMelSpec, ref=np.max)\n",
    "    \n",
    "#     similarityMatrix = np.matmul(scaleArtistMelSpec.T,songArtistMelSpec)\n",
    "    \n",
    "    similarityMatrix = np.matmul(scaleArtistDb.T,songArtistDb)\n",
    "    \n",
    "    scoreMelSpec = np.linalg.norm(similarityMatrix)\n",
    "\n",
    "    return scoreMelSpec"
   ]
  },
  {
   "cell_type": "markdown",
   "metadata": {},
   "source": [
    "## Initiate template and activation matrices for the scales"
   ]
  },
  {
   "cell_type": "code",
   "execution_count": 19,
   "metadata": {},
   "outputs": [],
   "source": [
    "def getAudioTemplatesNMF(db_Scales, midiNotes):\n",
    "\n",
    "    '''\n",
    "    This function initializes a random H matrix and a W matrix for the audio based on the scale of the midi\n",
    "    notes, as well as the STFT, which are used for the NMF function. The function returns a database with the \n",
    "    artist's name as the key and W matrix as the value. \n",
    "    '''\n",
    "    \n",
    "    # Initialize W \n",
    "    dbW = {}\n",
    "    \n",
    "    # Loop through dictionary's items\n",
    "    for artist, audio in db_Scales.items():\n",
    "\n",
    "        # Calculations required for NMF \n",
    "        STFT = calcSTFT(audio)\n",
    "        magSTFT = np.abs(STFT)\n",
    "        initW = initTemplates(magSTFT, midiNotes)\n",
    "        \n",
    "        # Initialize Activation Matrix\n",
    "        initH = initActivationMatrix(STFT)\n",
    "        \n",
    "        # Run the NMF algorithm\n",
    "        W, H, count = NMF(initW + 1e-9, initH + 1e-9, magSTFT)\n",
    "\n",
    "        # Save the H, W, and STFT magnitude values to their respective dictionaries.\n",
    "        dbW[artist] = W\n",
    "\n",
    "    return dbW"
   ]
  },
  {
   "cell_type": "code",
   "execution_count": 20,
   "metadata": {},
   "outputs": [],
   "source": [
    "def calculateSingerStoreAll(db_Queries, db_Templates, db_Scales):\n",
    "    \n",
    "    '''\n",
    "    This function iterates through all the queries, calculates the stft of the query, and then iterates through all\n",
    "    the artist templates. It then calculates the optimal activation matrix as well as the corresponding score. \n",
    "    We store the query artist name with all of the template names and their scores into a dictionary. \n",
    "    The function then returns the dictionary.\n",
    "    '''\n",
    "    \n",
    "    # Initialize pairing dictionary\n",
    "    singerPairings = {}\n",
    "    \n",
    "    # Loop through the query dictionary's items\n",
    "    for artistQuery, audio in db_Queries.items():\n",
    "        \n",
    "        print('Query Artist Name: ' , artistQuery)\n",
    "        \n",
    "        # Calculate STFT for the query\n",
    "        STFT = calcSTFT(audio)\n",
    "        magSTFT = np.abs(STFT)\n",
    "        artistsAndScores = []\n",
    "        \n",
    "        # Iterate through all the templates, \n",
    "        for artistTemplate, template in db_Templates.items():\n",
    "            \n",
    "            # Extract the scale audio from the scale database\n",
    "            scaleAudio = db_Scales[artistTemplate]\n",
    "            \n",
    "            # Calculate the artist's activation matrix based off the template\n",
    "            artistActivation = np.matmul(np.linalg.inv(np.matmul(template.T, template)), \n",
    "                                     np.matmul(template.T, magSTFT))\n",
    "            \n",
    "            score = accuracyScore(magSTFT, artistActivation, template)\n",
    "            scoreMFCC = accuracyScoreMFCCs(magSTFT, artistActivation, template)\n",
    "            scoreMelSpec = accuracyScoreMelSpec(audio, scaleAudio)\n",
    "            \n",
    "            artistsAndScores.append((artistTemplate, score, scoreMFCC, scoreMelSpec))\n",
    "            print('Template Name: ', artistTemplate)\n",
    "            print(' Original Score: ', score, ' MFCC Score: ', scoreMFCC, ' Mel Spec Score: ', scoreMelSpec)\n",
    "            \n",
    "        \n",
    "        artistsAndScores.sort(key=operator.itemgetter(1))\n",
    "        print('Best Template Match via Original Score: ', artistsAndScores[0][0], ' ', artistsAndScores[0][1])\n",
    "        \n",
    "        artistsAndScores.sort(key=operator.itemgetter(2))\n",
    "        print('Best Template Match via MFCC Score: ', artistsAndScores[0][0], ' ', artistsAndScores[0][2])\n",
    "        \n",
    "        artistsAndScores.sort(key=operator.itemgetter(3))\n",
    "        print('Best Template Match via Mel Spec Score: ', artistsAndScores[0][0], ' ', artistsAndScores[0][3])\n",
    "        \n",
    "        singerPairings[artistQuery] = artistsAndScores\n",
    "            \n",
    "    return singerPairings"
   ]
  },
  {
   "cell_type": "code",
   "execution_count": 21,
   "metadata": {},
   "outputs": [],
   "source": [
    "midiNotes = np.array([60, 62, 64, 65, 67, 69, 71, 72]) # This list contains the midi values for notes C4 to C5 aka 60 to 72, skipping sharps"
   ]
  },
  {
   "cell_type": "code",
   "execution_count": 22,
   "metadata": {
    "scrolled": false
   },
   "outputs": [],
   "source": [
    "db_Templates = getAudioTemplatesNMF(db_Scales, midiNotes)"
   ]
  },
  {
   "cell_type": "code",
   "execution_count": 23,
   "metadata": {
    "scrolled": true
   },
   "outputs": [
    {
     "name": "stdout",
     "output_type": "stream",
     "text": [
      "Query Artist Name:  Isabel\n",
      "Template Name:  Sabrina\n",
      " Original Score:  0.14801294139487473  MFCC Score:  520.1921753460005  Mel Spec Score:  247607119.3691664\n",
      "Template Name:  Cynthia\n",
      " Original Score:  0.15301911578732832  MFCC Score:  598.8434901979398  Mel Spec Score:  164415260.41021636\n",
      "Template Name:  Jane\n",
      " Original Score:  0.14270143801386015  MFCC Score:  432.507739639061  Mel Spec Score:  200772172.2393226\n",
      "Template Name:  Kimi\n",
      " Original Score:  0.13807210583251808  MFCC Score:  448.2707393280592  Mel Spec Score:  193854258.5979238\n",
      "Template Name:  Rachel\n",
      " Original Score:  0.1521586787660821  MFCC Score:  496.7483372593105  Mel Spec Score:  148535208.64886636\n",
      "Template Name:  Maya\n",
      " Original Score:  0.17459330266403428  MFCC Score:  580.8092045607219  Mel Spec Score:  202396394.15901515\n",
      "Template Name:  Lucy\n",
      " Original Score:  0.1347336058708178  MFCC Score:  406.757074621028  Mel Spec Score:  184668194.7745026\n",
      "Template Name:  AaronT\n",
      " Original Score:  0.17291736423409323  MFCC Score:  590.3021099110782  Mel Spec Score:  175691509.7139042\n",
      "Template Name:  Kaitlyn\n",
      " Original Score:  0.1446036274199767  MFCC Score:  434.8517363185749  Mel Spec Score:  201018143.18438917\n",
      "Template Name:  Isabel\n",
      " Original Score:  0.15420826502675838  MFCC Score:  538.5824911731537  Mel Spec Score:  185347939.44223866\n",
      "Template Name:  Shiv\n",
      " Original Score:  0.17141187167935953  MFCC Score:  524.2796789821637  Mel Spec Score:  167696132.72076458\n",
      "Template Name:  Maria\n",
      " Original Score:  0.16623412960730222  MFCC Score:  520.1942992985219  Mel Spec Score:  212998005.30937517\n",
      "Template Name:  Kevin\n",
      " Original Score:  0.1871632945568498  MFCC Score:  687.0143615633206  Mel Spec Score:  223496077.11762458\n",
      "Template Name:  Mason\n",
      " Original Score:  0.18256433273634853  MFCC Score:  729.8912114890171  Mel Spec Score:  248276964.11890575\n",
      "Template Name:  Gary\n",
      " Original Score:  0.18073189799172737  MFCC Score:  791.8342291845929  Mel Spec Score:  153151356.4732574\n",
      "Template Name:  Djassi\n",
      " Original Score:  0.17998139844023864  MFCC Score:  706.6443913169431  Mel Spec Score:  172420963.27871168\n",
      "Template Name:  Lilly\n",
      " Original Score:  0.15758414714107097  MFCC Score:  496.46035194603934  Mel Spec Score:  198408977.7047989\n",
      "Template Name:  Mario\n",
      " Original Score:  0.1708384668529526  MFCC Score:  652.2916998691842  Mel Spec Score:  197865542.62970176\n",
      "Template Name:  Abtin\n",
      " Original Score:  0.17409930636817572  MFCC Score:  669.773263700166  Mel Spec Score:  239005324.22332367\n",
      "Template Name:  Gabe\n",
      " Original Score:  0.1714215436865955  MFCC Score:  640.9337141992297  Mel Spec Score:  191446669.97773328\n",
      "Template Name:  Kai\n",
      " Original Score:  0.1754314578318007  MFCC Score:  681.8975877974304  Mel Spec Score:  198255051.87700284\n",
      "Template Name:  Chris\n",
      " Original Score:  0.1672608124887642  MFCC Score:  652.8856023450276  Mel Spec Score:  192498028.47921985\n",
      "Template Name:  Annalise\n",
      " Original Score:  0.137688222081384  MFCC Score:  419.5332987751697  Mel Spec Score:  178141172.43664917\n",
      "Template Name:  Kailee\n",
      " Original Score:  0.15360866330811626  MFCC Score:  468.936724174015  Mel Spec Score:  203198125.29567558\n",
      "Best Template Match via Original Score:  Lucy   0.1347336058708178\n",
      "Best Template Match via MFCC Score:  Lucy   406.757074621028\n",
      "Best Template Match via Mel Spec Score:  Rachel   148535208.64886636\n",
      "Query Artist Name:  Cynthia\n",
      "Template Name:  Sabrina\n",
      " Original Score:  1.6450748222999991  MFCC Score:  1264.265610221648  Mel Spec Score:  224138826.78043002\n",
      "Template Name:  Cynthia\n",
      " Original Score:  1.8165915123889844  MFCC Score:  1303.9178837260458  Mel Spec Score:  149193674.52199185\n",
      "Template Name:  Jane\n",
      " Original Score:  1.9177067921648319  MFCC Score:  1638.6637181093731  Mel Spec Score:  181091794.7676957\n",
      "Template Name:  Kimi\n",
      " Original Score:  1.9233877817808047  MFCC Score:  1456.7940841967663  Mel Spec Score:  175800862.40456557\n",
      "Template Name:  Rachel\n",
      " Original Score:  2.0372365264591354  MFCC Score:  1482.2617940705347  Mel Spec Score:  134199617.86678745\n",
      "Template Name:  Maya\n",
      " Original Score:  1.8629345659204786  MFCC Score:  1281.7425136410914  Mel Spec Score:  183086717.0843966\n",
      "Template Name:  Lucy\n",
      " Original Score:  1.9735681689694293  MFCC Score:  1363.5897943898742  Mel Spec Score:  166681283.83790848\n",
      "Template Name:  AaronT\n",
      " Original Score:  2.0573659812773237  MFCC Score:  1857.8771659215208  Mel Spec Score:  157990797.06790394\n",
      "Template Name:  Kaitlyn\n",
      " Original Score:  1.7725505746693166  MFCC Score:  1613.460144248468  Mel Spec Score:  181664872.51676077\n",
      "Template Name:  Isabel\n",
      " Original Score:  2.131879550082711  MFCC Score:  1737.4413598581236  Mel Spec Score:  167020700.71607468\n",
      "Template Name:  Shiv\n",
      " Original Score:  2.0777378048309356  MFCC Score:  1700.647113903605  Mel Spec Score:  151582835.38237238\n",
      "Template Name:  Maria\n",
      " Original Score:  1.9824906266832247  MFCC Score:  1504.9987210058398  Mel Spec Score:  193413152.1362619\n",
      "Template Name:  Kevin\n",
      " Original Score:  2.16064609612647  MFCC Score:  1775.9856855604085  Mel Spec Score:  200878371.4155537\n",
      "Template Name:  Mason\n",
      " Original Score:  2.0828353933486965  MFCC Score:  2250.5191429688807  Mel Spec Score:  223394757.19975424\n",
      "Template Name:  Gary\n",
      " Original Score:  2.0823041717224506  MFCC Score:  2169.9306537407515  Mel Spec Score:  138108813.39364612\n",
      "Template Name:  Djassi\n",
      " Original Score:  2.1357437664406067  MFCC Score:  2224.631513579225  Mel Spec Score:  155071160.32852095\n",
      "Template Name:  Lilly\n",
      " Original Score:  1.8883209611567466  MFCC Score:  1741.370296710648  Mel Spec Score:  179184660.57367367\n",
      "Template Name:  Mario\n",
      " Original Score:  2.1659950758621758  MFCC Score:  2033.6333222601793  Mel Spec Score:  177781186.1715086\n",
      "Template Name:  Abtin\n",
      " Original Score:  2.103269071226017  MFCC Score:  1998.7129212816521  Mel Spec Score:  215033438.3496322\n",
      "Template Name:  Gabe\n",
      " Original Score:  2.0318865075181516  MFCC Score:  2045.323490023757  Mel Spec Score:  172496106.9586691\n",
      "Template Name:  Kai\n",
      " Original Score:  2.1021430474513583  MFCC Score:  1858.901262144665  Mel Spec Score:  179042281.74539173\n",
      "Template Name:  Chris\n",
      " Original Score:  2.120081321499777  MFCC Score:  1765.2461327587305  Mel Spec Score:  173451693.80707586\n",
      "Template Name:  Annalise\n",
      " Original Score:  1.9681210417610004  MFCC Score:  1320.8677613008426  Mel Spec Score:  160984684.17115462\n",
      "Template Name:  Kailee\n",
      " Original Score:  2.074231263848301  MFCC Score:  1804.062939853248  Mel Spec Score:  184355978.87247762\n",
      "Best Template Match via Original Score:  Sabrina   1.6450748222999991\n",
      "Best Template Match via MFCC Score:  Sabrina   1264.265610221648\n",
      "Best Template Match via Mel Spec Score:  Rachel   134199617.86678745\n",
      "Query Artist Name:  Kailee\n",
      "Template Name:  Sabrina\n",
      " Original Score:  2.529856594994849  MFCC Score:  1540.4311781380059  Mel Spec Score:  241298532.49397123\n",
      "Template Name:  Cynthia\n",
      " Original Score:  2.1848104757617715  MFCC Score:  1382.6502564739712  Mel Spec Score:  159979187.08301204\n",
      "Template Name:  Jane\n",
      " Original Score:  2.1952801589497097  MFCC Score:  1345.857482233648  Mel Spec Score:  195230103.3573337\n",
      "Template Name:  Kimi\n",
      " Original Score:  2.2773352661627113  MFCC Score:  1486.3452055460282  Mel Spec Score:  188215440.07379642\n",
      "Template Name:  Rachel\n",
      " Original Score:  1.8974698011859072  MFCC Score:  1389.6421220714144  Mel Spec Score:  144103092.36025944\n",
      "Template Name:  Maya\n",
      " Original Score:  2.59844593563662  MFCC Score:  1779.3849887330548  Mel Spec Score:  196476457.39212584\n",
      "Template Name:  Lucy\n",
      " Original Score:  2.1084014325313047  MFCC Score:  1383.3355347316897  Mel Spec Score:  179577880.54796317\n",
      "Template Name:  AaronT\n",
      " Original Score:  2.662151403115974  MFCC Score:  1659.5054331208792  Mel Spec Score:  169917177.15684724\n",
      "Template Name:  Kaitlyn\n",
      " Original Score:  2.090738894506973  MFCC Score:  1289.5201144978064  Mel Spec Score:  195645136.60463852\n",
      "Template Name:  Isabel\n",
      " Original Score:  2.606778153729496  MFCC Score:  1529.365183563367  Mel Spec Score:  179577716.72896194\n",
      "Template Name:  Shiv\n",
      " Original Score:  2.738528684065794  MFCC Score:  1544.065442385082  Mel Spec Score:  162995741.9355276\n",
      "Template Name:  Maria\n",
      " Original Score:  2.5008856115460456  MFCC Score:  1327.4841188155685  Mel Spec Score:  208571744.10628408\n",
      "Template Name:  Kevin\n",
      " Original Score:  2.800951681936096  MFCC Score:  1832.7936386245913  Mel Spec Score:  216346100.20592722\n"
     ]
    },
    {
     "name": "stdout",
     "output_type": "stream",
     "text": [
      "Template Name:  Mason\n",
      " Original Score:  2.7597125277916303  MFCC Score:  2113.280449578015  Mel Spec Score:  241586894.5276995\n",
      "Template Name:  Gary\n",
      " Original Score:  2.688501860600311  MFCC Score:  2217.781640856968  Mel Spec Score:  149125665.4516491\n",
      "Template Name:  Djassi\n",
      " Original Score:  2.6116878013266795  MFCC Score:  2242.305302716127  Mel Spec Score:  167368893.7602677\n",
      "Template Name:  Lilly\n",
      " Original Score:  1.9588744358230963  MFCC Score:  1374.328450034183  Mel Spec Score:  193356762.10215276\n",
      "Template Name:  Mario\n",
      " Original Score:  2.3452866468375135  MFCC Score:  1986.3168898976535  Mel Spec Score:  191440077.21012685\n",
      "Template Name:  Abtin\n",
      " Original Score:  2.7928775362804803  MFCC Score:  1767.9724713054043  Mel Spec Score:  232227576.5193177\n",
      "Template Name:  Gabe\n",
      " Original Score:  2.6573743578096756  MFCC Score:  2018.6369294345504  Mel Spec Score:  185923966.7990345\n",
      "Template Name:  Kai\n",
      " Original Score:  2.6612782637821715  MFCC Score:  1797.9460281988236  Mel Spec Score:  192166213.89196122\n",
      "Template Name:  Chris\n",
      " Original Score:  2.7052721977145806  MFCC Score:  1853.5137050325295  Mel Spec Score:  186904134.9717945\n",
      "Template Name:  Annalise\n",
      " Original Score:  2.0406336135836436  MFCC Score:  1331.279666998677  Mel Spec Score:  173104244.4765881\n",
      "Template Name:  Kailee\n",
      " Original Score:  1.840070433886858  MFCC Score:  1260.2866708395738  Mel Spec Score:  198958990.80787075\n",
      "Best Template Match via Original Score:  Kailee   1.840070433886858\n",
      "Best Template Match via MFCC Score:  Kailee   1260.2866708395738\n",
      "Best Template Match via Mel Spec Score:  Rachel   144103092.36025944\n",
      "Query Artist Name:  Maria\n",
      "Template Name:  Sabrina\n",
      " Original Score:  1.038601695996606  MFCC Score:  1076.093578994325  Mel Spec Score:  227908657.5354442\n",
      "Template Name:  Cynthia\n",
      " Original Score:  1.0280040305552196  MFCC Score:  1100.0032953210969  Mel Spec Score:  151104958.53755167\n",
      "Template Name:  Jane\n",
      " Original Score:  0.9783808854331886  MFCC Score:  1033.6040464165885  Mel Spec Score:  184235478.76286834\n",
      "Template Name:  Kimi\n",
      " Original Score:  1.067764104544851  MFCC Score:  1113.8654885841515  Mel Spec Score:  177628975.00282782\n",
      "Template Name:  Rachel\n",
      " Original Score:  1.0261583482433227  MFCC Score:  1062.7841904303716  Mel Spec Score:  135983089.56223688\n",
      "Template Name:  Maya\n",
      " Original Score:  1.1481989710788971  MFCC Score:  1225.7836487328877  Mel Spec Score:  185663754.50792596\n",
      "Template Name:  Lucy\n",
      " Original Score:  1.0182520525081797  MFCC Score:  957.3211858213195  Mel Spec Score:  169115710.28807914\n",
      "Template Name:  AaronT\n",
      " Original Score:  1.185870767598895  MFCC Score:  1390.215808849567  Mel Spec Score:  159834663.19216087\n",
      "Template Name:  Kaitlyn\n",
      " Original Score:  0.896229526488707  MFCC Score:  1015.3511414311895  Mel Spec Score:  184840068.78893048\n",
      "Template Name:  Isabel\n",
      " Original Score:  1.1541527170494261  MFCC Score:  1228.0938027510683  Mel Spec Score:  169294315.11754712\n",
      "Template Name:  Shiv\n",
      " Original Score:  1.2034378067506717  MFCC Score:  1271.0396389120199  Mel Spec Score:  153849976.51887178\n",
      "Template Name:  Maria\n",
      " Original Score:  0.9944977822066882  MFCC Score:  979.2671318575159  Mel Spec Score:  197216650.65832484\n",
      "Template Name:  Kevin\n",
      " Original Score:  1.2701312277080616  MFCC Score:  1464.0855721819948  Mel Spec Score:  203980662.0371652\n",
      "Template Name:  Mason\n",
      " Original Score:  1.2177596690964942  MFCC Score:  1714.4715153086381  Mel Spec Score:  228131049.49912107\n",
      "Template Name:  Gary\n",
      " Original Score:  1.2404380032860092  MFCC Score:  1685.3651924753283  Mel Spec Score:  140628023.18284068\n",
      "Template Name:  Djassi\n",
      " Original Score:  1.2163653421043565  MFCC Score:  1662.7763647949396  Mel Spec Score:  158057859.64710134\n",
      "Template Name:  Lilly\n",
      " Original Score:  0.9696437710206053  MFCC Score:  1141.4339625085659  Mel Spec Score:  182566519.2391876\n",
      "Template Name:  Mario\n",
      " Original Score:  1.1905165008619398  MFCC Score:  1589.3735138004695  Mel Spec Score:  180597645.46366066\n",
      "Template Name:  Abtin\n",
      " Original Score:  1.2156917279634956  MFCC Score:  1380.0185657008321  Mel Spec Score:  218975334.6665266\n",
      "Template Name:  Gabe\n",
      " Original Score:  1.16292570466374  MFCC Score:  1563.5780614216255  Mel Spec Score:  175694133.02728692\n",
      "Template Name:  Kai\n",
      " Original Score:  1.240625942242469  MFCC Score:  1507.5581208216593  Mel Spec Score:  181168000.29106626\n",
      "Template Name:  Chris\n",
      " Original Score:  1.1988450300708282  MFCC Score:  1489.7791071404893  Mel Spec Score:  176240709.73727387\n",
      "Template Name:  Annalise\n",
      " Original Score:  1.0561142005018889  MFCC Score:  1002.5636977708275  Mel Spec Score:  163622017.34931043\n",
      "Template Name:  Kailee\n",
      " Original Score:  1.0715064184531933  MFCC Score:  1141.4797637571276  Mel Spec Score:  187666307.7150107\n",
      "Best Template Match via Original Score:  Kaitlyn   0.896229526488707\n",
      "Best Template Match via MFCC Score:  Lucy   957.3211858213195\n",
      "Best Template Match via Mel Spec Score:  Rachel   135983089.56223688\n",
      "Query Artist Name:  Kai\n",
      "Template Name:  Sabrina\n",
      " Original Score:  0.22216643965345317  MFCC Score:  875.2416932516492  Mel Spec Score:  214189064.5189024\n",
      "Template Name:  Cynthia\n",
      " Original Score:  0.21568745313862475  MFCC Score:  946.083332573827  Mel Spec Score:  142767100.24431124\n",
      "Template Name:  Jane\n",
      " Original Score:  0.21253069017313067  MFCC Score:  816.4987515906337  Mel Spec Score:  174092330.72706622\n",
      "Template Name:  Kimi\n",
      " Original Score:  0.21133776744887095  MFCC Score:  791.4384322337584  Mel Spec Score:  168336283.01596007\n",
      "Template Name:  Rachel\n",
      " Original Score:  0.212098764181548  MFCC Score:  864.0906334310993  Mel Spec Score:  128422822.26864074\n",
      "Template Name:  Maya\n",
      " Original Score:  0.22747438029124997  MFCC Score:  880.2171235614171  Mel Spec Score:  176354009.26799121\n",
      "Template Name:  Lucy\n",
      " Original Score:  0.21373137547390347  MFCC Score:  862.738017413778  Mel Spec Score:  159714844.01562694\n",
      "Template Name:  AaronT\n",
      " Original Score:  0.2101339587667558  MFCC Score:  721.8368241457172  Mel Spec Score:  154374508.18022206\n",
      "Template Name:  Kaitlyn\n",
      " Original Score:  0.2142332527837738  MFCC Score:  863.7852817598416  Mel Spec Score:  173820923.53214255\n",
      "Template Name:  Isabel\n",
      " Original Score:  0.23270980674579536  MFCC Score:  962.1816028927769  Mel Spec Score:  160266652.470341\n",
      "Template Name:  Shiv\n",
      " Original Score:  0.20485254344791187  MFCC Score:  719.9936996913874  Mel Spec Score:  146746987.89336696\n",
      "Template Name:  Maria\n",
      " Original Score:  0.22192036210446306  MFCC Score:  931.9511907486142  Mel Spec Score:  184241030.9022613\n",
      "Template Name:  Kevin\n",
      " Original Score:  0.22240513241839485  MFCC Score:  744.1744733793704  Mel Spec Score:  195085252.8830864\n",
      "Template Name:  Mason\n",
      " Original Score:  0.19478417109821103  MFCC Score:  762.2760964292399  Mel Spec Score:  216899007.27301666\n",
      "Template Name:  Gary\n",
      " Original Score:  0.1791857278935195  MFCC Score:  765.0398049429167  Mel Spec Score:  133730467.92771848\n",
      "Template Name:  Djassi\n",
      " Original Score:  0.1623678775770789  MFCC Score:  719.2121866630062  Mel Spec Score:  150737896.69782212\n",
      "Template Name:  Lilly\n",
      " Original Score:  0.22041171414596222  MFCC Score:  866.1339006246762  Mel Spec Score:  172378632.50072068\n",
      "Template Name:  Mario\n",
      " Original Score:  0.18565634074227375  MFCC Score:  784.2515293599339  Mel Spec Score:  172710619.81507263\n",
      "Template Name:  Abtin\n",
      " Original Score:  0.203888950049343  MFCC Score:  750.0989729115541  Mel Spec Score:  207824882.84782803\n",
      "Template Name:  Gabe\n",
      " Original Score:  0.2005507885853836  MFCC Score:  756.447170352667  Mel Spec Score:  166156638.74616984\n",
      "Template Name:  Kai\n",
      " Original Score:  0.18746739216153094  MFCC Score:  623.1875342709654  Mel Spec Score:  173920631.1354371\n",
      "Template Name:  Chris\n",
      " Original Score:  0.2017126994469349  MFCC Score:  753.0817940384131  Mel Spec Score:  167541442.82298902\n",
      "Template Name:  Annalise\n",
      " Original Score:  0.21125547943079362  MFCC Score:  780.8983550271563  Mel Spec Score:  153812863.91353437\n",
      "Template Name:  Kailee\n",
      " Original Score:  0.21268807859145522  MFCC Score:  878.1952942101401  Mel Spec Score:  176084810.51689103\n",
      "Best Template Match via Original Score:  Djassi   0.1623678775770789\n",
      "Best Template Match via MFCC Score:  Kai   623.1875342709654\n",
      "Best Template Match via Mel Spec Score:  Rachel   128422822.26864074\n",
      "Query Artist Name:  Shiv\n"
     ]
    },
    {
     "name": "stdout",
     "output_type": "stream",
     "text": [
      "Template Name:  Sabrina\n",
      " Original Score:  0.12976392828795383  MFCC Score:  550.6196397982849  Mel Spec Score:  222928702.11787617\n",
      "Template Name:  Cynthia\n",
      " Original Score:  0.1306213981619015  MFCC Score:  621.2179202897232  Mel Spec Score:  148375796.50815836\n",
      "Template Name:  Jane\n",
      " Original Score:  0.13375498796402563  MFCC Score:  581.1713792231119  Mel Spec Score:  181247675.47555655\n",
      "Template Name:  Kimi\n",
      " Original Score:  0.12169442566658276  MFCC Score:  486.67577212189616  Mel Spec Score:  174629225.28477305\n",
      "Template Name:  Rachel\n",
      " Original Score:  0.131299266156877  MFCC Score:  567.66109878521  Mel Spec Score:  133145104.87529412\n",
      "Template Name:  Maya\n",
      " Original Score:  0.1391117714787581  MFCC Score:  578.4346422219912  Mel Spec Score:  183356196.72613773\n",
      "Template Name:  Lucy\n",
      " Original Score:  0.13510815529009604  MFCC Score:  618.6119069208592  Mel Spec Score:  166153585.03841466\n",
      "Template Name:  AaronT\n",
      " Original Score:  0.13985297211962872  MFCC Score:  631.0805835969471  Mel Spec Score:  159391006.60189852\n",
      "Template Name:  Kaitlyn\n",
      " Original Score:  0.12488019721882708  MFCC Score:  535.6080758200102  Mel Spec Score:  180874455.27379963\n",
      "Template Name:  Isabel\n",
      " Original Score:  0.14525684394816307  MFCC Score:  676.0171713204816  Mel Spec Score:  166407660.19493356\n",
      "Template Name:  Shiv\n",
      " Original Score:  0.12249225773443664  MFCC Score:  528.0808738711702  Mel Spec Score:  152613421.36682218\n",
      "Template Name:  Maria\n",
      " Original Score:  0.13774401436928313  MFCC Score:  643.0726992152677  Mel Spec Score:  192261542.15906432\n",
      "Template Name:  Kevin\n",
      " Original Score:  0.14713522757098432  MFCC Score:  654.8783732964532  Mel Spec Score:  202207977.70587465\n",
      "Template Name:  Mason\n",
      " Original Score:  0.12951258757853862  MFCC Score:  564.7567383042871  Mel Spec Score:  225477719.5693455\n",
      "Template Name:  Gary\n",
      " Original Score:  0.0963044565473415  MFCC Score:  463.8362864185573  Mel Spec Score:  139237884.90464777\n",
      "Template Name:  Djassi\n",
      " Original Score:  0.10072429846282586  MFCC Score:  485.30455142798075  Mel Spec Score:  156787318.0263811\n",
      "Template Name:  Lilly\n",
      " Original Score:  0.11966660880159881  MFCC Score:  437.6335457558986  Mel Spec Score:  179837756.8827502\n",
      "Template Name:  Mario\n",
      " Original Score:  0.10910622819036461  MFCC Score:  489.0577112458007  Mel Spec Score:  179405435.1099748\n",
      "Template Name:  Abtin\n",
      " Original Score:  0.11986065234267733  MFCC Score:  601.6062705168791  Mel Spec Score:  216340191.9114652\n",
      "Template Name:  Gabe\n",
      " Original Score:  0.12028682260196008  MFCC Score:  525.6528059373762  Mel Spec Score:  172724371.4325305\n",
      "Template Name:  Kai\n",
      " Original Score:  0.13103761785024878  MFCC Score:  574.988866868458  Mel Spec Score:  180346902.71399248\n",
      "Template Name:  Chris\n",
      " Original Score:  0.1296571751850851  MFCC Score:  599.0056377225758  Mel Spec Score:  174048487.18853575\n",
      "Template Name:  Annalise\n",
      " Original Score:  0.12963859989830623  MFCC Score:  588.2403302920986  Mel Spec Score:  160216919.22470725\n",
      "Template Name:  Kailee\n",
      " Original Score:  0.12229444979512187  MFCC Score:  546.7211178003979  Mel Spec Score:  183532335.56376573\n",
      "Best Template Match via Original Score:  Gary   0.0963044565473415\n",
      "Best Template Match via MFCC Score:  Lilly   437.6335457558986\n",
      "Best Template Match via Mel Spec Score:  Rachel   133145104.87529412\n",
      "Query Artist Name:  Mario\n",
      "Template Name:  Sabrina\n",
      " Original Score:  0.15069278985779877  MFCC Score:  699.5193686303004  Mel Spec Score:  244160712.33869657\n",
      "Template Name:  Cynthia\n",
      " Original Score:  0.14751418164917415  MFCC Score:  736.7771564999346  Mel Spec Score:  162363423.73033655\n",
      "Template Name:  Jane\n",
      " Original Score:  0.14588223422724944  MFCC Score:  652.6772010239459  Mel Spec Score:  198433260.14868274\n",
      "Template Name:  Kimi\n",
      " Original Score:  0.14224994907756197  MFCC Score:  589.5319092251015  Mel Spec Score:  191283872.70891178\n",
      "Template Name:  Rachel\n",
      " Original Score:  0.14062451812214546  MFCC Score:  674.7594779752507  Mel Spec Score:  146555772.89810902\n",
      "Template Name:  Maya\n",
      " Original Score:  0.1581109440758998  MFCC Score:  696.068633058982  Mel Spec Score:  200504515.11455712\n",
      "Template Name:  Lucy\n",
      " Original Score:  0.1450632164044087  MFCC Score:  694.4112303367316  Mel Spec Score:  181935843.58416954\n",
      "Template Name:  AaronT\n",
      " Original Score:  0.15519669371639874  MFCC Score:  728.6884675607604  Mel Spec Score:  175359212.3595191\n",
      "Template Name:  Kaitlyn\n",
      " Original Score:  0.1455797327353581  MFCC Score:  673.8774750496607  Mel Spec Score:  198299577.27133435\n",
      "Template Name:  Isabel\n",
      " Original Score:  0.15798543428630277  MFCC Score:  740.189884976289  Mel Spec Score:  182676663.01890758\n",
      "Template Name:  Shiv\n",
      " Original Score:  0.1490301649528999  MFCC Score:  663.8432134956732  Mel Spec Score:  166359107.94353855\n",
      "Template Name:  Maria\n",
      " Original Score:  0.15518430815408552  MFCC Score:  736.8455388128568  Mel Spec Score:  209900431.28834492\n",
      "Template Name:  Kevin\n",
      " Original Score:  0.15986787323096097  MFCC Score:  699.35843392372  Mel Spec Score:  222233547.65416175\n",
      "Template Name:  Mason\n",
      " Original Score:  0.1297133548340311  MFCC Score:  598.089227600442  Mel Spec Score:  247518985.25389844\n",
      "Template Name:  Gary\n",
      " Original Score:  0.10796543714642884  MFCC Score:  513.8156806888459  Mel Spec Score:  152291112.26486048\n",
      "Template Name:  Djassi\n",
      " Original Score:  0.09639521894879628  MFCC Score:  493.8148242730765  Mel Spec Score:  171904282.43093365\n",
      "Template Name:  Lilly\n",
      " Original Score:  0.14438387423196794  MFCC Score:  618.2654307143583  Mel Spec Score:  196555086.06651667\n",
      "Template Name:  Mario\n",
      " Original Score:  0.09446025341738219  MFCC Score:  514.7840571739554  Mel Spec Score:  197358895.89125314\n",
      "Template Name:  Abtin\n",
      " Original Score:  0.14541189160334558  MFCC Score:  637.4050275613143  Mel Spec Score:  236823830.29849795\n",
      "Template Name:  Gabe\n",
      " Original Score:  0.13430047419159255  MFCC Score:  553.5165539496955  Mel Spec Score:  189538846.22026685\n",
      "Template Name:  Kai\n",
      " Original Score:  0.13729000009773304  MFCC Score:  520.9045299648103  Mel Spec Score:  197286586.3839381\n",
      "Template Name:  Chris\n",
      " Original Score:  0.14557545797865726  MFCC Score:  673.7559721910045  Mel Spec Score:  191051497.62890163\n",
      "Template Name:  Annalise\n",
      " Original Score:  0.14284818062189986  MFCC Score:  677.8554538088993  Mel Spec Score:  175549969.1157279\n",
      "Template Name:  Kailee\n",
      " Original Score:  0.1393999036998883  MFCC Score:  673.8787569676161  Mel Spec Score:  200647295.9484902\n",
      "Best Template Match via Original Score:  Mario   0.09446025341738219\n",
      "Best Template Match via MFCC Score:  Djassi   493.8148242730765\n",
      "Best Template Match via Mel Spec Score:  Rachel   146555772.89810902\n",
      "Query Artist Name:  Kaitlyn\n",
      "Template Name:  Sabrina\n",
      " Original Score:  0.8311937919313559  MFCC Score:  992.3299079505822  Mel Spec Score:  218121414.93607458\n",
      "Template Name:  Cynthia\n",
      " Original Score:  0.7297956021617175  MFCC Score:  921.4556210033552  Mel Spec Score:  144466936.19988135\n",
      "Template Name:  Jane\n",
      " Original Score:  0.6202916403944843  MFCC Score:  875.3590117315025  Mel Spec Score:  175892568.18663806\n",
      "Template Name:  Kimi\n",
      " Original Score:  0.726567594324961  MFCC Score:  809.6760866460398  Mel Spec Score:  169683532.26371437\n",
      "Template Name:  Rachel\n",
      " Original Score:  0.6061009308212366  MFCC Score:  768.7453729550289  Mel Spec Score:  130004638.8918269\n",
      "Template Name:  Maya\n",
      " Original Score:  0.9195630309298196  MFCC Score:  1186.710439447395  Mel Spec Score:  177667489.03419498\n",
      "Template Name:  Lucy\n",
      " Original Score:  0.6503613119606512  MFCC Score:  828.7917547250554  Mel Spec Score:  161296275.1537071\n",
      "Template Name:  AaronT\n",
      " Original Score:  0.9913338098390444  MFCC Score:  1301.0961320296997  Mel Spec Score:  153148174.64032814\n",
      "Template Name:  Kaitlyn\n",
      " Original Score:  0.538545513162292  MFCC Score:  795.0039602597952  Mel Spec Score:  176856013.34499237\n",
      "Template Name:  Isabel\n",
      " Original Score:  0.9444877671355557  MFCC Score:  1132.4282537038405  Mel Spec Score:  162049976.095681\n",
      "Template Name:  Shiv\n",
      " Original Score:  1.0010954298748198  MFCC Score:  1205.8160682719677  Mel Spec Score:  147000750.54237437\n",
      "Template Name:  Maria\n",
      " Original Score:  0.8944884791346295  MFCC Score:  881.8558962015867  Mel Spec Score:  187819425.47556213\n",
      "Template Name:  Kevin\n",
      " Original Score:  1.0549604806855089  MFCC Score:  1360.5240654665442  Mel Spec Score:  195480820.4663583\n"
     ]
    },
    {
     "name": "stdout",
     "output_type": "stream",
     "text": [
      "Template Name:  Mason\n",
      " Original Score:  0.9856189755397116  MFCC Score:  1508.9238201210333  Mel Spec Score:  217941673.4117503\n",
      "Template Name:  Gary\n",
      " Original Score:  0.9552079242581897  MFCC Score:  1551.277857091225  Mel Spec Score:  134637095.78511065\n",
      "Template Name:  Djassi\n",
      " Original Score:  0.9280099813431528  MFCC Score:  1540.7740794009314  Mel Spec Score:  151057540.9501358\n",
      "Template Name:  Lilly\n",
      " Original Score:  0.5707193428828102  MFCC Score:  862.2080390917798  Mel Spec Score:  174597648.77909154\n",
      "Template Name:  Mario\n",
      " Original Score:  0.8196730284087631  MFCC Score:  1398.4123432871193  Mel Spec Score:  172923771.3975963\n",
      "Template Name:  Abtin\n",
      " Original Score:  1.015696311451945  MFCC Score:  1256.7672956930055  Mel Spec Score:  209494232.25191674\n",
      "Template Name:  Gabe\n",
      " Original Score:  0.9057493952237483  MFCC Score:  1509.927437650472  Mel Spec Score:  167949364.8286405\n",
      "Template Name:  Kai\n",
      " Original Score:  1.0002026456361117  MFCC Score:  1451.1377173603441  Mel Spec Score:  173343763.94301274\n",
      "Template Name:  Chris\n",
      " Original Score:  0.96938686878237  MFCC Score:  1499.6811843481437  Mel Spec Score:  168466766.19554144\n",
      "Template Name:  Annalise\n",
      " Original Score:  0.6404036215026845  MFCC Score:  844.5533530780126  Mel Spec Score:  156316358.60799658\n",
      "Template Name:  Kailee\n",
      " Original Score:  0.6581815674334633  MFCC Score:  866.6544090722731  Mel Spec Score:  178680254.71388885\n",
      "Best Template Match via Original Score:  Kaitlyn   0.538545513162292\n",
      "Best Template Match via MFCC Score:  Rachel   768.7453729550289\n",
      "Best Template Match via Mel Spec Score:  Rachel   130004638.8918269\n",
      "Query Artist Name:  Lilly\n",
      "Template Name:  Sabrina\n",
      " Original Score:  0.7302989690331301  MFCC Score:  1151.1584262818074  Mel Spec Score:  234947458.62049386\n",
      "Template Name:  Cynthia\n",
      " Original Score:  0.7262167703209143  MFCC Score:  1114.694192528741  Mel Spec Score:  155538237.52436194\n",
      "Template Name:  Jane\n",
      " Original Score:  0.620085592299322  MFCC Score:  934.6399663949676  Mel Spec Score:  189590829.71547619\n",
      "Template Name:  Kimi\n",
      " Original Score:  0.6251105550429483  MFCC Score:  890.0512518374403  Mel Spec Score:  182749108.8193029\n",
      "Template Name:  Rachel\n",
      " Original Score:  0.6486033022329717  MFCC Score:  943.0323311987366  Mel Spec Score:  139923256.211258\n",
      "Template Name:  Maya\n",
      " Original Score:  0.693515911421413  MFCC Score:  990.9406976329783  Mel Spec Score:  191283370.94281575\n",
      "Template Name:  Lucy\n",
      " Original Score:  0.7210891448050791  MFCC Score:  1224.8813464642678  Mel Spec Score:  174015265.80812275\n",
      "Template Name:  AaronT\n",
      " Original Score:  0.7619853604614387  MFCC Score:  1112.8945385708882  Mel Spec Score:  165242204.0493169\n",
      "Template Name:  Kaitlyn\n",
      " Original Score:  0.6574909965180264  MFCC Score:  944.6962716312304  Mel Spec Score:  190451576.15715405\n",
      "Template Name:  Isabel\n",
      " Original Score:  0.6524631280145359  MFCC Score:  1195.0241924352154  Mel Spec Score:  174328086.5674602\n",
      "Template Name:  Shiv\n",
      " Original Score:  0.754411268134643  MFCC Score:  1117.0121489596104  Mel Spec Score:  158447072.54458582\n",
      "Template Name:  Maria\n",
      " Original Score:  0.768895529641505  MFCC Score:  1291.8946251996622  Mel Spec Score:  202050267.83332086\n",
      "Template Name:  Kevin\n",
      " Original Score:  0.7554548354006317  MFCC Score:  1096.8602457256377  Mel Spec Score:  210682838.0917683\n",
      "Template Name:  Mason\n",
      " Original Score:  0.7188736134984662  MFCC Score:  1092.1902923177802  Mel Spec Score:  235953325.35946384\n",
      "Template Name:  Gary\n",
      " Original Score:  0.6607814817654019  MFCC Score:  1090.1970482141826  Mel Spec Score:  145630456.48098975\n",
      "Template Name:  Djassi\n",
      " Original Score:  0.7516930634049988  MFCC Score:  1073.9902346151148  Mel Spec Score:  163438587.41748536\n",
      "Template Name:  Lilly\n",
      " Original Score:  0.6423356640925183  MFCC Score:  1080.5708825873398  Mel Spec Score:  188808405.4858574\n",
      "Template Name:  Mario\n",
      " Original Score:  0.6514233817755354  MFCC Score:  1126.1693158904163  Mel Spec Score:  187267889.7281424\n",
      "Template Name:  Abtin\n",
      " Original Score:  0.7491421878308842  MFCC Score:  1103.0739734868614  Mel Spec Score:  225899645.61263615\n",
      "Template Name:  Gabe\n",
      " Original Score:  0.7266370377710806  MFCC Score:  1050.6830914749228  Mel Spec Score:  180461711.3267929\n",
      "Template Name:  Kai\n",
      " Original Score:  0.6341503540894846  MFCC Score:  1024.454731397751  Mel Spec Score:  187674002.43366054\n",
      "Template Name:  Chris\n",
      " Original Score:  0.7041479095057113  MFCC Score:  1052.4957579197517  Mel Spec Score:  181705842.41698018\n",
      "Template Name:  Annalise\n",
      " Original Score:  0.6796274581387047  MFCC Score:  960.6195083069844  Mel Spec Score:  167814208.0972604\n",
      "Template Name:  Kailee\n",
      " Original Score:  0.6959594530629526  MFCC Score:  1034.3340785529783  Mel Spec Score:  192792456.42700773\n",
      "Best Template Match via Original Score:  Jane   0.620085592299322\n",
      "Best Template Match via MFCC Score:  Kimi   890.0512518374403\n",
      "Best Template Match via Mel Spec Score:  Rachel   139923256.211258\n",
      "Query Artist Name:  Sabrina\n",
      "Template Name:  Sabrina\n",
      " Original Score:  0.8819981463997346  MFCC Score:  1061.4488371212421  Mel Spec Score:  215416564.17375222\n",
      "Template Name:  Cynthia\n",
      " Original Score:  0.9250074221714527  MFCC Score:  1296.865590001387  Mel Spec Score:  142534582.23908168\n",
      "Template Name:  Jane\n",
      " Original Score:  0.8570403118651406  MFCC Score:  1191.074749139883  Mel Spec Score:  173262350.37803698\n",
      "Template Name:  Kimi\n",
      " Original Score:  0.8631261492500252  MFCC Score:  1019.3293491220873  Mel Spec Score:  167951271.71607554\n",
      "Template Name:  Rachel\n",
      " Original Score:  0.8415929451317178  MFCC Score:  1230.7035571698034  Mel Spec Score:  128835154.23088522\n",
      "Template Name:  Maya\n",
      " Original Score:  0.9372270933781514  MFCC Score:  1132.0148683359282  Mel Spec Score:  175151112.07649672\n",
      "Template Name:  Lucy\n",
      " Original Score:  0.9405873967706531  MFCC Score:  1400.0535057158163  Mel Spec Score:  159469245.18682203\n",
      "Template Name:  AaronT\n",
      " Original Score:  0.9679100626899053  MFCC Score:  1278.3658316415715  Mel Spec Score:  151342130.27075973\n",
      "Template Name:  Kaitlyn\n",
      " Original Score:  0.8576823189795781  MFCC Score:  1141.0220603684463  Mel Spec Score:  174570932.8530089\n",
      "Template Name:  Isabel\n",
      " Original Score:  0.9461154434718435  MFCC Score:  1408.6264542092476  Mel Spec Score:  160167599.37225854\n",
      "Template Name:  Shiv\n",
      " Original Score:  0.9852432190224804  MFCC Score:  1229.4464802174402  Mel Spec Score:  144861472.8230601\n",
      "Template Name:  Maria\n",
      " Original Score:  0.930212383390163  MFCC Score:  1384.2579255696683  Mel Spec Score:  185145043.620979\n",
      "Template Name:  Kevin\n",
      " Original Score:  0.9721591806777647  MFCC Score:  1239.675416756364  Mel Spec Score:  193530972.11572444\n",
      "Template Name:  Mason\n",
      " Original Score:  0.880118885373883  MFCC Score:  1258.88413475981  Mel Spec Score:  215519644.62192643\n",
      "Template Name:  Gary\n",
      " Original Score:  0.877751598740815  MFCC Score:  1316.992112783402  Mel Spec Score:  132754178.63896877\n",
      "Template Name:  Djassi\n",
      " Original Score:  0.9674840402321999  MFCC Score:  1270.2983426965286  Mel Spec Score:  149283139.77906922\n",
      "Template Name:  Lilly\n",
      " Original Score:  0.9332526818745471  MFCC Score:  1409.7609259437313  Mel Spec Score:  171886948.12225834\n",
      "Template Name:  Mario\n",
      " Original Score:  0.9748471181280374  MFCC Score:  1455.051812149167  Mel Spec Score:  171156586.92254698\n",
      "Template Name:  Abtin\n",
      " Original Score:  1.0008499463263725  MFCC Score:  1320.7782053665092  Mel Spec Score:  206620116.44705278\n",
      "Template Name:  Gabe\n",
      " Original Score:  0.9028117230423898  MFCC Score:  1201.3820405129975  Mel Spec Score:  165731168.42763454\n",
      "Template Name:  Kai\n",
      " Original Score:  0.896889978230018  MFCC Score:  1269.071906719995  Mel Spec Score:  171420560.2271789\n",
      "Template Name:  Chris\n",
      " Original Score:  0.9126962552943699  MFCC Score:  1176.84840813954  Mel Spec Score:  166676283.86733904\n",
      "Template Name:  Annalise\n",
      " Original Score:  0.8842814361297715  MFCC Score:  1137.806271561507  Mel Spec Score:  154445441.32188734\n",
      "Template Name:  Kailee\n",
      " Original Score:  0.9418558563119883  MFCC Score:  1381.8125640406129  Mel Spec Score:  176474100.19370905\n",
      "Best Template Match via Original Score:  Rachel   0.8415929451317178\n",
      "Best Template Match via MFCC Score:  Kimi   1019.3293491220873\n",
      "Best Template Match via Mel Spec Score:  Rachel   128835154.23088522\n",
      "Query Artist Name:  Rachel\n"
     ]
    },
    {
     "name": "stdout",
     "output_type": "stream",
     "text": [
      "Template Name:  Sabrina\n",
      " Original Score:  0.33013404110137434  MFCC Score:  691.2615890522686  Mel Spec Score:  225336862.0171712\n",
      "Template Name:  Cynthia\n",
      " Original Score:  0.28670737084279646  MFCC Score:  689.1166162083622  Mel Spec Score:  149071141.2145215\n",
      "Template Name:  Jane\n",
      " Original Score:  0.28717857534513946  MFCC Score:  675.2526567134554  Mel Spec Score:  182095622.23756665\n",
      "Template Name:  Kimi\n",
      " Original Score:  0.30844492991674477  MFCC Score:  648.0617214552726  Mel Spec Score:  176671623.93380117\n",
      "Template Name:  Rachel\n",
      " Original Score:  0.27467466580714306  MFCC Score:  611.2611309193313  Mel Spec Score:  135695418.40629143\n",
      "Template Name:  Maya\n",
      " Original Score:  0.35097498730399984  MFCC Score:  721.9286027770347  Mel Spec Score:  183066180.0613845\n",
      "Template Name:  Lucy\n",
      " Original Score:  0.2695659031334566  MFCC Score:  597.0065107888275  Mel Spec Score:  168587707.53997687\n",
      "Template Name:  AaronT\n",
      " Original Score:  0.379735535236934  MFCC Score:  818.6827031479102  Mel Spec Score:  159400817.1659802\n",
      "Template Name:  Kaitlyn\n",
      " Original Score:  0.27337412855491533  MFCC Score:  646.109999500229  Mel Spec Score:  182478331.03632608\n",
      "Template Name:  Isabel\n",
      " Original Score:  0.35719684397689055  MFCC Score:  833.6202185570263  Mel Spec Score:  168715024.98545307\n",
      "Template Name:  Shiv\n",
      " Original Score:  0.3846551852706525  MFCC Score:  810.2445491195947  Mel Spec Score:  151895243.93836078\n",
      "Template Name:  Maria\n",
      " Original Score:  0.3407489470233668  MFCC Score:  683.5693388468324  Mel Spec Score:  193512909.35624936\n",
      "Template Name:  Kevin\n",
      " Original Score:  0.4043810852650008  MFCC Score:  929.2550262700496  Mel Spec Score:  202785204.0134953\n",
      "Template Name:  Mason\n",
      " Original Score:  0.3878460879494039  MFCC Score:  1073.1126494398486  Mel Spec Score:  224697404.2678255\n",
      "Template Name:  Gary\n",
      " Original Score:  0.3851375907057117  MFCC Score:  1139.7239637950072  Mel Spec Score:  138742577.61915728\n",
      "Template Name:  Djassi\n",
      " Original Score:  0.37643022586239683  MFCC Score:  1071.9142498680442  Mel Spec Score:  156248215.79065758\n",
      "Template Name:  Lilly\n",
      " Original Score:  0.29252596796148234  MFCC Score:  722.9705934367403  Mel Spec Score:  179402151.23422563\n",
      "Template Name:  Mario\n",
      " Original Score:  0.35177666302577565  MFCC Score:  1019.7703877136811  Mel Spec Score:  179362110.92212653\n",
      "Template Name:  Abtin\n",
      " Original Score:  0.3993884293543201  MFCC Score:  962.5856483451034  Mel Spec Score:  216516906.2979689\n",
      "Template Name:  Gabe\n",
      " Original Score:  0.36368302512755574  MFCC Score:  1006.1188904256167  Mel Spec Score:  173906503.18543196\n",
      "Template Name:  Kai\n",
      " Original Score:  0.3825891844530392  MFCC Score:  970.2062478313164  Mel Spec Score:  179451953.27071834\n",
      "Template Name:  Chris\n",
      " Original Score:  0.36951679070737503  MFCC Score:  966.0520650403877  Mel Spec Score:  175010762.36938837\n",
      "Template Name:  Annalise\n",
      " Original Score:  0.27694636155842645  MFCC Score:  599.5827920133905  Mel Spec Score:  162433553.68594617\n",
      "Template Name:  Kailee\n",
      " Original Score:  0.2863833754474227  MFCC Score:  707.1508988578669  Mel Spec Score:  184833040.6811136\n",
      "Best Template Match via Original Score:  Lucy   0.2695659031334566\n",
      "Best Template Match via MFCC Score:  Lucy   597.0065107888275\n",
      "Best Template Match via Mel Spec Score:  Rachel   135695418.40629143\n",
      "Query Artist Name:  Kevin\n",
      "Template Name:  Sabrina\n",
      " Original Score:  0.4066939179629036  MFCC Score:  1302.2339029557781  Mel Spec Score:  221314634.51699546\n",
      "Template Name:  Cynthia\n",
      " Original Score:  0.41296106361053214  MFCC Score:  1385.6976909728926  Mel Spec Score:  147259728.01114386\n",
      "Template Name:  Jane\n",
      " Original Score:  0.4180939790684503  MFCC Score:  1336.3158215975457  Mel Spec Score:  179856346.6963405\n",
      "Template Name:  Kimi\n",
      " Original Score:  0.4056509127818687  MFCC Score:  1250.3274742694268  Mel Spec Score:  174120371.33469865\n",
      "Template Name:  Rachel\n",
      " Original Score:  0.41229604596177255  MFCC Score:  1363.8202479721806  Mel Spec Score:  132929640.12373489\n",
      "Template Name:  Maya\n",
      " Original Score:  0.40288264144014035  MFCC Score:  1289.8958119361434  Mel Spec Score:  182846294.55528727\n",
      "Template Name:  Lucy\n",
      " Original Score:  0.41961926390255744  MFCC Score:  1400.6064581962275  Mel Spec Score:  164610860.73878223\n",
      "Template Name:  AaronT\n",
      " Original Score:  0.3710158513587679  MFCC Score:  971.0350322439133  Mel Spec Score:  160689743.89548096\n",
      "Template Name:  Kaitlyn\n",
      " Original Score:  0.4130603407695348  MFCC Score:  1381.5936818179066  Mel Spec Score:  179596513.78442612\n",
      "Template Name:  Isabel\n",
      " Original Score:  0.42267915387605115  MFCC Score:  1450.0595964638565  Mel Spec Score:  165784001.6885893\n",
      "Template Name:  Shiv\n",
      " Original Score:  0.343819580307889  MFCC Score:  1017.5947856247333  Mel Spec Score:  152612282.40894145\n",
      "Template Name:  Maria\n",
      " Original Score:  0.4075139739729787  MFCC Score:  1406.1816514401564  Mel Spec Score:  190407813.14626127\n",
      "Template Name:  Kevin\n",
      " Original Score:  0.36409300615952983  MFCC Score:  931.4855625170877  Mel Spec Score:  203921948.64657277\n",
      "Template Name:  Mason\n",
      " Original Score:  0.34737052887915054  MFCC Score:  1111.9527614447952  Mel Spec Score:  225241455.78212622\n",
      "Template Name:  Gary\n",
      " Original Score:  0.3342517370930346  MFCC Score:  1137.002875498255  Mel Spec Score:  138631162.95385298\n",
      "Template Name:  Djassi\n",
      " Original Score:  0.33048096760042556  MFCC Score:  1247.8289714445448  Mel Spec Score:  156592060.88139933\n",
      "Template Name:  Lilly\n",
      " Original Score:  0.4057872116054698  MFCC Score:  1319.7581416344337  Mel Spec Score:  177877890.72773707\n",
      "Template Name:  Mario\n",
      " Original Score:  0.3757534803630301  MFCC Score:  1256.525364178763  Mel Spec Score:  178894091.98481008\n",
      "Template Name:  Abtin\n",
      " Original Score:  0.36469217341811044  MFCC Score:  1177.7085612054257  Mel Spec Score:  216252640.86450455\n",
      "Template Name:  Gabe\n",
      " Original Score:  0.3783364504633161  MFCC Score:  1160.1678336725838  Mel Spec Score:  172921749.18011326\n",
      "Template Name:  Kai\n",
      " Original Score:  0.34632423605676715  MFCC Score:  1058.4168107157645  Mel Spec Score:  179859836.4389263\n",
      "Template Name:  Chris\n",
      " Original Score:  0.37497568246990787  MFCC Score:  1004.8049619033093  Mel Spec Score:  174418468.65879044\n",
      "Template Name:  Annalise\n",
      " Original Score:  0.4135452379931151  MFCC Score:  1314.2344613267583  Mel Spec Score:  159525570.27901086\n",
      "Template Name:  Kailee\n",
      " Original Score:  0.40997762634708523  MFCC Score:  1392.7828197796891  Mel Spec Score:  181708360.47268346\n",
      "Best Template Match via Original Score:  Djassi   0.33048096760042556\n",
      "Best Template Match via MFCC Score:  Kevin   931.4855625170877\n",
      "Best Template Match via Mel Spec Score:  Rachel   132929640.12373489\n",
      "Query Artist Name:  Jane\n",
      "Template Name:  Sabrina\n",
      " Original Score:  0.12009478926482621  MFCC Score:  447.898798008507  Mel Spec Score:  309944614.47173035\n",
      "Template Name:  Cynthia\n",
      " Original Score:  0.09992413685636883  MFCC Score:  493.0187645443364  Mel Spec Score:  205335947.20318094\n",
      "Template Name:  Jane\n",
      " Original Score:  0.08009407548989832  MFCC Score:  349.76525449310213  Mel Spec Score:  250412742.0974768\n",
      "Template Name:  Kimi\n",
      " Original Score:  0.0938961358457638  MFCC Score:  387.57858789525557  Mel Spec Score:  242103669.137637\n",
      "Template Name:  Rachel\n",
      " Original Score:  0.082279543680507  MFCC Score:  354.21129277893823  Mel Spec Score:  185323608.27864808\n",
      "Template Name:  Maya\n",
      " Original Score:  0.11825868615190387  MFCC Score:  505.7489613462011  Mel Spec Score:  252408804.99136055\n",
      "Template Name:  Lucy\n",
      " Original Score:  0.08659823120090003  MFCC Score:  383.9628013007708  Mel Spec Score:  230454359.66718146\n",
      "Template Name:  AaronT\n",
      " Original Score:  0.13196009721658575  MFCC Score:  501.2638223478152  Mel Spec Score:  217751082.46862334\n",
      "Template Name:  Kaitlyn\n",
      " Original Score:  0.0791341685254889  MFCC Score:  341.90426026822973  Mel Spec Score:  251141632.14607263\n",
      "Template Name:  Isabel\n",
      " Original Score:  0.1308833018450433  MFCC Score:  528.8069326548299  Mel Spec Score:  231083169.5460061\n",
      "Template Name:  Shiv\n",
      " Original Score:  0.1340307668525104  MFCC Score:  488.2536381663854  Mel Spec Score:  209457767.1988393\n",
      "Template Name:  Maria\n",
      " Original Score:  0.11894703493923044  MFCC Score:  430.9448388427635  Mel Spec Score:  266302438.0948199\n",
      "Template Name:  Kevin\n",
      " Original Score:  0.14176789526674885  MFCC Score:  569.950346932688  Mel Spec Score:  278536749.6617855\n"
     ]
    },
    {
     "name": "stdout",
     "output_type": "stream",
     "text": [
      "Template Name:  Mason\n",
      " Original Score:  0.13236570067633224  MFCC Score:  562.0667493447537  Mel Spec Score:  309396548.0193079\n",
      "Template Name:  Gary\n",
      " Original Score:  0.13103596347743415  MFCC Score:  586.2122839515032  Mel Spec Score:  191073497.86863175\n",
      "Template Name:  Djassi\n",
      " Original Score:  0.12754379046915987  MFCC Score:  580.6492462769974  Mel Spec Score:  214975072.0854311\n",
      "Template Name:  Lilly\n",
      " Original Score:  0.09393969997822503  MFCC Score:  344.3174710072733  Mel Spec Score:  247568392.71349835\n",
      "Template Name:  Mario\n",
      " Original Score:  0.11241767658122064  MFCC Score:  583.9718189878423  Mel Spec Score:  246227083.93485868\n",
      "Template Name:  Abtin\n",
      " Original Score:  0.13823101690927514  MFCC Score:  549.1739366999942  Mel Spec Score:  298262872.11407125\n",
      "Template Name:  Gabe\n",
      " Original Score:  0.11699072803316245  MFCC Score:  548.5217684468772  Mel Spec Score:  238871990.13548303\n",
      "Template Name:  Kai\n",
      " Original Score:  0.13386103063077412  MFCC Score:  539.8165226525967  Mel Spec Score:  246930024.35115913\n",
      "Template Name:  Chris\n",
      " Original Score:  0.12767214828140136  MFCC Score:  562.8051155152441  Mel Spec Score:  239750029.642846\n",
      "Template Name:  Annalise\n",
      " Original Score:  0.0867200090514527  MFCC Score:  388.19898569238984  Mel Spec Score:  222933473.6345667\n",
      "Template Name:  Kailee\n",
      " Original Score:  0.08923038667334698  MFCC Score:  440.00858702723156  Mel Spec Score:  253437932.44127652\n",
      "Best Template Match via Original Score:  Kaitlyn   0.0791341685254889\n",
      "Best Template Match via MFCC Score:  Kaitlyn   341.90426026822973\n",
      "Best Template Match via Mel Spec Score:  Rachel   185323608.27864808\n",
      "Query Artist Name:  Lucy\n",
      "Template Name:  Sabrina\n",
      " Original Score:  0.4356066814697393  MFCC Score:  826.9014823961943  Mel Spec Score:  229501021.62629175\n",
      "Template Name:  Cynthia\n",
      " Original Score:  0.3783712430447  MFCC Score:  781.2242583604793  Mel Spec Score:  151904358.07357636\n",
      "Template Name:  Jane\n",
      " Original Score:  0.41755115320207054  MFCC Score:  754.1395692211656  Mel Spec Score:  185273432.0958215\n",
      "Template Name:  Kimi\n",
      " Original Score:  0.37551519666691424  MFCC Score:  759.0064329149291  Mel Spec Score:  179641694.05389825\n",
      "Template Name:  Rachel\n",
      " Original Score:  0.3983700565705356  MFCC Score:  742.6290846169361  Mel Spec Score:  137609753.80223262\n",
      "Template Name:  Maya\n",
      " Original Score:  0.49176648400476447  MFCC Score:  880.8352704997899  Mel Spec Score:  186423345.05942965\n",
      "Template Name:  Lucy\n",
      " Original Score:  0.35610768105093854  MFCC Score:  562.6842902349289  Mel Spec Score:  172072442.39901695\n",
      "Template Name:  AaronT\n",
      " Original Score:  0.4960705892876053  MFCC Score:  1027.4865586777526  Mel Spec Score:  161221232.20796353\n",
      "Template Name:  Kaitlyn\n",
      " Original Score:  0.4250444760846824  MFCC Score:  759.7307705536781  Mel Spec Score:  185953023.0046852\n",
      "Template Name:  Isabel\n",
      " Original Score:  0.45398923022359267  MFCC Score:  864.9338987853258  Mel Spec Score:  171994278.9458612\n",
      "Template Name:  Shiv\n",
      " Original Score:  0.49921222090245754  MFCC Score:  950.8745942832604  Mel Spec Score:  154500147.48133406\n",
      "Template Name:  Maria\n",
      " Original Score:  0.45194567431710736  MFCC Score:  748.5618684830067  Mel Spec Score:  196882843.38548395\n",
      "Template Name:  Kevin\n",
      " Original Score:  0.5282088669777585  MFCC Score:  1151.078221815842  Mel Spec Score:  205345702.7547892\n",
      "Template Name:  Mason\n",
      " Original Score:  0.5196545919061946  MFCC Score:  1266.4958854348206  Mel Spec Score:  228013582.7307468\n",
      "Template Name:  Gary\n",
      " Original Score:  0.5113870733537361  MFCC Score:  1393.7898446102813  Mel Spec Score:  140579372.70868185\n",
      "Template Name:  Djassi\n",
      " Original Score:  0.4988624878257561  MFCC Score:  1288.1169053154474  Mel Spec Score:  158593194.51971087\n",
      "Template Name:  Lilly\n",
      " Original Score:  0.43894822298703906  MFCC Score:  823.076871062207  Mel Spec Score:  182691500.3076163\n",
      "Template Name:  Mario\n",
      " Original Score:  0.46557184286691805  MFCC Score:  1144.2597602559354  Mel Spec Score:  182316573.53217447\n",
      "Template Name:  Abtin\n",
      " Original Score:  0.49493180205505694  MFCC Score:  1159.6559550435425  Mel Spec Score:  220015826.94886723\n",
      "Template Name:  Gabe\n",
      " Original Score:  0.48633140404390546  MFCC Score:  1192.2873428959579  Mel Spec Score:  176246750.81839266\n",
      "Template Name:  Kai\n",
      " Original Score:  0.4935539710035518  MFCC Score:  1174.9776225301428  Mel Spec Score:  182640863.51210245\n",
      "Template Name:  Chris\n",
      " Original Score:  0.46820570525547334  MFCC Score:  1189.5128233024557  Mel Spec Score:  177204631.4902052\n",
      "Template Name:  Annalise\n",
      " Original Score:  0.3478911751976268  MFCC Score:  689.2840997838083  Mel Spec Score:  165175929.53199288\n",
      "Template Name:  Kailee\n",
      " Original Score:  0.39734785667037614  MFCC Score:  802.5516039325022  Mel Spec Score:  187756552.34454978\n",
      "Best Template Match via Original Score:  Annalise   0.3478911751976268\n",
      "Best Template Match via MFCC Score:  Lucy   562.6842902349289\n",
      "Best Template Match via Mel Spec Score:  Rachel   137609753.80223262\n",
      "Query Artist Name:  Abtin\n",
      "Template Name:  Sabrina\n",
      " Original Score:  0.2025986614386527  MFCC Score:  853.5269934920804  Mel Spec Score:  240406583.2834761\n",
      "Template Name:  Cynthia\n",
      " Original Score:  0.20089561846458856  MFCC Score:  876.9681021703744  Mel Spec Score:  159330797.60933575\n",
      "Template Name:  Jane\n",
      " Original Score:  0.20294707782351587  MFCC Score:  788.4857433210099  Mel Spec Score:  195133176.92153704\n",
      "Template Name:  Kimi\n",
      " Original Score:  0.1935795800268316  MFCC Score:  686.082528180767  Mel Spec Score:  188126486.12200576\n",
      "Template Name:  Rachel\n",
      " Original Score:  0.19204560717181454  MFCC Score:  756.1078459197529  Mel Spec Score:  144085415.31718504\n",
      "Template Name:  Maya\n",
      " Original Score:  0.20969356387537885  MFCC Score:  841.0215694064842  Mel Spec Score:  197537105.33091408\n",
      "Template Name:  Lucy\n",
      " Original Score:  0.20376160017677242  MFCC Score:  844.4301278935345  Mel Spec Score:  178826475.5304143\n",
      "Template Name:  AaronT\n",
      " Original Score:  0.1862700224889186  MFCC Score:  753.7323173842856  Mel Spec Score:  172656287.98280725\n",
      "Template Name:  Kaitlyn\n",
      " Original Score:  0.19996608742965535  MFCC Score:  779.9788925299838  Mel Spec Score:  195238948.01428628\n",
      "Template Name:  Isabel\n",
      " Original Score:  0.21443209334525432  MFCC Score:  924.1696554922927  Mel Spec Score:  179465741.93509457\n",
      "Template Name:  Shiv\n",
      " Original Score:  0.1907439204848282  MFCC Score:  754.4857910554027  Mel Spec Score:  164877623.35859042\n",
      "Template Name:  Maria\n",
      " Original Score:  0.20756081576762103  MFCC Score:  900.2274098287849  Mel Spec Score:  207270341.24049437\n",
      "Template Name:  Kevin\n",
      " Original Score:  0.19462630521982688  MFCC Score:  774.7282877740826  Mel Spec Score:  219321589.25287023\n",
      "Template Name:  Mason\n",
      " Original Score:  0.17118784326362002  MFCC Score:  739.7552789336953  Mel Spec Score:  243836806.04453126\n",
      "Template Name:  Gary\n",
      " Original Score:  0.1654096661122946  MFCC Score:  691.4934533862969  Mel Spec Score:  150205323.56742123\n",
      "Template Name:  Djassi\n",
      " Original Score:  0.16924907922598337  MFCC Score:  675.0689906112596  Mel Spec Score:  169428431.27935606\n",
      "Template Name:  Lilly\n",
      " Original Score:  0.1910689031965211  MFCC Score:  702.1980927242946  Mel Spec Score:  193208829.2573328\n",
      "Template Name:  Mario\n",
      " Original Score:  0.17244869518097225  MFCC Score:  663.1338698809373  Mel Spec Score:  193313973.6692564\n",
      "Template Name:  Abtin\n",
      " Original Score:  0.1865916444443698  MFCC Score:  779.9012198086559  Mel Spec Score:  234563377.57634166\n",
      "Template Name:  Gabe\n",
      " Original Score:  0.18993663563802665  MFCC Score:  741.5531450597537  Mel Spec Score:  187911014.27383283\n",
      "Template Name:  Kai\n",
      " Original Score:  0.18535625065835712  MFCC Score:  733.5691237543219  Mel Spec Score:  193768749.68417746\n",
      "Template Name:  Chris\n",
      " Original Score:  0.19979747724410385  MFCC Score:  830.6070132319351  Mel Spec Score:  188410022.24981105\n",
      "Template Name:  Annalise\n",
      " Original Score:  0.19751815545982826  MFCC Score:  767.3890886480901  Mel Spec Score:  173273211.09157825\n",
      "Template Name:  Kailee\n",
      " Original Score:  0.18461432685982146  MFCC Score:  758.8897551384888  Mel Spec Score:  197866962.46932027\n",
      "Best Template Match via Original Score:  Gary   0.1654096661122946\n",
      "Best Template Match via MFCC Score:  Mario   663.1338698809373\n",
      "Best Template Match via Mel Spec Score:  Rachel   144085415.31718504\n",
      "Query Artist Name:  Maya\n"
     ]
    },
    {
     "name": "stdout",
     "output_type": "stream",
     "text": [
      "Template Name:  Sabrina\n",
      " Original Score:  0.20365049681902325  MFCC Score:  630.6364096799269  Mel Spec Score:  231407750.22543496\n",
      "Template Name:  Cynthia\n",
      " Original Score:  0.19362492406326287  MFCC Score:  651.9499609736763  Mel Spec Score:  154387544.9467633\n",
      "Template Name:  Jane\n",
      " Original Score:  0.20734388739138268  MFCC Score:  616.8893876738612  Mel Spec Score:  187775691.2479449\n",
      "Template Name:  Kimi\n",
      " Original Score:  0.216346138955  MFCC Score:  627.423251680227  Mel Spec Score:  181876286.52262747\n",
      "Template Name:  Rachel\n",
      " Original Score:  0.20716101715666324  MFCC Score:  601.5496124292388  Mel Spec Score:  138706652.98163217\n",
      "Template Name:  Maya\n",
      " Original Score:  0.21256211201607506  MFCC Score:  578.5667067699184  Mel Spec Score:  191099507.04175732\n",
      "Template Name:  Lucy\n",
      " Original Score:  0.19916448948940157  MFCC Score:  597.7735795940262  Mel Spec Score:  172850406.65569144\n",
      "Template Name:  AaronT\n",
      " Original Score:  0.23485415169777643  MFCC Score:  725.4165257393827  Mel Spec Score:  164747700.66975734\n",
      "Template Name:  Kaitlyn\n",
      " Original Score:  0.19710731258285577  MFCC Score:  551.9878745473737  Mel Spec Score:  187899516.14917502\n",
      "Template Name:  Isabel\n",
      " Original Score:  0.2211276475919318  MFCC Score:  705.2272395456133  Mel Spec Score:  173317021.02230725\n",
      "Template Name:  Shiv\n",
      " Original Score:  0.2364254389833882  MFCC Score:  679.8695629689759  Mel Spec Score:  157818458.22721332\n",
      "Template Name:  Maria\n",
      " Original Score:  0.21962786969024808  MFCC Score:  647.7782758639066  Mel Spec Score:  199867851.89118335\n",
      "Template Name:  Kevin\n",
      " Original Score:  0.24398242864126157  MFCC Score:  776.8674184736019  Mel Spec Score:  209340680.66050914\n",
      "Template Name:  Mason\n",
      " Original Score:  0.23939203416711685  MFCC Score:  838.5851353281572  Mel Spec Score:  232137929.4332254\n",
      "Template Name:  Gary\n",
      " Original Score:  0.23787668134394574  MFCC Score:  841.1316178752134  Mel Spec Score:  143065979.185903\n",
      "Template Name:  Djassi\n",
      " Original Score:  0.23675871448083774  MFCC Score:  789.9343468276395  Mel Spec Score:  161436646.84128925\n",
      "Template Name:  Lilly\n",
      " Original Score:  0.20107365680361564  MFCC Score:  606.5924058257855  Mel Spec Score:  185796415.59024188\n",
      "Template Name:  Mario\n",
      " Original Score:  0.22753329805231512  MFCC Score:  719.0494074724711  Mel Spec Score:  185395471.0258556\n",
      "Template Name:  Abtin\n",
      " Original Score:  0.24116466350705834  MFCC Score:  794.2880337081995  Mel Spec Score:  223559103.17721382\n",
      "Template Name:  Gabe\n",
      " Original Score:  0.23581604658472285  MFCC Score:  787.913759479307  Mel Spec Score:  178732489.80792785\n",
      "Template Name:  Kai\n",
      " Original Score:  0.2337290029596279  MFCC Score:  764.0747278924146  Mel Spec Score:  186702473.53643012\n",
      "Template Name:  Chris\n",
      " Original Score:  0.23595094669597919  MFCC Score:  777.8909092168822  Mel Spec Score:  180278488.50551364\n",
      "Template Name:  Annalise\n",
      " Original Score:  0.20625808202410453  MFCC Score:  594.685323386522  Mel Spec Score:  166665025.87382263\n",
      "Template Name:  Kailee\n",
      " Original Score:  0.21657821639292474  MFCC Score:  659.8721900391622  Mel Spec Score:  190665365.57073435\n",
      "Best Template Match via Original Score:  Cynthia   0.19362492406326287\n",
      "Best Template Match via MFCC Score:  Kaitlyn   551.9878745473737\n",
      "Best Template Match via Mel Spec Score:  Rachel   138706652.98163217\n",
      "Query Artist Name:  Gary\n",
      "Template Name:  Sabrina\n",
      " Original Score:  2.0165951727293225  MFCC Score:  1857.6153776151039  Mel Spec Score:  218622475.25314072\n",
      "Template Name:  Cynthia\n",
      " Original Score:  2.049744292556104  MFCC Score:  2076.7464447538064  Mel Spec Score:  144552335.02202958\n",
      "Template Name:  Jane\n",
      " Original Score:  2.0436571150253457  MFCC Score:  1904.089180891239  Mel Spec Score:  177171331.03590283\n",
      "Template Name:  Kimi\n",
      " Original Score:  1.897615752831433  MFCC Score:  1755.1991217017307  Mel Spec Score:  169625451.12244913\n",
      "Template Name:  Rachel\n",
      " Original Score:  1.9695582817763901  MFCC Score:  1898.2991350649488  Mel Spec Score:  130139471.99066947\n",
      "Template Name:  Maya\n",
      " Original Score:  2.1890166774557014  MFCC Score:  2306.0485849205725  Mel Spec Score:  177315667.50626883\n",
      "Template Name:  Lucy\n",
      " Original Score:  2.1207647967011742  MFCC Score:  2278.9535161810268  Mel Spec Score:  161240398.23986444\n",
      "Template Name:  AaronT\n",
      " Original Score:  2.0571951257528447  MFCC Score:  1344.644148742143  Mel Spec Score:  154369562.63528663\n",
      "Template Name:  Kaitlyn\n",
      " Original Score:  1.9647831620504055  MFCC Score:  1915.9611170570836  Mel Spec Score:  177006528.02432305\n",
      "Template Name:  Isabel\n",
      " Original Score:  2.211757274290208  MFCC Score:  2451.3543385774724  Mel Spec Score:  162005291.84402698\n",
      "Template Name:  Shiv\n",
      " Original Score:  1.9690900881420217  MFCC Score:  1458.796277330907  Mel Spec Score:  148200774.1904619\n",
      "Template Name:  Maria\n",
      " Original Score:  2.1127271500671876  MFCC Score:  2152.6439814790892  Mel Spec Score:  188157143.72350642\n",
      "Template Name:  Kevin\n",
      " Original Score:  2.1474883249285686  MFCC Score:  1645.054726254544  Mel Spec Score:  196737655.88854855\n",
      "Template Name:  Mason\n",
      " Original Score:  1.6586654410071808  MFCC Score:  1265.535321596357  Mel Spec Score:  219726292.7093115\n",
      "Template Name:  Gary\n",
      " Original Score:  1.1982135642027976  MFCC Score:  1202.6272942806756  Mel Spec Score:  136893028.09280536\n",
      "Template Name:  Djassi\n",
      " Original Score:  1.362750757309424  MFCC Score:  1493.4442443310063  Mel Spec Score:  152414830.95168382\n",
      "Template Name:  Lilly\n",
      " Original Score:  1.922371558026524  MFCC Score:  1853.1128925825133  Mel Spec Score:  175289396.30763808\n",
      "Template Name:  Mario\n",
      " Original Score:  1.650926867192952  MFCC Score:  1657.3113313755955  Mel Spec Score:  174045646.91648838\n",
      "Template Name:  Abtin\n",
      " Original Score:  1.809001065046182  MFCC Score:  1402.042968979499  Mel Spec Score:  211845511.97186133\n",
      "Template Name:  Gabe\n",
      " Original Score:  1.7583979724994563  MFCC Score:  1237.087078542792  Mel Spec Score:  169556395.07310477\n",
      "Template Name:  Kai\n",
      " Original Score:  1.8387792532153802  MFCC Score:  1389.5024263833375  Mel Spec Score:  174247281.84626308\n",
      "Template Name:  Chris\n",
      " Original Score:  1.9887160212192505  MFCC Score:  1420.7809943290738  Mel Spec Score:  169994479.00448173\n",
      "Template Name:  Annalise\n",
      " Original Score:  2.0132328826839143  MFCC Score:  1827.9156554562746  Mel Spec Score:  156621112.52468204\n",
      "Template Name:  Kailee\n",
      " Original Score:  1.9132422907505604  MFCC Score:  1907.1141089626767  Mel Spec Score:  179017386.0367005\n",
      "Best Template Match via Original Score:  Gary   1.1982135642027976\n",
      "Best Template Match via MFCC Score:  Gary   1202.6272942806756\n",
      "Best Template Match via Mel Spec Score:  Rachel   130139471.99066947\n",
      "Query Artist Name:  Mason\n",
      "Template Name:  Sabrina\n",
      " Original Score:  2.0675312779768173  MFCC Score:  2104.3887544636614  Mel Spec Score:  233181615.52306956\n",
      "Template Name:  Cynthia\n",
      " Original Score:  2.138654384409905  MFCC Score:  2334.819474340324  Mel Spec Score:  154083413.08988816\n",
      "Template Name:  Jane\n",
      " Original Score:  2.0395044482142293  MFCC Score:  2042.0622068933928  Mel Spec Score:  188989193.25492597\n",
      "Template Name:  Kimi\n",
      " Original Score:  1.9142350245059125  MFCC Score:  1819.4619742566329  Mel Spec Score:  181686232.69547117\n",
      "Template Name:  Rachel\n",
      " Original Score:  1.9884241619310612  MFCC Score:  2073.018082373012  Mel Spec Score:  139481789.78531048\n",
      "Template Name:  Maya\n",
      " Original Score:  2.218697331140505  MFCC Score:  2532.9700045049917  Mel Spec Score:  190357844.36749753\n",
      "Template Name:  Lucy\n",
      " Original Score:  2.200556318126553  MFCC Score:  2568.1076340860805  Mel Spec Score:  172605198.5740469\n",
      "Template Name:  AaronT\n",
      " Original Score:  1.9947686532169069  MFCC Score:  1462.6319046942772  Mel Spec Score:  167007619.31875274\n",
      "Template Name:  Kaitlyn\n",
      " Original Score:  2.0450538860273824  MFCC Score:  2021.2621884187804  Mel Spec Score:  189292435.07316634\n",
      "Template Name:  Isabel\n",
      " Original Score:  2.183954340498626  MFCC Score:  2727.7007665592605  Mel Spec Score:  173322349.96649924\n",
      "Template Name:  Shiv\n",
      " Original Score:  2.0111799492033757  MFCC Score:  1577.2255540665456  Mel Spec Score:  158735823.41353825\n",
      "Template Name:  Maria\n",
      " Original Score:  2.1341556019947845  MFCC Score:  2431.866587836051  Mel Spec Score:  200577310.39432576\n",
      "Template Name:  Kevin\n",
      " Original Score:  1.9991736213497375  MFCC Score:  1566.0239213235275  Mel Spec Score:  212352443.59846714\n",
      "Template Name:  Mason\n",
      " Original Score:  1.6036796093344854  MFCC Score:  970.4017606143908  Mel Spec Score:  237518712.33517027\n"
     ]
    },
    {
     "name": "stdout",
     "output_type": "stream",
     "text": [
      "Template Name:  Gary\n",
      " Original Score:  1.5501248035099056  MFCC Score:  1135.0329825293122  Mel Spec Score:  145903466.0975485\n",
      "Template Name:  Djassi\n",
      " Original Score:  1.6965444803469358  MFCC Score:  1232.079962735256  Mel Spec Score:  164501892.36676374\n",
      "Template Name:  Lilly\n",
      " Original Score:  2.0454407891101143  MFCC Score:  1969.2428316854432  Mel Spec Score:  187836636.74628514\n",
      "Template Name:  Mario\n",
      " Original Score:  1.8625455784003666  MFCC Score:  1741.0922510058901  Mel Spec Score:  187655281.66820115\n",
      "Template Name:  Abtin\n",
      " Original Score:  1.8243815157042271  MFCC Score:  1319.569297030225  Mel Spec Score:  226804995.96716878\n",
      "Template Name:  Gabe\n",
      " Original Score:  1.6189789999460351  MFCC Score:  1245.397058196358  Mel Spec Score:  181668502.3269633\n",
      "Template Name:  Kai\n",
      " Original Score:  1.8673324050588735  MFCC Score:  1610.2999479125356  Mel Spec Score:  187330109.81741616\n",
      "Template Name:  Chris\n",
      " Original Score:  1.8842265106604634  MFCC Score:  1492.3455984739646  Mel Spec Score:  182200387.3728629\n",
      "Template Name:  Annalise\n",
      " Original Score:  2.0661676404234495  MFCC Score:  1953.9508049728797  Mel Spec Score:  167410468.4566501\n",
      "Template Name:  Kailee\n",
      " Original Score:  2.015835834206882  MFCC Score:  2067.298758658442  Mel Spec Score:  191358062.02888706\n",
      "Best Template Match via Original Score:  Gary   1.5501248035099056\n",
      "Best Template Match via MFCC Score:  Mason   970.4017606143908\n",
      "Best Template Match via Mel Spec Score:  Rachel   139481789.78531048\n",
      "Query Artist Name:  AaronT\n",
      "Template Name:  Sabrina\n",
      " Original Score:  0.27904075894202646  MFCC Score:  1018.6190208031559  Mel Spec Score:  207536855.64486846\n",
      "Template Name:  Cynthia\n",
      " Original Score:  0.2775705863777287  MFCC Score:  996.7137850861466  Mel Spec Score:  137985616.4003306\n",
      "Template Name:  Jane\n",
      " Original Score:  0.2794504070826389  MFCC Score:  942.083582756625  Mel Spec Score:  168551972.83733478\n",
      "Template Name:  Kimi\n",
      " Original Score:  0.2758297874441094  MFCC Score:  874.7255820204363  Mel Spec Score:  163159454.28907055\n",
      "Template Name:  Rachel\n",
      " Original Score:  0.26811468236482566  MFCC Score:  933.2395586962382  Mel Spec Score:  124554204.54666153\n",
      "Template Name:  Maya\n",
      " Original Score:  0.28982465098990695  MFCC Score:  1024.6679616256506  Mel Spec Score:  170767083.45843896\n",
      "Template Name:  Lucy\n",
      " Original Score:  0.28241288010910903  MFCC Score:  1004.4346084960683  Mel Spec Score:  154758940.03657717\n",
      "Template Name:  AaronT\n",
      " Original Score:  0.24622891531478458  MFCC Score:  791.4040402951618  Mel Spec Score:  150461563.9335731\n",
      "Template Name:  Kaitlyn\n",
      " Original Score:  0.2756203479952314  MFCC Score:  941.3618549677334  Mel Spec Score:  168388664.49950743\n",
      "Template Name:  Isabel\n",
      " Original Score:  0.2880481013177688  MFCC Score:  1065.9062664068597  Mel Spec Score:  155523164.41127798\n",
      "Template Name:  Shiv\n",
      " Original Score:  0.26199882093497373  MFCC Score:  804.1418999003611  Mel Spec Score:  142776144.94976833\n",
      "Template Name:  Maria\n",
      " Original Score:  0.2757272052431156  MFCC Score:  1019.3679795838518  Mel Spec Score:  178322607.1379155\n",
      "Template Name:  Kevin\n",
      " Original Score:  0.25615041381235165  MFCC Score:  821.3748378136743  Mel Spec Score:  190326344.16976625\n",
      "Template Name:  Mason\n",
      " Original Score:  0.2458424542089217  MFCC Score:  939.0475097759943  Mel Spec Score:  210607158.39272344\n",
      "Template Name:  Gary\n",
      " Original Score:  0.255158160955423  MFCC Score:  997.0775829388626  Mel Spec Score:  129730498.13430199\n",
      "Template Name:  Djassi\n",
      " Original Score:  0.25583448163995537  MFCC Score:  921.0650300503983  Mel Spec Score:  146283549.48433548\n",
      "Template Name:  Lilly\n",
      " Original Score:  0.2762781722913732  MFCC Score:  917.6656309440831  Mel Spec Score:  166517424.38574436\n",
      "Template Name:  Mario\n",
      " Original Score:  0.2670516694198465  MFCC Score:  936.5388973929606  Mel Spec Score:  167200451.03945377\n",
      "Template Name:  Abtin\n",
      " Original Score:  0.26818989402794424  MFCC Score:  909.9472052840155  Mel Spec Score:  202585847.62692252\n",
      "Template Name:  Gabe\n",
      " Original Score:  0.2762019479076139  MFCC Score:  920.774084284004  Mel Spec Score:  161974056.9913848\n",
      "Template Name:  Kai\n",
      " Original Score:  0.2561438123800028  MFCC Score:  871.4021872372751  Mel Spec Score:  168544010.96430233\n",
      "Template Name:  Chris\n",
      " Original Score:  0.2689241006515272  MFCC Score:  907.2936125485658  Mel Spec Score:  162792409.85031366\n",
      "Template Name:  Annalise\n",
      " Original Score:  0.27959190534537  MFCC Score:  904.4898052445594  Mel Spec Score:  149460972.79124644\n",
      "Template Name:  Kailee\n",
      " Original Score:  0.2701142183576754  MFCC Score:  968.3375549667445  Mel Spec Score:  170274917.39790115\n",
      "Best Template Match via Original Score:  Mason   0.2458424542089217\n",
      "Best Template Match via MFCC Score:  AaronT   791.4040402951618\n",
      "Best Template Match via Mel Spec Score:  Rachel   124554204.54666153\n",
      "Query Artist Name:  Djassi\n",
      "Template Name:  Sabrina\n",
      " Original Score:  0.19786744844725943  MFCC Score:  689.9249531600359  Mel Spec Score:  217730295.26562437\n",
      "Template Name:  Cynthia\n",
      " Original Score:  0.19568192394615858  MFCC Score:  744.6438129364625  Mel Spec Score:  143786634.36731347\n",
      "Template Name:  Jane\n",
      " Original Score:  0.19403574054241565  MFCC Score:  655.7816165028803  Mel Spec Score:  176344649.30500543\n",
      "Template Name:  Kimi\n",
      " Original Score:  0.1811201270095191  MFCC Score:  548.2919615580622  Mel Spec Score:  169640377.09233138\n",
      "Template Name:  Rachel\n",
      " Original Score:  0.18866541616218407  MFCC Score:  652.5951023660709  Mel Spec Score:  130227158.34008622\n",
      "Template Name:  Maya\n",
      " Original Score:  0.20521981671743736  MFCC Score:  742.8602013126865  Mel Spec Score:  177691253.22625986\n",
      "Template Name:  Lucy\n",
      " Original Score:  0.195076588341387  MFCC Score:  721.0421654428603  Mel Spec Score:  161784460.00717184\n",
      "Template Name:  AaronT\n",
      " Original Score:  0.19871542221956065  MFCC Score:  667.9476991849227  Mel Spec Score:  155502904.4753318\n",
      "Template Name:  Kaitlyn\n",
      " Original Score:  0.19097151083760283  MFCC Score:  680.0248031051998  Mel Spec Score:  176729561.2186536\n",
      "Template Name:  Isabel\n",
      " Original Score:  0.2098380565635931  MFCC Score:  791.4071278029021  Mel Spec Score:  162218535.36295313\n",
      "Template Name:  Shiv\n",
      " Original Score:  0.18523927325257772  MFCC Score:  653.6084905938542  Mel Spec Score:  148241487.75365618\n",
      "Template Name:  Maria\n",
      " Original Score:  0.20331848127418123  MFCC Score:  762.0116775094865  Mel Spec Score:  187090697.23901573\n",
      "Template Name:  Kevin\n",
      " Original Score:  0.20583436022654417  MFCC Score:  713.2015338479094  Mel Spec Score:  197522151.5154567\n",
      "Template Name:  Mason\n",
      " Original Score:  0.1599001606021291  MFCC Score:  413.6517731838552  Mel Spec Score:  221012161.9862357\n",
      "Template Name:  Gary\n",
      " Original Score:  0.12336916606020355  MFCC Score:  346.701552009502  Mel Spec Score:  135808992.5735925\n",
      "Template Name:  Djassi\n",
      " Original Score:  0.10843909126008831  MFCC Score:  438.825015905307  Mel Spec Score:  153760551.29338357\n",
      "Template Name:  Lilly\n",
      " Original Score:  0.18432326807903876  MFCC Score:  574.888906085515  Mel Spec Score:  175222782.49749532\n",
      "Template Name:  Mario\n",
      " Original Score:  0.13117005971041706  MFCC Score:  447.72567812533765  Mel Spec Score:  175364325.64363387\n",
      "Template Name:  Abtin\n",
      " Original Score:  0.1822100365369683  MFCC Score:  575.5379602406226  Mel Spec Score:  211595108.19630688\n",
      "Template Name:  Gabe\n",
      " Original Score:  0.17386806883739  MFCC Score:  497.629758353152  Mel Spec Score:  169302612.88515535\n",
      "Template Name:  Kai\n",
      " Original Score:  0.17775238368758395  MFCC Score:  522.9363614594766  Mel Spec Score:  174918839.7666535\n",
      "Template Name:  Chris\n",
      " Original Score:  0.19409145731748204  MFCC Score:  667.4577922700497  Mel Spec Score:  169735700.7374565\n",
      "Template Name:  Annalise\n",
      " Original Score:  0.18977116874711394  MFCC Score:  686.8806903545996  Mel Spec Score:  156263886.39703754\n",
      "Template Name:  Kailee\n",
      " Original Score:  0.1812563544884103  MFCC Score:  630.606911363848  Mel Spec Score:  178736481.06749055\n",
      "Best Template Match via Original Score:  Djassi   0.10843909126008831\n",
      "Best Template Match via MFCC Score:  Gary   346.701552009502\n",
      "Best Template Match via Mel Spec Score:  Rachel   130227158.34008622\n",
      "Query Artist Name:  Chris\n",
      "Template Name:  Sabrina\n",
      " Original Score:  0.21221411769837673  MFCC Score:  864.5342601459304  Mel Spec Score:  219650760.39613548\n"
     ]
    },
    {
     "name": "stdout",
     "output_type": "stream",
     "text": [
      "Template Name:  Cynthia\n",
      " Original Score:  0.21791621824364307  MFCC Score:  979.217448113103  Mel Spec Score:  145919142.18498713\n",
      "Template Name:  Jane\n",
      " Original Score:  0.21330978637930256  MFCC Score:  888.7155187213777  Mel Spec Score:  178649136.2690531\n",
      "Template Name:  Kimi\n",
      " Original Score:  0.20893793122406182  MFCC Score:  809.8740008796483  Mel Spec Score:  172335219.76138878\n",
      "Template Name:  Rachel\n",
      " Original Score:  0.2143362718573231  MFCC Score:  943.3698158931168  Mel Spec Score:  131687665.99230884\n",
      "Template Name:  Maya\n",
      " Original Score:  0.22272755698715394  MFCC Score:  925.7705361437892  Mel Spec Score:  180746941.1657178\n",
      "Template Name:  Lucy\n",
      " Original Score:  0.21796620679754364  MFCC Score:  936.9839535536205  Mel Spec Score:  163453984.62583438\n",
      "Template Name:  AaronT\n",
      " Original Score:  0.20843859989174174  MFCC Score:  842.5675199754534  Mel Spec Score:  158303000.57972986\n",
      "Template Name:  Kaitlyn\n",
      " Original Score:  0.21140757567616753  MFCC Score:  933.1571640647738  Mel Spec Score:  178101060.79956064\n",
      "Template Name:  Isabel\n",
      " Original Score:  0.2239208093319174  MFCC Score:  994.1568356151196  Mel Spec Score:  164272372.75158134\n",
      "Template Name:  Shiv\n",
      " Original Score:  0.2013069168964823  MFCC Score:  788.229214271489  Mel Spec Score:  150701589.30993286\n",
      "Template Name:  Maria\n",
      " Original Score:  0.20940484423146763  MFCC Score:  957.9448179436133  Mel Spec Score:  189646198.8737128\n",
      "Template Name:  Kevin\n",
      " Original Score:  0.2218869007610292  MFCC Score:  831.4945993020101  Mel Spec Score:  200760831.0282691\n",
      "Template Name:  Mason\n",
      " Original Score:  0.20364963128676314  MFCC Score:  858.1495979482895  Mel Spec Score:  222515029.43493643\n",
      "Template Name:  Gary\n",
      " Original Score:  0.19739098266541172  MFCC Score:  881.9826610924054  Mel Spec Score:  137481766.21491224\n",
      "Template Name:  Djassi\n",
      " Original Score:  0.20252722488952238  MFCC Score:  871.1547211725386  Mel Spec Score:  154491793.9270324\n",
      "Template Name:  Lilly\n",
      " Original Score:  0.21467247407068932  MFCC Score:  888.973103105713  Mel Spec Score:  176516819.21723223\n",
      "Template Name:  Mario\n",
      " Original Score:  0.2074557270207557  MFCC Score:  924.2155258497064  Mel Spec Score:  176636851.83733383\n",
      "Template Name:  Abtin\n",
      " Original Score:  0.21167920035757196  MFCC Score:  841.9324917460872  Mel Spec Score:  214111130.97438127\n",
      "Template Name:  Gabe\n",
      " Original Score:  0.2023047693627009  MFCC Score:  789.8749658488052  Mel Spec Score:  171570301.21358567\n",
      "Template Name:  Kai\n",
      " Original Score:  0.1979319354790352  MFCC Score:  804.843406120721  Mel Spec Score:  177521460.23461932\n",
      "Template Name:  Chris\n",
      " Original Score:  0.18245174754551266  MFCC Score:  663.2590291695354  Mel Spec Score:  172896586.9717838\n",
      "Template Name:  Annalise\n",
      " Original Score:  0.21835759224363324  MFCC Score:  873.4484897638256  Mel Spec Score:  158320314.30513236\n",
      "Template Name:  Kailee\n",
      " Original Score:  0.2113683296928088  MFCC Score:  936.5340034811327  Mel Spec Score:  180849180.0319693\n",
      "Best Template Match via Original Score:  Chris   0.18245174754551266\n",
      "Best Template Match via MFCC Score:  Chris   663.2590291695354\n",
      "Best Template Match via Mel Spec Score:  Rachel   131687665.99230884\n",
      "Query Artist Name:  Kimi\n",
      "Template Name:  Sabrina\n",
      " Original Score:  0.5630271457323467  MFCC Score:  860.2206207115796  Mel Spec Score:  267520500.57473847\n",
      "Template Name:  Cynthia\n",
      " Original Score:  0.621772381303855  MFCC Score:  909.3561778127337  Mel Spec Score:  177465094.7321971\n",
      "Template Name:  Jane\n",
      " Original Score:  0.6046812437149559  MFCC Score:  623.9193833178443  Mel Spec Score:  216532325.41563386\n",
      "Template Name:  Kimi\n",
      " Original Score:  0.5803085640539569  MFCC Score:  690.3531609417611  Mel Spec Score:  209776181.76690096\n",
      "Template Name:  Rachel\n",
      " Original Score:  0.6272138670663894  MFCC Score:  817.7993544509218  Mel Spec Score:  160382222.78615886\n",
      "Template Name:  Maya\n",
      " Original Score:  0.6993051869486545  MFCC Score:  1005.690386663302  Mel Spec Score:  217593394.88690332\n",
      "Template Name:  Lucy\n",
      " Original Score:  0.6175131452924566  MFCC Score:  764.2895010754963  Mel Spec Score:  198987962.05287758\n",
      "Template Name:  AaronT\n",
      " Original Score:  0.6563669796556593  MFCC Score:  1149.2182094162379  Mel Spec Score:  188942980.16416097\n",
      "Template Name:  Kaitlyn\n",
      " Original Score:  0.5835107409592193  MFCC Score:  637.1299297558954  Mel Spec Score:  216646077.75745615\n",
      "Template Name:  Isabel\n",
      " Original Score:  0.7062108561211292  MFCC Score:  1045.0027006021432  Mel Spec Score:  199332779.91705748\n",
      "Template Name:  Shiv\n",
      " Original Score:  0.6661107433600577  MFCC Score:  1091.5416760274081  Mel Spec Score:  180979685.53943294\n",
      "Template Name:  Maria\n",
      " Original Score:  0.6842955879958948  MFCC Score:  823.3970281420162  Mel Spec Score:  230335437.40365192\n",
      "Template Name:  Kevin\n",
      " Original Score:  0.7281006322860358  MFCC Score:  1128.2657186319345  Mel Spec Score:  240349484.020768\n",
      "Template Name:  Mason\n",
      " Original Score:  0.6783999457163067  MFCC Score:  1452.0916508205469  Mel Spec Score:  267285527.41768935\n",
      "Template Name:  Gary\n",
      " Original Score:  0.6773358890384452  MFCC Score:  1389.7149652590347  Mel Spec Score:  165408904.01090673\n",
      "Template Name:  Djassi\n",
      " Original Score:  0.6767722671889387  MFCC Score:  1383.9785474988312  Mel Spec Score:  185450399.80494297\n",
      "Template Name:  Lilly\n",
      " Original Score:  0.6158388726217584  MFCC Score:  843.3907491180235  Mel Spec Score:  213665709.25606704\n",
      "Template Name:  Mario\n",
      " Original Score:  0.7071912641591945  MFCC Score:  1233.1130548662456  Mel Spec Score:  212285104.95547557\n",
      "Template Name:  Abtin\n",
      " Original Score:  0.6866497073904629  MFCC Score:  1212.7966739553792  Mel Spec Score:  257615755.04450566\n",
      "Template Name:  Gabe\n",
      " Original Score:  0.6750757649749078  MFCC Score:  1215.538257444376  Mel Spec Score:  206693864.17580613\n",
      "Template Name:  Kai\n",
      " Original Score:  0.7138537546062768  MFCC Score:  1219.5112758168414  Mel Spec Score:  213455706.19906506\n",
      "Template Name:  Chris\n",
      " Original Score:  0.7209889291492065  MFCC Score:  1128.6655990900233  Mel Spec Score:  207484363.9022828\n",
      "Template Name:  Annalise\n",
      " Original Score:  0.6075772663204453  MFCC Score:  697.8006934904614  Mel Spec Score:  192335802.71907273\n",
      "Template Name:  Kailee\n",
      " Original Score:  0.6554373874041536  MFCC Score:  769.6138459042265  Mel Spec Score:  219493348.44859806\n",
      "Best Template Match via Original Score:  Sabrina   0.5630271457323467\n",
      "Best Template Match via MFCC Score:  Jane   623.9193833178443\n",
      "Best Template Match via Mel Spec Score:  Rachel   160382222.78615886\n",
      "Query Artist Name:  Annalise\n",
      "Template Name:  Sabrina\n",
      " Original Score:  0.43474624623368324  MFCC Score:  719.0492059083742  Mel Spec Score:  224721795.1832685\n",
      "Template Name:  Cynthia\n",
      " Original Score:  0.38570106673030535  MFCC Score:  714.4756144975054  Mel Spec Score:  148493274.01358464\n",
      "Template Name:  Jane\n",
      " Original Score:  0.3545867074297413  MFCC Score:  659.143539373074  Mel Spec Score:  181486923.8506906\n",
      "Template Name:  Kimi\n",
      " Original Score:  0.3932833015721372  MFCC Score:  601.8449551790577  Mel Spec Score:  175622648.2685114\n",
      "Template Name:  Rachel\n",
      " Original Score:  0.3401178114263246  MFCC Score:  585.7243624982049  Mel Spec Score:  134736923.74352223\n",
      "Template Name:  Maya\n",
      " Original Score:  0.414459515748468  MFCC Score:  790.8050232773134  Mel Spec Score:  183289623.16921303\n",
      "Template Name:  Lucy\n",
      " Original Score:  0.36475841989775093  MFCC Score:  669.5313446760426  Mel Spec Score:  166925322.27600095\n",
      "Template Name:  AaronT\n",
      " Original Score:  0.4998944005259984  MFCC Score:  851.7377219586776  Mel Spec Score:  158814676.34431234\n",
      "Template Name:  Kaitlyn\n",
      " Original Score:  0.2977126426078379  MFCC Score:  510.6753220208729  Mel Spec Score:  182031807.78497222\n",
      "Template Name:  Isabel\n",
      " Original Score:  0.49353023621155373  MFCC Score:  852.5115897072205  Mel Spec Score:  167538265.61376077\n",
      "Template Name:  Shiv\n",
      " Original Score:  0.4878132669215363  MFCC Score:  799.1551183751803  Mel Spec Score:  152059392.5263783\n",
      "Template Name:  Maria\n",
      " Original Score:  0.4466009850783363  MFCC Score:  727.0962456014519  Mel Spec Score:  193118650.67581427\n",
      "Template Name:  Kevin\n",
      " Original Score:  0.5168936630146233  MFCC Score:  955.4582779529671  Mel Spec Score:  203156637.03372565\n",
      "Template Name:  Mason\n",
      " Original Score:  0.48810941697703003  MFCC Score:  1055.6195659494513  Mel Spec Score:  225294608.0209326\n"
     ]
    },
    {
     "name": "stdout",
     "output_type": "stream",
     "text": [
      "Template Name:  Gary\n",
      " Original Score:  0.47926006429771584  MFCC Score:  1009.1524562435237  Mel Spec Score:  138934710.1478605\n",
      "Template Name:  Djassi\n",
      " Original Score:  0.46053406484066656  MFCC Score:  1017.7064538954877  Mel Spec Score:  156555720.32944474\n",
      "Template Name:  Lilly\n",
      " Original Score:  0.2784179640183632  MFCC Score:  549.3746376590282  Mel Spec Score:  179552744.65114552\n",
      "Template Name:  Mario\n",
      " Original Score:  0.4066153697849998  MFCC Score:  922.5994962019603  Mel Spec Score:  179197790.27471197\n",
      "Template Name:  Abtin\n",
      " Original Score:  0.5037999811205435  MFCC Score:  908.1699390328946  Mel Spec Score:  216632157.1724377\n",
      "Template Name:  Gabe\n",
      " Original Score:  0.46025152503694716  MFCC Score:  1051.0957088090333  Mel Spec Score:  174047436.80005252\n",
      "Template Name:  Kai\n",
      " Original Score:  0.4943424324110986  MFCC Score:  980.3806547730388  Mel Spec Score:  179197327.20304134\n",
      "Template Name:  Chris\n",
      " Original Score:  0.48832706347511906  MFCC Score:  1021.4057414074053  Mel Spec Score:  174646177.27033687\n",
      "Template Name:  Annalise\n",
      " Original Score:  0.35786294952704345  MFCC Score:  639.1539940730274  Mel Spec Score:  162166781.1608466\n",
      "Template Name:  Kailee\n",
      " Original Score:  0.3514860128636755  MFCC Score:  671.3145377141736  Mel Spec Score:  183841233.90510678\n",
      "Best Template Match via Original Score:  Lilly   0.2784179640183632\n",
      "Best Template Match via MFCC Score:  Kaitlyn   510.6753220208729\n",
      "Best Template Match via Mel Spec Score:  Rachel   134736923.74352223\n",
      "Query Artist Name:  Gabe\n",
      "Template Name:  Sabrina\n",
      " Original Score:  0.45482022028653085  MFCC Score:  1039.1431563096978  Mel Spec Score:  209941329.58683816\n",
      "Template Name:  Cynthia\n",
      " Original Score:  0.45463500483493174  MFCC Score:  1188.0176317604937  Mel Spec Score:  138881665.83529508\n",
      "Template Name:  Jane\n",
      " Original Score:  0.44684676881192814  MFCC Score:  999.8082831553752  Mel Spec Score:  170314818.13326836\n",
      "Template Name:  Kimi\n",
      " Original Score:  0.4298174795704503  MFCC Score:  839.4168802356025  Mel Spec Score:  164015797.1319089\n",
      "Template Name:  Rachel\n",
      " Original Score:  0.4294280684108246  MFCC Score:  1030.6292511906147  Mel Spec Score:  125867597.42137955\n",
      "Template Name:  Maya\n",
      " Original Score:  0.482124441257347  MFCC Score:  1288.134793226863  Mel Spec Score:  171467720.82352555\n",
      "Template Name:  Lucy\n",
      " Original Score:  0.4553055135349325  MFCC Score:  1172.402679476302  Mel Spec Score:  155702393.81185523\n",
      "Template Name:  AaronT\n",
      " Original Score:  0.4323323555748137  MFCC Score:  1029.2766481691556  Mel Spec Score:  149758648.60281438\n",
      "Template Name:  Kaitlyn\n",
      " Original Score:  0.43963907997064683  MFCC Score:  1027.770168746088  Mel Spec Score:  170272215.9856477\n",
      "Template Name:  Isabel\n",
      " Original Score:  0.47390186514233673  MFCC Score:  1279.2533623187733  Mel Spec Score:  156504508.67546207\n",
      "Template Name:  Shiv\n",
      " Original Score:  0.45390522093428604  MFCC Score:  1057.5385025189885  Mel Spec Score:  143340453.42297518\n",
      "Template Name:  Maria\n",
      " Original Score:  0.467356351659989  MFCC Score:  1214.2694411541977  Mel Spec Score:  180843941.87197652\n",
      "Template Name:  Kevin\n",
      " Original Score:  0.4359972507735325  MFCC Score:  1179.5262884524682  Mel Spec Score:  190760664.1194663\n",
      "Template Name:  Mason\n",
      " Original Score:  0.3851894412715176  MFCC Score:  911.2436399548316  Mel Spec Score:  211954275.3718084\n",
      "Template Name:  Gary\n",
      " Original Score:  0.39024195013973856  MFCC Score:  990.3318783091847  Mel Spec Score:  131135802.11660299\n",
      "Template Name:  Djassi\n",
      " Original Score:  0.39273878364491877  MFCC Score:  965.7035117460491  Mel Spec Score:  147243532.696955\n",
      "Template Name:  Lilly\n",
      " Original Score:  0.43773664364377735  MFCC Score:  1046.5575545010647  Mel Spec Score:  168111001.20411637\n",
      "Template Name:  Mario\n",
      " Original Score:  0.3934241527156293  MFCC Score:  1003.4474618087368  Mel Spec Score:  168047046.38841024\n",
      "Template Name:  Abtin\n",
      " Original Score:  0.40290324753799384  MFCC Score:  866.9688445093035  Mel Spec Score:  204674004.348372\n",
      "Template Name:  Gabe\n",
      " Original Score:  0.4203396423095376  MFCC Score:  838.7632586222486  Mel Spec Score:  164616307.28045487\n",
      "Template Name:  Kai\n",
      " Original Score:  0.446471659678831  MFCC Score:  1039.7903353315417  Mel Spec Score:  168099367.11088094\n",
      "Template Name:  Chris\n",
      " Original Score:  0.45376754922832  MFCC Score:  1042.6544044353332  Mel Spec Score:  164136153.65140522\n",
      "Template Name:  Annalise\n",
      " Original Score:  0.44177522759681825  MFCC Score:  992.2180850837977  Mel Spec Score:  151562192.9430298\n",
      "Template Name:  Kailee\n",
      " Original Score:  0.4287221316792646  MFCC Score:  1069.221491341388  Mel Spec Score:  172181239.78807965\n",
      "Best Template Match via Original Score:  Mason   0.3851894412715176\n",
      "Best Template Match via MFCC Score:  Gabe   838.7632586222486\n",
      "Best Template Match via Mel Spec Score:  Rachel   125867597.42137955\n"
     ]
    }
   ],
   "source": [
    "singerPairingsTotal = calculateSingerStoreAll(db_JingleBells, db_Templates, db_Scales)"
   ]
  },
  {
   "cell_type": "markdown",
   "metadata": {},
   "source": [
    "## Accuracy Testing"
   ]
  },
  {
   "cell_type": "code",
   "execution_count": 24,
   "metadata": {},
   "outputs": [],
   "source": [
    "def accuracyTestAll(singerPairingsTotal, xAmount, scoreType):\n",
    "    \n",
    "    '''\n",
    "    This function is used to test the accuracy of the system by seeing if the matching artist is \n",
    "    within the top xAmount scores.\n",
    "    \n",
    "    The value of scoreType determines how the list is sorted: \n",
    "        a value of 'Original' sorts by the original score\n",
    "        a value of 'MFCC' sorts by the MFCC score\n",
    "        a value of 'MelSpec' sorts by the Mel Spec score\n",
    "    '''\n",
    "    \n",
    "    # Set the value for sorting the results\n",
    "    if scoreType=='Original':\n",
    "        idx = 1\n",
    "    if scoreType=='MFCC':\n",
    "        idx = 2\n",
    "    if scoreType=='MelSpec':\n",
    "        idx = 3\n",
    "       \n",
    "    # Initialize variables\n",
    "    amountCorrect = 0\n",
    "    totalSongs = len(singerPairingsTotal)\n",
    "    \n",
    "    # Loop through the singerPairingsTotal database \n",
    "    for querySinger, resultsSingersAndScores in singerPairingsTotal.items():\n",
    "        \n",
    "        # Sort the values by the second entry of the tuple\n",
    "        resultsSingersAndScores.sort(key=operator.itemgetter(idx))\n",
    "        \n",
    "        # Loop through the resultsSingersAndScores as many times as specified by the user.\n",
    "        for i in range(xAmount):\n",
    "            \n",
    "            singer = resultsSingersAndScores[i][0]\n",
    "            \n",
    "            if singer == querySinger:\n",
    "                amountCorrect += 1\n",
    "                print('score was in the top', xAmount, 'for: ', querySinger)\n",
    "        \n",
    "    return amountCorrect/totalSongs"
   ]
  },
  {
   "cell_type": "code",
   "execution_count": 25,
   "metadata": {},
   "outputs": [],
   "source": [
    "def accuracyTestAllMetrics(singerPairingsTotal, xAmount):\n",
    "    \n",
    "    '''\n",
    "    This function is used to test the accuracy of the system by seeing if the matching artist is \n",
    "    within the top xAmount MFCC scores or the original scores or the Mel Spec scores. \n",
    "    '''\n",
    "    \n",
    "    # Initialize variables\n",
    "    amountCorrect = 0\n",
    "    totalSongs = len(singerPairingsTotal)\n",
    "    \n",
    "    # Loop through the singerPairingsTotal database \n",
    "    for querySinger, resultsSingersAndScores in singerPairingsTotal.items():\n",
    "        \n",
    "        # Sort the values by the second entry of the tuple\n",
    "        \n",
    "        # Loop through the resultsSingersAndScores as many times as specified by the user.\n",
    "        for i in range(xAmount):\n",
    "            resultsSingersAndScores.sort(key=operator.itemgetter(1))\n",
    "            \n",
    "            singer = resultsSingersAndScores[i][0]\n",
    "\n",
    "            resultsSingersAndScores.sort(key=operator.itemgetter(2))\n",
    "\n",
    "            singerMFCC = resultsSingersAndScores[i][0]\n",
    "            \n",
    "            resultsSingersAndScores.sort(key=operator.itemgetter(3))\n",
    "\n",
    "            singerMelSpec = resultsSingersAndScores[i][0]\n",
    "\n",
    "            if singer == querySinger or singerMFCC==querySinger or singerMelSpec==querySinger:\n",
    "                amountCorrect += 1\n",
    "                print('score was a one to one match for: ', querySinger)\n",
    "                break \n",
    "            \n",
    "    return amountCorrect/totalSongs"
   ]
  },
  {
   "cell_type": "code",
   "execution_count": 26,
   "metadata": {
    "scrolled": false
   },
   "outputs": [
    {
     "name": "stdout",
     "output_type": "stream",
     "text": [
      "score was in the top 1 for:  Kailee\n",
      "score was in the top 1 for:  Mario\n",
      "score was in the top 1 for:  Kaitlyn\n",
      "score was in the top 1 for:  Gary\n",
      "score was in the top 1 for:  Djassi\n",
      "score was in the top 1 for:  Chris\n"
     ]
    }
   ],
   "source": [
    "accuracyTop1 = accuracyTestAll(singerPairingsTotal,1,scoreType='Original')"
   ]
  },
  {
   "cell_type": "code",
   "execution_count": 27,
   "metadata": {},
   "outputs": [
    {
     "name": "stdout",
     "output_type": "stream",
     "text": [
      "0.25\n"
     ]
    }
   ],
   "source": [
    "print(accuracyTop1)"
   ]
  },
  {
   "cell_type": "code",
   "execution_count": 28,
   "metadata": {
    "scrolled": true
   },
   "outputs": [
    {
     "name": "stdout",
     "output_type": "stream",
     "text": [
      "score was in the top 1 for:  Kailee\n",
      "score was in the top 1 for:  Kai\n",
      "score was in the top 1 for:  Kevin\n",
      "score was in the top 1 for:  Lucy\n",
      "score was in the top 1 for:  Gary\n",
      "score was in the top 1 for:  Mason\n",
      "score was in the top 1 for:  AaronT\n",
      "score was in the top 1 for:  Chris\n",
      "score was in the top 1 for:  Gabe\n"
     ]
    }
   ],
   "source": [
    "accuracyTop1MFCCs = accuracyTestAll(singerPairingsTotal,1,scoreType='MFCC')"
   ]
  },
  {
   "cell_type": "code",
   "execution_count": 29,
   "metadata": {},
   "outputs": [
    {
     "name": "stdout",
     "output_type": "stream",
     "text": [
      "0.375\n"
     ]
    }
   ],
   "source": [
    "print(accuracyTop1MFCCs)"
   ]
  },
  {
   "cell_type": "code",
   "execution_count": 30,
   "metadata": {},
   "outputs": [
    {
     "name": "stdout",
     "output_type": "stream",
     "text": [
      "score was in the top 1 for:  Rachel\n"
     ]
    }
   ],
   "source": [
    "accuracyTop1MelSpec = accuracyTestAll(singerPairingsTotal,1,scoreType='MelSpec')"
   ]
  },
  {
   "cell_type": "code",
   "execution_count": 31,
   "metadata": {},
   "outputs": [
    {
     "name": "stdout",
     "output_type": "stream",
     "text": [
      "0.041666666666666664\n"
     ]
    }
   ],
   "source": [
    "print(accuracyTop1MelSpec)"
   ]
  },
  {
   "cell_type": "code",
   "execution_count": 32,
   "metadata": {
    "scrolled": false
   },
   "outputs": [
    {
     "name": "stdout",
     "output_type": "stream",
     "text": [
      "score was a one to one match for:  Kailee\n",
      "score was a one to one match for:  Kai\n",
      "score was a one to one match for:  Mario\n",
      "score was a one to one match for:  Kaitlyn\n",
      "score was a one to one match for:  Rachel\n",
      "score was a one to one match for:  Kevin\n",
      "score was a one to one match for:  Lucy\n",
      "score was a one to one match for:  Gary\n",
      "score was a one to one match for:  Mason\n",
      "score was a one to one match for:  AaronT\n",
      "score was a one to one match for:  Djassi\n",
      "score was a one to one match for:  Chris\n",
      "score was a one to one match for:  Gabe\n"
     ]
    }
   ],
   "source": [
    "allThreeMetricsAccuracy = accuracyTestAllMetrics(singerPairingsTotal, 1)"
   ]
  },
  {
   "cell_type": "code",
   "execution_count": 33,
   "metadata": {
    "scrolled": true
   },
   "outputs": [
    {
     "name": "stdout",
     "output_type": "stream",
     "text": [
      "0.5416666666666666\n"
     ]
    }
   ],
   "source": [
    "print(allThreeMetricsAccuracy)"
   ]
  },
  {
   "cell_type": "markdown",
   "metadata": {},
   "source": [
    "## Male Only Testing"
   ]
  },
  {
   "cell_type": "markdown",
   "metadata": {},
   "source": [
    "After further analysis, we realized that the males and female sung the notes we asked them to at different ranges. The males sang at C3-C4, but the females sang at C4 to C5. We analyze the difference below:\n"
   ]
  },
  {
   "cell_type": "code",
   "execution_count": 34,
   "metadata": {},
   "outputs": [],
   "source": [
    "db_ScalesMales = constructDatabase('scales_male') # note that this may take a minute or so to run"
   ]
  },
  {
   "cell_type": "code",
   "execution_count": 35,
   "metadata": {},
   "outputs": [],
   "source": [
    "with open('db_ScalesMales.pkl','wb') as scalesMales:\n",
    "    pickle.dump(db_ScalesMales, scalesMales)"
   ]
  },
  {
   "cell_type": "code",
   "execution_count": 36,
   "metadata": {},
   "outputs": [],
   "source": [
    "with open('db_ScalesMales.pkl','rb') as scalesMales:\n",
    "    db_ScalesMales = pickle.load(scalesMales)"
   ]
  },
  {
   "cell_type": "code",
   "execution_count": 37,
   "metadata": {},
   "outputs": [],
   "source": [
    "db_JingleBellsMales = constructDatabase('song_male') # note that this may take a minute or so to run"
   ]
  },
  {
   "cell_type": "code",
   "execution_count": 38,
   "metadata": {},
   "outputs": [],
   "source": [
    "with open('db_JingleBellsMales.pkl','wb') as JingleBellsMales:\n",
    "    pickle.dump(db_JingleBellsMales, JingleBellsMales)"
   ]
  },
  {
   "cell_type": "code",
   "execution_count": 39,
   "metadata": {},
   "outputs": [],
   "source": [
    "with open('db_JingleBellsMales.pkl','rb') as JingleBellsMales:\n",
    "    db_JingleBellsMales = pickle.load(JingleBellsMales)"
   ]
  },
  {
   "cell_type": "code",
   "execution_count": 40,
   "metadata": {},
   "outputs": [],
   "source": [
    "midiNotesMales = np.array([48, 50, 52, 53, 55, 57, 59, 60]) # This list contains the midi values for notes C3 to C4 aka 48 to 60, skipping sharps"
   ]
  },
  {
   "cell_type": "code",
   "execution_count": 41,
   "metadata": {
    "scrolled": false
   },
   "outputs": [],
   "source": [
    "db_TemplatesMales = getAudioTemplatesNMF(db_ScalesMales, midiNotesMales)"
   ]
  },
  {
   "cell_type": "code",
   "execution_count": 42,
   "metadata": {
    "scrolled": true
   },
   "outputs": [
    {
     "name": "stdout",
     "output_type": "stream",
     "text": [
      "Query Artist Name:  Kai\n",
      "Template Name:  AaronT\n",
      " Original Score:  0.21014591308181446  MFCC Score:  729.7727735950674  Mel Spec Score:  154374508.18022206\n",
      "Template Name:  Shiv\n",
      " Original Score:  0.2049526153430542  MFCC Score:  721.4475829163256  Mel Spec Score:  146746987.89336696\n",
      "Template Name:  Kevin\n",
      " Original Score:  0.2224021496480129  MFCC Score:  744.0400172715819  Mel Spec Score:  195085252.8830864\n",
      "Template Name:  Mason\n",
      " Original Score:  0.19451845498714534  MFCC Score:  759.9910137360501  Mel Spec Score:  216899007.27301666\n",
      "Template Name:  Gary\n",
      " Original Score:  0.1784210366810998  MFCC Score:  756.4973975657683  Mel Spec Score:  133730467.92771848\n",
      "Template Name:  Djassi\n",
      " Original Score:  0.17162672054291472  MFCC Score:  748.6333116648005  Mel Spec Score:  150737896.69782212\n",
      "Template Name:  Mario\n",
      " Original Score:  0.18557370593832728  MFCC Score:  784.050987593942  Mel Spec Score:  172710619.81507263\n",
      "Template Name:  Abtin\n",
      " Original Score:  0.20457727672760445  MFCC Score:  759.2141316111299  Mel Spec Score:  207824882.84782803\n",
      "Template Name:  Gabe\n",
      " Original Score:  0.20037682474424157  MFCC Score:  757.8639462704671  Mel Spec Score:  166156638.74616984\n",
      "Template Name:  Kai\n",
      " Original Score:  0.1944331299338404  MFCC Score:  700.5403206039034  Mel Spec Score:  173920631.1354371\n",
      "Template Name:  Chris\n",
      " Original Score:  0.19993313198903725  MFCC Score:  794.7129731428062  Mel Spec Score:  167541442.82298902\n",
      "Best Template Match via Original Score:  Djassi   0.17162672054291472\n",
      "Best Template Match via MFCC Score:  Kai   700.5403206039034\n",
      "Best Template Match via Mel Spec Score:  Gary   133730467.92771848\n",
      "Query Artist Name:  Shiv\n",
      "Template Name:  AaronT\n",
      " Original Score:  0.1391345257799207  MFCC Score:  625.8336097011351  Mel Spec Score:  159391006.60189852\n",
      "Template Name:  Shiv\n",
      " Original Score:  0.1225333522857802  MFCC Score:  529.0410432081673  Mel Spec Score:  152613421.36682218\n",
      "Template Name:  Kevin\n",
      " Original Score:  0.14714077435973733  MFCC Score:  654.7179681421976  Mel Spec Score:  202207977.70587465\n",
      "Template Name:  Mason\n",
      " Original Score:  0.12929762795656338  MFCC Score:  554.3842468218513  Mel Spec Score:  225477719.5693455\n",
      "Template Name:  Gary\n",
      " Original Score:  0.09630117587883846  MFCC Score:  462.3221293237994  Mel Spec Score:  139237884.90464777\n",
      "Template Name:  Djassi\n",
      " Original Score:  0.10205549685050437  MFCC Score:  473.24328043601855  Mel Spec Score:  156787318.0263811\n",
      "Template Name:  Mario\n",
      " Original Score:  0.10909752173531022  MFCC Score:  488.9439500038303  Mel Spec Score:  179405435.1099748\n",
      "Template Name:  Abtin\n",
      " Original Score:  0.1201371177229012  MFCC Score:  606.3802440323575  Mel Spec Score:  216340191.9114652\n",
      "Template Name:  Gabe\n",
      " Original Score:  0.11978048911648514  MFCC Score:  526.4774427380421  Mel Spec Score:  172724371.4325305\n",
      "Template Name:  Kai\n",
      " Original Score:  0.13337927753558523  MFCC Score:  615.4712029948327  Mel Spec Score:  180346902.71399248\n",
      "Template Name:  Chris\n",
      " Original Score:  0.12907209968926556  MFCC Score:  601.3074028243253  Mel Spec Score:  174048487.18853575\n",
      "Best Template Match via Original Score:  Gary   0.09630117587883846\n",
      "Best Template Match via MFCC Score:  Gary   462.3221293237994\n",
      "Best Template Match via Mel Spec Score:  Gary   139237884.90464777\n",
      "Query Artist Name:  Mario\n",
      "Template Name:  AaronT\n",
      " Original Score:  0.1538375644029106  MFCC Score:  708.5581125092826  Mel Spec Score:  175359212.3595191\n",
      "Template Name:  Shiv\n",
      " Original Score:  0.1490885010144151  MFCC Score:  663.9912442367736  Mel Spec Score:  166359107.94353855\n",
      "Template Name:  Kevin\n",
      " Original Score:  0.15986333804244127  MFCC Score:  699.1082995140787  Mel Spec Score:  222233547.65416175\n",
      "Template Name:  Mason\n",
      " Original Score:  0.12980932006838258  MFCC Score:  597.2354230342222  Mel Spec Score:  247518985.25389844\n",
      "Template Name:  Gary\n",
      " Original Score:  0.1066612936231838  MFCC Score:  506.1654950266602  Mel Spec Score:  152291112.26486048\n",
      "Template Name:  Djassi\n",
      " Original Score:  0.10058615689011258  MFCC Score:  484.4565107387504  Mel Spec Score:  171904282.43093365\n",
      "Template Name:  Mario\n",
      " Original Score:  0.09443491021365162  MFCC Score:  514.7258006588806  Mel Spec Score:  197358895.89125314\n",
      "Template Name:  Abtin\n",
      " Original Score:  0.14631480807687006  MFCC Score:  647.9910755257722  Mel Spec Score:  236823830.29849795\n",
      "Template Name:  Gabe\n",
      " Original Score:  0.13350022735837425  MFCC Score:  552.1527343042354  Mel Spec Score:  189538846.22026685\n",
      "Template Name:  Kai\n",
      " Original Score:  0.1435057798494112  MFCC Score:  620.0369717397584  Mel Spec Score:  197286586.3839381\n",
      "Template Name:  Chris\n",
      " Original Score:  0.1442092089100015  MFCC Score:  700.1291355775601  Mel Spec Score:  191051497.62890163\n",
      "Best Template Match via Original Score:  Mario   0.09443491021365162\n",
      "Best Template Match via MFCC Score:  Djassi   484.4565107387504\n",
      "Best Template Match via Mel Spec Score:  Gary   152291112.26486048\n",
      "Query Artist Name:  Kevin\n",
      "Template Name:  AaronT\n",
      " Original Score:  0.37525011965279104  MFCC Score:  1014.2094620340088  Mel Spec Score:  160689743.89548096\n",
      "Template Name:  Shiv\n",
      " Original Score:  0.343911033730904  MFCC Score:  1019.515860096523  Mel Spec Score:  152612282.40894145\n",
      "Template Name:  Kevin\n",
      " Original Score:  0.3641169971418064  MFCC Score:  931.5984427518723  Mel Spec Score:  203921948.64657277\n",
      "Template Name:  Mason\n",
      " Original Score:  0.34681966143089793  MFCC Score:  1107.0249281852307  Mel Spec Score:  225241455.78212622\n",
      "Template Name:  Gary\n",
      " Original Score:  0.3339646726844514  MFCC Score:  1136.508031419391  Mel Spec Score:  138631162.95385298\n",
      "Template Name:  Djassi\n",
      " Original Score:  0.33248002049419  MFCC Score:  1252.8361221599953  Mel Spec Score:  156592060.88139933\n",
      "Template Name:  Mario\n",
      " Original Score:  0.3757253254711215  MFCC Score:  1257.0641430969413  Mel Spec Score:  178894091.98481008\n",
      "Template Name:  Abtin\n",
      " Original Score:  0.3649087107759081  MFCC Score:  1181.5794049710958  Mel Spec Score:  216252640.86450455\n",
      "Template Name:  Gabe\n",
      " Original Score:  0.3784132894443672  MFCC Score:  1161.8515557322053  Mel Spec Score:  172921749.18011326\n",
      "Template Name:  Kai\n",
      " Original Score:  0.3624331048503645  MFCC Score:  1128.1387598659658  Mel Spec Score:  179859836.4389263\n",
      "Template Name:  Chris\n",
      " Original Score:  0.3703588843776583  MFCC Score:  1048.2826074023415  Mel Spec Score:  174418468.65879044\n",
      "Best Template Match via Original Score:  Djassi   0.33248002049419\n",
      "Best Template Match via MFCC Score:  Kevin   931.5984427518723\n",
      "Best Template Match via Mel Spec Score:  Gary   138631162.95385298\n",
      "Query Artist Name:  Abtin\n",
      "Template Name:  AaronT\n",
      " Original Score:  0.1852187542349598  MFCC Score:  745.2230627024982  Mel Spec Score:  172656287.98280725\n",
      "Template Name:  Shiv\n",
      " Original Score:  0.19078972835535668  MFCC Score:  754.6464404526845  Mel Spec Score:  164877623.35859042\n",
      "Template Name:  Kevin\n",
      " Original Score:  0.1946191140753744  MFCC Score:  774.3145452654976  Mel Spec Score:  219321589.25287023\n",
      "Template Name:  Mason\n",
      " Original Score:  0.17107232506938844  MFCC Score:  738.6638229433494  Mel Spec Score:  243836806.04453126\n",
      "Template Name:  Gary\n",
      " Original Score:  0.16514532192830905  MFCC Score:  686.9293897145484  Mel Spec Score:  150205323.56742123\n",
      "Template Name:  Djassi\n",
      " Original Score:  0.16814934853907712  MFCC Score:  641.7577216168753  Mel Spec Score:  169428431.27935606\n",
      "Template Name:  Mario\n",
      " Original Score:  0.17238435528084592  MFCC Score:  662.5589847537265  Mel Spec Score:  193313973.6692564\n",
      "Template Name:  Abtin\n",
      " Original Score:  0.1871860817653073  MFCC Score:  788.0328015285301  Mel Spec Score:  234563377.57634166\n",
      "Template Name:  Gabe\n",
      " Original Score:  0.18941850548693523  MFCC Score:  742.2155464131673  Mel Spec Score:  187911014.27383283\n",
      "Template Name:  Kai\n",
      " Original Score:  0.1875245433053463  MFCC Score:  773.148945560592  Mel Spec Score:  193768749.68417746\n",
      "Template Name:  Chris\n",
      " Original Score:  0.19638811065010908  MFCC Score:  863.9870853833971  Mel Spec Score:  188410022.24981105\n",
      "Best Template Match via Original Score:  Gary   0.16514532192830905\n",
      "Best Template Match via MFCC Score:  Djassi   641.7577216168753\n",
      "Best Template Match via Mel Spec Score:  Gary   150205323.56742123\n",
      "Query Artist Name:  Gary\n",
      "Template Name:  AaronT\n",
      " Original Score:  2.03202367332138  MFCC Score:  1409.8808638383443  Mel Spec Score:  154369562.63528663\n",
      "Template Name:  Shiv\n",
      " Original Score:  1.969697687530703  MFCC Score:  1460.2678489918158  Mel Spec Score:  148200774.1904619\n"
     ]
    },
    {
     "name": "stdout",
     "output_type": "stream",
     "text": [
      "Template Name:  Kevin\n",
      " Original Score:  2.147492553719593  MFCC Score:  1643.1884951124584  Mel Spec Score:  196737655.88854855\n",
      "Template Name:  Mason\n",
      " Original Score:  1.6528181466608474  MFCC Score:  1254.876928753307  Mel Spec Score:  219726292.7093115\n",
      "Template Name:  Gary\n",
      " Original Score:  1.193039614585893  MFCC Score:  1198.192564898895  Mel Spec Score:  136893028.09280536\n",
      "Template Name:  Djassi\n",
      " Original Score:  1.4488466085769842  MFCC Score:  1553.704750384587  Mel Spec Score:  152414830.95168382\n",
      "Template Name:  Mario\n",
      " Original Score:  1.650485171208216  MFCC Score:  1657.5830564675464  Mel Spec Score:  174045646.91648838\n",
      "Template Name:  Abtin\n",
      " Original Score:  1.8169095010871688  MFCC Score:  1414.7771279707767  Mel Spec Score:  211845511.97186133\n",
      "Template Name:  Gabe\n",
      " Original Score:  1.7501991101491816  MFCC Score:  1248.4640773797232  Mel Spec Score:  169556395.07310477\n",
      "Template Name:  Kai\n",
      " Original Score:  1.8976854232491542  MFCC Score:  1393.1439833067595  Mel Spec Score:  174247281.84626308\n",
      "Template Name:  Chris\n",
      " Original Score:  1.9823974388582979  MFCC Score:  1440.190101817835  Mel Spec Score:  169994479.00448173\n",
      "Best Template Match via Original Score:  Gary   1.193039614585893\n",
      "Best Template Match via MFCC Score:  Gary   1198.192564898895\n",
      "Best Template Match via Mel Spec Score:  Gary   136893028.09280536\n",
      "Query Artist Name:  Mason\n",
      "Template Name:  AaronT\n",
      " Original Score:  1.9941874580684258  MFCC Score:  1532.119233021142  Mel Spec Score:  167007619.31875274\n",
      "Template Name:  Shiv\n",
      " Original Score:  2.010549672499996  MFCC Score:  1578.1467800797307  Mel Spec Score:  158735823.41353825\n",
      "Template Name:  Kevin\n",
      " Original Score:  1.999090085795856  MFCC Score:  1565.3293780089284  Mel Spec Score:  212352443.59846714\n",
      "Template Name:  Mason\n",
      " Original Score:  1.5993883019215562  MFCC Score:  965.0412682768747  Mel Spec Score:  237518712.33517027\n",
      "Template Name:  Gary\n",
      " Original Score:  1.5547687857611197  MFCC Score:  1140.4574101410826  Mel Spec Score:  145903466.0975485\n",
      "Template Name:  Djassi\n",
      " Original Score:  1.7167476928672096  MFCC Score:  1303.13509775019  Mel Spec Score:  164501892.36676374\n",
      "Template Name:  Mario\n",
      " Original Score:  1.8620790737193178  MFCC Score:  1740.120067704909  Mel Spec Score:  187655281.66820115\n",
      "Template Name:  Abtin\n",
      " Original Score:  1.823183223134706  MFCC Score:  1338.9957220795632  Mel Spec Score:  226804995.96716878\n",
      "Template Name:  Gabe\n",
      " Original Score:  1.618085836795977  MFCC Score:  1249.1141119066262  Mel Spec Score:  181668502.3269633\n",
      "Template Name:  Kai\n",
      " Original Score:  1.861084922681275  MFCC Score:  1548.285000648651  Mel Spec Score:  187330109.81741616\n",
      "Template Name:  Chris\n",
      " Original Score:  1.9115106412093552  MFCC Score:  1534.4555822893553  Mel Spec Score:  182200387.3728629\n",
      "Best Template Match via Original Score:  Gary   1.5547687857611197\n",
      "Best Template Match via MFCC Score:  Mason   965.0412682768747\n",
      "Best Template Match via Mel Spec Score:  Gary   145903466.0975485\n",
      "Query Artist Name:  AaronT\n",
      "Template Name:  AaronT\n",
      " Original Score:  0.24311503134804532  MFCC Score:  769.2763635240195  Mel Spec Score:  150461563.9335731\n",
      "Template Name:  Shiv\n",
      " Original Score:  0.2619964881354654  MFCC Score:  806.3202741952571  Mel Spec Score:  142776144.94976833\n",
      "Template Name:  Kevin\n",
      " Original Score:  0.2561032924314423  MFCC Score:  820.7028800788391  Mel Spec Score:  190326344.16976625\n",
      "Template Name:  Mason\n",
      " Original Score:  0.24587711293010264  MFCC Score:  941.8982267443836  Mel Spec Score:  210607158.39272344\n",
      "Template Name:  Gary\n",
      " Original Score:  0.2549004305173614  MFCC Score:  992.4844309815625  Mel Spec Score:  129730498.13430199\n",
      "Template Name:  Djassi\n",
      " Original Score:  0.2573822736458386  MFCC Score:  896.4204533296727  Mel Spec Score:  146283549.48433548\n",
      "Template Name:  Mario\n",
      " Original Score:  0.26696530520147466  MFCC Score:  936.1226731111793  Mel Spec Score:  167200451.03945377\n",
      "Template Name:  Abtin\n",
      " Original Score:  0.26931258828899635  MFCC Score:  927.602129976912  Mel Spec Score:  202585847.62692252\n",
      "Template Name:  Gabe\n",
      " Original Score:  0.2755100747055062  MFCC Score:  918.152507260192  Mel Spec Score:  161974056.9913848\n",
      "Template Name:  Kai\n",
      " Original Score:  0.25855875152128394  MFCC Score:  908.2664867749861  Mel Spec Score:  168544010.96430233\n",
      "Template Name:  Chris\n",
      " Original Score:  0.2651652437734397  MFCC Score:  968.998764533628  Mel Spec Score:  162792409.85031366\n",
      "Best Template Match via Original Score:  AaronT   0.24311503134804532\n",
      "Best Template Match via MFCC Score:  AaronT   769.2763635240195\n",
      "Best Template Match via Mel Spec Score:  Gary   129730498.13430199\n",
      "Query Artist Name:  Djassi\n",
      "Template Name:  AaronT\n",
      " Original Score:  0.1981291186034093  MFCC Score:  658.0484591348917  Mel Spec Score:  155502904.4753318\n",
      "Template Name:  Shiv\n",
      " Original Score:  0.1853098326729852  MFCC Score:  653.1856184903318  Mel Spec Score:  148241487.75365618\n",
      "Template Name:  Kevin\n",
      " Original Score:  0.2058326615416414  MFCC Score:  712.7226592267349  Mel Spec Score:  197522151.5154567\n",
      "Template Name:  Mason\n",
      " Original Score:  0.15961868273269683  MFCC Score:  411.1407440159042  Mel Spec Score:  221012161.9862357\n",
      "Template Name:  Gary\n",
      " Original Score:  0.12165098709645998  MFCC Score:  344.0884374211918  Mel Spec Score:  135808992.5735925\n",
      "Template Name:  Djassi\n",
      " Original Score:  0.10831640856474077  MFCC Score:  436.2710471901136  Mel Spec Score:  153760551.29338357\n",
      "Template Name:  Mario\n",
      " Original Score:  0.13113472955601288  MFCC Score:  447.60665340358156  Mel Spec Score:  175364325.64363387\n",
      "Template Name:  Abtin\n",
      " Original Score:  0.18297847529939076  MFCC Score:  583.4100605300285  Mel Spec Score:  211595108.19630688\n",
      "Template Name:  Gabe\n",
      " Original Score:  0.17313136889073924  MFCC Score:  501.7954698824602  Mel Spec Score:  169302612.88515535\n",
      "Template Name:  Kai\n",
      " Original Score:  0.18667168909429777  MFCC Score:  569.5652776933163  Mel Spec Score:  174918839.7666535\n",
      "Template Name:  Chris\n",
      " Original Score:  0.19321770017035383  MFCC Score:  676.3648385710486  Mel Spec Score:  169735700.7374565\n",
      "Best Template Match via Original Score:  Djassi   0.10831640856474077\n",
      "Best Template Match via MFCC Score:  Gary   344.0884374211918\n",
      "Best Template Match via Mel Spec Score:  Gary   135808992.5735925\n",
      "Query Artist Name:  Chris\n",
      "Template Name:  AaronT\n",
      " Original Score:  0.20715775638622935  MFCC Score:  833.6977392314981  Mel Spec Score:  158303000.57972986\n",
      "Template Name:  Shiv\n",
      " Original Score:  0.2014182111823201  MFCC Score:  789.2864548410622  Mel Spec Score:  150701589.30993286\n",
      "Template Name:  Kevin\n",
      " Original Score:  0.2218774705301873  MFCC Score:  831.3945767908543  Mel Spec Score:  200760831.0282691\n",
      "Template Name:  Mason\n",
      " Original Score:  0.20360681663189256  MFCC Score:  854.3081712082716  Mel Spec Score:  222515029.43493643\n",
      "Template Name:  Gary\n",
      " Original Score:  0.19713869340146253  MFCC Score:  878.5251420360754  Mel Spec Score:  137481766.21491224\n",
      "Template Name:  Djassi\n",
      " Original Score:  0.20737359564229738  MFCC Score:  874.097666660105  Mel Spec Score:  154491793.9270324\n",
      "Template Name:  Mario\n",
      " Original Score:  0.20742042155674284  MFCC Score:  924.0277393462804  Mel Spec Score:  176636851.83733383\n",
      "Template Name:  Abtin\n",
      " Original Score:  0.21269815618419866  MFCC Score:  847.7771330306815  Mel Spec Score:  214111130.97438127\n",
      "Template Name:  Gabe\n",
      " Original Score:  0.20192717587608586  MFCC Score:  784.4201213202771  Mel Spec Score:  171570301.21358567\n",
      "Template Name:  Kai\n",
      " Original Score:  0.20498613761189796  MFCC Score:  847.7850236006791  Mel Spec Score:  177521460.23461932\n",
      "Template Name:  Chris\n",
      " Original Score:  0.1790443550760753  MFCC Score:  686.0110617406758  Mel Spec Score:  172896586.9717838\n",
      "Best Template Match via Original Score:  Chris   0.1790443550760753\n",
      "Best Template Match via MFCC Score:  Chris   686.0110617406758\n",
      "Best Template Match via Mel Spec Score:  Gary   137481766.21491224\n",
      "Query Artist Name:  Gabe\n",
      "Template Name:  AaronT\n",
      " Original Score:  0.4304830553258227  MFCC Score:  1031.179157580064  Mel Spec Score:  149758648.60281438\n",
      "Template Name:  Shiv\n",
      " Original Score:  0.45394980753448855  MFCC Score:  1056.3818321565382  Mel Spec Score:  143340453.42297518\n",
      "Template Name:  Kevin\n",
      " Original Score:  0.43602419781347396  MFCC Score:  1178.8956549798804  Mel Spec Score:  190760664.1194663\n",
      "Template Name:  Mason\n",
      " Original Score:  0.3856945345661919  MFCC Score:  906.8228550206072  Mel Spec Score:  211954275.3718084\n"
     ]
    },
    {
     "name": "stdout",
     "output_type": "stream",
     "text": [
      "Template Name:  Gary\n",
      " Original Score:  0.3900326614020746  MFCC Score:  979.330421544902  Mel Spec Score:  131135802.11660299\n",
      "Template Name:  Djassi\n",
      " Original Score:  0.4001982814596349  MFCC Score:  972.3613446977521  Mel Spec Score:  147243532.696955\n",
      "Template Name:  Mario\n",
      " Original Score:  0.39335488626830667  MFCC Score:  1002.5119721550172  Mel Spec Score:  168047046.38841024\n",
      "Template Name:  Abtin\n",
      " Original Score:  0.4049078083529375  MFCC Score:  898.3974533504953  Mel Spec Score:  204674004.348372\n",
      "Template Name:  Gabe\n",
      " Original Score:  0.4192630194735966  MFCC Score:  825.1560388734665  Mel Spec Score:  164616307.28045487\n",
      "Template Name:  Kai\n",
      " Original Score:  0.44973663560972565  MFCC Score:  1098.6348926171804  Mel Spec Score:  168099367.11088094\n",
      "Template Name:  Chris\n",
      " Original Score:  0.44715989378705323  MFCC Score:  1078.7354936405432  Mel Spec Score:  164136153.65140522\n",
      "Best Template Match via Original Score:  Mason   0.3856945345661919\n",
      "Best Template Match via MFCC Score:  Gabe   825.1560388734665\n",
      "Best Template Match via Mel Spec Score:  Gary   131135802.11660299\n"
     ]
    }
   ],
   "source": [
    "singerPairingsTotalMales = calculateSingerStoreAll(db_JingleBellsMales, db_TemplatesMales, db_ScalesMales)"
   ]
  },
  {
   "cell_type": "code",
   "execution_count": 43,
   "metadata": {
    "scrolled": true
   },
   "outputs": [
    {
     "name": "stdout",
     "output_type": "stream",
     "text": [
      "score was in the top 1 for:  Mario\n",
      "score was in the top 1 for:  Gary\n",
      "score was in the top 1 for:  AaronT\n",
      "score was in the top 1 for:  Djassi\n",
      "score was in the top 1 for:  Chris\n"
     ]
    }
   ],
   "source": [
    "accuracyTop1Males = accuracyTestAll(singerPairingsTotalMales,1,scoreType='Original')"
   ]
  },
  {
   "cell_type": "code",
   "execution_count": 44,
   "metadata": {},
   "outputs": [
    {
     "name": "stdout",
     "output_type": "stream",
     "text": [
      "0.45454545454545453\n"
     ]
    }
   ],
   "source": [
    "print(accuracyTop1Males)"
   ]
  },
  {
   "cell_type": "code",
   "execution_count": 45,
   "metadata": {
    "scrolled": true
   },
   "outputs": [
    {
     "name": "stdout",
     "output_type": "stream",
     "text": [
      "score was in the top 1 for:  Kai\n",
      "score was in the top 1 for:  Kevin\n",
      "score was in the top 1 for:  Gary\n",
      "score was in the top 1 for:  Mason\n",
      "score was in the top 1 for:  AaronT\n",
      "score was in the top 1 for:  Chris\n",
      "score was in the top 1 for:  Gabe\n"
     ]
    }
   ],
   "source": [
    "accuracyTop1MFCCsMales = accuracyTestAll(singerPairingsTotalMales,1,scoreType='MFCC')"
   ]
  },
  {
   "cell_type": "code",
   "execution_count": 46,
   "metadata": {},
   "outputs": [
    {
     "name": "stdout",
     "output_type": "stream",
     "text": [
      "0.6363636363636364\n"
     ]
    }
   ],
   "source": [
    "print(accuracyTop1MFCCsMales)"
   ]
  },
  {
   "cell_type": "code",
   "execution_count": 47,
   "metadata": {},
   "outputs": [
    {
     "name": "stdout",
     "output_type": "stream",
     "text": [
      "score was in the top 1 for:  Gary\n"
     ]
    }
   ],
   "source": [
    "accuracyTop1MelSpecMales = accuracyTestAll(singerPairingsTotalMales,1,scoreType='MelSpec')"
   ]
  },
  {
   "cell_type": "code",
   "execution_count": 48,
   "metadata": {},
   "outputs": [
    {
     "name": "stdout",
     "output_type": "stream",
     "text": [
      "0.09090909090909091\n"
     ]
    }
   ],
   "source": [
    "print(accuracyTop1MelSpecMales)"
   ]
  },
  {
   "cell_type": "code",
   "execution_count": 49,
   "metadata": {
    "scrolled": false
   },
   "outputs": [
    {
     "name": "stdout",
     "output_type": "stream",
     "text": [
      "score was a one to one match for:  Kai\n",
      "score was a one to one match for:  Mario\n",
      "score was a one to one match for:  Kevin\n",
      "score was a one to one match for:  Gary\n",
      "score was a one to one match for:  Mason\n",
      "score was a one to one match for:  AaronT\n",
      "score was a one to one match for:  Djassi\n",
      "score was a one to one match for:  Chris\n",
      "score was a one to one match for:  Gabe\n"
     ]
    }
   ],
   "source": [
    "allThreeMetricsAccuracyMales = accuracyTestAllMetrics(singerPairingsTotalMales, 1)"
   ]
  },
  {
   "cell_type": "code",
   "execution_count": 50,
   "metadata": {
    "scrolled": true
   },
   "outputs": [
    {
     "name": "stdout",
     "output_type": "stream",
     "text": [
      "0.8181818181818182\n"
     ]
    }
   ],
   "source": [
    "print(allThreeMetricsAccuracyMales)"
   ]
  },
  {
   "cell_type": "markdown",
   "metadata": {},
   "source": [
    "## Female Only Testing"
   ]
  },
  {
   "cell_type": "code",
   "execution_count": 51,
   "metadata": {},
   "outputs": [],
   "source": [
    "db_ScalesFemales = constructDatabase('scales_female') # note that this may take a minute or so to run"
   ]
  },
  {
   "cell_type": "code",
   "execution_count": 52,
   "metadata": {},
   "outputs": [],
   "source": [
    "with open('db_ScalesFemales.pkl','wb') as scalesFemales:\n",
    "    pickle.dump(db_ScalesFemales, scalesFemales)"
   ]
  },
  {
   "cell_type": "code",
   "execution_count": 53,
   "metadata": {},
   "outputs": [],
   "source": [
    "with open('db_ScalesFemales.pkl','rb') as scalesFemales:\n",
    "    db_ScalesFemales = pickle.load(scalesFemales)"
   ]
  },
  {
   "cell_type": "code",
   "execution_count": 54,
   "metadata": {},
   "outputs": [],
   "source": [
    "db_JingleBellsFemales = constructDatabase('song_female') # note that this may take a minute or so to run"
   ]
  },
  {
   "cell_type": "code",
   "execution_count": 55,
   "metadata": {},
   "outputs": [],
   "source": [
    "with open('db_JingleBellsFemales.pkl','wb') as JingleBellsFemales:\n",
    "    pickle.dump(db_JingleBellsFemales, JingleBellsFemales)"
   ]
  },
  {
   "cell_type": "code",
   "execution_count": 56,
   "metadata": {},
   "outputs": [],
   "source": [
    "with open('db_JingleBellsFemales.pkl','rb') as JingleBellsFemales:\n",
    "    db_JingleBellsFemales = pickle.load(JingleBellsFemales)"
   ]
  },
  {
   "cell_type": "code",
   "execution_count": 57,
   "metadata": {},
   "outputs": [],
   "source": [
    "midiNotesFemales = np.array([60, 62, 64, 65, 67, 69, 71, 72]) # This list contains the midi values for notes C4 to C5 aka 60 to 72, skipping sharps"
   ]
  },
  {
   "cell_type": "code",
   "execution_count": 58,
   "metadata": {
    "scrolled": false
   },
   "outputs": [],
   "source": [
    "db_TemplatesFemales = getAudioTemplatesNMF(db_ScalesFemales, midiNotesFemales)"
   ]
  },
  {
   "cell_type": "code",
   "execution_count": 59,
   "metadata": {
    "scrolled": true
   },
   "outputs": [
    {
     "name": "stdout",
     "output_type": "stream",
     "text": [
      "Query Artist Name:  Isabel\n",
      "Template Name:  Sabrina\n",
      " Original Score:  0.14801294139487473  MFCC Score:  520.1921753460005  Mel Spec Score:  247607119.3691664\n",
      "Template Name:  Cynthia\n",
      " Original Score:  0.15301911578732832  MFCC Score:  598.8434901979398  Mel Spec Score:  164415260.41021636\n",
      "Template Name:  Jane\n",
      " Original Score:  0.14270143801386015  MFCC Score:  432.507739639061  Mel Spec Score:  200772172.2393226\n",
      "Template Name:  Kimi\n",
      " Original Score:  0.13807210583251808  MFCC Score:  448.2707393280592  Mel Spec Score:  193854258.5979238\n",
      "Template Name:  Rachel\n",
      " Original Score:  0.1521586787660821  MFCC Score:  496.7483372593105  Mel Spec Score:  148535208.64886636\n",
      "Template Name:  Maya\n",
      " Original Score:  0.17459330266403428  MFCC Score:  580.8092045607219  Mel Spec Score:  202396394.15901515\n",
      "Template Name:  Lucy\n",
      " Original Score:  0.1347336058708178  MFCC Score:  406.757074621028  Mel Spec Score:  184668194.7745026\n",
      "Template Name:  Kaitlyn\n",
      " Original Score:  0.1446036274199767  MFCC Score:  434.8517363185749  Mel Spec Score:  201018143.18438917\n",
      "Template Name:  Isabel\n",
      " Original Score:  0.15420826502675838  MFCC Score:  538.5824911731537  Mel Spec Score:  185347939.44223866\n",
      "Template Name:  Maria\n",
      " Original Score:  0.16623412960730222  MFCC Score:  520.1942992985219  Mel Spec Score:  212998005.30937517\n",
      "Template Name:  Lilly\n",
      " Original Score:  0.15758414714107097  MFCC Score:  496.46035194603934  Mel Spec Score:  198408977.7047989\n",
      "Template Name:  Annalise\n",
      " Original Score:  0.137688222081384  MFCC Score:  419.5332987751697  Mel Spec Score:  178141172.43664917\n",
      "Template Name:  Kailee\n",
      " Original Score:  0.15360866330811626  MFCC Score:  468.936724174015  Mel Spec Score:  203198125.29567558\n",
      "Best Template Match via Original Score:  Lucy   0.1347336058708178\n",
      "Best Template Match via MFCC Score:  Lucy   406.757074621028\n",
      "Best Template Match via Mel Spec Score:  Rachel   148535208.64886636\n",
      "Query Artist Name:  Cynthia\n",
      "Template Name:  Sabrina\n",
      " Original Score:  1.6450748222999991  MFCC Score:  1264.265610221648  Mel Spec Score:  224138826.78043002\n",
      "Template Name:  Cynthia\n",
      " Original Score:  1.8165915123889844  MFCC Score:  1303.9178837260458  Mel Spec Score:  149193674.52199185\n",
      "Template Name:  Jane\n",
      " Original Score:  1.9177067921648319  MFCC Score:  1638.6637181093731  Mel Spec Score:  181091794.7676957\n",
      "Template Name:  Kimi\n",
      " Original Score:  1.9233877817808047  MFCC Score:  1456.7940841967663  Mel Spec Score:  175800862.40456557\n",
      "Template Name:  Rachel\n",
      " Original Score:  2.0372365264591354  MFCC Score:  1482.2617940705347  Mel Spec Score:  134199617.86678745\n",
      "Template Name:  Maya\n",
      " Original Score:  1.8629345659204786  MFCC Score:  1281.7425136410914  Mel Spec Score:  183086717.0843966\n",
      "Template Name:  Lucy\n",
      " Original Score:  1.9735681689694293  MFCC Score:  1363.5897943898742  Mel Spec Score:  166681283.83790848\n",
      "Template Name:  Kaitlyn\n",
      " Original Score:  1.7725505746693166  MFCC Score:  1613.460144248468  Mel Spec Score:  181664872.51676077\n",
      "Template Name:  Isabel\n",
      " Original Score:  2.131879550082711  MFCC Score:  1737.4413598581236  Mel Spec Score:  167020700.71607468\n",
      "Template Name:  Maria\n",
      " Original Score:  1.9824906266832247  MFCC Score:  1504.9987210058398  Mel Spec Score:  193413152.1362619\n",
      "Template Name:  Lilly\n",
      " Original Score:  1.8883209611567466  MFCC Score:  1741.370296710648  Mel Spec Score:  179184660.57367367\n",
      "Template Name:  Annalise\n",
      " Original Score:  1.9681210417610004  MFCC Score:  1320.8677613008426  Mel Spec Score:  160984684.17115462\n",
      "Template Name:  Kailee\n",
      " Original Score:  2.074231263848301  MFCC Score:  1804.062939853248  Mel Spec Score:  184355978.87247762\n",
      "Best Template Match via Original Score:  Sabrina   1.6450748222999991\n",
      "Best Template Match via MFCC Score:  Sabrina   1264.265610221648\n",
      "Best Template Match via Mel Spec Score:  Rachel   134199617.86678745\n",
      "Query Artist Name:  Kailee\n",
      "Template Name:  Sabrina\n",
      " Original Score:  2.529856594994849  MFCC Score:  1540.4311781380059  Mel Spec Score:  241298532.49397123\n",
      "Template Name:  Cynthia\n",
      " Original Score:  2.1848104757617715  MFCC Score:  1382.6502564739712  Mel Spec Score:  159979187.08301204\n",
      "Template Name:  Jane\n",
      " Original Score:  2.1952801589497097  MFCC Score:  1345.857482233648  Mel Spec Score:  195230103.3573337\n",
      "Template Name:  Kimi\n",
      " Original Score:  2.2773352661627113  MFCC Score:  1486.3452055460282  Mel Spec Score:  188215440.07379642\n",
      "Template Name:  Rachel\n",
      " Original Score:  1.8974698011859072  MFCC Score:  1389.6421220714144  Mel Spec Score:  144103092.36025944\n",
      "Template Name:  Maya\n",
      " Original Score:  2.59844593563662  MFCC Score:  1779.3849887330548  Mel Spec Score:  196476457.39212584\n",
      "Template Name:  Lucy\n",
      " Original Score:  2.1084014325313047  MFCC Score:  1383.3355347316897  Mel Spec Score:  179577880.54796317\n",
      "Template Name:  Kaitlyn\n",
      " Original Score:  2.090738894506973  MFCC Score:  1289.5201144978064  Mel Spec Score:  195645136.60463852\n",
      "Template Name:  Isabel\n",
      " Original Score:  2.606778153729496  MFCC Score:  1529.365183563367  Mel Spec Score:  179577716.72896194\n",
      "Template Name:  Maria\n",
      " Original Score:  2.5008856115460456  MFCC Score:  1327.4841188155685  Mel Spec Score:  208571744.10628408\n",
      "Template Name:  Lilly\n",
      " Original Score:  1.9588744358230963  MFCC Score:  1374.328450034183  Mel Spec Score:  193356762.10215276\n",
      "Template Name:  Annalise\n",
      " Original Score:  2.0406336135836436  MFCC Score:  1331.279666998677  Mel Spec Score:  173104244.4765881\n",
      "Template Name:  Kailee\n",
      " Original Score:  1.840070433886858  MFCC Score:  1260.2866708395738  Mel Spec Score:  198958990.80787075\n",
      "Best Template Match via Original Score:  Kailee   1.840070433886858\n",
      "Best Template Match via MFCC Score:  Kailee   1260.2866708395738\n",
      "Best Template Match via Mel Spec Score:  Rachel   144103092.36025944\n",
      "Query Artist Name:  Maria\n",
      "Template Name:  Sabrina\n",
      " Original Score:  1.038601695996606  MFCC Score:  1076.093578994325  Mel Spec Score:  227908657.5354442\n",
      "Template Name:  Cynthia\n",
      " Original Score:  1.0280040305552196  MFCC Score:  1100.0032953210969  Mel Spec Score:  151104958.53755167\n",
      "Template Name:  Jane\n",
      " Original Score:  0.9783808854331886  MFCC Score:  1033.6040464165885  Mel Spec Score:  184235478.76286834\n",
      "Template Name:  Kimi\n",
      " Original Score:  1.067764104544851  MFCC Score:  1113.8654885841515  Mel Spec Score:  177628975.00282782\n",
      "Template Name:  Rachel\n",
      " Original Score:  1.0261583482433227  MFCC Score:  1062.7841904303716  Mel Spec Score:  135983089.56223688\n",
      "Template Name:  Maya\n",
      " Original Score:  1.1481989710788971  MFCC Score:  1225.7836487328877  Mel Spec Score:  185663754.50792596\n",
      "Template Name:  Lucy\n",
      " Original Score:  1.0182520525081797  MFCC Score:  957.3211858213195  Mel Spec Score:  169115710.28807914\n",
      "Template Name:  Kaitlyn\n",
      " Original Score:  0.896229526488707  MFCC Score:  1015.3511414311895  Mel Spec Score:  184840068.78893048\n",
      "Template Name:  Isabel\n",
      " Original Score:  1.1541527170494261  MFCC Score:  1228.0938027510683  Mel Spec Score:  169294315.11754712\n",
      "Template Name:  Maria\n",
      " Original Score:  0.9944977822066882  MFCC Score:  979.2671318575159  Mel Spec Score:  197216650.65832484\n",
      "Template Name:  Lilly\n",
      " Original Score:  0.9696437710206053  MFCC Score:  1141.4339625085659  Mel Spec Score:  182566519.2391876\n",
      "Template Name:  Annalise\n",
      " Original Score:  1.0561142005018889  MFCC Score:  1002.5636977708275  Mel Spec Score:  163622017.34931043\n",
      "Template Name:  Kailee\n",
      " Original Score:  1.0715064184531933  MFCC Score:  1141.4797637571276  Mel Spec Score:  187666307.7150107\n",
      "Best Template Match via Original Score:  Kaitlyn   0.896229526488707\n",
      "Best Template Match via MFCC Score:  Lucy   957.3211858213195\n",
      "Best Template Match via Mel Spec Score:  Rachel   135983089.56223688\n",
      "Query Artist Name:  Kaitlyn\n",
      "Template Name:  Sabrina\n",
      " Original Score:  0.8311937919313559  MFCC Score:  992.3299079505822  Mel Spec Score:  218121414.93607458\n",
      "Template Name:  Cynthia\n",
      " Original Score:  0.7297956021617175  MFCC Score:  921.4556210033552  Mel Spec Score:  144466936.19988135\n",
      "Template Name:  Jane\n",
      " Original Score:  0.6202916403944843  MFCC Score:  875.3590117315025  Mel Spec Score:  175892568.18663806\n",
      "Template Name:  Kimi\n",
      " Original Score:  0.726567594324961  MFCC Score:  809.6760866460398  Mel Spec Score:  169683532.26371437\n",
      "Template Name:  Rachel\n",
      " Original Score:  0.6061009308212366  MFCC Score:  768.7453729550289  Mel Spec Score:  130004638.8918269\n",
      "Template Name:  Maya\n",
      " Original Score:  0.9195630309298196  MFCC Score:  1186.710439447395  Mel Spec Score:  177667489.03419498\n"
     ]
    },
    {
     "name": "stdout",
     "output_type": "stream",
     "text": [
      "Template Name:  Lucy\n",
      " Original Score:  0.6503613119606512  MFCC Score:  828.7917547250554  Mel Spec Score:  161296275.1537071\n",
      "Template Name:  Kaitlyn\n",
      " Original Score:  0.538545513162292  MFCC Score:  795.0039602597952  Mel Spec Score:  176856013.34499237\n",
      "Template Name:  Isabel\n",
      " Original Score:  0.9444877671355557  MFCC Score:  1132.4282537038405  Mel Spec Score:  162049976.095681\n",
      "Template Name:  Maria\n",
      " Original Score:  0.8944884791346295  MFCC Score:  881.8558962015867  Mel Spec Score:  187819425.47556213\n",
      "Template Name:  Lilly\n",
      " Original Score:  0.5707193428828102  MFCC Score:  862.2080390917798  Mel Spec Score:  174597648.77909154\n",
      "Template Name:  Annalise\n",
      " Original Score:  0.6404036215026845  MFCC Score:  844.5533530780126  Mel Spec Score:  156316358.60799658\n",
      "Template Name:  Kailee\n",
      " Original Score:  0.6581815674334633  MFCC Score:  866.6544090722731  Mel Spec Score:  178680254.71388885\n",
      "Best Template Match via Original Score:  Kaitlyn   0.538545513162292\n",
      "Best Template Match via MFCC Score:  Rachel   768.7453729550289\n",
      "Best Template Match via Mel Spec Score:  Rachel   130004638.8918269\n",
      "Query Artist Name:  Lilly\n",
      "Template Name:  Sabrina\n",
      " Original Score:  0.7302989690331301  MFCC Score:  1151.1584262818074  Mel Spec Score:  234947458.62049386\n",
      "Template Name:  Cynthia\n",
      " Original Score:  0.7262167703209143  MFCC Score:  1114.694192528741  Mel Spec Score:  155538237.52436194\n",
      "Template Name:  Jane\n",
      " Original Score:  0.620085592299322  MFCC Score:  934.6399663949676  Mel Spec Score:  189590829.71547619\n",
      "Template Name:  Kimi\n",
      " Original Score:  0.6251105550429483  MFCC Score:  890.0512518374403  Mel Spec Score:  182749108.8193029\n",
      "Template Name:  Rachel\n",
      " Original Score:  0.6486033022329717  MFCC Score:  943.0323311987366  Mel Spec Score:  139923256.211258\n",
      "Template Name:  Maya\n",
      " Original Score:  0.693515911421413  MFCC Score:  990.9406976329783  Mel Spec Score:  191283370.94281575\n",
      "Template Name:  Lucy\n",
      " Original Score:  0.7210891448050791  MFCC Score:  1224.8813464642678  Mel Spec Score:  174015265.80812275\n",
      "Template Name:  Kaitlyn\n",
      " Original Score:  0.6574909965180264  MFCC Score:  944.6962716312304  Mel Spec Score:  190451576.15715405\n",
      "Template Name:  Isabel\n",
      " Original Score:  0.6524631280145359  MFCC Score:  1195.0241924352154  Mel Spec Score:  174328086.5674602\n",
      "Template Name:  Maria\n",
      " Original Score:  0.768895529641505  MFCC Score:  1291.8946251996622  Mel Spec Score:  202050267.83332086\n",
      "Template Name:  Lilly\n",
      " Original Score:  0.6423356640925183  MFCC Score:  1080.5708825873398  Mel Spec Score:  188808405.4858574\n",
      "Template Name:  Annalise\n",
      " Original Score:  0.6796274581387047  MFCC Score:  960.6195083069844  Mel Spec Score:  167814208.0972604\n",
      "Template Name:  Kailee\n",
      " Original Score:  0.6959594530629526  MFCC Score:  1034.3340785529783  Mel Spec Score:  192792456.42700773\n",
      "Best Template Match via Original Score:  Jane   0.620085592299322\n",
      "Best Template Match via MFCC Score:  Kimi   890.0512518374403\n",
      "Best Template Match via Mel Spec Score:  Rachel   139923256.211258\n",
      "Query Artist Name:  Sabrina\n",
      "Template Name:  Sabrina\n",
      " Original Score:  0.8819981463997346  MFCC Score:  1061.4488371212421  Mel Spec Score:  215416564.17375222\n",
      "Template Name:  Cynthia\n",
      " Original Score:  0.9250074221714527  MFCC Score:  1296.865590001387  Mel Spec Score:  142534582.23908168\n",
      "Template Name:  Jane\n",
      " Original Score:  0.8570403118651406  MFCC Score:  1191.074749139883  Mel Spec Score:  173262350.37803698\n",
      "Template Name:  Kimi\n",
      " Original Score:  0.8631261492500252  MFCC Score:  1019.3293491220873  Mel Spec Score:  167951271.71607554\n",
      "Template Name:  Rachel\n",
      " Original Score:  0.8415929451317178  MFCC Score:  1230.7035571698034  Mel Spec Score:  128835154.23088522\n",
      "Template Name:  Maya\n",
      " Original Score:  0.9372270933781514  MFCC Score:  1132.0148683359282  Mel Spec Score:  175151112.07649672\n",
      "Template Name:  Lucy\n",
      " Original Score:  0.9405873967706531  MFCC Score:  1400.0535057158163  Mel Spec Score:  159469245.18682203\n",
      "Template Name:  Kaitlyn\n",
      " Original Score:  0.8576823189795781  MFCC Score:  1141.0220603684463  Mel Spec Score:  174570932.8530089\n",
      "Template Name:  Isabel\n",
      " Original Score:  0.9461154434718435  MFCC Score:  1408.6264542092476  Mel Spec Score:  160167599.37225854\n",
      "Template Name:  Maria\n",
      " Original Score:  0.930212383390163  MFCC Score:  1384.2579255696683  Mel Spec Score:  185145043.620979\n",
      "Template Name:  Lilly\n",
      " Original Score:  0.9332526818745471  MFCC Score:  1409.7609259437313  Mel Spec Score:  171886948.12225834\n",
      "Template Name:  Annalise\n",
      " Original Score:  0.8842814361297715  MFCC Score:  1137.806271561507  Mel Spec Score:  154445441.32188734\n",
      "Template Name:  Kailee\n",
      " Original Score:  0.9418558563119883  MFCC Score:  1381.8125640406129  Mel Spec Score:  176474100.19370905\n",
      "Best Template Match via Original Score:  Rachel   0.8415929451317178\n",
      "Best Template Match via MFCC Score:  Kimi   1019.3293491220873\n",
      "Best Template Match via Mel Spec Score:  Rachel   128835154.23088522\n",
      "Query Artist Name:  Rachel\n",
      "Template Name:  Sabrina\n",
      " Original Score:  0.33013404110137434  MFCC Score:  691.2615890522686  Mel Spec Score:  225336862.0171712\n",
      "Template Name:  Cynthia\n",
      " Original Score:  0.28670737084279646  MFCC Score:  689.1166162083622  Mel Spec Score:  149071141.2145215\n",
      "Template Name:  Jane\n",
      " Original Score:  0.28717857534513946  MFCC Score:  675.2526567134554  Mel Spec Score:  182095622.23756665\n",
      "Template Name:  Kimi\n",
      " Original Score:  0.30844492991674477  MFCC Score:  648.0617214552726  Mel Spec Score:  176671623.93380117\n",
      "Template Name:  Rachel\n",
      " Original Score:  0.27467466580714306  MFCC Score:  611.2611309193313  Mel Spec Score:  135695418.40629143\n",
      "Template Name:  Maya\n",
      " Original Score:  0.35097498730399984  MFCC Score:  721.9286027770347  Mel Spec Score:  183066180.0613845\n",
      "Template Name:  Lucy\n",
      " Original Score:  0.2695659031334566  MFCC Score:  597.0065107888275  Mel Spec Score:  168587707.53997687\n",
      "Template Name:  Kaitlyn\n",
      " Original Score:  0.27337412855491533  MFCC Score:  646.109999500229  Mel Spec Score:  182478331.03632608\n",
      "Template Name:  Isabel\n",
      " Original Score:  0.35719684397689055  MFCC Score:  833.6202185570263  Mel Spec Score:  168715024.98545307\n",
      "Template Name:  Maria\n",
      " Original Score:  0.3407489470233668  MFCC Score:  683.5693388468324  Mel Spec Score:  193512909.35624936\n",
      "Template Name:  Lilly\n",
      " Original Score:  0.29252596796148234  MFCC Score:  722.9705934367403  Mel Spec Score:  179402151.23422563\n",
      "Template Name:  Annalise\n",
      " Original Score:  0.27694636155842645  MFCC Score:  599.5827920133905  Mel Spec Score:  162433553.68594617\n",
      "Template Name:  Kailee\n",
      " Original Score:  0.2863833754474227  MFCC Score:  707.1508988578669  Mel Spec Score:  184833040.6811136\n",
      "Best Template Match via Original Score:  Lucy   0.2695659031334566\n",
      "Best Template Match via MFCC Score:  Lucy   597.0065107888275\n",
      "Best Template Match via Mel Spec Score:  Rachel   135695418.40629143\n",
      "Query Artist Name:  Jane\n",
      "Template Name:  Sabrina\n",
      " Original Score:  0.12009478926482621  MFCC Score:  447.898798008507  Mel Spec Score:  309944614.47173035\n",
      "Template Name:  Cynthia\n",
      " Original Score:  0.09992413685636883  MFCC Score:  493.0187645443364  Mel Spec Score:  205335947.20318094\n",
      "Template Name:  Jane\n",
      " Original Score:  0.08009407548989832  MFCC Score:  349.76525449310213  Mel Spec Score:  250412742.0974768\n",
      "Template Name:  Kimi\n",
      " Original Score:  0.0938961358457638  MFCC Score:  387.57858789525557  Mel Spec Score:  242103669.137637\n",
      "Template Name:  Rachel\n",
      " Original Score:  0.082279543680507  MFCC Score:  354.21129277893823  Mel Spec Score:  185323608.27864808\n",
      "Template Name:  Maya\n",
      " Original Score:  0.11825868615190387  MFCC Score:  505.7489613462011  Mel Spec Score:  252408804.99136055\n",
      "Template Name:  Lucy\n",
      " Original Score:  0.08659823120090003  MFCC Score:  383.9628013007708  Mel Spec Score:  230454359.66718146\n",
      "Template Name:  Kaitlyn\n",
      " Original Score:  0.0791341685254889  MFCC Score:  341.90426026822973  Mel Spec Score:  251141632.14607263\n",
      "Template Name:  Isabel\n",
      " Original Score:  0.1308833018450433  MFCC Score:  528.8069326548299  Mel Spec Score:  231083169.5460061\n",
      "Template Name:  Maria\n",
      " Original Score:  0.11894703493923044  MFCC Score:  430.9448388427635  Mel Spec Score:  266302438.0948199\n",
      "Template Name:  Lilly\n",
      " Original Score:  0.09393969997822503  MFCC Score:  344.3174710072733  Mel Spec Score:  247568392.71349835\n"
     ]
    },
    {
     "name": "stdout",
     "output_type": "stream",
     "text": [
      "Template Name:  Annalise\n",
      " Original Score:  0.0867200090514527  MFCC Score:  388.19898569238984  Mel Spec Score:  222933473.6345667\n",
      "Template Name:  Kailee\n",
      " Original Score:  0.08923038667334698  MFCC Score:  440.00858702723156  Mel Spec Score:  253437932.44127652\n",
      "Best Template Match via Original Score:  Kaitlyn   0.0791341685254889\n",
      "Best Template Match via MFCC Score:  Kaitlyn   341.90426026822973\n",
      "Best Template Match via Mel Spec Score:  Rachel   185323608.27864808\n",
      "Query Artist Name:  Lucy\n",
      "Template Name:  Sabrina\n",
      " Original Score:  0.4356066814697393  MFCC Score:  826.9014823961943  Mel Spec Score:  229501021.62629175\n",
      "Template Name:  Cynthia\n",
      " Original Score:  0.3783712430447  MFCC Score:  781.2242583604793  Mel Spec Score:  151904358.07357636\n",
      "Template Name:  Jane\n",
      " Original Score:  0.41755115320207054  MFCC Score:  754.1395692211656  Mel Spec Score:  185273432.0958215\n",
      "Template Name:  Kimi\n",
      " Original Score:  0.37551519666691424  MFCC Score:  759.0064329149291  Mel Spec Score:  179641694.05389825\n",
      "Template Name:  Rachel\n",
      " Original Score:  0.3983700565705356  MFCC Score:  742.6290846169361  Mel Spec Score:  137609753.80223262\n",
      "Template Name:  Maya\n",
      " Original Score:  0.49176648400476447  MFCC Score:  880.8352704997899  Mel Spec Score:  186423345.05942965\n",
      "Template Name:  Lucy\n",
      " Original Score:  0.35610768105093854  MFCC Score:  562.6842902349289  Mel Spec Score:  172072442.39901695\n",
      "Template Name:  Kaitlyn\n",
      " Original Score:  0.4250444760846824  MFCC Score:  759.7307705536781  Mel Spec Score:  185953023.0046852\n",
      "Template Name:  Isabel\n",
      " Original Score:  0.45398923022359267  MFCC Score:  864.9338987853258  Mel Spec Score:  171994278.9458612\n",
      "Template Name:  Maria\n",
      " Original Score:  0.45194567431710736  MFCC Score:  748.5618684830067  Mel Spec Score:  196882843.38548395\n",
      "Template Name:  Lilly\n",
      " Original Score:  0.43894822298703906  MFCC Score:  823.076871062207  Mel Spec Score:  182691500.3076163\n",
      "Template Name:  Annalise\n",
      " Original Score:  0.3478911751976268  MFCC Score:  689.2840997838083  Mel Spec Score:  165175929.53199288\n",
      "Template Name:  Kailee\n",
      " Original Score:  0.39734785667037614  MFCC Score:  802.5516039325022  Mel Spec Score:  187756552.34454978\n",
      "Best Template Match via Original Score:  Annalise   0.3478911751976268\n",
      "Best Template Match via MFCC Score:  Lucy   562.6842902349289\n",
      "Best Template Match via Mel Spec Score:  Rachel   137609753.80223262\n",
      "Query Artist Name:  Maya\n",
      "Template Name:  Sabrina\n",
      " Original Score:  0.20365049681902325  MFCC Score:  630.6364096799269  Mel Spec Score:  231407750.22543496\n",
      "Template Name:  Cynthia\n",
      " Original Score:  0.19362492406326287  MFCC Score:  651.9499609736763  Mel Spec Score:  154387544.9467633\n",
      "Template Name:  Jane\n",
      " Original Score:  0.20734388739138268  MFCC Score:  616.8893876738612  Mel Spec Score:  187775691.2479449\n",
      "Template Name:  Kimi\n",
      " Original Score:  0.216346138955  MFCC Score:  627.423251680227  Mel Spec Score:  181876286.52262747\n",
      "Template Name:  Rachel\n",
      " Original Score:  0.20716101715666324  MFCC Score:  601.5496124292388  Mel Spec Score:  138706652.98163217\n",
      "Template Name:  Maya\n",
      " Original Score:  0.21256211201607506  MFCC Score:  578.5667067699184  Mel Spec Score:  191099507.04175732\n",
      "Template Name:  Lucy\n",
      " Original Score:  0.19916448948940157  MFCC Score:  597.7735795940262  Mel Spec Score:  172850406.65569144\n",
      "Template Name:  Kaitlyn\n",
      " Original Score:  0.19710731258285577  MFCC Score:  551.9878745473737  Mel Spec Score:  187899516.14917502\n",
      "Template Name:  Isabel\n",
      " Original Score:  0.2211276475919318  MFCC Score:  705.2272395456133  Mel Spec Score:  173317021.02230725\n",
      "Template Name:  Maria\n",
      " Original Score:  0.21962786969024808  MFCC Score:  647.7782758639066  Mel Spec Score:  199867851.89118335\n",
      "Template Name:  Lilly\n",
      " Original Score:  0.20107365680361564  MFCC Score:  606.5924058257855  Mel Spec Score:  185796415.59024188\n",
      "Template Name:  Annalise\n",
      " Original Score:  0.20625808202410453  MFCC Score:  594.685323386522  Mel Spec Score:  166665025.87382263\n",
      "Template Name:  Kailee\n",
      " Original Score:  0.21657821639292474  MFCC Score:  659.8721900391622  Mel Spec Score:  190665365.57073435\n",
      "Best Template Match via Original Score:  Cynthia   0.19362492406326287\n",
      "Best Template Match via MFCC Score:  Kaitlyn   551.9878745473737\n",
      "Best Template Match via Mel Spec Score:  Rachel   138706652.98163217\n",
      "Query Artist Name:  Kimi\n",
      "Template Name:  Sabrina\n",
      " Original Score:  0.5630271457323467  MFCC Score:  860.2206207115796  Mel Spec Score:  267520500.57473847\n",
      "Template Name:  Cynthia\n",
      " Original Score:  0.621772381303855  MFCC Score:  909.3561778127337  Mel Spec Score:  177465094.7321971\n",
      "Template Name:  Jane\n",
      " Original Score:  0.6046812437149559  MFCC Score:  623.9193833178443  Mel Spec Score:  216532325.41563386\n",
      "Template Name:  Kimi\n",
      " Original Score:  0.5803085640539569  MFCC Score:  690.3531609417611  Mel Spec Score:  209776181.76690096\n",
      "Template Name:  Rachel\n",
      " Original Score:  0.6272138670663894  MFCC Score:  817.7993544509218  Mel Spec Score:  160382222.78615886\n",
      "Template Name:  Maya\n",
      " Original Score:  0.6993051869486545  MFCC Score:  1005.690386663302  Mel Spec Score:  217593394.88690332\n",
      "Template Name:  Lucy\n",
      " Original Score:  0.6175131452924566  MFCC Score:  764.2895010754963  Mel Spec Score:  198987962.05287758\n",
      "Template Name:  Kaitlyn\n",
      " Original Score:  0.5835107409592193  MFCC Score:  637.1299297558954  Mel Spec Score:  216646077.75745615\n",
      "Template Name:  Isabel\n",
      " Original Score:  0.7062108561211292  MFCC Score:  1045.0027006021432  Mel Spec Score:  199332779.91705748\n",
      "Template Name:  Maria\n",
      " Original Score:  0.6842955879958948  MFCC Score:  823.3970281420162  Mel Spec Score:  230335437.40365192\n",
      "Template Name:  Lilly\n",
      " Original Score:  0.6158388726217584  MFCC Score:  843.3907491180235  Mel Spec Score:  213665709.25606704\n",
      "Template Name:  Annalise\n",
      " Original Score:  0.6075772663204453  MFCC Score:  697.8006934904614  Mel Spec Score:  192335802.71907273\n",
      "Template Name:  Kailee\n",
      " Original Score:  0.6554373874041536  MFCC Score:  769.6138459042265  Mel Spec Score:  219493348.44859806\n",
      "Best Template Match via Original Score:  Sabrina   0.5630271457323467\n",
      "Best Template Match via MFCC Score:  Jane   623.9193833178443\n",
      "Best Template Match via Mel Spec Score:  Rachel   160382222.78615886\n",
      "Query Artist Name:  Annalise\n",
      "Template Name:  Sabrina\n",
      " Original Score:  0.43474624623368324  MFCC Score:  719.0492059083742  Mel Spec Score:  224721795.1832685\n",
      "Template Name:  Cynthia\n",
      " Original Score:  0.38570106673030535  MFCC Score:  714.4756144975054  Mel Spec Score:  148493274.01358464\n",
      "Template Name:  Jane\n",
      " Original Score:  0.3545867074297413  MFCC Score:  659.143539373074  Mel Spec Score:  181486923.8506906\n",
      "Template Name:  Kimi\n",
      " Original Score:  0.3932833015721372  MFCC Score:  601.8449551790577  Mel Spec Score:  175622648.2685114\n",
      "Template Name:  Rachel\n",
      " Original Score:  0.3401178114263246  MFCC Score:  585.7243624982049  Mel Spec Score:  134736923.74352223\n",
      "Template Name:  Maya\n",
      " Original Score:  0.414459515748468  MFCC Score:  790.8050232773134  Mel Spec Score:  183289623.16921303\n",
      "Template Name:  Lucy\n",
      " Original Score:  0.36475841989775093  MFCC Score:  669.5313446760426  Mel Spec Score:  166925322.27600095\n",
      "Template Name:  Kaitlyn\n",
      " Original Score:  0.2977126426078379  MFCC Score:  510.6753220208729  Mel Spec Score:  182031807.78497222\n",
      "Template Name:  Isabel\n",
      " Original Score:  0.49353023621155373  MFCC Score:  852.5115897072205  Mel Spec Score:  167538265.61376077\n",
      "Template Name:  Maria\n",
      " Original Score:  0.4466009850783363  MFCC Score:  727.0962456014519  Mel Spec Score:  193118650.67581427\n",
      "Template Name:  Lilly\n",
      " Original Score:  0.2784179640183632  MFCC Score:  549.3746376590282  Mel Spec Score:  179552744.65114552\n",
      "Template Name:  Annalise\n",
      " Original Score:  0.35786294952704345  MFCC Score:  639.1539940730274  Mel Spec Score:  162166781.1608466\n",
      "Template Name:  Kailee\n",
      " Original Score:  0.3514860128636755  MFCC Score:  671.3145377141736  Mel Spec Score:  183841233.90510678\n",
      "Best Template Match via Original Score:  Lilly   0.2784179640183632\n",
      "Best Template Match via MFCC Score:  Kaitlyn   510.6753220208729\n",
      "Best Template Match via Mel Spec Score:  Rachel   134736923.74352223\n"
     ]
    }
   ],
   "source": [
    "singerPairingsTotalFemales = calculateSingerStoreAll(db_JingleBellsFemales, db_TemplatesFemales, db_ScalesFemales)"
   ]
  },
  {
   "cell_type": "code",
   "execution_count": 60,
   "metadata": {
    "scrolled": true
   },
   "outputs": [
    {
     "name": "stdout",
     "output_type": "stream",
     "text": [
      "score was in the top 1 for:  Kailee\n",
      "score was in the top 1 for:  Kaitlyn\n"
     ]
    }
   ],
   "source": [
    "accuracyTop1Females = accuracyTestAll(singerPairingsTotalFemales,1,scoreType='Original')"
   ]
  },
  {
   "cell_type": "code",
   "execution_count": 61,
   "metadata": {},
   "outputs": [
    {
     "name": "stdout",
     "output_type": "stream",
     "text": [
      "0.15384615384615385\n"
     ]
    }
   ],
   "source": [
    "print(accuracyTop1Females)"
   ]
  },
  {
   "cell_type": "code",
   "execution_count": 62,
   "metadata": {
    "scrolled": true
   },
   "outputs": [
    {
     "name": "stdout",
     "output_type": "stream",
     "text": [
      "score was in the top 1 for:  Kailee\n",
      "score was in the top 1 for:  Lucy\n"
     ]
    }
   ],
   "source": [
    "accuracyTop1MFCCsFemales = accuracyTestAll(singerPairingsTotalFemales,1,scoreType='MFCC')"
   ]
  },
  {
   "cell_type": "code",
   "execution_count": 63,
   "metadata": {},
   "outputs": [
    {
     "name": "stdout",
     "output_type": "stream",
     "text": [
      "0.15384615384615385\n"
     ]
    }
   ],
   "source": [
    "print(accuracyTop1MFCCsFemales)"
   ]
  },
  {
   "cell_type": "code",
   "execution_count": 64,
   "metadata": {},
   "outputs": [
    {
     "name": "stdout",
     "output_type": "stream",
     "text": [
      "score was in the top 1 for:  Rachel\n"
     ]
    }
   ],
   "source": [
    "accuracyTop1MelSpecFemales = accuracyTestAll(singerPairingsTotalFemales,1,scoreType='MelSpec')"
   ]
  },
  {
   "cell_type": "code",
   "execution_count": 65,
   "metadata": {},
   "outputs": [
    {
     "name": "stdout",
     "output_type": "stream",
     "text": [
      "0.07692307692307693\n"
     ]
    }
   ],
   "source": [
    "print(accuracyTop1MelSpecFemales)"
   ]
  },
  {
   "cell_type": "code",
   "execution_count": 66,
   "metadata": {
    "scrolled": false
   },
   "outputs": [
    {
     "name": "stdout",
     "output_type": "stream",
     "text": [
      "score was a one to one match for:  Kailee\n",
      "score was a one to one match for:  Kaitlyn\n",
      "score was a one to one match for:  Rachel\n",
      "score was a one to one match for:  Lucy\n"
     ]
    }
   ],
   "source": [
    "allThreeMetricsAccuracyFemales = accuracyTestAllMetrics(singerPairingsTotalFemales, 1)"
   ]
  },
  {
   "cell_type": "code",
   "execution_count": 67,
   "metadata": {
    "scrolled": true
   },
   "outputs": [
    {
     "name": "stdout",
     "output_type": "stream",
     "text": [
      "0.3076923076923077\n"
     ]
    }
   ],
   "source": [
    "print(allThreeMetricsAccuracyFemales)"
   ]
  },
  {
   "cell_type": "code",
   "execution_count": null,
   "metadata": {},
   "outputs": [],
   "source": []
  },
  {
   "cell_type": "markdown",
   "metadata": {},
   "source": [
    "## Analysis"
   ]
  },
  {
   "cell_type": "markdown",
   "metadata": {},
   "source": [
    "### Annotation for note timings in scale"
   ]
  },
  {
   "cell_type": "code",
   "execution_count": 68,
   "metadata": {},
   "outputs": [],
   "source": [
    "db_NoteTimings  = {}\n",
    "db_NoteTimings['Kevin'] = [(0.36, 1.31), (1.60, 2.50), (2.83, 3.78), (4.08, 4.61),\n",
    "                           (5.30, 6.14), (6.48, 7.22), (7.62, 8.48), (8.93, 10.40)]\n",
    "db_NoteTimings['Jane'] = [(0.16, 0.94), (1.34, 1.78), (2.21, 2.71), (3.07, 3.66),\n",
    "                          (3.88, 4.43), (4.91, 5.57), (5.83, 6.48), (6.68, 7.42)]\n",
    "db_NoteTimings['Lucy'] = [(0.20, 0.77), (0.93, 1.54), (1.82, 2.41), (2.70, 3.22),\n",
    "                         (3.49, 4.11), (4.30, 5.04), (5.25, 5.89), (6.14, 6.62)]\n",
    "db_NoteTimings['Maya'] = [(0.28, 0.95), (1.16, 1.81), (1.94, 2.59), (2.76, 3.38),\n",
    "                         (3.61, 4.18), (4.35, 5.04), (5.24, 5.86), (6.02, 6.49)]\n",
    "db_NoteTimings['Shiv'] = [(0.16, 0.69), (0.82, 1.47), (1.62, 2.19), (2.27, 2.83),\n",
    "                         (3.07, 3.73), (3.80, 4.39), (4.66, 5.18), (5.44, 6.11)]\n",
    "db_NoteTimings['Djassi'] = [(0.17, 0.78), (0.98, 1.60), (1.73, 2.35), (2.52, 3.15),\n",
    "                           (3.30, 3.90), (4.05, 4.42), (4.90, 5.52), (5.68, 6.31)]\n",
    "db_NoteTimings['Isabel'] = [(0.21, 0.73), (0.88, 1.32), (1.59, 2.08), (2.32, 2.77),\n",
    "                            (2.95, 3.42), (3.57, 4.01), (4.20, 4.65), (4.90, 5.25)]\n",
    "db_NoteTimings['Kai'] = [(0.23, 0.86), (1.17, 1.85), (2.15, 2.80), (3.17, 3.76),\n",
    "                        (4.11, 4.79), (5.11, 5.42), (6.01, 6.74), (6.93, 7.46)]"
   ]
  },
  {
   "cell_type": "code",
   "execution_count": 69,
   "metadata": {},
   "outputs": [
    {
     "data": {
      "text/plain": [
       "[(0.16, 0.94),\n",
       " (1.34, 1.78),\n",
       " (2.21, 2.71),\n",
       " (3.07, 3.66),\n",
       " (3.88, 4.43),\n",
       " (4.91, 5.57),\n",
       " (5.83, 6.48),\n",
       " (6.68, 7.42)]"
      ]
     },
     "execution_count": 69,
     "metadata": {},
     "output_type": "execute_result"
    }
   ],
   "source": [
    "db_NoteTimings['Jane']"
   ]
  },
  {
   "cell_type": "code",
   "execution_count": 70,
   "metadata": {},
   "outputs": [],
   "source": [
    "def calculateMelSpecTemplate(artist, noteTimings, scaleDataBase=db_Scales, sr=22050):\n",
    "    melSpecTemplate = np.zeros([128, 8])\n",
    "    scaleAudio = scaleDataBase[artist]\n",
    "    for i in range(len(noteTimings)):\n",
    "        startTime, endTime = noteTimings[i]\n",
    "        startIdx = int(np.ceil(startTime*sr))\n",
    "        endIdx = int(endTime*sr)\n",
    "        window = scaleAudio[startIdx:endIdx]\n",
    "        noteMelSpec = lb.feature.melspectrogram(y=window, sr=sr, n_mels=128, fmax=8000)\n",
    "        noteMelSpecVector = np.sum(noteMelSpec, axis=1)\n",
    "        noteMelSpecNorm = noteMelSpecVector/np.linalg.norm(noteMelSpecVector)\n",
    "        melSpecTemplate[:, i] = noteMelSpecNorm\n",
    "    return melSpecTemplate"
   ]
  },
  {
   "cell_type": "code",
   "execution_count": 71,
   "metadata": {},
   "outputs": [],
   "source": [
    "kevinScaleMelSpec = calculateMelSpecTemplate('Kevin', db_NoteTimings['Kevin'])\n",
    "janeScaleMelSpec = calculateMelSpecTemplate('Jane', db_NoteTimings['Jane'])\n",
    "lucyScaleMelSpec = calculateMelSpecTemplate('Lucy', db_NoteTimings['Lucy'])\n",
    "mayaScaleMelSpec = calculateMelSpecTemplate('Maya', db_NoteTimings['Maya'])\n",
    "shivScaleMelSpec = calculateMelSpecTemplate('Shiv', db_NoteTimings['Shiv'])\n",
    "djassiScaleMelSpec = calculateMelSpecTemplate('Djassi', db_NoteTimings['Djassi'])\n",
    "isabelScaleMelSpec = calculateMelSpecTemplate('Isabel', db_NoteTimings['Isabel'])\n",
    "kaiScaleMelSpec = calculateMelSpecTemplate('Kai', db_NoteTimings['Kai'])"
   ]
  },
  {
   "cell_type": "code",
   "execution_count": 72,
   "metadata": {},
   "outputs": [
    {
     "data": {
      "image/png": "[encoded data removed]",
      "text/plain": [
       "<Figure size 432x288 with 2 Axes>"
      ]
     },
     "metadata": {},
     "output_type": "display_data"
    }
   ],
   "source": [
    "lb.display.specshow(lb.power_to_db(janeScaleMelSpec, ref=np.max), y_axis='mel', fmax=8000)\n",
    "plt.xlabel('Note')\n",
    "plt.xticks(np.arange(0, 8)+.5, ('C3', 'D3', 'E3', 'F3', 'G3', 'A3', 'B3', 'C4'))\n",
    "plt.colorbar(format='%+2.0f dB')\n",
    "plt.title('Mel spectrogram Jane Scale')\n",
    "plt.tight_layout()"
   ]
  },
  {
   "cell_type": "code",
   "execution_count": 73,
   "metadata": {},
   "outputs": [],
   "source": [
    "kevinJingleMelSpec = lb.feature.melspectrogram(db_JingleBells['Kevin'], sr=22050, n_mels=128, fmax=8000)\n",
    "janeJingleMelSpec = lb.feature.melspectrogram(db_JingleBells['Jane'], sr=22050, n_mels=128, fmax=8000)\n",
    "lucyJingleMelSpec = lb.feature.melspectrogram(db_JingleBells['Lucy'], sr=22050, n_mels=128, fmax=8000)\n",
    "mayaJingleMelSpec = lb.feature.melspectrogram(db_JingleBells['Maya'], sr=22050, n_mels=128, fmax=8000)\n",
    "shivJingleMelSpec = lb.feature.melspectrogram(db_JingleBells['Shiv'], sr=22050, n_mels=128, fmax=8000)\n",
    "djassiJingleMelSpec = lb.feature.melspectrogram(db_JingleBells['Djassi'], sr=22050, n_mels=128, fmax=8000)\n",
    "isabelJingleMelSpec = lb.feature.melspectrogram(db_JingleBells['Isabel'], sr=22050, n_mels=128, fmax=8000)\n",
    "kaiJingleMelSpec = lb.feature.melspectrogram(db_JingleBells['Kai'], sr=22050, n_mels=128, fmax=8000)"
   ]
  },
  {
   "cell_type": "code",
   "execution_count": 74,
   "metadata": {},
   "outputs": [
    {
     "data": {
      "image/png": "[encoded data removed]",
      "text/plain": [
       "<Figure size 432x288 with 2 Axes>"
      ]
     },
     "metadata": {},
     "output_type": "display_data"
    }
   ],
   "source": [
    "lb.display.specshow(lb.power_to_db(janeJingleMelSpec, ref=np.max), y_axis='mel', fmax=8000, x_axis='time')\n",
    "plt.colorbar(format='%+2.0f dB')\n",
    "plt.title('Mel spectrogram Jane Jingle Bells')\n",
    "plt.tight_layout()"
   ]
  },
  {
   "cell_type": "code",
   "execution_count": 75,
   "metadata": {},
   "outputs": [],
   "source": [
    "def calculateMelSpecDotProduct(artist, scaleMelSpec, queryDataBase=db_JingleBells):\n",
    "    querySong = queryDataBase[artist]\n",
    "    queryMelSpec = lb.feature.melspectrogram(y=querySong, sr=22050, n_mels=128, fmax=8000)\n",
    "    print(queryMelSpec.shape)\n",
    "    melSpecEnergy = np.matmul(scaleMelSpec.T, queryMelSpec)\n",
    "    return melSpecEnergy"
   ]
  },
  {
   "cell_type": "code",
   "execution_count": 76,
   "metadata": {},
   "outputs": [
    {
     "name": "stdout",
     "output_type": "stream",
     "text": [
      "(128, 721)\n",
      "(128, 975)\n",
      "(128, 638)\n",
      "(128, 674)\n",
      "(128, 602)\n",
      "(128, 550)\n",
      "(128, 647)\n",
      "(128, 622)\n",
      "(128, 975)\n",
      "(128, 721)\n",
      "(128, 647)\n",
      "(128, 622)\n"
     ]
    }
   ],
   "source": [
    "kevinMelSpecEnergy = calculateMelSpecDotProduct('Kevin', kevinScaleMelSpec)\n",
    "janeMelSpecEnergy = calculateMelSpecDotProduct('Jane', janeScaleMelSpec)\n",
    "lucyMelSpecEnergy = calculateMelSpecDotProduct('Lucy', lucyScaleMelSpec)\n",
    "mayaMelSpecEnergy = calculateMelSpecDotProduct('Maya', mayaScaleMelSpec)\n",
    "shivMelSpecEnergy = calculateMelSpecDotProduct('Shiv', shivScaleMelSpec)\n",
    "djassiMelSpecEnergy = calculateMelSpecDotProduct('Djassi', djassiScaleMelSpec)\n",
    "isabelMelSpecEnergy = calculateMelSpecDotProduct('Isabel', isabelScaleMelSpec)\n",
    "kaiMelSpecEnergy = calculateMelSpecDotProduct('Kai', kaiScaleMelSpec)\n",
    "\n",
    "janeSongKevinScale = calculateMelSpecDotProduct('Jane', kevinScaleMelSpec)\n",
    "kevinSongJaneScale = calculateMelSpecDotProduct('Kevin', janeScaleMelSpec)\n",
    "isabelSongLucyScale = calculateMelSpecDotProduct('Isabel', lucyScaleMelSpec)\n",
    "kaiSongDjassiScale = calculateMelSpecDotProduct('Kai', djassiScaleMelSpec)"
   ]
  },
  {
   "cell_type": "code",
   "execution_count": 77,
   "metadata": {},
   "outputs": [
    {
     "data": {
      "image/png": "[encoded data removed]",
      "text/plain": [
       "<Figure size 432x288 with 2 Axes>"
      ]
     },
     "metadata": {},
     "output_type": "display_data"
    }
   ],
   "source": [
    "maxTime = janeMelSpecEnergy.shape[1]*512/22050\n",
    "plt.imshow(lb.power_to_db(janeMelSpecEnergy, ref=np.max), origin = 'lower', aspect='auto', \n",
    "           cmap = 'jet', extent=(0, maxTime, 0, 8))\n",
    "plt.yticks(np.arange(0, 8)+.5, ('C3', 'D3', 'E3', 'F3', 'G3', 'A3', 'B3', 'C4'))\n",
    "plt.title('Mel Spec Jane Note Energy')\n",
    "plt.ylabel('Note')\n",
    "plt.xlabel('Time')\n",
    "plt.colorbar()\n",
    "plt.show()"
   ]
  },
  {
   "cell_type": "code",
   "execution_count": 78,
   "metadata": {},
   "outputs": [],
   "source": [
    "def calcNotePlayedFrame(artistMelSpecEnergy):\n",
    "    notePlayedFrame = np.zeros(artistMelSpecEnergy.shape)\n",
    "    print(notePlayedFrame.shape)\n",
    "    for frame in range(artistMelSpecEnergy.shape[1]):\n",
    "        maxNote = np.argmax(artistMelSpecEnergy[:, frame])\n",
    "        notePlayedFrame[maxNote, frame] = 1\n",
    "    return notePlayedFrame"
   ]
  },
  {
   "cell_type": "code",
   "execution_count": 79,
   "metadata": {},
   "outputs": [
    {
     "name": "stdout",
     "output_type": "stream",
     "text": [
      "(8, 721)\n",
      "(8, 975)\n",
      "(8, 638)\n",
      "(8, 674)\n",
      "(8, 602)\n",
      "(8, 550)\n",
      "(8, 647)\n",
      "(8, 622)\n",
      "(8, 721)\n",
      "(8, 975)\n",
      "(8, 647)\n",
      "(8, 622)\n"
     ]
    }
   ],
   "source": [
    "kevinJingleNotePresent = calcNotePlayedFrame(kevinMelSpecEnergy)\n",
    "janeJingleNotePresent = calcNotePlayedFrame(janeMelSpecEnergy)\n",
    "lucyJingleNotePresent = calcNotePlayedFrame(lucyMelSpecEnergy)\n",
    "mayaJingleNotePresent = calcNotePlayedFrame(mayaMelSpecEnergy)\n",
    "shivJingleNotePresent = calcNotePlayedFrame(shivMelSpecEnergy)\n",
    "djassiJingleNotePresent = calcNotePlayedFrame(djassiMelSpecEnergy)\n",
    "isabelJingleNotePresent = calcNotePlayedFrame(isabelMelSpecEnergy)\n",
    "kaiJingleNotePresent = calcNotePlayedFrame(kaiMelSpecEnergy)\n",
    "\n",
    "kevinJingleJaneTemp = calcNotePlayedFrame(kevinSongJaneScale)\n",
    "janeJingleKevinTemp = calcNotePlayedFrame(janeSongKevinScale)\n",
    "isabelJingleLucyTemp = calcNotePlayedFrame(isabelSongLucyScale)\n",
    "kaiJingleDjassiTemp = calcNotePlayedFrame(kaiSongDjassiScale)"
   ]
  },
  {
   "cell_type": "code",
   "execution_count": 80,
   "metadata": {},
   "outputs": [],
   "source": [
    "def displayNotePlayedInQuery(notePresent):\n",
    "    maxTime = notePresent.shape[1]*512/22050\n",
    "    plt.imshow(notePresent, origin = 'lower', aspect='auto', \n",
    "               cmap = 'jet', extent=(0, maxTime, 0, 8))\n",
    "    plt.yticks(np.arange(0, 8)+.5, ('C3', 'D3', 'E3', 'F3', 'G3', 'A3', 'B3', 'C4'))\n",
    "    plt.ylabel('Note')\n",
    "    plt.xlabel('Time')\n",
    "    plt.colorbar()\n",
    "    plt.show()"
   ]
  },
  {
   "cell_type": "code",
   "execution_count": 81,
   "metadata": {},
   "outputs": [
    {
     "data": {
      "image/png": "[encoded data removed]",
      "text/plain": [
       "<Figure size 432x288 with 2 Axes>"
      ]
     },
     "metadata": {},
     "output_type": "display_data"
    },
    {
     "data": {
      "text/plain": [
       "'Kevin Jingle Bells Kevin Template'"
      ]
     },
     "execution_count": 81,
     "metadata": {},
     "output_type": "execute_result"
    }
   ],
   "source": [
    "displayNotePlayedInQuery(kevinJingleNotePresent)\n",
    "'''Kevin Jingle Bells Kevin Template'''"
   ]
  },
  {
   "cell_type": "code",
   "execution_count": 82,
   "metadata": {},
   "outputs": [
    {
     "data": {
      "image/png": "[encoded data removed]",
      "text/plain": [
       "<Figure size 432x288 with 2 Axes>"
      ]
     },
     "metadata": {},
     "output_type": "display_data"
    },
    {
     "data": {
      "text/plain": [
       "'Jane Jingle Bells Jane Template'"
      ]
     },
     "execution_count": 82,
     "metadata": {},
     "output_type": "execute_result"
    }
   ],
   "source": [
    "displayNotePlayedInQuery(janeJingleNotePresent)\n",
    "'''Jane Jingle Bells Jane Template'''"
   ]
  },
  {
   "cell_type": "code",
   "execution_count": 83,
   "metadata": {},
   "outputs": [
    {
     "data": {
      "image/png": "[encoded data removed]",
      "text/plain": [
       "<Figure size 432x288 with 2 Axes>"
      ]
     },
     "metadata": {},
     "output_type": "display_data"
    },
    {
     "data": {
      "text/plain": [
       "'Lucy Jingle Bells Lucy Template'"
      ]
     },
     "execution_count": 83,
     "metadata": {},
     "output_type": "execute_result"
    }
   ],
   "source": [
    "displayNotePlayedInQuery(lucyJingleNotePresent)\n",
    "'''Lucy Jingle Bells Lucy Template'''"
   ]
  },
  {
   "cell_type": "code",
   "execution_count": 84,
   "metadata": {},
   "outputs": [
    {
     "data": {
      "image/png": "[encoded data removed]",
      "text/plain": [
       "<Figure size 432x288 with 2 Axes>"
      ]
     },
     "metadata": {},
     "output_type": "display_data"
    },
    {
     "data": {
      "text/plain": [
       "'Maya Jingle Bells Maya Template'"
      ]
     },
     "execution_count": 84,
     "metadata": {},
     "output_type": "execute_result"
    }
   ],
   "source": [
    "displayNotePlayedInQuery(mayaJingleNotePresent)\n",
    "'''Maya Jingle Bells Maya Template'''"
   ]
  },
  {
   "cell_type": "code",
   "execution_count": 85,
   "metadata": {},
   "outputs": [
    {
     "data": {
      "image/png": "[encoded data removed]",
      "text/plain": [
       "<Figure size 432x288 with 2 Axes>"
      ]
     },
     "metadata": {},
     "output_type": "display_data"
    },
    {
     "data": {
      "text/plain": [
       "'Shiv Jingle Bells Shiv Template'"
      ]
     },
     "execution_count": 85,
     "metadata": {},
     "output_type": "execute_result"
    }
   ],
   "source": [
    "displayNotePlayedInQuery(shivJingleNotePresent)\n",
    "'''Shiv Jingle Bells Shiv Template'''"
   ]
  },
  {
   "cell_type": "code",
   "execution_count": 86,
   "metadata": {},
   "outputs": [
    {
     "data": {
      "image/png": "[encoded data removed]",
      "text/plain": [
       "<Figure size 432x288 with 2 Axes>"
      ]
     },
     "metadata": {},
     "output_type": "display_data"
    },
    {
     "data": {
      "text/plain": [
       "'Djassi Jingle Bells Djassi Template'"
      ]
     },
     "execution_count": 86,
     "metadata": {},
     "output_type": "execute_result"
    }
   ],
   "source": [
    "displayNotePlayedInQuery(djassiJingleNotePresent)\n",
    "'''Djassi Jingle Bells Djassi Template'''"
   ]
  },
  {
   "cell_type": "code",
   "execution_count": 87,
   "metadata": {},
   "outputs": [
    {
     "data": {
      "image/png": "[encoded data removed]",
      "text/plain": [
       "<Figure size 432x288 with 2 Axes>"
      ]
     },
     "metadata": {},
     "output_type": "display_data"
    },
    {
     "data": {
      "text/plain": [
       "'Isabel Jingle Bells Isabel Template'"
      ]
     },
     "execution_count": 87,
     "metadata": {},
     "output_type": "execute_result"
    }
   ],
   "source": [
    "displayNotePlayedInQuery(isabelJingleNotePresent)\n",
    "'''Isabel Jingle Bells Isabel Template'''"
   ]
  },
  {
   "cell_type": "code",
   "execution_count": 88,
   "metadata": {},
   "outputs": [
    {
     "data": {
      "image/png": "[encoded data removed]",
      "text/plain": [
       "<Figure size 432x288 with 2 Axes>"
      ]
     },
     "metadata": {},
     "output_type": "display_data"
    },
    {
     "data": {
      "text/plain": [
       "'Kai Jingle Bells Kai Template'"
      ]
     },
     "execution_count": 88,
     "metadata": {},
     "output_type": "execute_result"
    }
   ],
   "source": [
    "displayNotePlayedInQuery(kaiJingleNotePresent)\n",
    "'''Kai Jingle Bells Kai Template'''"
   ]
  },
  {
   "cell_type": "code",
   "execution_count": 89,
   "metadata": {},
   "outputs": [
    {
     "data": {
      "image/png": "[encoded data removed]",
      "text/plain": [
       "<Figure size 432x288 with 2 Axes>"
      ]
     },
     "metadata": {},
     "output_type": "display_data"
    },
    {
     "data": {
      "text/plain": [
       "'Kai Jingle Bells Djassi Template'"
      ]
     },
     "execution_count": 89,
     "metadata": {},
     "output_type": "execute_result"
    }
   ],
   "source": [
    "displayNotePlayedInQuery(kaiJingleDjassiTemp)\n",
    "'''Kai Jingle Bells Djassi Template'''"
   ]
  },
  {
   "cell_type": "code",
   "execution_count": 90,
   "metadata": {},
   "outputs": [
    {
     "data": {
      "image/png": "[encoded data removed]",
      "text/plain": [
       "<Figure size 432x288 with 2 Axes>"
      ]
     },
     "metadata": {},
     "output_type": "display_data"
    },
    {
     "data": {
      "text/plain": [
       "'Isabel Jingle Bells Lucy Template'"
      ]
     },
     "execution_count": 90,
     "metadata": {},
     "output_type": "execute_result"
    }
   ],
   "source": [
    "displayNotePlayedInQuery(isabelJingleLucyTemp)\n",
    "'''Isabel Jingle Bells Lucy Template'''"
   ]
  },
  {
   "cell_type": "code",
   "execution_count": 91,
   "metadata": {},
   "outputs": [
    {
     "data": {
      "image/png": "[encoded data removed]",
      "text/plain": [
       "<Figure size 432x288 with 2 Axes>"
      ]
     },
     "metadata": {},
     "output_type": "display_data"
    },
    {
     "data": {
      "text/plain": [
       "'Kevin Jingle Bells Jane Template'"
      ]
     },
     "execution_count": 91,
     "metadata": {},
     "output_type": "execute_result"
    }
   ],
   "source": [
    "displayNotePlayedInQuery(kevinJingleJaneTemp)\n",
    "'''Kevin Jingle Bells Jane Template'''"
   ]
  },
  {
   "cell_type": "code",
   "execution_count": 92,
   "metadata": {
    "scrolled": true
   },
   "outputs": [
    {
     "data": {
      "image/png": "[encoded data removed]",
      "text/plain": [
       "<Figure size 432x288 with 2 Axes>"
      ]
     },
     "metadata": {},
     "output_type": "display_data"
    },
    {
     "data": {
      "text/plain": [
       "'Jane Jingle Bells Kevin Template'"
      ]
     },
     "execution_count": 92,
     "metadata": {},
     "output_type": "execute_result"
    }
   ],
   "source": [
    "displayNotePlayedInQuery(janeJingleKevinTemp)\n",
    "'''Jane Jingle Bells Kevin Template'''"
   ]
  },
  {
   "cell_type": "markdown",
   "metadata": {},
   "source": [
    "## Analyze Timbre Differences"
   ]
  },
  {
   "cell_type": "code",
   "execution_count": 136,
   "metadata": {},
   "outputs": [],
   "source": [
    "eeeAudio, sr = lb.core.load('eee.m4a', 22050)"
   ]
  },
  {
   "cell_type": "code",
   "execution_count": 137,
   "metadata": {},
   "outputs": [],
   "source": [
    "ahhAudio, sr = lb.core.load('ahh.m4a', 22050)"
   ]
  },
  {
   "cell_type": "code",
   "execution_count": 138,
   "metadata": {},
   "outputs": [],
   "source": [
    "oooAudio, sr = lb.core.load('ooo.m4a', 22050)"
   ]
  },
  {
   "cell_type": "code",
   "execution_count": 139,
   "metadata": {},
   "outputs": [],
   "source": [
    "def plotDFT(x, sr, title, zoomStart = 0, zoomEnd = sr/16):\n",
    "    X = np.fft.fft(x)\n",
    "    f = np.arange(0,sr,sr/len(x))\n",
    "    maxIdx = np.int(zoomEnd*len(x)/sr*1.0)\n",
    "    minIdx = np.int(zoomStart*len(x)/sr*1.0)\n",
    "    plt.figure(figsize=(12,4))\n",
    "    plt.plot(f[minIdx:maxIdx],np.abs(X[minIdx:maxIdx]))\n",
    "    plt.title('Magnitude of ' + title)\n",
    "    plt.xlabel('Frequency (Hz)')\n",
    "    plt.ylabel('DFT Magnitude')\n"
   ]
  },
  {
   "cell_type": "code",
   "execution_count": 140,
   "metadata": {},
   "outputs": [
    {
     "data": {
      "image/png": "[encoded data removed]",
      "text/plain": [
       "<Figure size 864x288 with 1 Axes>"
      ]
     },
     "metadata": {},
     "output_type": "display_data"
    }
   ],
   "source": [
    "plotDFT(eeeAudio, sr, 'eee at C4')"
   ]
  },
  {
   "cell_type": "code",
   "execution_count": 141,
   "metadata": {},
   "outputs": [
    {
     "data": {
      "image/png": "[encoded data removed]",
      "text/plain": [
       "<Figure size 864x288 with 1 Axes>"
      ]
     },
     "metadata": {},
     "output_type": "display_data"
    }
   ],
   "source": [
    "plotDFT(ahhAudio, sr, 'ahh at C4')"
   ]
  },
  {
   "cell_type": "code",
   "execution_count": 142,
   "metadata": {
    "scrolled": true
   },
   "outputs": [
    {
     "data": {
      "image/png": "[encoded data removed]",
      "text/plain": [
       "<Figure size 864x288 with 1 Axes>"
      ]
     },
     "metadata": {},
     "output_type": "display_data"
    }
   ],
   "source": [
    "plotDFT(oooAudio, sr, 'ooo at C4')"
   ]
  },
  {
   "cell_type": "code",
   "execution_count": null,
   "metadata": {},
   "outputs": [],
   "source": []
  },
  {
   "cell_type": "code",
   "execution_count": null,
   "metadata": {},
   "outputs": [],
   "source": []
  }
 ],
 "metadata": {
  "kernelspec": {
   "display_name": "Python 3",
   "language": "python",
   "name": "python3"
  },
  "language_info": {
   "codemirror_mode": {
    "name": "ipython",
    "version": 3
   },
   "file_extension": ".py",
   "mimetype": "text/x-python",
   "name": "python",
   "nbconvert_exporter": "python",
   "pygments_lexer": "ipython3",
   "version": "3.6.5"
  }
 },
 "nbformat": 4,
 "nbformat_minor": 2
}
