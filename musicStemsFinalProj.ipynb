{
 "cells": [
  {
   "cell_type": "markdown",
   "metadata": {},
   "source": [
    "# Music STEMS Final Project\n",
    "## Kai Kaneshina and Gabriel Quiroz"
   ]
  },
  {
   "cell_type": "code",
   "execution_count": 1,
   "metadata": {},
   "outputs": [],
   "source": [
    "import numpy as np\n",
    "import librosa as lb\n",
    "import matplotlib.pyplot as plt\n",
    "import IPython.display as ipd\n",
    "import scipy.signal as ss\n",
    "import scipy.io as sio\n",
    "import glob\n",
    "import subprocess\n",
    "import os.path\n",
    "import pickle"
   ]
  },
  {
   "cell_type": "markdown",
   "metadata": {},
   "source": [
    "## Database Constructor"
   ]
  },
  {
   "cell_type": "code",
   "execution_count": 2,
   "metadata": {},
   "outputs": [],
   "source": [
    "def constructDatabase(indir):\n",
    "    \"\"\"\n",
    "    Construct a database of fingerprints for all mp3 files in the specified directory.\n",
    "    \n",
    "    Arguments:\n",
    "    indir -- directory containing mp3 files\n",
    "    \n",
    "    Returns:\n",
    "    d -- database of artist names, where the key is the artist name\n",
    "        and the value is the audio array extracted with librosa.\n",
    "    \"\"\"\n",
    "    d = {}\n",
    "\n",
    "    ### START CODE BLOCK ###\n",
    "    path = indir + '/*.m4a'\n",
    "    for filename in glob.iglob(path, recursive=True):  \n",
    "        audio, sr = lb.core.load(filename, 22050)\n",
    "        filename = filename.lstrip(indir + '/') #removes the directory from the filename\n",
    "        name = filename.split(' ')[0] #keeps only the name of the artist\n",
    "        d[name] = audio\n",
    "            \n",
    "    ### END CODE BLOCK ###\n",
    "    \n",
    "    return d"
   ]
  },
  {
   "cell_type": "code",
   "execution_count": 3,
   "metadata": {},
   "outputs": [],
   "source": [
    "db_Scales = constructDatabase('scales') # note that this may take a minute or so to run"
   ]
  },
  {
   "cell_type": "code",
   "execution_count": 4,
   "metadata": {},
   "outputs": [],
   "source": [
    "with open('db_Scales.pkl','wb') as scales:\n",
    "    pickle.dump(db_Scales, scales)"
   ]
  },
  {
   "cell_type": "code",
   "execution_count": 5,
   "metadata": {},
   "outputs": [],
   "source": [
    "with open('db_Scales.pkl','rb') as scales:\n",
    "    db_Scales = pickle.load(scales)"
   ]
  },
  {
   "cell_type": "code",
   "execution_count": 6,
   "metadata": {},
   "outputs": [],
   "source": [
    "db_JingleBells = constructDatabase('song') # note that this may take a minute or so to run"
   ]
  },
  {
   "cell_type": "code",
   "execution_count": 7,
   "metadata": {},
   "outputs": [],
   "source": [
    "with open('db_JingleBells.pkl','wb') as JingleBells:\n",
    "    pickle.dump(db_JingleBells, JingleBells)"
   ]
  },
  {
   "cell_type": "code",
   "execution_count": 8,
   "metadata": {},
   "outputs": [],
   "source": [
    "with open('db_JingleBells.pkl','rb') as JingleBells:\n",
    "    db_JingleBells = pickle.load(JingleBells)"
   ]
  },
  {
   "cell_type": "markdown",
   "metadata": {},
   "source": [
    "## Functions for Visualization "
   ]
  },
  {
   "cell_type": "code",
   "execution_count": 9,
   "metadata": {},
   "outputs": [],
   "source": [
    "def visualizeTemplate(W):\n",
    "    '''This function allows us the visualize the template matrix (W)'''\n",
    "    fs = 22050\n",
    "    winsz = 2048\n",
    "    \n",
    "    maxFreq = W.shape[0]*fs/winsz\n",
    "    maxMidi = W.shape[1]\n",
    "    \n",
    "    plt.figure(figsize=(16,5))\n",
    "    plt.imshow(W, cmap='jet', origin = 'lower', aspect='auto', extent=(0, maxMidi, 0, maxFreq))\n",
    "    plt.xlabel('Note')\n",
    "    plt.ylabel('Frequency [Hz]')\n",
    "    plt.title('Template Matrix Visualization')\n",
    "    plt.colorbar()\n",
    "    plt.show()"
   ]
  },
  {
   "cell_type": "code",
   "execution_count": 10,
   "metadata": {},
   "outputs": [],
   "source": [
    "def visualizeActivations(H):\n",
    "    '''This function allows us the visualize the activations matrix (H)'''\n",
    "    fs = 22050\n",
    "    winsz = 2048\n",
    "    \n",
    "    maxNote = H.shape[0]\n",
    "    maxFrame = H.shape[1]\n",
    "    \n",
    "    plt.figure(figsize=(16,5))\n",
    "    plt.imshow(H, cmap='jet', origin = 'lower', aspect='auto', extent=(0, maxFrame, 0, maxNote))\n",
    "    plt.xlabel('Frames')\n",
    "    plt.ylabel('Note')\n",
    "    plt.title('Activation Matrix Visualization')\n",
    "    plt.colorbar()\n",
    "    plt.show()"
   ]
  },
  {
   "cell_type": "code",
   "execution_count": 11,
   "metadata": {},
   "outputs": [],
   "source": [
    "def visualizeSTFT(STFT):\n",
    "    '''This function allows us to visualize the log spectrogram of the STFT'''\n",
    "    fs = 22050\n",
    "    winsz = 2048\n",
    "    \n",
    "    maxFreq = STFT.shape[0]*fs/winsz\n",
    "    maxFrame = STFT.shape[1]\n",
    "    \n",
    "    plt.figure(figsize=(16,5))\n",
    "    plt.imshow(np.log(STFT), cmap='jet', vmin=-12, origin = 'lower', aspect='auto', extent=(0, maxFrame, 0, maxFreq))\n",
    "    plt.xlabel('Frame')\n",
    "    plt.ylabel('Frequency [Hz]')\n",
    "    plt.title('STFT Visualization')\n",
    "    plt.colorbar()\n",
    "    plt.show()"
   ]
  },
  {
   "cell_type": "markdown",
   "metadata": {},
   "source": [
    "## NMF"
   ]
  },
  {
   "cell_type": "code",
   "execution_count": 12,
   "metadata": {},
   "outputs": [],
   "source": [
    "def calcSTFT(audio, sr = 22050, winsz = 2048, hop = 512):\n",
    "    '''Calculate the STFT of the audio'''\n",
    "    f, t, Zxx = ss.stft(audio, sr, nperseg=winsz, noverlap=winsz-hop)\n",
    "    return Zxx"
   ]
  },
  {
   "cell_type": "code",
   "execution_count": 13,
   "metadata": {},
   "outputs": [],
   "source": [
    "def NMF(W, H, V):\n",
    "    '''The NMF function runs the algorithm until the NMF algorithm causes a change of less than 1e-6 '''\n",
    "    \n",
    "    count = 0\n",
    "    while(True):\n",
    "        prevEstimate = np.linalg.norm(V - np.matmul(W,H))\n",
    "        \n",
    "        H = (H*np.matmul(W.T, V))/(np.matmul(np.matmul(W.T, W), H))\n",
    "        W = (W*np.matmul(V, H.T))/(np.matmul(np.matmul(W, H), H.T))\n",
    "        \n",
    "        count += 1\n",
    "        newEstimate = np.linalg.norm(V - np.matmul(W,H))\n",
    "        \n",
    "        # Take the difference of the previous and newly computed values \n",
    "        # If the number is small, then that means there has been little to no change within the NMF algorithm\n",
    "        # and thus we can stop running the function\n",
    "        if np.abs(newEstimate - prevEstimate) <= 1e-6:\n",
    "            break\n",
    "    return W, H, count "
   ]
  },
  {
   "cell_type": "markdown",
   "metadata": {},
   "source": [
    "## Initializing templates"
   ]
  },
  {
   "cell_type": "code",
   "execution_count": 14,
   "metadata": {},
   "outputs": [],
   "source": [
    "def initTemplates(STFT, midiArray, deltaF=30, sr=22050, winSize=2048):\n",
    "    '''Creates the initial template for the W matrix'''\n",
    "    # Convert the midi array values into a frequency array\n",
    "    freqArray = 440 * pow(2, (midiArray-69)/12)\n",
    "    \n",
    "    # Convert the frequency array into an array of k values. Also convert deltaF into a k value as well.\n",
    "    kArray = np.round(freqArray*winSize/sr).astype(int)\n",
    "    deltaK = np.round(deltaF*winSize/sr).astype(int)\n",
    "    \n",
    "    # Create W with the same amount of rows as the STFT, and the amount of columns equal to number of notes\n",
    "    W = np.zeros([STFT.shape[0], len(kArray)])\n",
    "    \n",
    "    # Loop through the rows in each column\n",
    "    for i in range(W.shape[1]):\n",
    "        for j in range(W.shape[0]):\n",
    "            \n",
    "            # If our k value is a multiple of the row, we have hit the note, and/or its harmonic\n",
    "            if (j%kArray[i]==0):\n",
    "                \n",
    "                # Set the W array row equal to the max value\n",
    "                W[j,i] = np.random.rand()\n",
    "                \n",
    "                # Cases for harmonics are below, first init an array for the k values required to satisfy values\n",
    "                # around harmonic frequencies\n",
    "                deltaKRange = np.arange(1, (deltaK+1)*j/kArray[i])\n",
    "                \n",
    "                # We add the harmonic value to a range of k values based off of the deltaF entered\n",
    "                harmonicsPositive = j + deltaKRange\n",
    "                \n",
    "                # We then remove any k values that are greater than or equal to the amount of rows  \n",
    "                harmonicsPositive = np.delete(harmonicsPositive, np.where(harmonicsPositive>=W.shape[0])).astype(int)\n",
    "                \n",
    "                # We subtract a range of k values based off of the deltaF entered from the harmonic value\n",
    "                harmonicsNegative = j - deltaKRange\n",
    "                \n",
    "                # We then remove any k values that are less than 0 to avoid the out of bounds error  \n",
    "                harmonicsNegative = np.delete(harmonicsNegative, np.where(harmonicsNegative<0)).astype(int)\n",
    "                \n",
    "                # If an array is non-empty, we set the harmonic value + the deltaK values to be a random number\n",
    "\n",
    "                if harmonicsPositive.size > 0:\n",
    "                    # Create as many random numbers as indices selected\n",
    "                    W[harmonicsPositive, i] = np.random.rand(harmonicsPositive.size)\n",
    "                    \n",
    "                if harmonicsNegative.size > 0:\n",
    "                    # Create as many random numbers as indices selected\n",
    "                    W[harmonicsNegative, i] = np.random.rand(harmonicsNegative.size)\n",
    "            \n",
    "    return W        "
   ]
  },
  {
   "cell_type": "markdown",
   "metadata": {},
   "source": [
    "## Random Activation Initialization"
   ]
  },
  {
   "cell_type": "code",
   "execution_count": 15,
   "metadata": {},
   "outputs": [],
   "source": [
    "def naiveMatrixInit(STFT):\n",
    "    '''This function randomly fills in the W and H matrices with floats'''\n",
    "    numRows, numCols = STFT.shape\n",
    "    numNotes = 8\n",
    "    H = np.random.rand(numNotes, numCols)\n",
    "    return H"
   ]
  },
  {
   "cell_type": "markdown",
   "metadata": {},
   "source": [
    "## Score Metric"
   ]
  },
  {
   "cell_type": "code",
   "execution_count": 16,
   "metadata": {},
   "outputs": [],
   "source": [
    "def accuracyScore(queryStftMag, queryActivation, template):\n",
    "    \n",
    "    '''\n",
    "    This function calculates and returns the score for how accurately a scale matches up with the query.\n",
    "    '''\n",
    "    \n",
    "    vEstimate = np.matmul(template, queryActivation)\n",
    "    absDiff = np.abs(queryStftMag - vEstimate)\n",
    "    score = np.sum(absDiff)\n",
    "    \n",
    "    return score"
   ]
  },
  {
   "cell_type": "markdown",
   "metadata": {},
   "source": [
    "## Initiate template and activation matrices for the scales"
   ]
  },
  {
   "cell_type": "code",
   "execution_count": 17,
   "metadata": {},
   "outputs": [],
   "source": [
    "def getAudioTemplatesNMF(db_Scales, midiNotes):\n",
    "\n",
    "    '''\n",
    "    This function initializes a random H matrix and a W matrix for the audio based on the scale of the midi\n",
    "    notes, as well as the STFT, which are used for the NMF function. The function returns a database with the \n",
    "    artist's name as the key and W matrix as the value. \n",
    "    '''\n",
    "    \n",
    "    # Initialize W \n",
    "    dbW = {}\n",
    "    \n",
    "    # Loop through dictionary's items\n",
    "    for artist, audio in db_Scales.items():\n",
    "\n",
    "        # Calculations required for NMF \n",
    "        STFT = calcSTFT(audio)\n",
    "        magSTFT = np.abs(STFT)\n",
    "        initW = initTemplates(magSTFT, midiNotes)\n",
    "        \n",
    "        # Initialize Random Activation Matrix\n",
    "        randH = naiveMatrixInit(STFT)\n",
    "        \n",
    "        # Run the NMF algorithm\n",
    "        W, H, count = NMF(initW + 1e-9, randH + 1e-9, magSTFT)\n",
    "\n",
    "        # Save the H, W, and STFT magnitude values to their respective dictionaries.\n",
    "        dbW[artist] = W\n",
    "\n",
    "    return dbW"
   ]
  },
  {
   "cell_type": "code",
   "execution_count": 18,
   "metadata": {},
   "outputs": [],
   "source": [
    "def calculateSinger(db_Queries, db_Templates):\n",
    "    \n",
    "    '''\n",
    "    This function iterates through all the queries, calculates the stft of the query, and then iterates through all\n",
    "    the artist templates. It then calculates the optimal activation matrix as well as the corresponding score. \n",
    "    The lowest score calculated equates to the best artist template that matches the query, and we store the query \n",
    "    artist name with the template name and its score into a dictionary. The function then returns the dictionary.\n",
    "    '''\n",
    "    \n",
    "    # Initialize pairing dictionary\n",
    "    singerPairings = {}\n",
    "    \n",
    "    # Loop through the query dictionary's items\n",
    "    for artistQuery, audio in db_Queries.items():\n",
    "        \n",
    "        print('Query Artist Name: ' , artistQuery)\n",
    "        \n",
    "        # Calculate STFT for the query\n",
    "        STFT = calcSTFT(audio)\n",
    "        magSTFT = np.abs(STFT)\n",
    "        bestArtist = ''\n",
    "        lowestScore = np.inf\n",
    "        \n",
    "        # Iterate through all the templates, \n",
    "        for artistTemplate, template in db_Templates.items():\n",
    "            \n",
    "            artistActivation = np.matmul(np.linalg.inv(np.matmul(template.T, template)), \n",
    "                                     np.matmul(template.T, magSTFT))\n",
    "            \n",
    "            score = accuracyScore(magSTFT, artistActivation, template)\n",
    "            print('Template Name and Score: ', artistTemplate, ', ', score)\n",
    "            \n",
    "            if score < lowestScore:\n",
    "                bestArtist = artistTemplate\n",
    "                lowestScore = score\n",
    "                \n",
    "        print('Best Template Match: ', bestArtist)        \n",
    "        singerPairings[artistQuery] = (bestArtist, lowestScore)\n",
    "            \n",
    "    return singerPairings"
   ]
  },
  {
   "cell_type": "code",
   "execution_count": 19,
   "metadata": {},
   "outputs": [],
   "source": [
    "midiNotes = np.array([60, 62, 64, 65, 67, 69, 71, 72]) # This list contains the midi values for notes C4 to C5 aka 60 to 72, skipping sharps"
   ]
  },
  {
   "cell_type": "code",
   "execution_count": 20,
   "metadata": {
    "scrolled": false
   },
   "outputs": [],
   "source": [
    "db_Templates = getAudioTemplatesNMF(db_Scales, midiNotes)"
   ]
  },
  {
   "cell_type": "code",
   "execution_count": 21,
   "metadata": {},
   "outputs": [
    {
     "name": "stdout",
     "output_type": "stream",
     "text": [
      "Query Artist Name:  Cynthia\n",
      "Template Name and Score:  Sabrina ,  98.56963284595095\n",
      "Template Name and Score:  Cynthia ,  92.20217945949825\n",
      "Template Name and Score:  Willis ,  109.39051785443567\n",
      "Template Name and Score:  Kaitlyn ,  101.95347009569258\n",
      "Template Name and Score:  Gary ,  102.88216292750279\n",
      "Template Name and Score:  Lilly ,  92.6443521874755\n",
      "Template Name and Score:  Maddie ,  95.07435738875112\n",
      "Template Name and Score:  Gabe ,  110.73070425552378\n",
      "Template Name and Score:  Hannah ,  101.48232920879886\n",
      "Template Name and Score:  Kailee ,  88.07266847777223\n",
      "Best Template Match:  Kailee\n",
      "Query Artist Name:  Kailee\n",
      "Template Name and Score:  Sabrina ,  236.60179532369517\n",
      "Template Name and Score:  Cynthia ,  215.07139858114292\n",
      "Template Name and Score:  Willis ,  265.30386462568265\n",
      "Template Name and Score:  Kaitlyn ,  228.78001778738525\n",
      "Template Name and Score:  Gary ,  253.93491725482707\n",
      "Template Name and Score:  Lilly ,  224.2506476985212\n",
      "Template Name and Score:  Maddie ,  206.26788766695307\n",
      "Template Name and Score:  Gabe ,  257.44537821705353\n",
      "Template Name and Score:  Hannah ,  232.67459531072342\n",
      "Template Name and Score:  Kailee ,  199.99305380057493\n",
      "Best Template Match:  Kailee\n",
      "Query Artist Name:  Willis\n",
      "Template Name and Score:  Sabrina ,  61.28127290916714\n",
      "Template Name and Score:  Cynthia ,  53.655708086765436\n",
      "Template Name and Score:  Willis ,  55.60437648230692\n",
      "Template Name and Score:  Kaitlyn ,  61.28108422909171\n",
      "Template Name and Score:  Gary ,  54.14321475202126\n",
      "Template Name and Score:  Lilly ,  58.48716384813118\n",
      "Template Name and Score:  Maddie ,  57.0318303001466\n",
      "Template Name and Score:  Gabe ,  61.15811382480367\n",
      "Template Name and Score:  Hannah ,  59.35574524540302\n",
      "Template Name and Score:  Kailee ,  54.14716087199423\n",
      "Best Template Match:  Cynthia\n",
      "Query Artist Name:  Kaitlyn\n",
      "Template Name and Score:  Sabrina ,  81.43669781764204\n",
      "Template Name and Score:  Cynthia ,  75.68790544684674\n",
      "Template Name and Score:  Willis ,  96.0105034060536\n",
      "Template Name and Score:  Kaitlyn ,  72.06571559977671\n",
      "Template Name and Score:  Gary ,  91.45878800914474\n",
      "Template Name and Score:  Lilly ,  81.04494677099167\n",
      "Template Name and Score:  Maddie ,  76.77150421195985\n",
      "Template Name and Score:  Gabe ,  91.05642113607315\n",
      "Template Name and Score:  Hannah ,  83.81159594538869\n",
      "Template Name and Score:  Kailee ,  67.81788523921833\n",
      "Best Template Match:  Kailee\n",
      "Query Artist Name:  Lilly\n",
      "Template Name and Score:  Sabrina ,  150.14275813745846\n",
      "Template Name and Score:  Cynthia ,  134.6944648409303\n",
      "Template Name and Score:  Willis ,  169.76628545341813\n",
      "Template Name and Score:  Kaitlyn ,  142.6043577107298\n",
      "Template Name and Score:  Gary ,  168.78724876987621\n",
      "Template Name and Score:  Lilly ,  131.35849503136697\n",
      "Template Name and Score:  Maddie ,  124.14527864289707\n",
      "Template Name and Score:  Gabe ,  167.04385554770798\n",
      "Template Name and Score:  Hannah ,  147.85242929427994\n",
      "Template Name and Score:  Kailee ,  130.73438106917104\n",
      "Best Template Match:  Maddie\n",
      "Query Artist Name:  Sabrina\n",
      "Template Name and Score:  Sabrina ,  198.1850897571831\n",
      "Template Name and Score:  Cynthia ,  199.237786593319\n",
      "Template Name and Score:  Willis ,  227.39095079371756\n",
      "Template Name and Score:  Kaitlyn ,  201.84482376609768\n",
      "Template Name and Score:  Gary ,  211.550908820209\n",
      "Template Name and Score:  Lilly ,  202.77188686464777\n",
      "Template Name and Score:  Maddie ,  208.0179789046837\n",
      "Template Name and Score:  Gabe ,  231.2537642756559\n",
      "Template Name and Score:  Hannah ,  210.21993370800018\n",
      "Template Name and Score:  Kailee ,  189.83357822012542\n",
      "Best Template Match:  Kailee\n",
      "Query Artist Name:  Gary\n",
      "Template Name and Score:  Sabrina ,  159.9225353001393\n",
      "Template Name and Score:  Cynthia ,  135.09785115539768\n",
      "Template Name and Score:  Willis ,  135.1520650973245\n",
      "Template Name and Score:  Kaitlyn ,  158.48434702304638\n",
      "Template Name and Score:  Gary ,  123.45201821620905\n",
      "Template Name and Score:  Lilly ,  156.07751317996977\n",
      "Template Name and Score:  Maddie ,  145.6400823144814\n",
      "Template Name and Score:  Gabe ,  170.688844791755\n",
      "Template Name and Score:  Hannah ,  158.8975845243326\n",
      "Template Name and Score:  Kailee ,  136.44064403476588\n",
      "Best Template Match:  Gary\n",
      "Query Artist Name:  Maddie\n",
      "Template Name and Score:  Sabrina ,  27.11534876181696\n",
      "Template Name and Score:  Cynthia ,  25.042860327321293\n",
      "Template Name and Score:  Willis ,  28.622049651459506\n",
      "Template Name and Score:  Kaitlyn ,  25.99302577319696\n",
      "Template Name and Score:  Gary ,  27.742875275039026\n",
      "Template Name and Score:  Lilly ,  23.749317846345182\n",
      "Template Name and Score:  Maddie ,  20.70622029283451\n",
      "Template Name and Score:  Gabe ,  28.06057693031607\n",
      "Template Name and Score:  Hannah ,  24.155373710056516\n",
      "Template Name and Score:  Kailee ,  23.820135798717143\n",
      "Best Template Match:  Maddie\n",
      "Query Artist Name:  Hannah\n",
      "Template Name and Score:  Sabrina ,  47.16333162234994\n",
      "Template Name and Score:  Cynthia ,  40.94981406149395\n",
      "Template Name and Score:  Willis ,  57.09588835585971\n",
      "Template Name and Score:  Kaitlyn ,  49.046863710602324\n",
      "Template Name and Score:  Gary ,  54.5563240823596\n",
      "Template Name and Score:  Lilly ,  46.84065620253054\n",
      "Template Name and Score:  Maddie ,  44.26396775944864\n",
      "Template Name and Score:  Gabe ,  53.67944245804654\n",
      "Template Name and Score:  Hannah ,  49.71086040417042\n",
      "Template Name and Score:  Kailee ,  41.36780456468356\n",
      "Best Template Match:  Cynthia\n",
      "Query Artist Name:  Gabe\n",
      "Template Name and Score:  Sabrina ,  136.31693189556057\n",
      "Template Name and Score:  Cynthia ,  120.55915310734598\n",
      "Template Name and Score:  Willis ,  122.42979058045124\n",
      "Template Name and Score:  Kaitlyn ,  135.92584736133654\n",
      "Template Name and Score:  Gary ,  114.24221105188346\n",
      "Template Name and Score:  Lilly ,  132.18458350152474\n",
      "Template Name and Score:  Maddie ,  125.88617269413977\n",
      "Template Name and Score:  Gabe ,  135.32855871076222\n",
      "Template Name and Score:  Hannah ,  131.16437919287262\n",
      "Template Name and Score:  Kailee ,  118.91990362800084\n",
      "Best Template Match:  Gary\n"
     ]
    }
   ],
   "source": [
    "singerPairings = calculateSinger(db_JingleBells, db_Templates)"
   ]
  },
  {
   "cell_type": "code",
   "execution_count": 22,
   "metadata": {},
   "outputs": [],
   "source": [
    "def accuracyTest(singerPairings):\n",
    "    \n",
    "    '''\n",
    "    This function is used to test the accuracy of the system.\n",
    "    '''\n",
    "    \n",
    "    # Initialize variables\n",
    "    amountCorrect = 0\n",
    "    totalSongs = len(singerPairings)\n",
    "    \n",
    "    # Loop through the singerPairings database \n",
    "    for querySinger, resultsSingerAndScore in singerPairings.items():\n",
    "        \n",
    "        if querySinger == resultsSingerAndScore[0]:\n",
    "            amountCorrect += 1\n",
    "    \n",
    "    return amountCorrect/totalSongs"
   ]
  },
  {
   "cell_type": "code",
   "execution_count": 23,
   "metadata": {
    "scrolled": false
   },
   "outputs": [],
   "source": [
    "accuracy = accuracyTest(singerPairings)"
   ]
  },
  {
   "cell_type": "code",
   "execution_count": 24,
   "metadata": {},
   "outputs": [
    {
     "data": {
      "text/plain": [
       "0.3"
      ]
     },
     "execution_count": 24,
     "metadata": {},
     "output_type": "execute_result"
    }
   ],
   "source": [
    "accuracy"
   ]
  },
  {
   "cell_type": "code",
   "execution_count": null,
   "metadata": {},
   "outputs": [],
   "source": []
  },
  {
   "cell_type": "code",
   "execution_count": 25,
   "metadata": {},
   "outputs": [],
   "source": [
    "def accuracyTestMultiple(db_JingleBells, db_Scales, midiNotes, numTests):\n",
    "    '''\n",
    "    This function is used to run multiple tests on the databases of scales and songs. It outputs the average \n",
    "    accuracy after numTests are run.\n",
    "    '''\n",
    "    \n",
    "    totalAccuracy = 0\n",
    "    totalIterations = numTests\n",
    "    \n",
    "    while(numTests>=1):\n",
    "        # Get the templates based off the scales\n",
    "        db_Templates = getAudioTemplatesNMF(db_Scales, midiNotes)\n",
    "        \n",
    "        # Create the singer pairings dictionary \n",
    "        singerPairings = calculateSinger(db_JingleBells, db_Templates)\n",
    "        \n",
    "        # Get the overall accuracy\n",
    "        totalAccuracy += accuracyTest(singerPairings)\n",
    "        \n",
    "        numTests -= 1\n",
    "        \n",
    "    return totalAccuracy / totalIterations  "
   ]
  },
  {
   "cell_type": "code",
   "execution_count": 26,
   "metadata": {},
   "outputs": [],
   "source": [
    "# accuracy10Tests = accuracyTestMultiple(db_JingleBells, db_Scales, midiNotes, 10)"
   ]
  },
  {
   "cell_type": "code",
   "execution_count": 27,
   "metadata": {},
   "outputs": [],
   "source": [
    "# print(accuracy10Tests)"
   ]
  },
  {
   "cell_type": "markdown",
   "metadata": {},
   "source": [
    "# Archive"
   ]
  },
  {
   "cell_type": "markdown",
   "metadata": {},
   "source": [
    "## Midi Notes and Timing"
   ]
  },
  {
   "cell_type": "code",
   "execution_count": 28,
   "metadata": {},
   "outputs": [],
   "source": [
    "def noteToIdx(note):\n",
    "    '''\n",
    "    This function will be used to transcribe the given note into an index value (0-11). \n",
    "    '''\n",
    "    \n",
    "    if note == 'C':\n",
    "        return 0\n",
    "    elif note=='C#': \n",
    "        return 1\n",
    "    elif note=='D':\n",
    "        return 2\n",
    "    elif note=='D#':\n",
    "        return 3\n",
    "    elif note=='E':\n",
    "        return 4\n",
    "    elif note=='F':\n",
    "        return 5\n",
    "    elif note=='F#':\n",
    "        return 6\n",
    "    elif note=='G':\n",
    "        return 7\n",
    "    elif note=='G#':\n",
    "        return 8\n",
    "    elif note=='A':\n",
    "        return 9\n",
    "    elif note=='A#':\n",
    "        return 10\n",
    "    else:\n",
    "        # Case for when the note is B\n",
    "        return 11"
   ]
  },
  {
   "cell_type": "code",
   "execution_count": 29,
   "metadata": {},
   "outputs": [],
   "source": [
    "def notesToIdx(noteArray):\n",
    "    \n",
    "    '''\n",
    "    This function will be used to transcribe the given notes into an index value (0-11) array. \n",
    "    '''\n",
    "    \n",
    "    noteIdxArray = []\n",
    "    \n",
    "    for i in range(len(noteArray)):\n",
    "        \n",
    "        noteIdxArray.append(noteToIdx(noteArray[i]))\n",
    "    \n",
    "    return np.array(noteIdxArray)"
   ]
  },
  {
   "cell_type": "code",
   "execution_count": 30,
   "metadata": {},
   "outputs": [],
   "source": [
    "def createNoteEvents(notes,noteStartTimesArray):\n",
    "    \n",
    "    '''\n",
    "    This function is used to convert the notes into indices and then \n",
    "    combine the note indices with their corresponding start times.\n",
    "    '''\n",
    "    \n",
    "    noteEvents = []\n",
    "    \n",
    "    noteIdxArray = notesToIdx(notes)\n",
    "\n",
    "    for i in range(len(noteIdxArray)):\n",
    "        \n",
    "        noteEvents.append((noteIdxArray[i], noteStartTimesArray[i]))\n",
    "    \n",
    "    return noteEvents"
   ]
  },
  {
   "cell_type": "code",
   "execution_count": 31,
   "metadata": {},
   "outputs": [],
   "source": [
    "# Notes and timing for Jingle Bells were transcribing using the chorus found here: \n",
    "# https://www.bethsnotesplus.com/2014/07/jingle-bells.html\n",
    "\n",
    "notes = np.array(['E', 'E', 'E', 'E', 'E', 'E', 'E', 'G', 'C', 'D', 'E', 'F', 'F', 'F', 'F', 'F', 'E', 'E',   \n",
    "                  'E', 'E', 'E', 'D', 'D', 'E', 'D'])\n",
    "    \n",
    "    #, 'G'\n",
    "    \n",
    "notesB = np.array(['B', 'B', 'B', 'B', 'B', 'B', 'B', 'D', 'G', 'A', 'B', 'C', 'C', 'C', 'C', 'C', 'B', \n",
    "                   'B', 'B', 'B', 'B', 'A', 'A', 'B', 'A', 'D','B', 'B', 'B', 'B', 'B', 'B', 'B', 'D', \n",
    "                   'G', 'A', 'B', 'C', 'C', 'C', 'C', 'C', 'B', 'B', 'B', 'B', 'D', 'D', 'C', 'A', 'G'])\n",
    "\n",
    "noteTiming = np.array([0,1,2,4,5,6,8,9,10,11.5,12,17,18,19.5,20,21,22,23,23.5,24,25,26,27,28,30,32,33,34,36,\n",
    "                       37,38,40,41,42,43.5,44,48,49,50,51.5,52,53,54,55,55.5,56,57,58,59,60,64])\n",
    "\n",
    "noteStartTimes = np.array([0, 0.24,  0.48,  0.96,  1.2 ,  1.44,  1.92,  2.16,  2.4 ,  2.76,\n",
    "        2.88,  4.08,  4.32,  4.68,  4.8 ,  5.04,  5.28,  5.52,  5.64,\n",
    "        5.76,  6.  ,  6.24,  6.48,  6.72,  7.2 ,  7.68,  7.92,  8.16,\n",
    "        8.64,  8.88,  9.12,  9.6 ,  9.84, 10.08, 10.44, 10.56, 11.52,\n",
    "       11.76, 12.  , 12.36, 12.48, 12.72, 12.96, 13.2 , 13.32, 13.44,\n",
    "       13.68, 13.92, 14.16, 14.4 , 15.36])"
   ]
  },
  {
   "cell_type": "code",
   "execution_count": 32,
   "metadata": {},
   "outputs": [],
   "source": [
    "noteEvents = createNoteEvents(notes, noteStartTimes[:len(notes)])"
   ]
  },
  {
   "cell_type": "markdown",
   "metadata": {},
   "source": [
    "## Initialize Activations"
   ]
  },
  {
   "cell_type": "code",
   "execution_count": 33,
   "metadata": {},
   "outputs": [],
   "source": [
    "def initActivations(Zxx, midiNotes, noteEvents, fs=22050, hopsize=512, deltaT=.5):\n",
    "    '''This function allows us to initialize the H matrix by utilizing the STFT and the noteEvents.'''\n",
    "    \n",
    "    numNotes = len(midiNotes)\n",
    "    numFrames = Zxx.shape[1]\n",
    "    H = np.zeros([numNotes, numFrames])\n",
    "    maxNoteLengthInFrames = int(1*fs/hopsize) #this value is for the 1 second that each note plays for\n",
    "    deltaFrames = int(deltaT*fs/hopsize) #converts the deltaT (onset value) into frames\n",
    "    \n",
    "    # Create a range of values that span from the -onset value to the totalDuration + the onset value\n",
    "    noteLengthInFrames = np.arange(-deltaFrames, maxNoteLengthInFrames + deltaFrames + 1) \n",
    "    for i in range(len(noteEvents)):\n",
    "        note = noteEvents[i][0]\n",
    "        actTime = noteEvents[i][1] #time when the note is activated \n",
    "        actFrame = int(actTime*fs/hopsize) #convert the time into frames\n",
    "        \n",
    "        # Creates an array of frame values that need to be set to random, non-zero numbers\n",
    "        noteTimeActive = actFrame + noteLengthInFrames \n",
    "        \n",
    "        # Remove frames that are less than zero and greater than shape of activation matrix\n",
    "        noteTimeActive = np.delete(noteTimeActive, np.where(noteTimeActive < 0)).astype(int)\n",
    "        noteTimeActive = np.delete(noteTimeActive, np.where(noteTimeActive >= H.shape[1])).astype(int)\n",
    "        \n",
    "        # Create as many random numbers as indices selected\n",
    "        H[note, noteTimeActive] = np.random.rand(noteTimeActive.size)\n",
    "        \n",
    "    return H"
   ]
  },
  {
   "cell_type": "markdown",
   "metadata": {},
   "source": [
    "## Experimentation"
   ]
  },
  {
   "cell_type": "code",
   "execution_count": 34,
   "metadata": {},
   "outputs": [],
   "source": [
    "def NMFFixedW(W, V):\n",
    "    '''The NMF function with a fixed W matrix runs the algorithm until it causes a change of less than 1e-6 '''\n",
    "    \n",
    "    H = naiveMatrixInit(V)\n",
    "    count = 0\n",
    "    while(True):\n",
    "        prevEstimate = np.linalg.norm(V - np.matmul(W,H))\n",
    "        \n",
    "        H = (H*np.matmul(W.T, V))/(np.matmul(np.matmul(W.T, W), H))\n",
    "        \n",
    "        count += 1\n",
    "        newEstimate = np.linalg.norm(V - np.matmul(W,H))\n",
    "        \n",
    "        # Take the difference of the previous and newly computed values \n",
    "        # If the number is small, then that means there has been little to no change within the NMF algorithm\n",
    "        # and thus we can stop running the function\n",
    "        if np.abs(newEstimate - prevEstimate) <= 1e-6:\n",
    "            break\n",
    "    return H"
   ]
  },
  {
   "cell_type": "code",
   "execution_count": 35,
   "metadata": {},
   "outputs": [],
   "source": [
    "def calculateSingerFixedW(db_Queries, db_Templates):\n",
    "    \n",
    "    '''\n",
    "    This function iterates through all the queries, calculates the stft of the query, and then iterates through all\n",
    "    the artist templates. It then calculates the optimal activation matrix as well as the corresponding score. \n",
    "    The lowest score calculated equates to the best artist template that matches the query, and we store the query \n",
    "    artist name with the template name and its score into a dictionary. The function then returns the dictionary.\n",
    "    '''\n",
    "    \n",
    "    # Initialize pairing dictionary\n",
    "    singerPairings = {}\n",
    "    \n",
    "    # Loop through the query dictionary's items\n",
    "    for artistQuery, audio in db_Queries.items():\n",
    "        \n",
    "        print('Query Artist Name: ' , artistQuery)\n",
    "        \n",
    "        # Calculate STFT for the query\n",
    "        STFT = calcSTFT(audio)\n",
    "        magSTFT = np.abs(STFT)\n",
    "        bestArtist = ''\n",
    "        lowestScore = np.inf\n",
    "        \n",
    "        # Iterate through all the templates, \n",
    "        for artistTemplate, template in db_Templates.items():\n",
    "            \n",
    "            artistActivation = NMFFixedW(template, magSTFT)\n",
    "            \n",
    "            curScore = accuracyScore(magSTFT, artistActivation, template)\n",
    "            print('Template Name and Score: ', artistTemplate, ', ', curScore)\n",
    "            \n",
    "            if curScore < lowestScore:\n",
    "                bestArtist = artistTemplate\n",
    "                lowestScore = curScore\n",
    "                \n",
    "        print('Best Template Match: ', bestArtist)        \n",
    "        singerPairings[artistQuery] = (bestArtist, lowestScore)\n",
    "            \n",
    "    return singerPairings"
   ]
  },
  {
   "cell_type": "code",
   "execution_count": 36,
   "metadata": {
    "scrolled": false
   },
   "outputs": [
    {
     "name": "stdout",
     "output_type": "stream",
     "text": [
      "Query Artist Name:  Cynthia\n",
      "Template Name and Score:  Sabrina ,  98.30322077902923\n",
      "Template Name and Score:  Cynthia ,  91.8285877087168\n",
      "Template Name and Score:  Willis ,  105.51641104759891\n",
      "Template Name and Score:  Kaitlyn ,  101.30842327476978\n",
      "Template Name and Score:  Gary ,  101.41000428581194\n",
      "Template Name and Score:  Lilly ,  91.47390427003198\n",
      "Template Name and Score:  Maddie ,  94.07964402315406\n",
      "Template Name and Score:  Gabe ,  108.21375641803105\n",
      "Template Name and Score:  Hannah ,  100.7278541222948\n",
      "Template Name and Score:  Kailee ,  87.86698688120981\n",
      "Best Template Match:  Kailee\n",
      "Query Artist Name:  Kailee\n",
      "Template Name and Score:  Sabrina ,  235.7990834073736\n",
      "Template Name and Score:  Cynthia ,  214.61062963680996\n",
      "Template Name and Score:  Willis ,  250.12613283949844\n",
      "Template Name and Score:  Kaitlyn ,  228.56034543692445\n",
      "Template Name and Score:  Gary ,  248.3106512139076\n",
      "Template Name and Score:  Lilly ,  218.0973429679476\n",
      "Template Name and Score:  Maddie ,  203.821649503821\n",
      "Template Name and Score:  Gabe ,  247.28948240714246\n",
      "Template Name and Score:  Hannah ,  230.02870424849965\n",
      "Template Name and Score:  Kailee ,  199.3942624643167\n",
      "Best Template Match:  Kailee\n",
      "Query Artist Name:  Willis\n",
      "Template Name and Score:  Sabrina ,  61.3196014152001\n",
      "Template Name and Score:  Cynthia ,  53.50585347633081\n",
      "Template Name and Score:  Willis ,  54.23277435491441\n",
      "Template Name and Score:  Kaitlyn ,  61.29655680630495\n",
      "Template Name and Score:  Gary ,  53.68673581743104\n",
      "Template Name and Score:  Lilly ,  58.3144968669604\n",
      "Template Name and Score:  Maddie ,  56.82919377109583\n",
      "Template Name and Score:  Gabe ,  58.08790592207381\n",
      "Template Name and Score:  Hannah ,  59.262204141627954\n",
      "Template Name and Score:  Kailee ,  54.07630528732884\n",
      "Best Template Match:  Cynthia\n",
      "Query Artist Name:  Kaitlyn\n",
      "Template Name and Score:  Sabrina ,  80.9855290083249\n",
      "Template Name and Score:  Cynthia ,  75.40172150623175\n",
      "Template Name and Score:  Willis ,  90.57317965888502\n",
      "Template Name and Score:  Kaitlyn ,  71.22632274183758\n",
      "Template Name and Score:  Gary ,  89.333635936584\n",
      "Template Name and Score:  Lilly ,  78.15193814562765\n",
      "Template Name and Score:  Maddie ,  75.4525594708505\n",
      "Template Name and Score:  Gabe ,  88.50767739830444\n",
      "Template Name and Score:  Hannah ,  82.7175023351561\n",
      "Template Name and Score:  Kailee ,  67.560171707602\n",
      "Best Template Match:  Kailee\n",
      "Query Artist Name:  Lilly\n",
      "Template Name and Score:  Sabrina ,  149.99948953412513\n",
      "Template Name and Score:  Cynthia ,  134.23317990751497\n",
      "Template Name and Score:  Willis ,  159.46660285891988\n",
      "Template Name and Score:  Kaitlyn ,  143.29485955750516\n",
      "Template Name and Score:  Gary ,  165.2497061796765\n",
      "Template Name and Score:  Lilly ,  127.07383381327826\n",
      "Template Name and Score:  Maddie ,  122.16757960372944\n",
      "Template Name and Score:  Gabe ,  161.45373987365213\n",
      "Template Name and Score:  Hannah ,  146.00215358547783\n",
      "Template Name and Score:  Kailee ,  130.4256531107029\n",
      "Best Template Match:  Maddie\n",
      "Query Artist Name:  Sabrina\n",
      "Template Name and Score:  Sabrina ,  197.65315459007127\n",
      "Template Name and Score:  Cynthia ,  198.3499217302094\n",
      "Template Name and Score:  Willis ,  222.39344146561334\n",
      "Template Name and Score:  Kaitlyn ,  200.61816948609268\n",
      "Template Name and Score:  Gary ,  208.15554922048884\n",
      "Template Name and Score:  Lilly ,  201.06231180325966\n",
      "Template Name and Score:  Maddie ,  206.4640195555276\n",
      "Template Name and Score:  Gabe ,  226.33079564864258\n",
      "Template Name and Score:  Hannah ,  208.89539237253234\n",
      "Template Name and Score:  Kailee ,  188.67526418636174\n",
      "Best Template Match:  Kailee\n",
      "Query Artist Name:  Gary\n",
      "Template Name and Score:  Sabrina ,  159.78268449734597\n",
      "Template Name and Score:  Cynthia ,  134.9192926367208\n",
      "Template Name and Score:  Willis ,  132.04485372520946\n",
      "Template Name and Score:  Kaitlyn ,  158.5412104545432\n",
      "Template Name and Score:  Gary ,  121.38129348781575\n",
      "Template Name and Score:  Lilly ,  155.37394048989384\n",
      "Template Name and Score:  Maddie ,  145.1165998139598\n",
      "Template Name and Score:  Gabe ,  156.34615996468915\n",
      "Template Name and Score:  Hannah ,  158.96545900227463\n",
      "Template Name and Score:  Kailee ,  136.05698577546877\n",
      "Best Template Match:  Gary\n",
      "Query Artist Name:  Maddie\n",
      "Template Name and Score:  Sabrina ,  27.0785900894142\n",
      "Template Name and Score:  Cynthia ,  24.977587388427168\n",
      "Template Name and Score:  Willis ,  27.203079529218865\n",
      "Template Name and Score:  Kaitlyn ,  26.202055499893046\n",
      "Template Name and Score:  Gary ,  27.17764738080387\n",
      "Template Name and Score:  Lilly ,  23.253968752197792\n",
      "Template Name and Score:  Maddie ,  20.407168820924163\n",
      "Template Name and Score:  Gabe ,  27.02867604171032\n",
      "Template Name and Score:  Hannah ,  23.933342212307576\n",
      "Template Name and Score:  Kailee ,  23.76907548691238\n",
      "Best Template Match:  Maddie\n",
      "Query Artist Name:  Hannah\n",
      "Template Name and Score:  Sabrina ,  47.069133457133276\n",
      "Template Name and Score:  Cynthia ,  40.73422119042246\n",
      "Template Name and Score:  Willis ,  54.88230205000743\n",
      "Template Name and Score:  Kaitlyn ,  48.75641811623028\n",
      "Template Name and Score:  Gary ,  53.08167460000389\n",
      "Template Name and Score:  Lilly ,  46.00279862551078\n",
      "Template Name and Score:  Maddie ,  43.60118464133412\n",
      "Template Name and Score:  Gabe ,  52.263729673964555\n",
      "Template Name and Score:  Hannah ,  48.85227983414352\n",
      "Template Name and Score:  Kailee ,  41.25269412576289\n",
      "Best Template Match:  Cynthia\n",
      "Query Artist Name:  Gabe\n",
      "Template Name and Score:  Sabrina ,  136.3884289574724\n",
      "Template Name and Score:  Cynthia ,  120.36498713753384\n",
      "Template Name and Score:  Willis ,  120.12761685605429\n",
      "Template Name and Score:  Kaitlyn ,  135.97571902533076\n",
      "Template Name and Score:  Gary ,  113.15673010251723\n",
      "Template Name and Score:  Lilly ,  131.86429896751417\n",
      "Template Name and Score:  Maddie ,  125.62317931500358\n",
      "Template Name and Score:  Gabe ,  127.44392107517918\n",
      "Template Name and Score:  Hannah ,  130.95387778954716\n",
      "Template Name and Score:  Kailee ,  118.74106056723777\n",
      "Best Template Match:  Gary\n"
     ]
    }
   ],
   "source": [
    "singerPairingsFixedW = calculateSingerFixedW(db_JingleBells, db_Templates)"
   ]
  },
  {
   "cell_type": "code",
   "execution_count": 37,
   "metadata": {
    "scrolled": false
   },
   "outputs": [],
   "source": [
    "accuracyScoreFixedW = accuracyTest(singerPairings)"
   ]
  },
  {
   "cell_type": "code",
   "execution_count": 38,
   "metadata": {
    "scrolled": true
   },
   "outputs": [
    {
     "data": {
      "text/plain": [
       "0.3"
      ]
     },
     "execution_count": 38,
     "metadata": {},
     "output_type": "execute_result"
    }
   ],
   "source": [
    "accuracyScoreFixedW"
   ]
  },
  {
   "cell_type": "markdown",
   "metadata": {},
   "source": [
    "## Visualization testing"
   ]
  },
  {
   "cell_type": "code",
   "execution_count": 39,
   "metadata": {
    "scrolled": false
   },
   "outputs": [
    {
     "name": "stdout",
     "output_type": "stream",
     "text": [
      "Sabrina\n"
     ]
    },
    {
     "data": {
      "image/png": "[encoded data removed]",
      "text/plain": [
       "<Figure size 1152x360 with 2 Axes>"
      ]
     },
     "metadata": {},
     "output_type": "display_data"
    },
    {
     "name": "stdout",
     "output_type": "stream",
     "text": [
      "Cynthia\n"
     ]
    },
    {
     "data": {
      "image/png": "[encoded data removed]",
      "text/plain": [
       "<Figure size 1152x360 with 2 Axes>"
      ]
     },
     "metadata": {},
     "output_type": "display_data"
    },
    {
     "name": "stdout",
     "output_type": "stream",
     "text": [
      "Willis\n"
     ]
    },
    {
     "data": {
      "image/png": "[encoded data removed]",
      "text/plain": [
       "<Figure size 1152x360 with 2 Axes>"
      ]
     },
     "metadata": {},
     "output_type": "display_data"
    },
    {
     "name": "stdout",
     "output_type": "stream",
     "text": [
      "Kaitlyn\n"
     ]
    },
    {
     "data": {
      "image/png": "[encoded data removed]",
      "text/plain": [
       "<Figure size 1152x360 with 2 Axes>"
      ]
     },
     "metadata": {},
     "output_type": "display_data"
    },
    {
     "name": "stdout",
     "output_type": "stream",
     "text": [
      "Gary\n"
     ]
    },
    {
     "data": {
      "image/png": "[encoded data removed]",
      "text/plain": [
       "<Figure size 1152x360 with 2 Axes>"
      ]
     },
     "metadata": {},
     "output_type": "display_data"
    },
    {
     "name": "stdout",
     "output_type": "stream",
     "text": [
      "Lilly\n"
     ]
    },
    {
     "data": {
      "image/png": "[encoded data removed]",
      "text/plain": [
       "<Figure size 1152x360 with 2 Axes>"
      ]
     },
     "metadata": {},
     "output_type": "display_data"
    },
    {
     "name": "stdout",
     "output_type": "stream",
     "text": [
      "Maddie\n"
     ]
    },
    {
     "data": {
      "image/png": "[encoded data removed]",
      "text/plain": [
       "<Figure size 1152x360 with 2 Axes>"
      ]
     },
     "metadata": {},
     "output_type": "display_data"
    },
    {
     "name": "stdout",
     "output_type": "stream",
     "text": [
      "Gabe\n"
     ]
    },
    {
     "data": {
      "image/png": "[encoded data removed]",
      "text/plain": [
       "<Figure size 1152x360 with 2 Axes>"
      ]
     },
     "metadata": {},
     "output_type": "display_data"
    },
    {
     "name": "stdout",
     "output_type": "stream",
     "text": [
      "Hannah\n"
     ]
    },
    {
     "data": {
      "image/png": "[encoded data removed]",
      "text/plain": [
       "<Figure size 1152x360 with 2 Axes>"
      ]
     },
     "metadata": {},
     "output_type": "display_data"
    },
    {
     "name": "stdout",
     "output_type": "stream",
     "text": [
      "Kailee\n"
     ]
    },
    {
     "data": {
      "image/png": "[encoded data removed]",
      "text/plain": [
       "<Figure size 1152x360 with 2 Axes>"
      ]
     },
     "metadata": {},
     "output_type": "display_data"
    }
   ],
   "source": [
    "for name, audio in db_Templates.items():\n",
    "    print(name)\n",
    "#     visualizeSTFT(np.abs(calcSTFT(audio)))\n",
    "    visualizeTemplate(db_Templates[name])\n"
   ]
  },
  {
   "cell_type": "code",
   "execution_count": null,
   "metadata": {},
   "outputs": [],
   "source": []
  },
  {
   "cell_type": "code",
   "execution_count": 40,
   "metadata": {},
   "outputs": [
    {
     "name": "stdout",
     "output_type": "stream",
     "text": [
      "Sabrina\n",
      "(1025, 306)\n",
      "Cynthia\n",
      "(1025, 259)\n",
      "Willis\n",
      "(1025, 321)\n",
      "Kaitlyn\n",
      "(1025, 323)\n",
      "Gary\n",
      "(1025, 299)\n",
      "Lilly\n",
      "(1025, 347)\n",
      "Maddie\n",
      "(1025, 361)\n",
      "Gabe\n",
      "(1025, 356)\n",
      "Hannah\n",
      "(1025, 322)\n",
      "Kailee\n",
      "(1025, 385)\n"
     ]
    }
   ],
   "source": [
    "for name, audio in db_Scales.items():\n",
    "    print(name)\n",
    "#     visualizeSTFT(np.abs(calcSTFT(audio)))\n",
    "#     visualizeTemplate(db_Templates[name])\n",
    "    print(np.abs(calcSTFT(audio)).shape)"
   ]
  },
  {
   "cell_type": "code",
   "execution_count": 41,
   "metadata": {},
   "outputs": [
    {
     "name": "stdout",
     "output_type": "stream",
     "text": [
      "query name Cynthia scale name ('Kailee', 88.07266847777223)\n",
      "query name Kailee scale name ('Kailee', 199.99305380057493)\n",
      "query name Willis scale name ('Cynthia', 53.655708086765436)\n",
      "query name Kaitlyn scale name ('Kailee', 67.81788523921833)\n",
      "query name Lilly scale name ('Maddie', 124.14527864289707)\n",
      "query name Sabrina scale name ('Kailee', 189.83357822012542)\n",
      "query name Gary scale name ('Gary', 123.45201821620905)\n",
      "query name Maddie scale name ('Maddie', 20.70622029283451)\n",
      "query name Hannah scale name ('Cynthia', 40.94981406149395)\n",
      "query name Gabe scale name ('Gary', 114.24221105188346)\n"
     ]
    }
   ],
   "source": [
    "for queryName, scaleData in singerPairings.items():\n",
    "    print('query name', queryName, 'scale name', scaleData)"
   ]
  }
 ],
 "metadata": {
  "kernelspec": {
   "display_name": "Python 3",
   "language": "python",
   "name": "python3"
  },
  "language_info": {
   "codemirror_mode": {
    "name": "ipython",
    "version": 3
   },
   "file_extension": ".py",
   "mimetype": "text/x-python",
   "name": "python",
   "nbconvert_exporter": "python",
   "pygments_lexer": "ipython3",
   "version": "3.6.5"
  }
 },
 "nbformat": 4,
 "nbformat_minor": 2
}
