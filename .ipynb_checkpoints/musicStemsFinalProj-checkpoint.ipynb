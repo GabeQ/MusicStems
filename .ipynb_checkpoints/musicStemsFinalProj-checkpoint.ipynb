{
 "cells": [
  {
   "cell_type": "markdown",
   "metadata": {},
   "source": [
    "# Music STEMS Final Project\n",
    "## Kai Kaneshina and Gabriel Quiroz"
   ]
  },
  {
   "cell_type": "code",
   "execution_count": 1,
   "metadata": {},
   "outputs": [],
   "source": [
    "import numpy as np\n",
    "import librosa as lb\n",
    "import matplotlib.pyplot as plt\n",
    "import IPython.display as ipd\n",
    "import scipy.signal as ss\n",
    "import scipy.io as sio\n",
    "import glob\n",
    "import subprocess\n",
    "import os.path\n",
    "import pickle"
   ]
  },
  {
   "cell_type": "markdown",
   "metadata": {},
   "source": [
    "## Database Constructor"
   ]
  },
  {
   "cell_type": "code",
   "execution_count": 2,
   "metadata": {},
   "outputs": [],
   "source": [
    "def constructDatabase(indir):\n",
    "    \"\"\"\n",
    "    Construct a database of fingerprints for all mp3 files in the specified directory.\n",
    "    \n",
    "    Arguments:\n",
    "    indir -- directory containing mp3 files\n",
    "    \n",
    "    Returns:\n",
    "    d -- database of artist names, where the key is the artist name\n",
    "        and the value is the audio array extracted with librosa.\n",
    "    \"\"\"\n",
    "    d = {}\n",
    "\n",
    "    ### START CODE BLOCK ###\n",
    "    path = indir + '/*.m4a'\n",
    "    for filename in glob.iglob(path, recursive=True):  \n",
    "        audio, sr = lb.core.load(filename, 22050)\n",
    "        filename = filename.lstrip(indir + '/') #removes the directory from the filename\n",
    "        name = filename.split(' ')[0] #keeps only the name of the artist\n",
    "        d[name] = audio\n",
    "            \n",
    "    ### END CODE BLOCK ###\n",
    "    \n",
    "    return d"
   ]
  },
  {
   "cell_type": "code",
   "execution_count": 3,
   "metadata": {},
   "outputs": [],
   "source": [
    "db_Scales = constructDatabase('scales') # note that this may take a minute or so to run"
   ]
  },
  {
   "cell_type": "code",
   "execution_count": 4,
   "metadata": {},
   "outputs": [],
   "source": [
    "with open('db_Scales.pkl','wb') as scales:\n",
    "    pickle.dump(db_Scales, scales)"
   ]
  },
  {
   "cell_type": "code",
   "execution_count": 5,
   "metadata": {},
   "outputs": [],
   "source": [
    "with open('db_Scales.pkl','rb') as scales:\n",
    "    db_Scales = pickle.load(scales)"
   ]
  },
  {
   "cell_type": "code",
   "execution_count": 6,
   "metadata": {},
   "outputs": [],
   "source": [
    "db_JingleBells = constructDatabase('song') # note that this may take a minute or so to run"
   ]
  },
  {
   "cell_type": "code",
   "execution_count": 7,
   "metadata": {},
   "outputs": [],
   "source": [
    "with open('db_JingleBells.pkl','wb') as JingleBells:\n",
    "    pickle.dump(db_JingleBells, JingleBells)"
   ]
  },
  {
   "cell_type": "code",
   "execution_count": 8,
   "metadata": {},
   "outputs": [],
   "source": [
    "with open('db_JingleBells.pkl','rb') as JingleBells:\n",
    "    db_JingleBells = pickle.load(JingleBells)"
   ]
  },
  {
   "cell_type": "markdown",
   "metadata": {},
   "source": [
    "## Functions for Visualization "
   ]
  },
  {
   "cell_type": "code",
   "execution_count": 9,
   "metadata": {},
   "outputs": [],
   "source": [
    "def visualizeTemplate(W):\n",
    "    '''This function allows us the visualize the template matrix (W)'''\n",
    "    fs = 22050\n",
    "    winsz = 2048\n",
    "    \n",
    "    maxFreq = W.shape[0]*fs/winsz\n",
    "    maxMidi = W.shape[1]\n",
    "    \n",
    "    plt.figure(figsize=(16,5))\n",
    "    plt.imshow(W, cmap='jet', origin = 'lower', aspect='auto', extent=(0, maxMidi, 0, maxFreq))\n",
    "    plt.xlabel('Note')\n",
    "    plt.ylabel('Frequency [Hz]')\n",
    "    plt.title('Template Matrix Visualization')\n",
    "    plt.colorbar()\n",
    "    plt.show()"
   ]
  },
  {
   "cell_type": "code",
   "execution_count": 10,
   "metadata": {},
   "outputs": [],
   "source": [
    "def visualizeActivations(H):\n",
    "    '''This function allows us the visualize the activations matrix (H)'''\n",
    "    fs = 22050\n",
    "    winsz = 2048\n",
    "    \n",
    "    maxNote = H.shape[0]\n",
    "    maxFrame = H.shape[1]\n",
    "    \n",
    "    plt.figure(figsize=(16,5))\n",
    "    plt.imshow(H, cmap='jet', origin = 'lower', aspect='auto', extent=(0, maxFrame, 0, maxNote))\n",
    "    plt.xlabel('Frames')\n",
    "    plt.ylabel('Note')\n",
    "    plt.title('Activation Matrix Visualization')\n",
    "    plt.colorbar()\n",
    "    plt.show()"
   ]
  },
  {
   "cell_type": "code",
   "execution_count": 11,
   "metadata": {},
   "outputs": [],
   "source": [
    "def visualizeSTFT(STFT):\n",
    "    '''This function allows us to visualize the log spectrogram of the STFT'''\n",
    "    fs = 22050\n",
    "    winsz = 2048\n",
    "    \n",
    "    maxFreq = STFT.shape[0]*fs/winsz\n",
    "    maxFrame = STFT.shape[1]\n",
    "    \n",
    "    plt.figure(figsize=(16,5))\n",
    "    plt.imshow(np.log(STFT), cmap='jet', vmin=-12, origin = 'lower', aspect='auto', extent=(0, maxFrame, 0, maxFreq))\n",
    "    plt.xlabel('Frame')\n",
    "    plt.ylabel('Frequency [Hz]')\n",
    "    plt.title('STFT Visualization')\n",
    "    plt.colorbar()\n",
    "    plt.show()"
   ]
  },
  {
   "cell_type": "markdown",
   "metadata": {},
   "source": [
    "## NMF"
   ]
  },
  {
   "cell_type": "code",
   "execution_count": 12,
   "metadata": {},
   "outputs": [],
   "source": [
    "def calcSTFT(audio, sr = 22050, winsz = 2048, hop = 512):\n",
    "    '''Calculate the STFT of the audio'''\n",
    "    f, t, Zxx = ss.stft(audio, sr, nperseg=winsz, noverlap=winsz-hop)\n",
    "    return Zxx"
   ]
  },
  {
   "cell_type": "code",
   "execution_count": 13,
   "metadata": {},
   "outputs": [],
   "source": [
    "def NMF(W, H, V):\n",
    "    '''The NMF function runs the algorithm until the NMF algorithm causes a change of less than 1e-6 '''\n",
    "    \n",
    "    count = 0\n",
    "    while(True):\n",
    "        prevEstimate = np.linalg.norm(V - np.matmul(W,H))\n",
    "        \n",
    "        H = (H*np.matmul(W.T, V))/(np.matmul(np.matmul(W.T, W), H))\n",
    "        W = (W*np.matmul(V, H.T))/(np.matmul(np.matmul(W, H), H.T))\n",
    "        \n",
    "        count += 1\n",
    "        newEstimate = np.linalg.norm(V - np.matmul(W,H))\n",
    "        \n",
    "        # Take the difference of the previous and newly computed values \n",
    "        # If the number is small, then that means there has been little to no change within the NMF algorithm\n",
    "        # and thus we can stop running the function\n",
    "        if np.abs(newEstimate - prevEstimate) <= 1e-6:\n",
    "            break\n",
    "    return W, H, count "
   ]
  },
  {
   "cell_type": "markdown",
   "metadata": {},
   "source": [
    "## Initializing templates"
   ]
  },
  {
   "cell_type": "code",
   "execution_count": 14,
   "metadata": {},
   "outputs": [],
   "source": [
    "def initTemplates(STFT, midiArray, deltaF=30, sr=22050, winSize=2048):\n",
    "    '''Creates the initial template for the W matrix'''\n",
    "    # Convert the midi array values into a frequency array\n",
    "    freqArray = 440 * pow(2, (midiArray-69)/12)\n",
    "    \n",
    "    # Convert the frequency array into an array of k values. Also convert deltaF into a k value as well.\n",
    "    kArray = np.round(freqArray*winSize/sr).astype(int)\n",
    "    deltaK = np.round(deltaF*winSize/sr).astype(int)\n",
    "    \n",
    "    # Create W with the same amount of rows as the STFT, and the amount of columns equal to number of notes\n",
    "    W = np.zeros([STFT.shape[0], len(kArray)])\n",
    "    \n",
    "    # Loop through the rows in each column\n",
    "    for i in range(W.shape[1]):\n",
    "        for j in range(W.shape[0]):\n",
    "            \n",
    "            # If our k value is a multiple of the row, we have hit the note, and/or its harmonic\n",
    "            if (j%kArray[i]==0):\n",
    "                \n",
    "                # Set the W array row equal to the max value\n",
    "                W[j,i] = np.random.rand()\n",
    "                \n",
    "                # Cases for harmonics are below, first init an array for the k values required to satisfy values\n",
    "                # around harmonic frequencies\n",
    "                deltaKRange = np.arange(1, (deltaK+1)*j/kArray[i])\n",
    "                \n",
    "                # We add the harmonic value to a range of k values based off of the deltaF entered\n",
    "                harmonicsPositive = j + deltaKRange\n",
    "                \n",
    "                # We then remove any k values that are greater than or equal to the amount of rows  \n",
    "                harmonicsPositive = np.delete(harmonicsPositive, np.where(harmonicsPositive>=W.shape[0])).astype(int)\n",
    "                \n",
    "                # We subtract a range of k values based off of the deltaF entered from the harmonic value\n",
    "                harmonicsNegative = j - deltaKRange\n",
    "                \n",
    "                # We then remove any k values that are less than 0 to avoid the out of bounds error  \n",
    "                harmonicsNegative = np.delete(harmonicsNegative, np.where(harmonicsNegative<0)).astype(int)\n",
    "                \n",
    "                # If an array is non-empty, we set the harmonic value + the deltaK values to be a random number\n",
    "\n",
    "                if harmonicsPositive.size > 0:\n",
    "                    # Create as many random numbers as indices selected\n",
    "                    W[harmonicsPositive, i] = np.random.rand(harmonicsPositive.size)\n",
    "                    \n",
    "                if harmonicsNegative.size > 0:\n",
    "                    # Create as many random numbers as indices selected\n",
    "                    W[harmonicsNegative, i] = np.random.rand(harmonicsNegative.size)\n",
    "            \n",
    "    return W        "
   ]
  },
  {
   "cell_type": "markdown",
   "metadata": {},
   "source": [
    "## Random Activation Initialization"
   ]
  },
  {
   "cell_type": "code",
   "execution_count": 15,
   "metadata": {},
   "outputs": [],
   "source": [
    "def naiveMatrixInit(STFT):\n",
    "    '''This function randomly fills in the W and H matrices with floats'''\n",
    "    numRows, numCols = STFT.shape\n",
    "    numNotes = 8\n",
    "    H = np.random.rand(numNotes, numCols)\n",
    "    return H"
   ]
  },
  {
   "cell_type": "markdown",
   "metadata": {},
   "source": [
    "## Score Metric"
   ]
  },
  {
   "cell_type": "code",
   "execution_count": 16,
   "metadata": {},
   "outputs": [],
   "source": [
    "def accuracyScore(queryStftMag, queryActivation, template):\n",
    "    \n",
    "    '''\n",
    "    This function calculates and returns the score for how accurately a scale matches up with the query.\n",
    "    '''\n",
    "    \n",
    "    vEstimate = np.matmul(template, queryActivation)\n",
    "    absDiff = np.abs(queryStftMag - vEstimate)\n",
    "    score = np.sum(absDiff)\n",
    "    \n",
    "    return score"
   ]
  },
  {
   "cell_type": "markdown",
   "metadata": {},
   "source": [
    "## Initiate template and activation matrices for the scales"
   ]
  },
  {
   "cell_type": "code",
   "execution_count": 53,
   "metadata": {},
   "outputs": [],
   "source": [
    "def getAudioTemplatesNMF(db_Scales, midiNotes):\n",
    "\n",
    "    '''\n",
    "    This function initializes a random H matrix and a W matrix for the audio based on the scale of the midi\n",
    "    notes, as well as the STFT, which are used for the NMF function. The function returns a database with the \n",
    "    artist's name as the key and W matrix as the value. \n",
    "    '''\n",
    "    \n",
    "    # Initialize W \n",
    "    dbW = {}\n",
    "    \n",
    "    # Loop through dictionary's items\n",
    "    for artist, audio in db_Scales.items():\n",
    "\n",
    "        # Calculations required for NMF \n",
    "        STFT = calcSTFT(audio)\n",
    "        magSTFT = np.abs(STFT)\n",
    "        initW = initTemplates(magSTFT, midiNotes)\n",
    "        \n",
    "        # Initialize Random Activation Matrix\n",
    "        randH = naiveMatrixInit(STFT)\n",
    "        \n",
    "        # Run the NMF algorithm\n",
    "        W, H, count = NMF(initW + 1e-9, randH + 1e-9, magSTFT)\n",
    "\n",
    "        # Save the H, W, and STFT magnitude values to their respective dictionaries.\n",
    "        dbW[artist] = W\n",
    "\n",
    "    return dbW"
   ]
  },
  {
   "cell_type": "code",
   "execution_count": 63,
   "metadata": {},
   "outputs": [],
   "source": [
    "def calculateSinger(db_Queries, db_Templates):\n",
    "    \n",
    "    '''\n",
    "    This function iterates through all the queries, calculates the stft of the query, and then iterates through all\n",
    "    the artist templates. It then calculates the optimal activation matrix as well as the corresponding score. \n",
    "    The lowest score calculated equates to the best artist template that matches the query, and we store the query \n",
    "    artist name with the template name and its score into a dictionary. The function then returns the dictionary.\n",
    "    '''\n",
    "    \n",
    "    # Initialize pairing dictionary\n",
    "    singerPairings = {}\n",
    "    \n",
    "    # Loop through the query dictionary's items\n",
    "    for artistQuery, audio in db_Queries.items():\n",
    "        \n",
    "        print('Query Artist Name: ' , artistQuery)\n",
    "        \n",
    "        # Calculate STFT for the query\n",
    "        STFT = calcSTFT(audio)\n",
    "        magSTFT = np.abs(STFT)\n",
    "        bestArtist = ''\n",
    "        lowestScore = np.inf\n",
    "        \n",
    "        # Iterate through all the templates, \n",
    "        for artistTemplate, template in db_Templates.items():\n",
    "            \n",
    "            artistActivation = np.matmul(np.linalg.inv(np.matmul(template.T, template)), \n",
    "                                     np.matmul(template.T, magSTFT))\n",
    "            \n",
    "            score = accuracyScore(magSTFT, artistActivation, template)\n",
    "            print('Template Name and Score: ', artistTemplate, ', ', score)\n",
    "            \n",
    "            if score < lowestScore:\n",
    "                bestArtist = artistTemplate\n",
    "                lowestScore = score\n",
    "                \n",
    "        print('Best Template Match: ', bestArtist)        \n",
    "        singerPairings[artistQuery] = (bestArtist, lowestScore)\n",
    "            \n",
    "    return singerPairings"
   ]
  },
  {
   "cell_type": "code",
   "execution_count": 19,
   "metadata": {},
   "outputs": [],
   "source": [
    "midiNotes = np.array([60, 62, 64, 65, 67, 69, 71, 72]) # This list contains the midi values for notes C4 to C5 aka 60 to 72, skipping sharps"
   ]
  },
  {
   "cell_type": "code",
   "execution_count": 20,
   "metadata": {
    "scrolled": true
   },
   "outputs": [
    {
     "name": "stdout",
     "output_type": "stream",
     "text": [
      "artist  Sabrina\n",
      "count  106\n",
      "artist  Cynthia\n",
      "count  130\n",
      "artist  Kaitlyn\n",
      "count  87\n",
      "artist  Gary\n",
      "count  292\n",
      "artist  Lilly\n",
      "count  163\n",
      "artist  Kailee\n",
      "count  79\n"
     ]
    }
   ],
   "source": [
    "db_Templates = getAudioTemplatesNMF(db_Scales, midiNotes)"
   ]
  },
  {
   "cell_type": "code",
   "execution_count": 43,
   "metadata": {},
   "outputs": [
    {
     "name": "stdout",
     "output_type": "stream",
     "text": [
      "Query Artist Name:  Cynthia\n",
      "Template Name and Score:  Sabrina ,  99.84658002277483\n",
      "Template Name and Score:  Cynthia ,  92.1859847098418\n",
      "Template Name and Score:  Kaitlyn ,  102.1111951720785\n",
      "Template Name and Score:  Gary ,  102.66481093668641\n",
      "Template Name and Score:  Lilly ,  92.5578611711146\n",
      "Template Name and Score:  Kailee ,  85.29725492339655\n",
      "Best Template Match:  Kailee\n",
      "Query Artist Name:  Kailee\n",
      "Template Name and Score:  Sabrina ,  239.02027297554744\n",
      "Template Name and Score:  Cynthia ,  215.11156210957083\n",
      "Template Name and Score:  Kaitlyn ,  228.5602387117831\n",
      "Template Name and Score:  Gary ,  252.836535561468\n",
      "Template Name and Score:  Lilly ,  224.20634704621793\n",
      "Template Name and Score:  Kailee ,  174.41267092834266\n",
      "Best Template Match:  Kailee\n",
      "Query Artist Name:  Kaitlyn\n",
      "Template Name and Score:  Sabrina ,  83.05359206634188\n",
      "Template Name and Score:  Cynthia ,  75.6601141688359\n",
      "Template Name and Score:  Kaitlyn ,  72.17796627560402\n",
      "Template Name and Score:  Gary ,  88.28445729427307\n",
      "Template Name and Score:  Lilly ,  80.98010885852656\n",
      "Template Name and Score:  Kailee ,  65.50981839493576\n",
      "Best Template Match:  Kailee\n",
      "Query Artist Name:  Lilly\n",
      "Template Name and Score:  Sabrina ,  153.49944236886978\n",
      "Template Name and Score:  Cynthia ,  134.65219896382467\n",
      "Template Name and Score:  Kaitlyn ,  142.82314255638948\n",
      "Template Name and Score:  Gary ,  166.3050243060397\n",
      "Template Name and Score:  Lilly ,  131.27318167154823\n",
      "Template Name and Score:  Kailee ,  116.08110326260409\n",
      "Best Template Match:  Kailee\n",
      "Query Artist Name:  Sabrina\n",
      "Template Name and Score:  Sabrina ,  198.19744648220112\n",
      "Template Name and Score:  Cynthia ,  199.23758954327664\n",
      "Template Name and Score:  Kaitlyn ,  203.31451460802927\n",
      "Template Name and Score:  Gary ,  206.1235666316852\n",
      "Template Name and Score:  Lilly ,  202.73452546008386\n",
      "Template Name and Score:  Kailee ,  189.23846699078976\n",
      "Best Template Match:  Kailee\n",
      "Query Artist Name:  Gary\n",
      "Template Name and Score:  Sabrina ,  160.3672195373249\n",
      "Template Name and Score:  Cynthia ,  135.0625340461957\n",
      "Template Name and Score:  Kaitlyn ,  158.39656901362935\n",
      "Template Name and Score:  Gary ,  135.0686154382702\n",
      "Template Name and Score:  Lilly ,  156.16169343832172\n",
      "Template Name and Score:  Kailee ,  129.1845886000163\n",
      "Best Template Match:  Kailee\n"
     ]
    }
   ],
   "source": [
    "singerPairings = calculateSinger(db_JingleBells, db_Templates)"
   ]
  },
  {
   "cell_type": "code",
   "execution_count": 55,
   "metadata": {},
   "outputs": [],
   "source": [
    "def accuracyTest(singerPairings):\n",
    "    \n",
    "    '''\n",
    "    This function is used to test the accuracy of the system.\n",
    "    '''\n",
    "    \n",
    "    # Initialize variables\n",
    "    amountCorrect = 0\n",
    "    totalSongs = len(singerPairings)\n",
    "    \n",
    "    # Loop through the singerPairings database \n",
    "    for querySinger, resultsSingerAndScore in singerPairings.items():\n",
    "        \n",
    "        if querySinger == resultsSingerAndScore[0]:\n",
    "            amountCorrect += 1\n",
    "    \n",
    "    return amountCorrect/totalSongs"
   ]
  },
  {
   "cell_type": "code",
   "execution_count": 44,
   "metadata": {
    "scrolled": false
   },
   "outputs": [],
   "source": [
    "accuracy = accuracyTest(singerPairings)"
   ]
  },
  {
   "cell_type": "code",
   "execution_count": 45,
   "metadata": {},
   "outputs": [
    {
     "data": {
      "text/plain": [
       "0.16666666666666666"
      ]
     },
     "execution_count": 45,
     "metadata": {},
     "output_type": "execute_result"
    }
   ],
   "source": [
    "accuracy"
   ]
  },
  {
   "cell_type": "code",
   "execution_count": null,
   "metadata": {},
   "outputs": [],
   "source": []
  },
  {
   "cell_type": "code",
   "execution_count": 61,
   "metadata": {},
   "outputs": [],
   "source": [
    "def accuracyTestMultiple(db_JingleBells, db_Scales, midiNotes, numTests):\n",
    "    '''\n",
    "    This function is used to run multiple tests on the databases of scales and songs. It outputs the average \n",
    "    accuracy after numTests are run.\n",
    "    '''\n",
    "    \n",
    "    totalAccuracy = 0\n",
    "    totalIterations = numTests\n",
    "    \n",
    "    while(numTests>=1):\n",
    "        # Get the templates based off the scales\n",
    "        db_Templates = getAudioTemplatesNMF(db_Scales, midiNotes)\n",
    "        \n",
    "        # Create the singer pairings dictionary \n",
    "        singerPairings = calculateSinger(db_JingleBells, db_Templates)\n",
    "        \n",
    "        # Get the overall accuracy\n",
    "        totalAccuracy += accuracyTest(singerPairings)\n",
    "        \n",
    "        numTests -= 1\n",
    "        \n",
    "    return totalAccuracy / totalIterations  "
   ]
  },
  {
   "cell_type": "code",
   "execution_count": 62,
   "metadata": {},
   "outputs": [],
   "source": [
    "# accuracy10Tests = accuracyTestMultiple(db_JingleBells, db_Scales, midiNotes, 10)"
   ]
  },
  {
   "cell_type": "code",
   "execution_count": 64,
   "metadata": {},
   "outputs": [
    {
     "name": "stdout",
     "output_type": "stream",
     "text": [
      "0.2166666666666667\n"
     ]
    }
   ],
   "source": [
    "# print(accuracy10Tests)"
   ]
  },
  {
   "cell_type": "markdown",
   "metadata": {},
   "source": [
    "# Archive"
   ]
  },
  {
   "cell_type": "markdown",
   "metadata": {},
   "source": [
    "## Midi Notes and Timing"
   ]
  },
  {
   "cell_type": "code",
   "execution_count": 25,
   "metadata": {},
   "outputs": [],
   "source": [
    "def noteToIdx(note):\n",
    "    '''\n",
    "    This function will be used to transcribe the given note into an index value (0-11). \n",
    "    '''\n",
    "    \n",
    "    if note == 'C':\n",
    "        return 0\n",
    "    elif note=='C#': \n",
    "        return 1\n",
    "    elif note=='D':\n",
    "        return 2\n",
    "    elif note=='D#':\n",
    "        return 3\n",
    "    elif note=='E':\n",
    "        return 4\n",
    "    elif note=='F':\n",
    "        return 5\n",
    "    elif note=='F#':\n",
    "        return 6\n",
    "    elif note=='G':\n",
    "        return 7\n",
    "    elif note=='G#':\n",
    "        return 8\n",
    "    elif note=='A':\n",
    "        return 9\n",
    "    elif note=='A#':\n",
    "        return 10\n",
    "    else:\n",
    "        # Case for when the note is B\n",
    "        return 11"
   ]
  },
  {
   "cell_type": "code",
   "execution_count": 26,
   "metadata": {},
   "outputs": [],
   "source": [
    "def notesToIdx(noteArray):\n",
    "    \n",
    "    '''\n",
    "    This function will be used to transcribe the given notes into an index value (0-11) array. \n",
    "    '''\n",
    "    \n",
    "    noteIdxArray = []\n",
    "    \n",
    "    for i in range(len(noteArray)):\n",
    "        \n",
    "        noteIdxArray.append(noteToIdx(noteArray[i]))\n",
    "    \n",
    "    return np.array(noteIdxArray)"
   ]
  },
  {
   "cell_type": "code",
   "execution_count": 27,
   "metadata": {},
   "outputs": [],
   "source": [
    "def createNoteEvents(notes,noteStartTimesArray):\n",
    "    \n",
    "    '''\n",
    "    This function is used to convert the notes into indices and then \n",
    "    combine the note indices with their corresponding start times.\n",
    "    '''\n",
    "    \n",
    "    noteEvents = []\n",
    "    \n",
    "    noteIdxArray = notesToIdx(notes)\n",
    "\n",
    "    for i in range(len(noteIdxArray)):\n",
    "        \n",
    "        noteEvents.append((noteIdxArray[i], noteStartTimesArray[i]))\n",
    "    \n",
    "    return noteEvents"
   ]
  },
  {
   "cell_type": "code",
   "execution_count": 28,
   "metadata": {},
   "outputs": [],
   "source": [
    "# Notes and timing for Jingle Bells were transcribing using the chorus found here: \n",
    "# https://www.bethsnotesplus.com/2014/07/jingle-bells.html\n",
    "\n",
    "notes = np.array(['E', 'E', 'E', 'E', 'E', 'E', 'E', 'G', 'C', 'D', 'E', 'F', 'F', 'F', 'F', 'F', 'E', 'E',   \n",
    "                  'E', 'E', 'E', 'D', 'D', 'E', 'D'])\n",
    "    \n",
    "    #, 'G'\n",
    "    \n",
    "notesB = np.array(['B', 'B', 'B', 'B', 'B', 'B', 'B', 'D', 'G', 'A', 'B', 'C', 'C', 'C', 'C', 'C', 'B', \n",
    "                   'B', 'B', 'B', 'B', 'A', 'A', 'B', 'A', 'D','B', 'B', 'B', 'B', 'B', 'B', 'B', 'D', \n",
    "                   'G', 'A', 'B', 'C', 'C', 'C', 'C', 'C', 'B', 'B', 'B', 'B', 'D', 'D', 'C', 'A', 'G'])\n",
    "\n",
    "noteTiming = np.array([0,1,2,4,5,6,8,9,10,11.5,12,17,18,19.5,20,21,22,23,23.5,24,25,26,27,28,30,32,33,34,36,\n",
    "                       37,38,40,41,42,43.5,44,48,49,50,51.5,52,53,54,55,55.5,56,57,58,59,60,64])\n",
    "\n",
    "noteStartTimes = np.array([0, 0.24,  0.48,  0.96,  1.2 ,  1.44,  1.92,  2.16,  2.4 ,  2.76,\n",
    "        2.88,  4.08,  4.32,  4.68,  4.8 ,  5.04,  5.28,  5.52,  5.64,\n",
    "        5.76,  6.  ,  6.24,  6.48,  6.72,  7.2 ,  7.68,  7.92,  8.16,\n",
    "        8.64,  8.88,  9.12,  9.6 ,  9.84, 10.08, 10.44, 10.56, 11.52,\n",
    "       11.76, 12.  , 12.36, 12.48, 12.72, 12.96, 13.2 , 13.32, 13.44,\n",
    "       13.68, 13.92, 14.16, 14.4 , 15.36])"
   ]
  },
  {
   "cell_type": "code",
   "execution_count": 29,
   "metadata": {},
   "outputs": [],
   "source": [
    "noteEvents = createNoteEvents(notes, noteStartTimes[:len(notes)])"
   ]
  },
  {
   "cell_type": "markdown",
   "metadata": {},
   "source": [
    "## Initialize Activations"
   ]
  },
  {
   "cell_type": "code",
   "execution_count": 30,
   "metadata": {},
   "outputs": [],
   "source": [
    "def initActivations(Zxx, midiNotes, noteEvents, fs=22050, hopsize=512, deltaT=.5):\n",
    "    '''This function allows us to initialize the H matrix by utilizing the STFT and the noteEvents.'''\n",
    "    \n",
    "    numNotes = len(midiNotes)\n",
    "    numFrames = Zxx.shape[1]\n",
    "    H = np.zeros([numNotes, numFrames])\n",
    "    maxNoteLengthInFrames = int(1*fs/hopsize) #this value is for the 1 second that each note plays for\n",
    "    deltaFrames = int(deltaT*fs/hopsize) #converts the deltaT (onset value) into frames\n",
    "    \n",
    "    # Create a range of values that span from the -onset value to the totalDuration + the onset value\n",
    "    noteLengthInFrames = np.arange(-deltaFrames, maxNoteLengthInFrames + deltaFrames + 1) \n",
    "    for i in range(len(noteEvents)):\n",
    "        note = noteEvents[i][0]\n",
    "        actTime = noteEvents[i][1] #time when the note is activated \n",
    "        actFrame = int(actTime*fs/hopsize) #convert the time into frames\n",
    "        \n",
    "        # Creates an array of frame values that need to be set to random, non-zero numbers\n",
    "        noteTimeActive = actFrame + noteLengthInFrames \n",
    "        \n",
    "        # Remove frames that are less than zero and greater than shape of activation matrix\n",
    "        noteTimeActive = np.delete(noteTimeActive, np.where(noteTimeActive < 0)).astype(int)\n",
    "        noteTimeActive = np.delete(noteTimeActive, np.where(noteTimeActive >= H.shape[1])).astype(int)\n",
    "        \n",
    "        # Create as many random numbers as indices selected\n",
    "        H[note, noteTimeActive] = np.random.rand(noteTimeActive.size)\n",
    "        \n",
    "    return H"
   ]
  },
  {
   "cell_type": "markdown",
   "metadata": {},
   "source": [
    "## Experimentation"
   ]
  },
  {
   "cell_type": "code",
   "execution_count": 31,
   "metadata": {},
   "outputs": [],
   "source": [
    "def NMFFixedW(W, V):\n",
    "    '''The NMF function with a fixed W matrix runs the algorithm until it causes a change of less than 1e-6 '''\n",
    "    \n",
    "    H = naiveMatrixInit(V)\n",
    "    count = 0\n",
    "    while(True):\n",
    "        prevEstimate = np.linalg.norm(V - np.matmul(W,H))\n",
    "        \n",
    "        H = (H*np.matmul(W.T, V))/(np.matmul(np.matmul(W.T, W), H))\n",
    "        \n",
    "        count += 1\n",
    "        newEstimate = np.linalg.norm(V - np.matmul(W,H))\n",
    "        \n",
    "        # Take the difference of the previous and newly computed values \n",
    "        # If the number is small, then that means there has been little to no change within the NMF algorithm\n",
    "        # and thus we can stop running the function\n",
    "        if np.abs(newEstimate - prevEstimate) <= 1e-6:\n",
    "            break\n",
    "    return H"
   ]
  },
  {
   "cell_type": "code",
   "execution_count": 32,
   "metadata": {},
   "outputs": [],
   "source": [
    "def calculateSingerFixedW(db_Queries, db_Templates):\n",
    "    \n",
    "    '''\n",
    "    This function iterates through all the queries, calculates the stft of the query, and then iterates through all\n",
    "    the artist templates. It then calculates the optimal activation matrix as well as the corresponding score. \n",
    "    The lowest score calculated equates to the best artist template that matches the query, and we store the query \n",
    "    artist name with the template name and its score into a dictionary. The function then returns the dictionary.\n",
    "    '''\n",
    "    \n",
    "    # Initialize pairing dictionary\n",
    "    singerPairings = {}\n",
    "    \n",
    "    # Loop through the query dictionary's items\n",
    "    for artistQuery, audio in db_Queries.items():\n",
    "        \n",
    "        print('Query Artist Name: ' , artistQuery)\n",
    "        \n",
    "        # Calculate STFT for the query\n",
    "        STFT = calcSTFT(audio)\n",
    "        magSTFT = np.abs(STFT)\n",
    "        bestArtist = ''\n",
    "        lowestScore = np.inf\n",
    "        \n",
    "        # Iterate through all the templates, \n",
    "        for artistTemplate, template in db_Templates.items():\n",
    "            \n",
    "            artistActivation = NMFFixedW(template, magSTFT)\n",
    "            \n",
    "            curScore = accuracyScore(magSTFT, artistActivation, template)\n",
    "            print('Template Name and Score: ', artistTemplate, ', ', curScore)\n",
    "            \n",
    "            if curScore < lowestScore:\n",
    "                bestArtist = artistTemplate\n",
    "                lowestScore = curScore\n",
    "                \n",
    "        print('Best Template Match: ', bestArtist)        \n",
    "        singerPairings[artistQuery] = (bestArtist, lowestScore)\n",
    "            \n",
    "    return singerPairings"
   ]
  },
  {
   "cell_type": "code",
   "execution_count": 33,
   "metadata": {
    "scrolled": false
   },
   "outputs": [
    {
     "name": "stdout",
     "output_type": "stream",
     "text": [
      "Query Artist Name:  Cynthia\n",
      "Template Name and Score:  Sabrina ,  99.31461528476369\n",
      "Template Name and Score:  Cynthia ,  91.84002912897566\n",
      "Template Name and Score:  Kaitlyn ,  102.13335444180105\n",
      "Template Name and Score:  Gary ,  101.88772473223062\n",
      "Template Name and Score:  Lilly ,  91.39588763691418\n",
      "Template Name and Score:  Kailee ,  84.89927418282002\n",
      "Best Template Match:  Kailee\n",
      "Query Artist Name:  Kailee\n",
      "Template Name and Score:  Sabrina ,  237.90161570469905\n",
      "Template Name and Score:  Cynthia ,  214.67446379865078\n",
      "Template Name and Score:  Kaitlyn ,  228.57646697661625\n",
      "Template Name and Score:  Gary ,  250.749084724502\n",
      "Template Name and Score:  Lilly ,  218.1050488538461\n",
      "Template Name and Score:  Kailee ,  173.53838128733884\n",
      "Best Template Match:  Kailee\n",
      "Query Artist Name:  Kaitlyn\n",
      "Template Name and Score:  Sabrina ,  82.54629151494034\n",
      "Template Name and Score:  Cynthia ,  75.37283595959411\n",
      "Template Name and Score:  Kaitlyn ,  71.51340022298042\n",
      "Template Name and Score:  Gary ,  87.53273662476202\n",
      "Template Name and Score:  Lilly ,  78.09381130326169\n",
      "Template Name and Score:  Kailee ,  65.10616331716739\n",
      "Best Template Match:  Kailee\n",
      "Query Artist Name:  Lilly\n",
      "Template Name and Score:  Sabrina ,  152.88190772687037\n",
      "Template Name and Score:  Cynthia ,  134.1914483446966\n",
      "Template Name and Score:  Kaitlyn ,  143.57132263747104\n",
      "Template Name and Score:  Gary ,  165.4232067649981\n",
      "Template Name and Score:  Lilly ,  127.01275708724769\n",
      "Template Name and Score:  Kailee ,  115.76624346401918\n",
      "Best Template Match:  Kailee\n",
      "Query Artist Name:  Sabrina\n",
      "Template Name and Score:  Sabrina ,  197.25854278198423\n",
      "Template Name and Score:  Cynthia ,  198.30488135591204\n",
      "Template Name and Score:  Kaitlyn ,  202.65595818624251\n",
      "Template Name and Score:  Gary ,  203.95108819430465\n",
      "Template Name and Score:  Lilly ,  201.0218990156438\n",
      "Template Name and Score:  Kailee ,  188.83080586590745\n",
      "Best Template Match:  Kailee\n",
      "Query Artist Name:  Gary\n",
      "Template Name and Score:  Sabrina ,  160.10458951604338\n",
      "Template Name and Score:  Cynthia ,  134.92361797888415\n",
      "Template Name and Score:  Kaitlyn ,  158.46881246390214\n",
      "Template Name and Score:  Gary ,  133.61360786393732\n",
      "Template Name and Score:  Lilly ,  155.46511723828127\n",
      "Template Name and Score:  Kailee ,  128.59058252858733\n",
      "Best Template Match:  Kailee\n"
     ]
    }
   ],
   "source": [
    "singerPairingsFixedW = calculateSingerFixedW(db_JingleBells, db_Templates)"
   ]
  },
  {
   "cell_type": "code",
   "execution_count": 34,
   "metadata": {
    "scrolled": false
   },
   "outputs": [],
   "source": [
    "accuracyScoreFixedW = accuracyTest(singerPairings)"
   ]
  },
  {
   "cell_type": "code",
   "execution_count": 35,
   "metadata": {
    "scrolled": true
   },
   "outputs": [
    {
     "data": {
      "text/plain": [
       "0.16666666666666666"
      ]
     },
     "execution_count": 35,
     "metadata": {},
     "output_type": "execute_result"
    }
   ],
   "source": [
    "accuracyScoreFixedW"
   ]
  },
  {
   "cell_type": "markdown",
   "metadata": {},
   "source": [
    "## Visualization testing"
   ]
  },
  {
   "cell_type": "code",
   "execution_count": 36,
   "metadata": {
    "scrolled": false
   },
   "outputs": [
    {
     "name": "stdout",
     "output_type": "stream",
     "text": [
      "Sabrina\n"
     ]
    },
    {
     "data": {
      "image/png": "[encoded data removed]",
      "text/plain": [
       "<Figure size 1152x360 with 2 Axes>"
      ]
     },
     "metadata": {},
     "output_type": "display_data"
    },
    {
     "name": "stdout",
     "output_type": "stream",
     "text": [
      "Cynthia\n"
     ]
    },
    {
     "data": {
      "image/png": "[encoded data removed]",
      "text/plain": [
       "<Figure size 1152x360 with 2 Axes>"
      ]
     },
     "metadata": {},
     "output_type": "display_data"
    },
    {
     "name": "stdout",
     "output_type": "stream",
     "text": [
      "Kaitlyn\n"
     ]
    },
    {
     "data": {
      "image/png": "[encoded data removed]",
      "text/plain": [
       "<Figure size 1152x360 with 2 Axes>"
      ]
     },
     "metadata": {},
     "output_type": "display_data"
    },
    {
     "name": "stdout",
     "output_type": "stream",
     "text": [
      "Gary\n"
     ]
    },
    {
     "data": {
      "image/png": "[encoded data removed]",
      "text/plain": [
       "<Figure size 1152x360 with 2 Axes>"
      ]
     },
     "metadata": {},
     "output_type": "display_data"
    },
    {
     "name": "stdout",
     "output_type": "stream",
     "text": [
      "Lilly\n"
     ]
    },
    {
     "data": {
      "image/png": "[encoded data removed]",
      "text/plain": [
       "<Figure size 1152x360 with 2 Axes>"
      ]
     },
     "metadata": {},
     "output_type": "display_data"
    },
    {
     "name": "stdout",
     "output_type": "stream",
     "text": [
      "Kailee\n"
     ]
    },
    {
     "data": {
      "image/png": "[encoded data removed]",
      "text/plain": [
       "<Figure size 1152x360 with 2 Axes>"
      ]
     },
     "metadata": {},
     "output_type": "display_data"
    }
   ],
   "source": [
    "for name, audio in db_Templates.items():\n",
    "    print(name)\n",
    "#     visualizeSTFT(np.abs(calcSTFT(audio)))\n",
    "    visualizeTemplate(db_Templates[name])\n"
   ]
  },
  {
   "cell_type": "code",
   "execution_count": null,
   "metadata": {},
   "outputs": [],
   "source": []
  },
  {
   "cell_type": "code",
   "execution_count": 37,
   "metadata": {},
   "outputs": [
    {
     "name": "stdout",
     "output_type": "stream",
     "text": [
      "Sabrina\n",
      "(1025, 306)\n",
      "Cynthia\n",
      "(1025, 259)\n",
      "Kaitlyn\n",
      "(1025, 323)\n",
      "Gary\n",
      "(1025, 299)\n",
      "Lilly\n",
      "(1025, 347)\n",
      "Kailee\n",
      "(1025, 385)\n"
     ]
    }
   ],
   "source": [
    "for name, audio in db_Scales.items():\n",
    "    print(name)\n",
    "#     visualizeSTFT(np.abs(calcSTFT(audio)))\n",
    "#     visualizeTemplate(db_Templates[name])\n",
    "    print(np.abs(calcSTFT(audio)).shape)"
   ]
  },
  {
   "cell_type": "code",
   "execution_count": 38,
   "metadata": {},
   "outputs": [
    {
     "name": "stdout",
     "output_type": "stream",
     "text": [
      "query name Cynthia scale name ('Kailee', 85.29725492339655)\n",
      "query name Kailee scale name ('Kailee', 174.41267092834266)\n",
      "query name Kaitlyn scale name ('Kailee', 65.50981839493576)\n",
      "query name Lilly scale name ('Kailee', 116.08110326260409)\n",
      "query name Sabrina scale name ('Kailee', 189.23846699078976)\n",
      "query name Gary scale name ('Kailee', 129.1845886000163)\n"
     ]
    }
   ],
   "source": [
    "for queryName, scaleData in singerPairings.items():\n",
    "    print('query name', queryName, 'scale name', scaleData)"
   ]
  }
 ],
 "metadata": {
  "kernelspec": {
   "display_name": "Python 3",
   "language": "python",
   "name": "python3"
  },
  "language_info": {
   "codemirror_mode": {
    "name": "ipython",
    "version": 3
   },
   "file_extension": ".py",
   "mimetype": "text/x-python",
   "name": "python",
   "nbconvert_exporter": "python",
   "pygments_lexer": "ipython3",
   "version": "3.6.5"
  }
 },
 "nbformat": 4,
 "nbformat_minor": 2
}
