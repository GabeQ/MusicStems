{
 "cells": [
  {
   "cell_type": "markdown",
   "metadata": {},
   "source": [
    "# Music STEMS Final Project\n",
    "## Kai Kaneshina and Gabriel Quiroz"
   ]
  },
  {
   "cell_type": "code",
   "execution_count": 58,
   "metadata": {},
   "outputs": [],
   "source": [
    "import numpy as np\n",
    "import librosa as lb\n",
    "from librosa import display\n",
    "import matplotlib.pyplot as plt\n",
    "import IPython.display as ipd\n",
    "import scipy.signal as ss\n",
    "import scipy.io as sio\n",
    "import glob\n",
    "import subprocess\n",
    "import os.path\n",
    "import pickle"
   ]
  },
  {
   "cell_type": "markdown",
   "metadata": {},
   "source": [
    "## Database Constructor"
   ]
  },
  {
   "cell_type": "code",
   "execution_count": 2,
   "metadata": {},
   "outputs": [],
   "source": [
    "def constructDatabase(indir):\n",
    "    \"\"\"\n",
    "    Construct a database of fingerprints for all mp3 files in the specified directory.\n",
    "    \n",
    "    Arguments:\n",
    "    indir -- directory containing mp3 files\n",
    "    \n",
    "    Returns:\n",
    "    d -- database of artist names, where the key is the artist name\n",
    "        and the value is the audio array extracted with librosa.\n",
    "    \"\"\"\n",
    "    d = {}\n",
    "\n",
    "    ### START CODE BLOCK ###\n",
    "    path = indir + '/*.m4a'\n",
    "    for filename in glob.iglob(path, recursive=True):  \n",
    "        audio, sr = lb.core.load(filename, 22050)\n",
    "        filename = filename.lstrip(indir + '/') #removes the directory from the filename\n",
    "        name = filename.split(' ')[0] #keeps only the name of the artist\n",
    "        d[name] = audio\n",
    "            \n",
    "    ### END CODE BLOCK ###\n",
    "    \n",
    "    return d"
   ]
  },
  {
   "cell_type": "code",
   "execution_count": 3,
   "metadata": {},
   "outputs": [],
   "source": [
    "db_Scales = constructDatabase('scales') # note that this may take a minute or so to run"
   ]
  },
  {
   "cell_type": "code",
   "execution_count": 4,
   "metadata": {},
   "outputs": [],
   "source": [
    "with open('db_Scales.pkl','wb') as scales:\n",
    "    pickle.dump(db_Scales, scales)"
   ]
  },
  {
   "cell_type": "code",
   "execution_count": 5,
   "metadata": {},
   "outputs": [],
   "source": [
    "with open('db_Scales.pkl','rb') as scales:\n",
    "    db_Scales = pickle.load(scales)"
   ]
  },
  {
   "cell_type": "code",
   "execution_count": 6,
   "metadata": {},
   "outputs": [],
   "source": [
    "db_JingleBells = constructDatabase('song') # note that this may take a minute or so to run"
   ]
  },
  {
   "cell_type": "code",
   "execution_count": 7,
   "metadata": {},
   "outputs": [],
   "source": [
    "with open('db_JingleBells.pkl','wb') as JingleBells:\n",
    "    pickle.dump(db_JingleBells, JingleBells)"
   ]
  },
  {
   "cell_type": "code",
   "execution_count": 8,
   "metadata": {},
   "outputs": [],
   "source": [
    "with open('db_JingleBells.pkl','rb') as JingleBells:\n",
    "    db_JingleBells = pickle.load(JingleBells)"
   ]
  },
  {
   "cell_type": "markdown",
   "metadata": {},
   "source": [
    "## Functions for Visualization "
   ]
  },
  {
   "cell_type": "code",
   "execution_count": 9,
   "metadata": {},
   "outputs": [],
   "source": [
    "def visualizeTemplate(W):\n",
    "    '''This function allows us the visualize the template matrix (W)'''\n",
    "    fs = 22050\n",
    "    winsz = 2048\n",
    "    \n",
    "    maxFreq = W.shape[0]*fs/winsz\n",
    "    maxMidi = W.shape[1]\n",
    "    \n",
    "    plt.figure(figsize=(16,5))\n",
    "    plt.imshow(W, cmap='jet', origin = 'lower', aspect='auto', extent=(0, maxMidi, 0, maxFreq))\n",
    "    plt.xlabel('Note')\n",
    "    plt.ylabel('Frequency [Hz]')\n",
    "    plt.title('Template Matrix Visualization')\n",
    "    plt.colorbar()\n",
    "    plt.show()"
   ]
  },
  {
   "cell_type": "code",
   "execution_count": 10,
   "metadata": {},
   "outputs": [],
   "source": [
    "def visualizeActivations(H):\n",
    "    '''This function allows us the visualize the activations matrix (H)'''\n",
    "    fs = 22050\n",
    "    winsz = 2048\n",
    "    \n",
    "    maxNote = H.shape[0]\n",
    "    maxFrame = H.shape[1]\n",
    "    \n",
    "    plt.figure(figsize=(16,5))\n",
    "    plt.imshow(H, cmap='jet', origin = 'lower', aspect='auto', extent=(0, maxFrame, 0, maxNote))\n",
    "    plt.xlabel('Frames')\n",
    "    plt.ylabel('Note')\n",
    "    plt.title('Activation Matrix Visualization')\n",
    "    plt.colorbar()\n",
    "    plt.show()"
   ]
  },
  {
   "cell_type": "code",
   "execution_count": 11,
   "metadata": {},
   "outputs": [],
   "source": [
    "def visualizeSTFT(STFT):\n",
    "    '''This function allows us to visualize the log spectrogram of the STFT'''\n",
    "    fs = 22050\n",
    "    winsz = 2048\n",
    "    \n",
    "    maxFreq = STFT.shape[0]*fs/winsz\n",
    "    maxFrame = STFT.shape[1]\n",
    "    \n",
    "    plt.figure(figsize=(16,5))\n",
    "    plt.imshow(np.log(STFT), cmap='jet', vmin=-12, origin = 'lower', aspect='auto', extent=(0, maxFrame, 0, maxFreq))\n",
    "    plt.xlabel('Frame')\n",
    "    plt.ylabel('Frequency [Hz]')\n",
    "    plt.title('STFT Visualization')\n",
    "    plt.colorbar()\n",
    "    plt.show()"
   ]
  },
  {
   "cell_type": "markdown",
   "metadata": {},
   "source": [
    "## NMF"
   ]
  },
  {
   "cell_type": "code",
   "execution_count": 12,
   "metadata": {},
   "outputs": [],
   "source": [
    "def calcSTFT(audio, sr = 22050, winsz = 2048, hop = 512):\n",
    "    '''Calculate the STFT of the audio'''\n",
    "    f, t, Zxx = ss.stft(audio, sr, nperseg=winsz, noverlap=winsz-hop)\n",
    "    return Zxx"
   ]
  },
  {
   "cell_type": "code",
   "execution_count": 13,
   "metadata": {},
   "outputs": [],
   "source": [
    "def NMF(W, H, V):\n",
    "    '''The NMF function runs the algorithm until the NMF algorithm causes a change of less than 1e-6 '''\n",
    "    \n",
    "    count = 0\n",
    "    while(True):\n",
    "        prevEstimate = np.linalg.norm(V - np.matmul(W,H))\n",
    "        \n",
    "        H = (H*np.matmul(W.T, V))/(np.matmul(np.matmul(W.T, W), H))\n",
    "        W = (W*np.matmul(V, H.T))/(np.matmul(np.matmul(W, H), H.T))\n",
    "        \n",
    "        count += 1\n",
    "        newEstimate = np.linalg.norm(V - np.matmul(W,H))\n",
    "        \n",
    "        # Take the difference of the previous and newly computed values \n",
    "        # If the number is small, then that means there has been little to no change within the NMF algorithm\n",
    "        # and thus we can stop running the function\n",
    "        if np.abs(newEstimate - prevEstimate) <= 1e-6:\n",
    "            break\n",
    "    return W, H, count "
   ]
  },
  {
   "cell_type": "markdown",
   "metadata": {},
   "source": [
    "## Initializing templates"
   ]
  },
  {
   "cell_type": "code",
   "execution_count": 14,
   "metadata": {},
   "outputs": [],
   "source": [
    "def initTemplates(STFT, midiArray, deltaF=30, sr=22050, winSize=2048):\n",
    "    '''Creates the initial template for the W matrix'''\n",
    "    # Convert the midi array values into a frequency array\n",
    "    freqArray = 440 * pow(2, (midiArray-69)/12)\n",
    "    \n",
    "    # Convert the frequency array into an array of k values. Also convert deltaF into a k value as well.\n",
    "    kArray = np.round(freqArray*winSize/sr).astype(int)\n",
    "    deltaK = np.round(deltaF*winSize/sr).astype(int)\n",
    "    \n",
    "    # Create W with the same amount of rows as the STFT, and the amount of columns equal to number of notes\n",
    "    W = np.zeros([STFT.shape[0], len(kArray)])\n",
    "    \n",
    "    # Loop through the rows in each column\n",
    "    for i in range(W.shape[1]):\n",
    "        for j in range(W.shape[0]):\n",
    "            \n",
    "            # If our k value is a multiple of the row, we have hit the note, and/or its harmonic\n",
    "            if (j%kArray[i]==0):\n",
    "                \n",
    "                # Set the W array row equal to the max value\n",
    "                W[j,i] = np.random.rand()\n",
    "                \n",
    "                # Cases for harmonics are below, first init an array for the k values required to satisfy values\n",
    "                # around harmonic frequencies\n",
    "                deltaKRange = np.arange(1, (deltaK+1)*j/kArray[i])\n",
    "                \n",
    "                # We add the harmonic value to a range of k values based off of the deltaF entered\n",
    "                harmonicsPositive = j + deltaKRange\n",
    "                \n",
    "                # We then remove any k values that are greater than or equal to the amount of rows  \n",
    "                harmonicsPositive = np.delete(harmonicsPositive, np.where(harmonicsPositive>=W.shape[0])).astype(int)\n",
    "                \n",
    "                # We subtract a range of k values based off of the deltaF entered from the harmonic value\n",
    "                harmonicsNegative = j - deltaKRange\n",
    "                \n",
    "                # We then remove any k values that are less than 0 to avoid the out of bounds error  \n",
    "                harmonicsNegative = np.delete(harmonicsNegative, np.where(harmonicsNegative<0)).astype(int)\n",
    "                \n",
    "                # If an array is non-empty, we set the harmonic value + the deltaK values to be a random number\n",
    "\n",
    "                if harmonicsPositive.size > 0:\n",
    "                    # Create as many random numbers as indices selected\n",
    "                    W[harmonicsPositive, i] = np.random.rand(harmonicsPositive.size)\n",
    "                    \n",
    "                if harmonicsNegative.size > 0:\n",
    "                    # Create as many random numbers as indices selected\n",
    "                    W[harmonicsNegative, i] = np.random.rand(harmonicsNegative.size)\n",
    "            \n",
    "    return W        "
   ]
  },
  {
   "cell_type": "markdown",
   "metadata": {},
   "source": [
    "## Random Activation Initialization"
   ]
  },
  {
   "cell_type": "code",
   "execution_count": 15,
   "metadata": {},
   "outputs": [],
   "source": [
    "def naiveMatrixInit(STFT):\n",
    "    '''This function randomly fills in the W and H matrices with floats'''\n",
    "    numRows, numCols = STFT.shape\n",
    "    numNotes = 8\n",
    "    H = np.random.rand(numNotes, numCols)\n",
    "    return H"
   ]
  },
  {
   "cell_type": "markdown",
   "metadata": {},
   "source": [
    "## Score Metric"
   ]
  },
  {
   "cell_type": "code",
   "execution_count": 16,
   "metadata": {},
   "outputs": [],
   "source": [
    "def accuracyScore(queryStftMag, queryActivation, template):\n",
    "    \n",
    "    '''\n",
    "    This function calculates and returns the score for how accurately a scale matches up with the query.\n",
    "    '''\n",
    "    \n",
    "    vEstimate = np.matmul(template, queryActivation)\n",
    "    absDiff = np.abs(queryStftMag - vEstimate)\n",
    "    score = np.sum(absDiff)\n",
    "    \n",
    "    return score"
   ]
  },
  {
   "cell_type": "markdown",
   "metadata": {},
   "source": [
    "## Initiate template and activation matrices for the scales"
   ]
  },
  {
   "cell_type": "code",
   "execution_count": 17,
   "metadata": {},
   "outputs": [],
   "source": [
    "def getAudioTemplatesNMF(db_Scales, midiNotes):\n",
    "\n",
    "    '''\n",
    "    This function initializes a random H matrix and a W matrix for the audio based on the scale of the midi\n",
    "    notes, as well as the STFT, which are used for the NMF function. The function returns a database with the \n",
    "    artist's name as the key and W matrix as the value. \n",
    "    '''\n",
    "    \n",
    "    # Initialize W \n",
    "    dbW = {}\n",
    "    \n",
    "    # Loop through dictionary's items\n",
    "    for artist, audio in db_Scales.items():\n",
    "\n",
    "        # Calculations required for NMF \n",
    "        STFT = calcSTFT(audio)\n",
    "        magSTFT = np.abs(STFT)\n",
    "        initW = initTemplates(magSTFT, midiNotes)\n",
    "        \n",
    "        # Initialize Random Activation Matrix\n",
    "        randH = naiveMatrixInit(STFT)\n",
    "        \n",
    "        # Run the NMF algorithm\n",
    "        W, H, count = NMF(initW + 1e-9, randH + 1e-9, magSTFT)\n",
    "\n",
    "        # Save the H, W, and STFT magnitude values to their respective dictionaries.\n",
    "        dbW[artist] = W\n",
    "\n",
    "    return dbW"
   ]
  },
  {
   "cell_type": "code",
   "execution_count": 70,
   "metadata": {},
   "outputs": [],
   "source": [
    "def calculateArtistActivation(W, V):\n",
    "    '''\n",
    "    The NMF function with a fixed W matrix runs the algorithm until it causes a change of less than 1e-6. Used to\n",
    "    create the Artist Activation matrix when we have a fixed template matrix (W).\n",
    "    '''\n",
    "    \n",
    "    H = naiveMatrixInit(V)\n",
    "    count = 0\n",
    "    while(True):\n",
    "        prevEstimate = np.linalg.norm(V - np.matmul(W,H))\n",
    "        \n",
    "        H = (H*np.matmul(W.T, V))/(np.matmul(np.matmul(W.T, W), H))\n",
    "        \n",
    "        count += 1\n",
    "        newEstimate = np.linalg.norm(V - np.matmul(W,H))\n",
    "        \n",
    "        # Take the difference of the previous and newly computed values \n",
    "        # If the number is small, then that means there has been little to no change within the NMF algorithm\n",
    "        # and thus we can stop running the function\n",
    "        if np.abs(newEstimate - prevEstimate) <= 1e-6:\n",
    "            break\n",
    "    return H"
   ]
  },
  {
   "cell_type": "code",
   "execution_count": 71,
   "metadata": {},
   "outputs": [],
   "source": [
    "def calculateSinger(db_Queries, db_Templates):\n",
    "    \n",
    "    '''\n",
    "    This function iterates through all the queries, calculates the stft of the query, and then iterates through all\n",
    "    the artist templates. It then calculates the optimal activation matrix as well as the corresponding score. \n",
    "    The lowest score calculated equates to the best artist template that matches the query, and we store the query \n",
    "    artist name with the template name and its score into a dictionary. The function then returns the dictionary.\n",
    "    '''\n",
    "    \n",
    "    # Initialize pairing dictionary\n",
    "    singerPairings = {}\n",
    "    \n",
    "    # Loop through the query dictionary's items\n",
    "    for artistQuery, audio in db_Queries.items():\n",
    "        \n",
    "        print('Query Artist Name: ' , artistQuery)\n",
    "        \n",
    "        # Calculate STFT for the query\n",
    "        STFT = calcSTFT(audio)\n",
    "        magSTFT = np.abs(STFT)\n",
    "        bestArtist = ''\n",
    "        lowestScore = np.inf\n",
    "        \n",
    "        # Iterate through all the templates, \n",
    "        for artistTemplate, template in db_Templates.items():\n",
    "            \n",
    "            artistActivation = calculateArtistActivation(template, magSTFT)\n",
    "            \n",
    "            score = accuracyScore(magSTFT, artistActivation, template)\n",
    "            print('Template Name and Score: ', artistTemplate, ', ', score)\n",
    "            \n",
    "            if score < lowestScore:\n",
    "                bestArtist = artistTemplate\n",
    "                lowestScore = score\n",
    "                \n",
    "        print('Best Template Match: ', bestArtist)        \n",
    "        singerPairings[artistQuery] = (bestArtist, lowestScore)\n",
    "            \n",
    "    return singerPairings"
   ]
  },
  {
   "cell_type": "code",
   "execution_count": 19,
   "metadata": {},
   "outputs": [],
   "source": [
    "midiNotes = np.array([60, 62, 64, 65, 67, 69, 71, 72]) # This list contains the midi values for notes C4 to C5 aka 60 to 72, skipping sharps"
   ]
  },
  {
   "cell_type": "code",
   "execution_count": 110,
   "metadata": {
    "scrolled": false
   },
   "outputs": [],
   "source": [
    "db_Templates = getAudioTemplatesNMF(db_Scales, midiNotes)"
   ]
  },
  {
   "cell_type": "code",
   "execution_count": 111,
   "metadata": {
    "scrolled": true
   },
   "outputs": [
    {
     "name": "stdout",
     "output_type": "stream",
     "text": [
      "Query Artist Name:  Cynthia\n",
      "Template Name and Score:  Sabrina ,  98.2954201732658\n",
      "Template Name and Score:  Cynthia ,  86.44036556215035\n",
      "Template Name and Score:  Willis ,  100.99211248949983\n",
      "Template Name and Score:  Kaitlyn ,  101.76890821833344\n",
      "Template Name and Score:  Ankoor ,  112.5179023629586\n",
      "Template Name and Score:  Gary ,  103.34469603305759\n",
      "Template Name and Score:  Lilly ,  91.38076485884375\n",
      "Template Name and Score:  Maddie ,  94.1662260519039\n",
      "Template Name and Score:  Gabe ,  109.0660178846777\n",
      "Template Name and Score:  Hannah ,  100.68200590961446\n",
      "Template Name and Score:  Kailee ,  87.83038938460282\n",
      "Best Template Match:  Cynthia\n",
      "Query Artist Name:  Kailee\n",
      "Template Name and Score:  Sabrina ,  235.73312566342295\n",
      "Template Name and Score:  Cynthia ,  179.75100173021028\n",
      "Template Name and Score:  Willis ,  247.0294194548881\n",
      "Template Name and Score:  Kaitlyn ,  227.77829950586008\n",
      "Template Name and Score:  Ankoor ,  266.62856486350944\n",
      "Template Name and Score:  Gary ,  251.34723546673536\n",
      "Template Name and Score:  Lilly ,  217.94912651759057\n",
      "Template Name and Score:  Maddie ,  203.89455365849696\n",
      "Template Name and Score:  Gabe ,  253.01534763892272\n",
      "Template Name and Score:  Hannah ,  229.15274685884694\n",
      "Template Name and Score:  Kailee ,  199.45128101235258\n",
      "Best Template Match:  Cynthia\n",
      "Query Artist Name:  Willis\n",
      "Template Name and Score:  Sabrina ,  61.30944481236667\n",
      "Template Name and Score:  Cynthia ,  52.66443971823503\n",
      "Template Name and Score:  Willis ,  50.392164219212454\n",
      "Template Name and Score:  Kaitlyn ,  61.01298893978247\n",
      "Template Name and Score:  Ankoor ,  60.26116358266328\n",
      "Template Name and Score:  Gary ,  58.167020544681385\n",
      "Template Name and Score:  Lilly ,  58.29122196506479\n",
      "Template Name and Score:  Maddie ,  56.83801949109667\n",
      "Template Name and Score:  Gabe ,  59.4903048806759\n",
      "Template Name and Score:  Hannah ,  59.212244414365806\n",
      "Template Name and Score:  Kailee ,  52.81527268697423\n",
      "Best Template Match:  Willis\n",
      "Query Artist Name:  Kaitlyn\n",
      "Template Name and Score:  Sabrina ,  80.9738815911635\n",
      "Template Name and Score:  Cynthia ,  70.9550280025488\n",
      "Template Name and Score:  Willis ,  85.73337638831444\n",
      "Template Name and Score:  Kaitlyn ,  71.40131580176501\n",
      "Template Name and Score:  Ankoor ,  94.87589274383554\n",
      "Template Name and Score:  Gary ,  88.21195749089925\n",
      "Template Name and Score:  Lilly ,  78.02878979383838\n",
      "Template Name and Score:  Maddie ,  75.47630516477717\n",
      "Template Name and Score:  Gabe ,  89.38261594732715\n",
      "Template Name and Score:  Hannah ,  82.34978082578519\n",
      "Template Name and Score:  Kailee ,  67.53683244446378\n",
      "Best Template Match:  Kailee\n",
      "Query Artist Name:  Ankoor\n",
      "Template Name and Score:  Sabrina ,  179.6381789105226\n",
      "Template Name and Score:  Cynthia ,  150.27252220412737\n",
      "Template Name and Score:  Willis ,  145.0622063213565\n",
      "Template Name and Score:  Kaitlyn ,  176.73878384244335\n",
      "Template Name and Score:  Ankoor ,  165.67475286404368\n",
      "Template Name and Score:  Gary ,  161.28614999032615\n",
      "Template Name and Score:  Lilly ,  174.06491649104154\n",
      "Template Name and Score:  Maddie ,  161.26859603708522\n",
      "Template Name and Score:  Gabe ,  162.20383153483843\n",
      "Template Name and Score:  Hannah ,  165.69920542287883\n",
      "Template Name and Score:  Kailee ,  153.96159065601577\n",
      "Best Template Match:  Willis\n",
      "Query Artist Name:  Lilly\n",
      "Template Name and Score:  Sabrina ,  149.9189106127009\n",
      "Template Name and Score:  Cynthia ,  114.49297511439894\n",
      "Template Name and Score:  Willis ,  153.90610758505622\n",
      "Template Name and Score:  Kaitlyn ,  143.07016188292135\n",
      "Template Name and Score:  Ankoor ,  170.09121841773973\n",
      "Template Name and Score:  Gary ,  167.37920722372937\n",
      "Template Name and Score:  Lilly ,  126.88398758147346\n",
      "Template Name and Score:  Maddie ,  122.21522791884037\n",
      "Template Name and Score:  Gabe ,  165.12375106104977\n",
      "Template Name and Score:  Hannah ,  145.4583248396211\n",
      "Template Name and Score:  Kailee ,  130.391598315517\n",
      "Best Template Match:  Cynthia\n",
      "Query Artist Name:  Sabrina\n",
      "Template Name and Score:  Sabrina ,  197.6710927494531\n",
      "Template Name and Score:  Cynthia ,  194.51423577573183\n",
      "Template Name and Score:  Willis ,  220.17205344973488\n",
      "Template Name and Score:  Kaitlyn ,  202.45480984934744\n",
      "Template Name and Score:  Ankoor ,  234.50375193606345\n",
      "Template Name and Score:  Gary ,  208.63378378266825\n",
      "Template Name and Score:  Lilly ,  200.9920267864172\n",
      "Template Name and Score:  Maddie ,  206.60224743018995\n",
      "Template Name and Score:  Gabe ,  226.65100878104042\n",
      "Template Name and Score:  Hannah ,  208.82694240020268\n",
      "Template Name and Score:  Kailee ,  189.53230089350743\n",
      "Best Template Match:  Kailee\n",
      "Query Artist Name:  Gary\n",
      "Template Name and Score:  Sabrina ,  159.75216026037305\n",
      "Template Name and Score:  Cynthia ,  124.71029388294411\n",
      "Template Name and Score:  Willis ,  128.1708381359373\n",
      "Template Name and Score:  Kaitlyn ,  158.40376266597013\n",
      "Template Name and Score:  Ankoor ,  167.31453171682375\n",
      "Template Name and Score:  Gary ,  137.8078623158912\n",
      "Template Name and Score:  Lilly ,  155.48046343144273\n",
      "Template Name and Score:  Maddie ,  145.12084278570862\n",
      "Template Name and Score:  Gabe ,  158.70225169835152\n",
      "Template Name and Score:  Hannah ,  158.89158331348406\n",
      "Template Name and Score:  Kailee ,  133.01162678397972\n",
      "Best Template Match:  Cynthia\n",
      "Query Artist Name:  Maddie\n",
      "Template Name and Score:  Sabrina ,  27.075368981134663\n",
      "Template Name and Score:  Cynthia ,  20.889346071077625\n",
      "Template Name and Score:  Willis ,  26.79377530411884\n",
      "Template Name and Score:  Kaitlyn ,  26.051225204320044\n",
      "Template Name and Score:  Ankoor ,  29.201130103130787\n",
      "Template Name and Score:  Gary ,  27.76226398805198\n",
      "Template Name and Score:  Lilly ,  23.23390268896564\n",
      "Template Name and Score:  Maddie ,  20.415241135622257\n",
      "Template Name and Score:  Gabe ,  27.719594996706537\n",
      "Template Name and Score:  Hannah ,  23.90193421611806\n",
      "Template Name and Score:  Kailee ,  23.69471731095584\n",
      "Best Template Match:  Maddie\n",
      "Query Artist Name:  Hannah\n",
      "Template Name and Score:  Sabrina ,  47.041369691896264\n",
      "Template Name and Score:  Cynthia ,  39.77113027684581\n",
      "Template Name and Score:  Willis ,  51.04962709604353\n",
      "Template Name and Score:  Kaitlyn ,  48.61079143253749\n",
      "Template Name and Score:  Ankoor ,  52.424661871820874\n",
      "Template Name and Score:  Gary ,  52.91835412959133\n",
      "Template Name and Score:  Lilly ,  45.96665228831515\n",
      "Template Name and Score:  Maddie ,  43.59553997015965\n",
      "Template Name and Score:  Gabe ,  52.39818592413966\n",
      "Template Name and Score:  Hannah ,  48.79674059779848\n",
      "Template Name and Score:  Kailee ,  41.17478292295043\n",
      "Best Template Match:  Cynthia\n",
      "Query Artist Name:  Gabe\n",
      "Template Name and Score:  Sabrina ,  136.37523138486304\n",
      "Template Name and Score:  Cynthia ,  115.75952006948563\n",
      "Template Name and Score:  Willis ,  117.25211132231301\n",
      "Template Name and Score:  Kaitlyn ,  135.23591698324918\n",
      "Template Name and Score:  Ankoor ,  138.30171929989632\n",
      "Template Name and Score:  Gary ,  121.76126262331456\n",
      "Template Name and Score:  Lilly ,  131.8417374028903\n",
      "Template Name and Score:  Maddie ,  125.62798630516352\n",
      "Template Name and Score:  Gabe ,  129.56671122914358\n",
      "Template Name and Score:  Hannah ,  130.83381075515823\n",
      "Template Name and Score:  Kailee ,  116.10488522748074\n",
      "Best Template Match:  Cynthia\n"
     ]
    }
   ],
   "source": [
    "singerPairings = calculateSinger(db_JingleBells, db_Templates)"
   ]
  },
  {
   "cell_type": "code",
   "execution_count": 74,
   "metadata": {},
   "outputs": [],
   "source": [
    "def accuracyTest(singerPairings):\n",
    "    \n",
    "    '''\n",
    "    This function is used to test the accuracy of the system.\n",
    "    '''\n",
    "    \n",
    "    # Initialize variables\n",
    "    amountCorrect = 0\n",
    "    totalSongs = len(singerPairings)\n",
    "    \n",
    "    # Loop through the singerPairings database \n",
    "    for querySinger, resultsSingerAndScore in singerPairings.items():\n",
    "        \n",
    "        if querySinger == resultsSingerAndScore[0]:\n",
    "            amountCorrect += 1\n",
    "    \n",
    "    return amountCorrect/totalSongs"
   ]
  },
  {
   "cell_type": "code",
   "execution_count": 112,
   "metadata": {
    "scrolled": false
   },
   "outputs": [],
   "source": [
    "accuracy = accuracyTest(singerPairings)"
   ]
  },
  {
   "cell_type": "code",
   "execution_count": 113,
   "metadata": {},
   "outputs": [
    {
     "data": {
      "text/plain": [
       "0.2727272727272727"
      ]
     },
     "execution_count": 113,
     "metadata": {},
     "output_type": "execute_result"
    }
   ],
   "source": [
    "accuracy"
   ]
  },
  {
   "cell_type": "code",
   "execution_count": null,
   "metadata": {},
   "outputs": [],
   "source": []
  },
  {
   "cell_type": "code",
   "execution_count": 25,
   "metadata": {},
   "outputs": [],
   "source": [
    "def accuracyTestMultiple(db_JingleBells, db_Scales, midiNotes, numTests):\n",
    "    '''\n",
    "    This function is used to run multiple tests on the databases of scales and songs. It outputs the average \n",
    "    accuracy after numTests are run.\n",
    "    '''\n",
    "    \n",
    "    totalAccuracy = 0\n",
    "    totalIterations = numTests\n",
    "    \n",
    "    while(numTests>=1):\n",
    "        # Get the templates based off the scales\n",
    "        db_Templates = getAudioTemplatesNMF(db_Scales, midiNotes)\n",
    "        \n",
    "        # Create the singer pairings dictionary \n",
    "        singerPairings = calculateSinger(db_JingleBells, db_Templates)\n",
    "        \n",
    "        # Get the overall accuracy\n",
    "        totalAccuracy += accuracyTest(singerPairings)\n",
    "        \n",
    "        numTests -= 1\n",
    "        \n",
    "    return totalAccuracy / totalIterations  "
   ]
  },
  {
   "cell_type": "code",
   "execution_count": 108,
   "metadata": {},
   "outputs": [],
   "source": [
    "# accuracy10Tests = accuracyTestMultiple(db_JingleBells, db_Scales, midiNotes, 10)"
   ]
  },
  {
   "cell_type": "code",
   "execution_count": 109,
   "metadata": {},
   "outputs": [],
   "source": [
    "# print(accuracy10Tests)"
   ]
  },
  {
   "cell_type": "markdown",
   "metadata": {},
   "source": [
    "# Archive"
   ]
  },
  {
   "cell_type": "markdown",
   "metadata": {},
   "source": [
    "## Midi Notes and Timing"
   ]
  },
  {
   "cell_type": "code",
   "execution_count": 28,
   "metadata": {},
   "outputs": [],
   "source": [
    "def noteToIdx(note):\n",
    "    '''\n",
    "    This function will be used to transcribe the given note into an index value (0-11). \n",
    "    '''\n",
    "    \n",
    "    if note == 'C':\n",
    "        return 0\n",
    "    elif note=='C#': \n",
    "        return 1\n",
    "    elif note=='D':\n",
    "        return 2\n",
    "    elif note=='D#':\n",
    "        return 3\n",
    "    elif note=='E':\n",
    "        return 4\n",
    "    elif note=='F':\n",
    "        return 5\n",
    "    elif note=='F#':\n",
    "        return 6\n",
    "    elif note=='G':\n",
    "        return 7\n",
    "    elif note=='G#':\n",
    "        return 8\n",
    "    elif note=='A':\n",
    "        return 9\n",
    "    elif note=='A#':\n",
    "        return 10\n",
    "    else:\n",
    "        # Case for when the note is B\n",
    "        return 11"
   ]
  },
  {
   "cell_type": "code",
   "execution_count": 29,
   "metadata": {},
   "outputs": [],
   "source": [
    "def notesToIdx(noteArray):\n",
    "    \n",
    "    '''\n",
    "    This function will be used to transcribe the given notes into an index value (0-11) array. \n",
    "    '''\n",
    "    \n",
    "    noteIdxArray = []\n",
    "    \n",
    "    for i in range(len(noteArray)):\n",
    "        \n",
    "        noteIdxArray.append(noteToIdx(noteArray[i]))\n",
    "    \n",
    "    return np.array(noteIdxArray)"
   ]
  },
  {
   "cell_type": "code",
   "execution_count": 30,
   "metadata": {},
   "outputs": [],
   "source": [
    "def createNoteEvents(notes,noteStartTimesArray):\n",
    "    \n",
    "    '''\n",
    "    This function is used to convert the notes into indices and then \n",
    "    combine the note indices with their corresponding start times.\n",
    "    '''\n",
    "    \n",
    "    noteEvents = []\n",
    "    \n",
    "    noteIdxArray = notesToIdx(notes)\n",
    "\n",
    "    for i in range(len(noteIdxArray)):\n",
    "        \n",
    "        noteEvents.append((noteIdxArray[i], noteStartTimesArray[i]))\n",
    "    \n",
    "    return noteEvents"
   ]
  },
  {
   "cell_type": "code",
   "execution_count": 31,
   "metadata": {},
   "outputs": [],
   "source": [
    "# Notes and timing for Jingle Bells were transcribing using the chorus found here: \n",
    "# https://www.bethsnotesplus.com/2014/07/jingle-bells.html\n",
    "\n",
    "notes = np.array(['E', 'E', 'E', 'E', 'E', 'E', 'E', 'G', 'C', 'D', 'E', 'F', 'F', 'F', 'F', 'F', 'E', 'E',   \n",
    "                  'E', 'E', 'E', 'D', 'D', 'E', 'D'])\n",
    "    \n",
    "    #, 'G'\n",
    "    \n",
    "notesB = np.array(['B', 'B', 'B', 'B', 'B', 'B', 'B', 'D', 'G', 'A', 'B', 'C', 'C', 'C', 'C', 'C', 'B', \n",
    "                   'B', 'B', 'B', 'B', 'A', 'A', 'B', 'A', 'D','B', 'B', 'B', 'B', 'B', 'B', 'B', 'D', \n",
    "                   'G', 'A', 'B', 'C', 'C', 'C', 'C', 'C', 'B', 'B', 'B', 'B', 'D', 'D', 'C', 'A', 'G'])\n",
    "\n",
    "noteTiming = np.array([0,1,2,4,5,6,8,9,10,11.5,12,17,18,19.5,20,21,22,23,23.5,24,25,26,27,28,30,32,33,34,36,\n",
    "                       37,38,40,41,42,43.5,44,48,49,50,51.5,52,53,54,55,55.5,56,57,58,59,60,64])\n",
    "\n",
    "noteStartTimes = np.array([0, 0.24,  0.48,  0.96,  1.2 ,  1.44,  1.92,  2.16,  2.4 ,  2.76,\n",
    "        2.88,  4.08,  4.32,  4.68,  4.8 ,  5.04,  5.28,  5.52,  5.64,\n",
    "        5.76,  6.  ,  6.24,  6.48,  6.72,  7.2 ,  7.68,  7.92,  8.16,\n",
    "        8.64,  8.88,  9.12,  9.6 ,  9.84, 10.08, 10.44, 10.56, 11.52,\n",
    "       11.76, 12.  , 12.36, 12.48, 12.72, 12.96, 13.2 , 13.32, 13.44,\n",
    "       13.68, 13.92, 14.16, 14.4 , 15.36])"
   ]
  },
  {
   "cell_type": "code",
   "execution_count": 32,
   "metadata": {},
   "outputs": [],
   "source": [
    "noteEvents = createNoteEvents(notes, noteStartTimes[:len(notes)])"
   ]
  },
  {
   "cell_type": "markdown",
   "metadata": {},
   "source": [
    "## Initialize Activations"
   ]
  },
  {
   "cell_type": "code",
   "execution_count": 33,
   "metadata": {},
   "outputs": [],
   "source": [
    "def initActivations(Zxx, midiNotes, noteEvents, fs=22050, hopsize=512, deltaT=.5):\n",
    "    '''This function allows us to initialize the H matrix by utilizing the STFT and the noteEvents.'''\n",
    "    \n",
    "    numNotes = len(midiNotes)\n",
    "    numFrames = Zxx.shape[1]\n",
    "    H = np.zeros([numNotes, numFrames])\n",
    "    maxNoteLengthInFrames = int(1*fs/hopsize) #this value is for the 1 second that each note plays for\n",
    "    deltaFrames = int(deltaT*fs/hopsize) #converts the deltaT (onset value) into frames\n",
    "    \n",
    "    # Create a range of values that span from the -onset value to the totalDuration + the onset value\n",
    "    noteLengthInFrames = np.arange(-deltaFrames, maxNoteLengthInFrames + deltaFrames + 1) \n",
    "    for i in range(len(noteEvents)):\n",
    "        note = noteEvents[i][0]\n",
    "        actTime = noteEvents[i][1] #time when the note is activated \n",
    "        actFrame = int(actTime*fs/hopsize) #convert the time into frames\n",
    "        \n",
    "        # Creates an array of frame values that need to be set to random, non-zero numbers\n",
    "        noteTimeActive = actFrame + noteLengthInFrames \n",
    "        \n",
    "        # Remove frames that are less than zero and greater than shape of activation matrix\n",
    "        noteTimeActive = np.delete(noteTimeActive, np.where(noteTimeActive < 0)).astype(int)\n",
    "        noteTimeActive = np.delete(noteTimeActive, np.where(noteTimeActive >= H.shape[1])).astype(int)\n",
    "        \n",
    "        # Create as many random numbers as indices selected\n",
    "        H[note, noteTimeActive] = np.random.rand(noteTimeActive.size)\n",
    "        \n",
    "    return H"
   ]
  },
  {
   "cell_type": "markdown",
   "metadata": {},
   "source": [
    "## Experimentation"
   ]
  },
  {
   "cell_type": "code",
   "execution_count": 34,
   "metadata": {},
   "outputs": [],
   "source": [
    "def NMFFixedW(W, V):\n",
    "    '''The NMF function with a fixed W matrix runs the algorithm until it causes a change of less than 1e-6 '''\n",
    "    \n",
    "    H = naiveMatrixInit(V)\n",
    "    count = 0\n",
    "    while(True):\n",
    "        prevEstimate = np.linalg.norm(V - np.matmul(W,H))\n",
    "        \n",
    "        H = (H*np.matmul(W.T, V))/(np.matmul(np.matmul(W.T, W), H))\n",
    "        \n",
    "        count += 1\n",
    "        newEstimate = np.linalg.norm(V - np.matmul(W,H))\n",
    "        \n",
    "        # Take the difference of the previous and newly computed values \n",
    "        # If the number is small, then that means there has been little to no change within the NMF algorithm\n",
    "        # and thus we can stop running the function\n",
    "        if np.abs(newEstimate - prevEstimate) <= 1e-6:\n",
    "            break\n",
    "    return H"
   ]
  },
  {
   "cell_type": "code",
   "execution_count": 35,
   "metadata": {},
   "outputs": [],
   "source": [
    "def calculateSingerFixedW(db_Queries, db_Templates):\n",
    "    \n",
    "    '''\n",
    "    This function iterates through all the queries, calculates the stft of the query, and then iterates through all\n",
    "    the artist templates. It then calculates the optimal activation matrix as well as the corresponding score. \n",
    "    The lowest score calculated equates to the best artist template that matches the query, and we store the query \n",
    "    artist name with the template name and its score into a dictionary. The function then returns the dictionary.\n",
    "    '''\n",
    "    \n",
    "    # Initialize pairing dictionary\n",
    "    singerPairings = {}\n",
    "    \n",
    "    # Loop through the query dictionary's items\n",
    "    for artistQuery, audio in db_Queries.items():\n",
    "        \n",
    "        print('Query Artist Name: ' , artistQuery)\n",
    "        \n",
    "        # Calculate STFT for the query\n",
    "        STFT = calcSTFT(audio)\n",
    "        magSTFT = np.abs(STFT)\n",
    "        bestArtist = ''\n",
    "        lowestScore = np.inf\n",
    "        \n",
    "        # Iterate through all the templates, \n",
    "        for artistTemplate, template in db_Templates.items():\n",
    "            \n",
    "            artistActivation = NMFFixedW(template, magSTFT)\n",
    "            \n",
    "            curScore = accuracyScore(magSTFT, artistActivation, template)\n",
    "            print('Template Name and Score: ', artistTemplate, ', ', curScore)\n",
    "            \n",
    "            if curScore < lowestScore:\n",
    "                bestArtist = artistTemplate\n",
    "                lowestScore = curScore\n",
    "                \n",
    "        print('Best Template Match: ', bestArtist)        \n",
    "        singerPairings[artistQuery] = (bestArtist, lowestScore)\n",
    "            \n",
    "    return singerPairings"
   ]
  },
  {
   "cell_type": "code",
   "execution_count": 49,
   "metadata": {
    "scrolled": true
   },
   "outputs": [
    {
     "name": "stdout",
     "output_type": "stream",
     "text": [
      "Query Artist Name:  Cynthia\n",
      "Template Name and Score:  Sabrina ,  98.32813561163694\n",
      "Template Name and Score:  Cynthia ,  86.4376322282843\n",
      "Template Name and Score:  Willis ,  101.96577840732436\n",
      "Template Name and Score:  Kaitlyn ,  105.9006370992793\n",
      "Template Name and Score:  Ankoor ,  111.64995723132593\n",
      "Template Name and Score:  Gary ,  102.30145075825635\n",
      "Template Name and Score:  Lilly ,  91.26795199164195\n",
      "Template Name and Score:  Maddie ,  94.12096192696694\n",
      "Template Name and Score:  Gabe ,  108.43641676403489\n",
      "Template Name and Score:  Hannah ,  100.63352841217494\n",
      "Template Name and Score:  Kailee ,  84.92097109192983\n",
      "Best Template Match:  Kailee\n",
      "Query Artist Name:  Kailee\n",
      "Template Name and Score:  Sabrina ,  235.7524720814268\n",
      "Template Name and Score:  Cynthia ,  179.70591656544653\n",
      "Template Name and Score:  Willis ,  250.3182868419864\n",
      "Template Name and Score:  Kaitlyn ,  229.57858273724602\n",
      "Template Name and Score:  Ankoor ,  266.0089421859356\n",
      "Template Name and Score:  Gary ,  250.93729482817687\n",
      "Template Name and Score:  Lilly ,  218.21415559096639\n",
      "Template Name and Score:  Maddie ,  203.70244843969618\n",
      "Template Name and Score:  Gabe ,  247.58682175177003\n",
      "Template Name and Score:  Hannah ,  229.46921550666366\n",
      "Template Name and Score:  Kailee ,  173.51858121822337\n",
      "Best Template Match:  Kailee\n",
      "Query Artist Name:  Willis\n",
      "Template Name and Score:  Sabrina ,  61.31964189530066\n",
      "Template Name and Score:  Cynthia ,  51.81373148053384\n",
      "Template Name and Score:  Willis ,  51.42814740509996\n",
      "Template Name and Score:  Kaitlyn ,  61.7464241953708\n",
      "Template Name and Score:  Ankoor ,  59.84487598485789\n",
      "Template Name and Score:  Gary ,  57.472141496595725\n",
      "Template Name and Score:  Lilly ,  58.30029358358395\n",
      "Template Name and Score:  Maddie ,  56.827972774020644\n",
      "Template Name and Score:  Gabe ,  58.11804536720767\n",
      "Template Name and Score:  Hannah ,  59.213585041822036\n",
      "Template Name and Score:  Kailee ,  53.72649941431616\n",
      "Best Template Match:  Willis\n",
      "Query Artist Name:  Kaitlyn\n",
      "Template Name and Score:  Sabrina ,  81.00922824307496\n",
      "Template Name and Score:  Cynthia ,  71.05906765236071\n",
      "Template Name and Score:  Willis ,  89.0962882384354\n",
      "Template Name and Score:  Kaitlyn ,  73.61070561357258\n",
      "Template Name and Score:  Ankoor ,  94.06022827298393\n",
      "Template Name and Score:  Gary ,  87.70254375654761\n",
      "Template Name and Score:  Lilly ,  78.00002674635891\n",
      "Template Name and Score:  Maddie ,  75.40959471752518\n",
      "Template Name and Score:  Gabe ,  88.43811119774666\n",
      "Template Name and Score:  Hannah ,  82.40442668965805\n",
      "Template Name and Score:  Kailee ,  65.06319613171539\n",
      "Best Template Match:  Kailee\n",
      "Query Artist Name:  Ankoor\n",
      "Template Name and Score:  Sabrina ,  179.63797113425537\n",
      "Template Name and Score:  Cynthia ,  147.2659466841689\n",
      "Template Name and Score:  Willis ,  146.03507451427083\n",
      "Template Name and Score:  Kaitlyn ,  177.74483025296604\n",
      "Template Name and Score:  Ankoor ,  163.6431818248995\n",
      "Template Name and Score:  Gary ,  159.97091207113507\n",
      "Template Name and Score:  Lilly ,  174.08262090877284\n",
      "Template Name and Score:  Maddie ,  161.21729696901218\n",
      "Template Name and Score:  Gabe ,  160.68299449812363\n",
      "Template Name and Score:  Hannah ,  165.78628577229392\n",
      "Template Name and Score:  Kailee ,  154.4749316633117\n",
      "Best Template Match:  Willis\n",
      "Query Artist Name:  Lilly\n",
      "Template Name and Score:  Sabrina ,  149.8967240493093\n",
      "Template Name and Score:  Cynthia ,  115.07764530829022\n",
      "Template Name and Score:  Willis ,  158.96576409137492\n",
      "Template Name and Score:  Kaitlyn ,  144.45012247289597\n",
      "Template Name and Score:  Ankoor ,  168.55507842133687\n",
      "Template Name and Score:  Gary ,  165.85789521357532\n",
      "Template Name and Score:  Lilly ,  126.90344843210677\n",
      "Template Name and Score:  Maddie ,  122.14027436650922\n",
      "Template Name and Score:  Gabe ,  161.49178161953043\n",
      "Template Name and Score:  Hannah ,  145.54840461815226\n",
      "Template Name and Score:  Kailee ,  115.70388074327155\n",
      "Best Template Match:  Cynthia\n",
      "Query Artist Name:  Sabrina\n",
      "Template Name and Score:  Sabrina ,  197.6418394178689\n",
      "Template Name and Score:  Cynthia ,  194.46489141335744\n",
      "Template Name and Score:  Willis ,  223.86046990635364\n",
      "Template Name and Score:  Kaitlyn ,  210.6353239868194\n",
      "Template Name and Score:  Ankoor ,  233.5241780842673\n",
      "Template Name and Score:  Gary ,  206.0061552785002\n",
      "Template Name and Score:  Lilly ,  200.95844579629937\n",
      "Template Name and Score:  Maddie ,  206.58303299575465\n",
      "Template Name and Score:  Gabe ,  226.5307337614578\n",
      "Template Name and Score:  Hannah ,  208.77813015565937\n",
      "Template Name and Score:  Kailee ,  188.84370498462025\n",
      "Best Template Match:  Kailee\n",
      "Query Artist Name:  Gary\n",
      "Template Name and Score:  Sabrina ,  159.7529154674915\n",
      "Template Name and Score:  Cynthia ,  121.6250349024076\n",
      "Template Name and Score:  Willis ,  129.83401957889387\n",
      "Template Name and Score:  Kaitlyn ,  160.3490719959936\n",
      "Template Name and Score:  Ankoor ,  165.81291548797088\n",
      "Template Name and Score:  Gary ,  133.9461780553004\n",
      "Template Name and Score:  Lilly ,  155.5346897008043\n",
      "Template Name and Score:  Maddie ,  145.00791359635357\n",
      "Template Name and Score:  Gabe ,  157.23742031017608\n",
      "Template Name and Score:  Hannah ,  158.9756246445443\n",
      "Template Name and Score:  Kailee ,  128.61518131431225\n",
      "Best Template Match:  Cynthia\n",
      "Query Artist Name:  Maddie\n",
      "Template Name and Score:  Sabrina ,  27.06380377972194\n",
      "Template Name and Score:  Cynthia ,  20.906714907706174\n",
      "Template Name and Score:  Willis ,  27.23039433317451\n",
      "Template Name and Score:  Kaitlyn ,  26.137200165459173\n",
      "Template Name and Score:  Ankoor ,  28.957568545851387\n",
      "Template Name and Score:  Gary ,  27.796605976069166\n",
      "Template Name and Score:  Lilly ,  23.245385639314748\n",
      "Template Name and Score:  Maddie ,  20.40795767324776\n",
      "Template Name and Score:  Gabe ,  27.09113136210076\n",
      "Template Name and Score:  Hannah ,  23.92089263200863\n",
      "Template Name and Score:  Kailee ,  20.591387511616357\n",
      "Best Template Match:  Maddie\n",
      "Query Artist Name:  Hannah\n",
      "Template Name and Score:  Sabrina ,  47.03789282072402\n",
      "Template Name and Score:  Cynthia ,  39.86844423359546\n",
      "Template Name and Score:  Willis ,  54.44745869913302\n",
      "Template Name and Score:  Kaitlyn ,  49.40741652694722\n",
      "Template Name and Score:  Ankoor ,  51.92898034325718\n",
      "Template Name and Score:  Gary ,  52.45888396724296\n",
      "Template Name and Score:  Lilly ,  45.96797641393114\n",
      "Template Name and Score:  Maddie ,  43.536814726480586\n",
      "Template Name and Score:  Gabe ,  52.294660895710074\n",
      "Template Name and Score:  Hannah ,  48.7867337428845\n",
      "Template Name and Score:  Kailee ,  39.076230473988225\n",
      "Best Template Match:  Kailee\n",
      "Query Artist Name:  Gabe\n",
      "Template Name and Score:  Sabrina ,  136.34753925652714\n",
      "Template Name and Score:  Cynthia ,  113.86094931070795\n",
      "Template Name and Score:  Willis ,  119.06492922224541\n",
      "Template Name and Score:  Kaitlyn ,  135.4839745269294\n",
      "Template Name and Score:  Ankoor ,  137.30924891481038\n",
      "Template Name and Score:  Gary ,  120.73172479771877\n",
      "Template Name and Score:  Lilly ,  131.83135112708936\n",
      "Template Name and Score:  Maddie ,  125.59157996469537\n",
      "Template Name and Score:  Gabe ,  128.1469097433028\n",
      "Template Name and Score:  Hannah ,  130.8892751416939\n",
      "Template Name and Score:  Kailee ,  114.39469276748011\n",
      "Best Template Match:  Cynthia\n"
     ]
    }
   ],
   "source": [
    "singerPairingsFixedW = calculateSingerFixedW(db_JingleBells, db_Templates)"
   ]
  },
  {
   "cell_type": "code",
   "execution_count": 50,
   "metadata": {
    "scrolled": false
   },
   "outputs": [],
   "source": [
    "accuracyScoreFixedW = accuracyTest(singerPairingsFixedW)"
   ]
  },
  {
   "cell_type": "code",
   "execution_count": 51,
   "metadata": {
    "scrolled": true
   },
   "outputs": [
    {
     "data": {
      "text/plain": [
       "0.2727272727272727"
      ]
     },
     "execution_count": 51,
     "metadata": {},
     "output_type": "execute_result"
    }
   ],
   "source": [
    "accuracyScoreFixedW"
   ]
  },
  {
   "cell_type": "markdown",
   "metadata": {},
   "source": [
    "## Visualization testing"
   ]
  },
  {
   "cell_type": "code",
   "execution_count": 52,
   "metadata": {
    "scrolled": true
   },
   "outputs": [],
   "source": [
    "# for name, audio in db_Templates.items():\n",
    "#     print(name)\n",
    "# #     visualizeSTFT(np.abs(calcSTFT(audio)))\n",
    "#     visualizeTemplate(db_Templates[name])\n"
   ]
  },
  {
   "cell_type": "code",
   "execution_count": null,
   "metadata": {},
   "outputs": [],
   "source": []
  },
  {
   "cell_type": "code",
   "execution_count": 53,
   "metadata": {},
   "outputs": [],
   "source": [
    "# for name, audio in db_Scales.items():\n",
    "#     print(name)\n",
    "# #     visualizeSTFT(np.abs(calcSTFT(audio)))\n",
    "# #     visualizeTemplate(db_Templates[name])\n",
    "#     print(np.abs(calcSTFT(audio)).shape)"
   ]
  },
  {
   "cell_type": "code",
   "execution_count": 54,
   "metadata": {},
   "outputs": [],
   "source": [
    "# for queryName, scaleData in singerPairings.items():\n",
    "#     print('query name', queryName, 'scale name', scaleData)"
   ]
  },
  {
   "cell_type": "code",
   "execution_count": 56,
   "metadata": {},
   "outputs": [],
   "source": [
    "S = lb.feature.melspectrogram(y=db_Scales['Cynthia'], sr=22050, n_fft=2048, hop_length=512, power=2.0)"
   ]
  },
  {
   "cell_type": "code",
   "execution_count": 83,
   "metadata": {},
   "outputs": [
    {
     "data": {
      "image/png": "[encoded data removed]",
      "text/plain": [
       "<Figure size 432x288 with 2 Axes>"
      ]
     },
     "metadata": {},
     "output_type": "display_data"
    }
   ],
   "source": [
    "lb.display.specshow(lb.power_to_db(S, ref=np.max), y_axis='mel', fmax=8000, x_axis='time')\n",
    "plt.colorbar(format='%+2.0f dB')\n",
    "plt.title('Mel spectrogram')\n",
    "plt.tight_layout()"
   ]
  },
  {
   "cell_type": "code",
   "execution_count": 93,
   "metadata": {},
   "outputs": [],
   "source": [
    "mfccCynthia = lb.feature.mfcc(y=db_Scales['Cynthia'], sr=22050, n_mfcc=60)"
   ]
  },
  {
   "cell_type": "code",
   "execution_count": 98,
   "metadata": {
    "scrolled": true
   },
   "outputs": [
    {
     "name": "stdout",
     "output_type": "stream",
     "text": [
      "[[-5.37741630e+02 -5.35867363e+02 -5.34314660e+02 ... -5.33882988e+02\n",
      "  -5.32445170e+02 -5.33327398e+02]\n",
      " [ 6.17867559e+01  6.41681972e+01  6.71953473e+01 ...  6.61718006e+01\n",
      "   6.37720390e+01  6.18917917e+01]\n",
      " [ 3.62877944e+01  3.83427756e+01  4.19631291e+01 ...  4.04000619e+01\n",
      "   3.38826801e+01  3.23427067e+01]\n",
      " ...\n",
      " [ 1.43036053e-01  1.06094353e+00 -4.70577942e-03 ...  1.53857316e+00\n",
      "   1.78518566e+00  6.15252474e-01]\n",
      " [ 1.08211674e+00  3.91758044e+00  2.61002344e+00 ...  1.66297501e+00\n",
      "   8.88803421e-01 -2.00768409e-02]\n",
      " [ 1.82472661e-01  2.45341992e+00  1.89203489e+00 ...  2.25383718e+00\n",
      "   1.30284096e+00 -1.45768870e+00]]\n"
     ]
    }
   ],
   "source": [
    "print(mfccCynthia)"
   ]
  },
  {
   "cell_type": "code",
   "execution_count": 103,
   "metadata": {},
   "outputs": [
    {
     "data": {
      "text/plain": [
       "(128, 258)"
      ]
     },
     "execution_count": 103,
     "metadata": {},
     "output_type": "execute_result"
    }
   ],
   "source": [
    "S.shape"
   ]
  },
  {
   "cell_type": "code",
   "execution_count": 106,
   "metadata": {},
   "outputs": [
    {
     "data": {
      "image/png": "[encoded data removed]",
      "text/plain": [
       "<Figure size 432x288 with 2 Axes>"
      ]
     },
     "metadata": {},
     "output_type": "display_data"
    }
   ],
   "source": [
    "lb.display.specshow(lb.power_to_db(mfccCynthia, ref=np.max), y_axis='mel', fmax=8000, x_axis='time')\n",
    "plt.colorbar(format='%+2.0f dB')\n",
    "plt.title('Mel spectrogram')\n",
    "plt.tight_layout()"
   ]
  },
  {
   "cell_type": "code",
   "execution_count": null,
   "metadata": {},
   "outputs": [],
   "source": []
  }
 ],
 "metadata": {
  "kernelspec": {
   "display_name": "Python 3",
   "language": "python",
   "name": "python3"
  },
  "language_info": {
   "codemirror_mode": {
    "name": "ipython",
    "version": 3
   },
   "file_extension": ".py",
   "mimetype": "text/x-python",
   "name": "python",
   "nbconvert_exporter": "python",
   "pygments_lexer": "ipython3",
   "version": "3.6.5"
  }
 },
 "nbformat": 4,
 "nbformat_minor": 2
}
