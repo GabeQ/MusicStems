{
 "cells": [
  {
   "cell_type": "markdown",
   "metadata": {},
   "source": [
    "# Music STEMS Final Project\n",
    "## Kai Kaneshina and Gabriel Quiroz"
   ]
  },
  {
   "cell_type": "code",
   "execution_count": 1,
   "metadata": {},
   "outputs": [],
   "source": [
    "import numpy as np\n",
    "import librosa as lb\n",
    "import matplotlib.pyplot as plt\n",
    "import IPython.display as ipd\n",
    "import scipy.signal as ss\n",
    "import scipy.io as sio\n",
    "import glob\n",
    "import subprocess\n",
    "import os.path\n",
    "import pickle"
   ]
  },
  {
   "cell_type": "markdown",
   "metadata": {},
   "source": [
    "## Midi Notes and Timing"
   ]
  },
  {
   "cell_type": "code",
   "execution_count": 2,
   "metadata": {},
   "outputs": [],
   "source": [
    "midiNotes = np.arange(60,72) # This list contains the midi values for notes C4 to C5 aka 60 to 71"
   ]
  },
  {
   "cell_type": "code",
   "execution_count": 3,
   "metadata": {},
   "outputs": [],
   "source": [
    "def noteToIdx(note):\n",
    "    '''\n",
    "    This function will be used to transcribe the given note into an index value (0-11). \n",
    "    '''\n",
    "    \n",
    "    if note == 'C':\n",
    "        return 0\n",
    "    elif note=='C#': \n",
    "        return 1\n",
    "    elif note=='D':\n",
    "        return 2\n",
    "    elif note=='D#':\n",
    "        return 3\n",
    "    elif note=='E':\n",
    "        return 4\n",
    "    elif note=='F':\n",
    "        return 5\n",
    "    elif note=='F#':\n",
    "        return 6\n",
    "    elif note=='G':\n",
    "        return 7\n",
    "    elif note=='G#':\n",
    "        return 8\n",
    "    elif note=='A':\n",
    "        return 9\n",
    "    elif note=='A#':\n",
    "        return 10\n",
    "    else:\n",
    "        # Case for when the note is B\n",
    "        return 11"
   ]
  },
  {
   "cell_type": "code",
   "execution_count": 4,
   "metadata": {},
   "outputs": [],
   "source": [
    "def notesToIdx(noteArray):\n",
    "    \n",
    "    '''\n",
    "    This function will be used to transcribe the given notes into an index value (0-11) array. \n",
    "    '''\n",
    "    \n",
    "    noteIdxArray = []\n",
    "    \n",
    "    for i in range(len(noteArray)):\n",
    "        \n",
    "        noteIdxArray.append(noteToIdx(noteArray[i]))\n",
    "    \n",
    "    return np.array(noteIdxArray)"
   ]
  },
  {
   "cell_type": "code",
   "execution_count": 49,
   "metadata": {},
   "outputs": [],
   "source": [
    "def createNoteEvents(notes,noteStartTimesArray):\n",
    "    \n",
    "    '''\n",
    "    This function is used to convert the notes into indices and then \n",
    "    combine the note indices with their corresponding start times.\n",
    "    '''\n",
    "    \n",
    "    noteEvents = []\n",
    "    \n",
    "    noteIdxArray = notesToIdx(notes)\n",
    "\n",
    "    for i in range(len(noteIdxArray)):\n",
    "        \n",
    "        noteEvents.append((noteIdxArray[i], noteStartTimesArray[i]))\n",
    "    \n",
    "    return noteEvents"
   ]
  },
  {
   "cell_type": "code",
   "execution_count": 63,
   "metadata": {},
   "outputs": [],
   "source": [
    "# Notes and timing for Jingle Bells were transcribing using the chorus found here: \n",
    "# https://www.bethsnotesplus.com/2014/07/jingle-bells.html\n",
    "\n",
    "notes = np.array(['E', 'E', 'E', 'E', 'E', 'E', 'E', 'G', 'C', 'D', 'E', 'F', 'F', 'F', 'F', 'F', 'E', 'E',   \n",
    "                  'E', 'E', 'E', 'D', 'D', 'E', 'D'])\n",
    "    \n",
    "    #, 'G'\n",
    "    \n",
    "notesB = np.array(['B', 'B', 'B', 'B', 'B', 'B', 'B', 'D', 'G', 'A', 'B', 'C', 'C', 'C', 'C', 'C', 'B', \n",
    "                   'B', 'B', 'B', 'B', 'A', 'A', 'B', 'A', 'D','B', 'B', 'B', 'B', 'B', 'B', 'B', 'D', \n",
    "                   'G', 'A', 'B', 'C', 'C', 'C', 'C', 'C', 'B', 'B', 'B', 'B', 'D', 'D', 'C', 'A', 'G'])\n",
    "\n",
    "noteTiming = np.array([0,1,2,4,5,6,8,9,10,11.5,12,17,18,19.5,20,21,22,23,23.5,24,25,26,27,28,30,32,33,34,36,\n",
    "                       37,38,40,41,42,43.5,44,48,49,50,51.5,52,53,54,55,55.5,56,57,58,59,60,64])\n",
    "\n",
    "noteStartTimes = np.array([0, 0.24,  0.48,  0.96,  1.2 ,  1.44,  1.92,  2.16,  2.4 ,  2.76,\n",
    "        2.88,  4.08,  4.32,  4.68,  4.8 ,  5.04,  5.28,  5.52,  5.64,\n",
    "        5.76,  6.  ,  6.24,  6.48,  6.72,  7.2 ,  7.68,  7.92,  8.16,\n",
    "        8.64,  8.88,  9.12,  9.6 ,  9.84, 10.08, 10.44, 10.56, 11.52,\n",
    "       11.76, 12.  , 12.36, 12.48, 12.72, 12.96, 13.2 , 13.32, 13.44,\n",
    "       13.68, 13.92, 14.16, 14.4 , 15.36])"
   ]
  },
  {
   "cell_type": "code",
   "execution_count": 64,
   "metadata": {},
   "outputs": [],
   "source": [
    "noteEvents = createNoteEvents(notes, noteStartTimes[:len(notes)])"
   ]
  },
  {
   "cell_type": "code",
   "execution_count": null,
   "metadata": {},
   "outputs": [],
   "source": []
  },
  {
   "cell_type": "markdown",
   "metadata": {},
   "source": [
    "## Database Constructor"
   ]
  },
  {
   "cell_type": "code",
   "execution_count": 9,
   "metadata": {},
   "outputs": [],
   "source": [
    "def constructDatabase(indir):\n",
    "    \"\"\"\n",
    "    Construct a database of fingerprints for all mp3 files in the specified directory.\n",
    "    \n",
    "    Arguments:\n",
    "    indir -- directory containing mp3 files\n",
    "    \n",
    "    Returns:\n",
    "    d -- database of artist names, where the key is the artist name\n",
    "        and the value is the audio array extracted with librosa.\n",
    "    \"\"\"\n",
    "    d = {}\n",
    "\n",
    "    ### START CODE BLOCK ###\n",
    "    path = indir + '/*.m4a'\n",
    "    for filename in glob.iglob(path, recursive=True):  \n",
    "        audio, sr = lb.core.load(filename, 22050)\n",
    "        filename = filename.lstrip(indir + '/') #removes the directory from the filename\n",
    "        name = filename.split(' ')[0] #keeps only the name of the artist\n",
    "        d[name] = audio\n",
    "            \n",
    "    ### END CODE BLOCK ###\n",
    "    \n",
    "    return d"
   ]
  },
  {
   "cell_type": "code",
   "execution_count": 31,
   "metadata": {},
   "outputs": [],
   "source": [
    "db_Scales = constructDatabase('scales') # note that this may take a minute or so to run"
   ]
  },
  {
   "cell_type": "code",
   "execution_count": 32,
   "metadata": {},
   "outputs": [],
   "source": [
    "with open('db_Scales.pkl','wb') as scales:\n",
    "    pickle.dump(db_Scales, scales)"
   ]
  },
  {
   "cell_type": "code",
   "execution_count": 33,
   "metadata": {},
   "outputs": [],
   "source": [
    "with open('db_Scales.pkl','rb') as scales:\n",
    "    db_Scales = pickle.load(scales)"
   ]
  },
  {
   "cell_type": "code",
   "execution_count": 34,
   "metadata": {},
   "outputs": [],
   "source": [
    "db_JingleBells = constructDatabase('song') # note that this may take a minute or so to run"
   ]
  },
  {
   "cell_type": "code",
   "execution_count": 35,
   "metadata": {},
   "outputs": [],
   "source": [
    "with open('db_JingleBells.pkl','wb') as JingleBells:\n",
    "    pickle.dump(db_JingleBells, JingleBells)"
   ]
  },
  {
   "cell_type": "code",
   "execution_count": 36,
   "metadata": {},
   "outputs": [],
   "source": [
    "with open('db_JingleBells.pkl','rb') as JingleBells:\n",
    "    db_JingleBells = pickle.load(JingleBells)"
   ]
  },
  {
   "cell_type": "markdown",
   "metadata": {},
   "source": [
    "## Functions for Visualization "
   ]
  },
  {
   "cell_type": "code",
   "execution_count": 16,
   "metadata": {},
   "outputs": [],
   "source": [
    "def visualizeTemplate(W):\n",
    "    '''This function allows us the visualize the template matrix (W)'''\n",
    "    fs = 22050\n",
    "    winsz = 2048\n",
    "    \n",
    "    maxFreq = W.shape[0]*fs/winsz\n",
    "    maxMidi = W.shape[1]\n",
    "    \n",
    "    plt.figure(figsize=(16,5))\n",
    "    plt.imshow(W, cmap='jet', origin = 'lower', aspect='auto', extent=(0, maxMidi, 0, maxFreq))\n",
    "    plt.xlabel('Note')\n",
    "    plt.ylabel('Frequency [Hz]')\n",
    "    plt.title('Template Matrix Visualization')\n",
    "    plt.colorbar()\n",
    "    plt.show()"
   ]
  },
  {
   "cell_type": "code",
   "execution_count": 17,
   "metadata": {},
   "outputs": [],
   "source": [
    "def visualizeActivations(H):\n",
    "    '''This function allows us the visualize the activations matrix (H)'''\n",
    "    fs = 22050\n",
    "    winsz = 2048\n",
    "    \n",
    "    maxNote = H.shape[0]\n",
    "    maxFrame = H.shape[1]\n",
    "    \n",
    "    plt.figure(figsize=(16,5))\n",
    "    plt.imshow(H, cmap='jet', origin = 'lower', aspect='auto', extent=(0, maxFrame, 0, maxNote))\n",
    "    plt.xlabel('Frames')\n",
    "    plt.ylabel('Note')\n",
    "    plt.title('Activation Matrix Visualization')\n",
    "    plt.colorbar()\n",
    "    plt.show()"
   ]
  },
  {
   "cell_type": "code",
   "execution_count": 18,
   "metadata": {},
   "outputs": [],
   "source": [
    "def visualizeSTFT(STFT):\n",
    "    '''This function allows us to visualize the log spectrogram of the STFT'''\n",
    "    fs = 22050\n",
    "    winsz = 2048\n",
    "    \n",
    "    maxFreq = STFT.shape[0]*fs/winsz\n",
    "    maxFrame = STFT.shape[1]\n",
    "    \n",
    "    plt.figure(figsize=(16,5))\n",
    "    plt.imshow(np.log(STFT), cmap='jet', vmin=-12, origin = 'lower', aspect='auto', extent=(0, maxFrame, 0, maxFreq))\n",
    "    plt.xlabel('Frame')\n",
    "    plt.ylabel('Frequency [Hz]')\n",
    "    plt.title('STFT Visualization')\n",
    "    plt.colorbar()\n",
    "    plt.show()"
   ]
  },
  {
   "cell_type": "markdown",
   "metadata": {},
   "source": [
    "## NMF"
   ]
  },
  {
   "cell_type": "code",
   "execution_count": 19,
   "metadata": {},
   "outputs": [],
   "source": [
    "def calcSTFT(audio, sr = 22050, winsz = 2048, hop = 512):\n",
    "    '''Calculate the STFT of the audio'''\n",
    "    f, t, Zxx = ss.stft(audio, sr, nperseg=winsz, noverlap=winsz-hop)\n",
    "    return Zxx"
   ]
  },
  {
   "cell_type": "code",
   "execution_count": 20,
   "metadata": {},
   "outputs": [],
   "source": [
    "def NMF(W, H, V):\n",
    "    '''The NMF function runs the algorithm until the NMF algorithm causes a change of less than 1e-6 '''\n",
    "    \n",
    "    count = 0\n",
    "    while(True):\n",
    "        prevEstimate = np.linalg.norm(V - np.matmul(W,H))\n",
    "        \n",
    "        H = (H*np.matmul(W.T, V))/(np.matmul(np.matmul(W.T, W), H))\n",
    "        W = (W*np.matmul(V, H.T))/(np.matmul(np.matmul(W, H), H.T))\n",
    "        \n",
    "        count += 1\n",
    "        newEstimate = np.linalg.norm(V - np.matmul(W,H))\n",
    "        \n",
    "        # Take the difference of the previous and newly computed values \n",
    "        # If the number is small, then that means there has been little to no change within the NMF algorithm\n",
    "        # and thus we can stop running the function\n",
    "        if np.abs(newEstimate - prevEstimate) <= 1e-6:\n",
    "            break\n",
    "    return W, H, count "
   ]
  },
  {
   "cell_type": "markdown",
   "metadata": {},
   "source": [
    "## Initializing templates"
   ]
  },
  {
   "cell_type": "code",
   "execution_count": 21,
   "metadata": {},
   "outputs": [],
   "source": [
    "def initTemplates(STFT, midiArray, deltaF=30, sr=22050, winSize=2048):\n",
    "    '''Creates the initial template for the W matrix'''\n",
    "    # Convert the midi array values into a frequency array\n",
    "    freqArray = 440 * pow(2, (midiArray-69)/12)\n",
    "    \n",
    "    # Convert the frequency array into an array of k values. Also convert deltaF into a k value as well.\n",
    "    kArray = np.round(freqArray*winSize/sr).astype(int)\n",
    "    deltaK = np.round(deltaF*winSize/sr).astype(int)\n",
    "    \n",
    "    # Create W with the same amount of rows as the STFT, and the amount of columns equal to number of notes\n",
    "    W = np.zeros([STFT.shape[0], len(kArray)])\n",
    "    \n",
    "    # Loop through the rows in each column\n",
    "    for i in range(W.shape[1]):\n",
    "        for j in range(W.shape[0]):\n",
    "            \n",
    "            # If our k value is a multiple of the row, we have hit the note, and/or its harmonic\n",
    "            if (j%kArray[i]==0):\n",
    "                \n",
    "                # Set the W array row equal to the max value\n",
    "                W[j,i] = np.random.rand()\n",
    "                \n",
    "                # Cases for harmonics are below, first init an array for the k values required to satisfy values\n",
    "                # around harmonic frequencies\n",
    "                deltaKRange = np.arange(1, (deltaK+1)*j/kArray[i])\n",
    "                \n",
    "                # We add the harmonic value to a range of k values based off of the deltaF entered\n",
    "                harmonicsPositive = j + deltaKRange\n",
    "                \n",
    "                # We then remove any k values that are greater than or equal to the amount of rows  \n",
    "                harmonicsPositive = np.delete(harmonicsPositive, np.where(harmonicsPositive>=W.shape[0])).astype(int)\n",
    "                \n",
    "                # We subtract a range of k values based off of the deltaF entered from the harmonic value\n",
    "                harmonicsNegative = j - deltaKRange\n",
    "                \n",
    "                # We then remove any k values that are less than 0 to avoid the out of bounds error  \n",
    "                harmonicsNegative = np.delete(harmonicsNegative, np.where(harmonicsNegative<0)).astype(int)\n",
    "                \n",
    "                # If an array is non-empty, we set the harmonic value + the deltaK values to be a random number\n",
    "\n",
    "                if harmonicsPositive.size > 0:\n",
    "                    # Create as many random numbers as indices selected\n",
    "                    W[harmonicsPositive, i] = np.random.rand(harmonicsPositive.size)\n",
    "                    \n",
    "                if harmonicsNegative.size > 0:\n",
    "                    # Create as many random numbers as indices selected\n",
    "                    W[harmonicsNegative, i] = np.random.rand(harmonicsNegative.size)\n",
    "            \n",
    "    return W        "
   ]
  },
  {
   "cell_type": "markdown",
   "metadata": {},
   "source": [
    "## Initializing Activations"
   ]
  },
  {
   "cell_type": "code",
   "execution_count": 22,
   "metadata": {},
   "outputs": [],
   "source": [
    "def initActivations(Zxx, midiNotes, noteEvents, fs=22050, hopsize=512, deltaT=.5):\n",
    "    '''This function allows us to initialize the H matrix by utilizing the STFT and the noteEvents.'''\n",
    "    \n",
    "    numNotes = len(midiNotes)\n",
    "    numFrames = Zxx.shape[1]\n",
    "    H = np.zeros([numNotes, numFrames])\n",
    "    maxNoteLengthInFrames = int(1*fs/hopsize) #this value is for the 1 second that each note plays for\n",
    "    deltaFrames = int(deltaT*fs/hopsize) #converts the deltaT (onset value) into frames\n",
    "    \n",
    "    # Create a range of values that span from the -onset value to the totalDuration + the onset value\n",
    "    noteLengthInFrames = np.arange(-deltaFrames, maxNoteLengthInFrames + deltaFrames + 1) \n",
    "    for i in range(len(noteEvents)):\n",
    "        note = noteEvents[i][0]\n",
    "        actTime = noteEvents[i][1] #time when the note is activated \n",
    "        actFrame = int(actTime*fs/hopsize) #convert the time into frames\n",
    "        \n",
    "        # Creates an array of frame values that need to be set to random, non-zero numbers\n",
    "        noteTimeActive = actFrame + noteLengthInFrames \n",
    "        \n",
    "        # Remove frames that are less than zero and greater than shape of activation matrix\n",
    "        noteTimeActive = np.delete(noteTimeActive, np.where(noteTimeActive < 0)).astype(int)\n",
    "        noteTimeActive = np.delete(noteTimeActive, np.where(noteTimeActive >= H.shape[1])).astype(int)\n",
    "        \n",
    "        # Create as many random numbers as indices selected\n",
    "        H[note, noteTimeActive] = np.random.rand(noteTimeActive.size)\n",
    "    return H"
   ]
  },
  {
   "cell_type": "markdown",
   "metadata": {},
   "source": [
    "## Score Metric"
   ]
  },
  {
   "cell_type": "code",
   "execution_count": 23,
   "metadata": {},
   "outputs": [],
   "source": [
    "def accuracyScore(queryStftMag, queryActivation, template):\n",
    "    \n",
    "    '''\n",
    "    This function calculates and returns the score for how accurately a scale matches up with the query.\n",
    "    '''\n",
    "    \n",
    "    vEstimate = np.matmul(template, queryActivation)\n",
    "    score = np.sum(np.abs(queryStftMag - vEstimate))\n",
    "    \n",
    "    return score"
   ]
  },
  {
   "cell_type": "markdown",
   "metadata": {},
   "source": [
    "## Initiate template and activation matrices for the scales"
   ]
  },
  {
   "cell_type": "code",
   "execution_count": 24,
   "metadata": {},
   "outputs": [],
   "source": [
    "def runNMF(db_Audio, midiNotes, noteEvents, keepTemplate, keepQuery):\n",
    "\n",
    "    '''\n",
    "    This function initializes the H and W matrices for the audio, as well as the STFT, which are \n",
    "    all used for the NMF function. The function returns a database with the artist's name as the \n",
    "    key and either the H or W matrix as the value. \n",
    "    '''\n",
    "    \n",
    "    # Initialize H, W, and V dictionaries. \n",
    "    dbW = {}\n",
    "    dbH = {}\n",
    "    dbV = {}\n",
    "    \n",
    "    # Loop through dictionary's items\n",
    "    for artist, audio in db_Audio.items():\n",
    "\n",
    "        # Calculations required for NMF \n",
    "        STFT = calcSTFT(audio)\n",
    "\n",
    "        magSTFT = np.abs(STFT)\n",
    "\n",
    "        initW = initTemplates(magSTFT, midiNotes)\n",
    "        initH = initActivations(magSTFT, midiNotes, noteEvents)\n",
    "        \n",
    "        # Run the NMF algorithm\n",
    "        W, H, count = NMF(initW + 1e-9, initH + 1e-9, magSTFT)\n",
    "        \n",
    "        # Save the H, W, and STFT magnitude values to their respective dictionaries.\n",
    "        dbH[artist] = H\n",
    "\n",
    "        dbW[artist] = W\n",
    "\n",
    "        dbV[artist] = magSTFT\n",
    "    \n",
    "    # Change what is returned based off the keepH and keepW values. \n",
    "    if keepTemplate:\n",
    "        return dbW\n",
    "    \n",
    "    if keepQuery:\n",
    "        return dbV, dbH\n",
    "    \n",
    "    # If both keepH and keepW are false, return 'error'\n",
    "    return 'error'"
   ]
  },
  {
   "cell_type": "code",
   "execution_count": 65,
   "metadata": {
    "scrolled": true
   },
   "outputs": [],
   "source": [
    "db_Templates = runNMF(db_Scales, midiNotes, noteEvents, keepTemplate = True, keepQuery = False)"
   ]
  },
  {
   "cell_type": "code",
   "execution_count": 66,
   "metadata": {},
   "outputs": [],
   "source": [
    "db_QueryStftMags, db_QueryActivations = runNMF(db_Scales, midiNotes, noteEvents, keepTemplate = False, keepQuery = True)"
   ]
  },
  {
   "cell_type": "code",
   "execution_count": 27,
   "metadata": {},
   "outputs": [],
   "source": [
    "def accuracyTest(db_Templates, db_QueryActivations, db_QueryStftMags):\n",
    "    \n",
    "    '''\n",
    "    This function is used to test the accuracy of the system.\n",
    "    '''\n",
    "    \n",
    "    # Initialize variables\n",
    "    amountCorrect = 0\n",
    "    totalSongs = len(db_QueryStftMags)\n",
    "    \n",
    "    # Loop through the query activation matrix database \n",
    "    for querySinger, queryActivation in db_QueryActivations.items():\n",
    "     \n",
    "        # Reset the lowest score value and the artist song name\n",
    "        lowestScoreValue = np.inf\n",
    "        artistSongName = ''\n",
    "        queryStftMag = db_QueryStftMags[querySinger]\n",
    "        \n",
    "        print('Query Artist Name: ' , querySinger)\n",
    "        \n",
    "        # Loop through the H matrix song dictionary \n",
    "        for artistName, artistTemplate in db_Templates.items():\n",
    "            \n",
    "            # Calculate the accuracy for each scale's H matrix\n",
    "            score = accuracyScore(queryStftMag, queryActivation, artistTemplate)\n",
    "            print('Template Name and Score: ', artistName, ', ', score)\n",
    "            \n",
    "            # If the score is less than the previous lowest value, save the score and the artist's name\n",
    "            if score < lowestScoreValue:\n",
    "                lowestScoreValue = score\n",
    "                artistSongName = artistName\n",
    "        \n",
    "        # Once we finish loop through the scales, we check if the chosen scale artist matches the song's artist name\n",
    "        print('Best Artist Template: ', artistSongName)\n",
    "        \n",
    "        if artistSongName == querySinger:\n",
    "            amountCorrect += 1\n",
    "    \n",
    "    return amountCorrect/totalSongs"
   ]
  },
  {
   "cell_type": "code",
   "execution_count": 67,
   "metadata": {
    "scrolled": false
   },
   "outputs": [
    {
     "name": "stdout",
     "output_type": "stream",
     "text": [
      "Query Artist Name:  John\n",
      "Template Name and Score:  John ,  218.55056575138477\n",
      "Template Name and Score:  Ashley ,  530.1352665025772\n",
      "Template Name and Score:  Kaitlyn ,  519.8248533415722\n",
      "Template Name and Score:  Isabel ,  180048421.74373594\n",
      "Template Name and Score:  Aaron ,  373.9724415671488\n",
      "Template Name and Score:  Lilly ,  414.9966140286838\n",
      "Template Name and Score:  Lilliy ,  463.90323924459494\n",
      "Template Name and Score:  Maddie ,  394.7085180122401\n",
      "Template Name and Score:  Gabe ,  418.7010170085412\n",
      "Template Name and Score:  Kailee ,  504.2202386709716\n",
      "Best Artist Template:  John\n",
      "Query Artist Name:  Ashley\n",
      "Template Name and Score:  John ,  20.88436463697228\n",
      "Template Name and Score:  Ashley ,  17.162503542424872\n",
      "Template Name and Score:  Kaitlyn ,  22.650089318248718\n",
      "Template Name and Score:  Isabel ,  4410656.520309152\n",
      "Template Name and Score:  Aaron ,  18.979868344035143\n",
      "Template Name and Score:  Lilly ,  18.703503621280852\n",
      "Template Name and Score:  Lilliy ,  20.959270846057347\n",
      "Template Name and Score:  Maddie ,  18.892834958570116\n",
      "Template Name and Score:  Gabe ,  20.18322923059137\n",
      "Template Name and Score:  Kailee ,  21.68419679359059\n",
      "Best Artist Template:  Ashley\n",
      "Query Artist Name:  Kaitlyn\n",
      "Template Name and Score:  John ,  162.83468960130625\n",
      "Template Name and Score:  Ashley ,  167.21464338011285\n",
      "Template Name and Score:  Kaitlyn ,  87.38611235063293\n",
      "Template Name and Score:  Isabel ,  24015851.240944464\n",
      "Template Name and Score:  Aaron ,  156.18095013443414\n",
      "Template Name and Score:  Lilly ,  153.61221489275783\n",
      "Template Name and Score:  Lilliy ,  141.09007934899697\n",
      "Template Name and Score:  Maddie ,  148.9793191167289\n",
      "Template Name and Score:  Gabe ,  165.41684519890035\n",
      "Template Name and Score:  Kailee ,  148.73352869951668\n",
      "Best Artist Template:  Kaitlyn\n",
      "Query Artist Name:  Isabel\n",
      "Template Name and Score:  John ,  41.46368476974723\n",
      "Template Name and Score:  Ashley ,  40.409611671305555\n",
      "Template Name and Score:  Kaitlyn ,  32.11943421918064\n",
      "Template Name and Score:  Isabel ,  30.55724895956409\n",
      "Template Name and Score:  Aaron ,  38.29428047222219\n",
      "Template Name and Score:  Lilly ,  38.00128480020904\n",
      "Template Name and Score:  Lilliy ,  35.91245413687026\n",
      "Template Name and Score:  Maddie ,  39.1088644982315\n",
      "Template Name and Score:  Gabe ,  40.26792887605228\n",
      "Template Name and Score:  Kailee ,  43.202443308145014\n",
      "Best Artist Template:  Isabel\n",
      "Query Artist Name:  Aaron\n",
      "Template Name and Score:  John ,  67.70863862908054\n",
      "Template Name and Score:  Ashley ,  97.60853425876296\n",
      "Template Name and Score:  Kaitlyn ,  92.39111990139848\n",
      "Template Name and Score:  Isabel ,  40611209.02391463\n",
      "Template Name and Score:  Aaron ,  41.11721370644222\n",
      "Template Name and Score:  Lilly ,  72.39625794562221\n",
      "Template Name and Score:  Lilliy ,  83.46292515013452\n",
      "Template Name and Score:  Maddie ,  67.5809809520607\n",
      "Template Name and Score:  Gabe ,  69.86438170982541\n",
      "Template Name and Score:  Kailee ,  85.92066174762739\n",
      "Best Artist Template:  Aaron\n",
      "Query Artist Name:  Lilly\n",
      "Template Name and Score:  John ,  181.2444608351797\n",
      "Template Name and Score:  Ashley ,  207.56679407219244\n",
      "Template Name and Score:  Kaitlyn ,  214.3282920261645\n",
      "Template Name and Score:  Isabel ,  58868628.42147592\n",
      "Template Name and Score:  Aaron ,  182.28644578537182\n",
      "Template Name and Score:  Lilly ,  125.98021346109688\n",
      "Template Name and Score:  Lilliy ,  201.42344705631598\n",
      "Template Name and Score:  Maddie ,  168.4314974228804\n",
      "Template Name and Score:  Gabe ,  205.12457665999\n",
      "Template Name and Score:  Kailee ,  207.3049282669647\n",
      "Best Artist Template:  Lilly\n",
      "Query Artist Name:  Lilliy\n",
      "Template Name and Score:  John ,  40.68767140717027\n",
      "Template Name and Score:  Ashley ,  41.44272320643961\n",
      "Template Name and Score:  Kaitlyn ,  33.3838960883152\n",
      "Template Name and Score:  Isabel ,  7224417.684620793\n",
      "Template Name and Score:  Aaron ,  36.07650930653617\n",
      "Template Name and Score:  Lilly ,  37.18868045978884\n",
      "Template Name and Score:  Lilliy ,  18.389600021622055\n",
      "Template Name and Score:  Maddie ,  37.55583101774443\n",
      "Template Name and Score:  Gabe ,  39.91061768845992\n",
      "Template Name and Score:  Kailee ,  43.08452611884611\n",
      "Best Artist Template:  Lilliy\n",
      "Query Artist Name:  Maddie\n",
      "Template Name and Score:  John ,  67.62961127212759\n",
      "Template Name and Score:  Ashley ,  80.61863580709641\n",
      "Template Name and Score:  Kaitlyn ,  77.81755704518181\n",
      "Template Name and Score:  Isabel ,  25025682.09509868\n",
      "Template Name and Score:  Aaron ,  67.45754270024362\n",
      "Template Name and Score:  Lilly ,  61.61982718833713\n",
      "Template Name and Score:  Lilliy ,  71.73950048839916\n",
      "Template Name and Score:  Maddie ,  43.1247968624049\n",
      "Template Name and Score:  Gabe ,  73.48660789465102\n",
      "Template Name and Score:  Kailee ,  73.40665917784285\n",
      "Best Artist Template:  Maddie\n",
      "Query Artist Name:  Gabe\n",
      "Template Name and Score:  John ,  127.12651130300799\n",
      "Template Name and Score:  Ashley ,  161.1693923283508\n",
      "Template Name and Score:  Kaitlyn ,  154.50303073729148\n",
      "Template Name and Score:  Isabel ,  40187099.37393144\n",
      "Template Name and Score:  Aaron ,  110.34492284186368\n",
      "Template Name and Score:  Lilly ,  137.37421655898817\n",
      "Template Name and Score:  Lilliy ,  147.25093689282897\n",
      "Template Name and Score:  Maddie ,  125.12907099407961\n",
      "Template Name and Score:  Gabe ,  76.86535114568386\n",
      "Template Name and Score:  Kailee ,  155.91825913779567\n",
      "Best Artist Template:  Gabe\n",
      "Query Artist Name:  Kailee\n",
      "Template Name and Score:  John ,  258.97568888031856\n",
      "Template Name and Score:  Ashley ,  238.97146575100436\n",
      "Template Name and Score:  Kaitlyn ,  253.8657793234038\n",
      "Template Name and Score:  Isabel ,  42012543.59653737\n",
      "Template Name and Score:  Aaron ,  264.4243543131127\n",
      "Template Name and Score:  Lilly ,  245.83340803855708\n",
      "Template Name and Score:  Lilliy ,  264.10632777432755\n",
      "Template Name and Score:  Maddie ,  219.98416997934336\n",
      "Template Name and Score:  Gabe ,  269.726913783981\n",
      "Template Name and Score:  Kailee ,  131.0794284570965\n",
      "Best Artist Template:  Kailee\n"
     ]
    },
    {
     "data": {
      "text/plain": [
       "1.0"
      ]
     },
     "execution_count": 67,
     "metadata": {},
     "output_type": "execute_result"
    }
   ],
   "source": [
    "accuracyTest(db_Templates, db_QueryActivations, db_QueryStftMags)"
   ]
  },
  {
   "cell_type": "code",
   "execution_count": null,
   "metadata": {},
   "outputs": [],
   "source": []
  }
 ],
 "metadata": {
  "kernelspec": {
   "display_name": "Python 3",
   "language": "python",
   "name": "python3"
  },
  "language_info": {
   "codemirror_mode": {
    "name": "ipython",
    "version": 3
   },
   "file_extension": ".py",
   "mimetype": "text/x-python",
   "name": "python",
   "nbconvert_exporter": "python",
   "pygments_lexer": "ipython3",
   "version": "3.6.5"
  }
 },
 "nbformat": 4,
 "nbformat_minor": 2
}
