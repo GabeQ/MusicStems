{
 "cells": [
  {
   "cell_type": "markdown",
   "metadata": {},
   "source": [
    "# Music STEMS Final Project\n",
    "## Kai Kaneshina and Gabriel Quiroz"
   ]
  },
  {
   "cell_type": "code",
   "execution_count": 5,
   "metadata": {},
   "outputs": [],
   "source": [
    "import numpy as np\n",
    "import librosa as lb\n",
    "import matplotlib.pyplot as plt\n",
    "import IPython.display as ipd\n",
    "import scipy.signal as ss\n",
    "import scipy.io as sio\n",
    "import glob\n",
    "import subprocess\n",
    "import os.path\n",
    "import pickle"
   ]
  },
  {
   "cell_type": "markdown",
   "metadata": {},
   "source": [
    "## Midi Notes and Timing"
   ]
  },
  {
   "cell_type": "code",
   "execution_count": 6,
   "metadata": {},
   "outputs": [],
   "source": [
    "midiNotes = np.arange(60,72) # This list contains the midi values for notes C4 to C5 aka 60 to 71"
   ]
  },
  {
   "cell_type": "code",
   "execution_count": 7,
   "metadata": {},
   "outputs": [],
   "source": [
    "noteEvents = [(3, 1.23), (4, 1.23), (2, 2.19), (4, 2.19), (1, 3.16), (6, 3.16), \n",
    "              (0, 4.12), (7, 4.12), (1, 4.42), (6, 4.42), (2, 4.72), (5, 4.72),\n",
    "              (3, 5.05), (4, 5.05), (2, 6.02), (4, 6.02), (1, 7.05), (6, 7.05),\n",
    "              (0, 8.11), (7, 8.11)]"
   ]
  },
  {
   "cell_type": "markdown",
   "metadata": {},
   "source": [
    "## Database Constructor"
   ]
  },
  {
   "cell_type": "code",
   "execution_count": 8,
   "metadata": {},
   "outputs": [],
   "source": [
    "def constructDatabase(indir):\n",
    "    \"\"\"\n",
    "    Construct a database of fingerprints for all mp3 files in the specified directory.\n",
    "    \n",
    "    Arguments:\n",
    "    indir -- directory containing mp3 files\n",
    "    \n",
    "    Returns:\n",
    "    d -- database of artist names, where the key is the artist name\n",
    "        and the value is the audio array extracted with librosa.\n",
    "    \"\"\"\n",
    "    d = {}\n",
    "\n",
    "    ### START CODE BLOCK ###\n",
    "    path = indir + '/*.m4a'\n",
    "    for filename in glob.iglob(path, recursive=True):  \n",
    "        audio, sr = lb.core.load(filename, 22050)\n",
    "        filename = filename.lstrip(indir + '/') #removes the directory from the filename\n",
    "        name = filename.split(' ')[0] #keeps only the name of the artist\n",
    "        d[name] = audio\n",
    "            \n",
    "    ### END CODE BLOCK ###\n",
    "    \n",
    "    return d"
   ]
  },
  {
   "cell_type": "code",
   "execution_count": 9,
   "metadata": {},
   "outputs": [],
   "source": [
    "db_Scales = constructDatabase('scales') # note that this may take a minute or so to run"
   ]
  },
  {
   "cell_type": "code",
   "execution_count": 10,
   "metadata": {},
   "outputs": [],
   "source": [
    "with open('db_Scales.pkl','wb') as scales:\n",
    "    pickle.dump(db_Scales, scales)"
   ]
  },
  {
   "cell_type": "code",
   "execution_count": 11,
   "metadata": {},
   "outputs": [],
   "source": [
    "with open('db_Scales.pkl','rb') as scales:\n",
    "    db_Scales = pickle.load(scales)"
   ]
  },
  {
   "cell_type": "code",
   "execution_count": 12,
   "metadata": {},
   "outputs": [],
   "source": [
    "db_JingleBells = constructDatabase('song') # note that this may take a minute or so to run"
   ]
  },
  {
   "cell_type": "code",
   "execution_count": 13,
   "metadata": {},
   "outputs": [],
   "source": [
    "with open('db_JingleBells.pkl','wb') as JingleBells:\n",
    "    pickle.dump(db_JingleBells, JingleBells)"
   ]
  },
  {
   "cell_type": "code",
   "execution_count": 14,
   "metadata": {},
   "outputs": [],
   "source": [
    "with open('db_JingleBells.pkl','rb') as JingleBells:\n",
    "    db_JingleBells = pickle.load(JingleBells)"
   ]
  },
  {
   "cell_type": "markdown",
   "metadata": {},
   "source": [
    "## Functions for Visualization "
   ]
  },
  {
   "cell_type": "code",
   "execution_count": 15,
   "metadata": {},
   "outputs": [],
   "source": [
    "def visualizeTemplate(W):\n",
    "    '''This function allows us the visualize the template matrix (W)'''\n",
    "    fs = 22050\n",
    "    winsz = 2048\n",
    "    \n",
    "    maxFreq = W.shape[0]*fs/winsz\n",
    "    maxMidi = W.shape[1]\n",
    "    \n",
    "    plt.figure(figsize=(16,5))\n",
    "    plt.imshow(W, cmap='jet', origin = 'lower', aspect='auto', extent=(0, maxMidi, 0, maxFreq))\n",
    "    plt.xlabel('Note')\n",
    "    plt.ylabel('Frequency [Hz]')\n",
    "    plt.title('Template Matrix Visualization')\n",
    "    plt.colorbar()\n",
    "    plt.show()"
   ]
  },
  {
   "cell_type": "code",
   "execution_count": 16,
   "metadata": {},
   "outputs": [],
   "source": [
    "def visualizeActivations(H):\n",
    "    '''This function allows us the visualize the activations matrix (H)'''\n",
    "    fs = 22050\n",
    "    winsz = 2048\n",
    "    \n",
    "    maxNote = H.shape[0]\n",
    "    maxFrame = H.shape[1]\n",
    "    \n",
    "    plt.figure(figsize=(16,5))\n",
    "    plt.imshow(H, cmap='jet', origin = 'lower', aspect='auto', extent=(0, maxFrame, 0, maxNote))\n",
    "    plt.xlabel('Frames')\n",
    "    plt.ylabel('Note')\n",
    "    plt.title('Activation Matrix Visualization')\n",
    "    plt.colorbar()\n",
    "    plt.show()"
   ]
  },
  {
   "cell_type": "code",
   "execution_count": 17,
   "metadata": {},
   "outputs": [],
   "source": [
    "def visualizeSTFT(STFT):\n",
    "    '''This function allows us to visualize the log spectrogram of the STFT'''\n",
    "    fs = 22050\n",
    "    winsz = 2048\n",
    "    \n",
    "    maxFreq = STFT.shape[0]*fs/winsz\n",
    "    maxFrame = STFT.shape[1]\n",
    "    \n",
    "    plt.figure(figsize=(16,5))\n",
    "    plt.imshow(np.log(STFT), cmap='jet', vmin=-12, origin = 'lower', aspect='auto', extent=(0, maxFrame, 0, maxFreq))\n",
    "    plt.xlabel('Frame')\n",
    "    plt.ylabel('Frequency [Hz]')\n",
    "    plt.title('STFT Visualization')\n",
    "    plt.colorbar()\n",
    "    plt.show()"
   ]
  },
  {
   "cell_type": "markdown",
   "metadata": {},
   "source": [
    "## NMF"
   ]
  },
  {
   "cell_type": "code",
   "execution_count": 18,
   "metadata": {},
   "outputs": [],
   "source": [
    "def calcSTFT(audio, sr = 22050, winsz = 2048, hop = 512):\n",
    "    '''Calculate the STFT of the audio'''\n",
    "    f, t, Zxx = ss.stft(audio, sr, nperseg=winsz, noverlap=winsz-hop)\n",
    "    return Zxx"
   ]
  },
  {
   "cell_type": "code",
   "execution_count": 19,
   "metadata": {},
   "outputs": [],
   "source": [
    "def NMF(W, H, V):\n",
    "    '''The NMF function runs the algorithm until the NMF algorithm causes a change of less than 1e-6 '''\n",
    "    \n",
    "    count = 0\n",
    "    while(count < 500):\n",
    "        prevEstimate = np.linalg.norm(V - np.matmul(W,H))\n",
    "        \n",
    "        H = (H*np.matmul(W.T, V))/(np.matmul(np.matmul(W.T, W), H))\n",
    "        W = (W*np.matmul(V, H.T))/(np.matmul(np.matmul(W, H), H.T))\n",
    "        \n",
    "        count += 1\n",
    "        newEstimate = np.linalg.norm(V - np.matmul(W,H))\n",
    "        \n",
    "        # Take the difference of the previous and newly computed values \n",
    "        # If the number is small, then that means there has been little to no change within the NMF algorithm\n",
    "        # and thus we can stop running the function\n",
    "        if np.abs(newEstimate - prevEstimate) <= 1e-6:\n",
    "            break\n",
    "    return W, H, count "
   ]
  },
  {
   "cell_type": "markdown",
   "metadata": {},
   "source": [
    "## Initializing templates"
   ]
  },
  {
   "cell_type": "code",
   "execution_count": 20,
   "metadata": {},
   "outputs": [],
   "source": [
    "def initTemplates(STFT, midiArray, deltaF=30, sr=22050, winSize=2048):\n",
    "    '''Creates the initial template for the W matrix'''\n",
    "    # Convert the midi array values into a frequency array\n",
    "    freqArray = 440 * pow(2, (midiArray-69)/12)\n",
    "    \n",
    "    # Convert the frequency array into an array of k values. Also convert deltaF into a k value as well.\n",
    "    kArray = np.round(freqArray*winSize/sr).astype(int)\n",
    "    deltaK = np.round(deltaF*winSize/sr).astype(int)\n",
    "    \n",
    "    # Create W with the same amount of rows as the STFT, and the amount of columns equal to number of notes\n",
    "    W = np.zeros([STFT.shape[0], len(kArray)])\n",
    "    \n",
    "    # Loop through the rows in each column\n",
    "    for i in range(W.shape[1]):\n",
    "        for j in range(W.shape[0]):\n",
    "            \n",
    "            # If our k value is a multiple of the row, we have hit the note, and/or its harmonic\n",
    "            if (j%kArray[i]==0):\n",
    "                \n",
    "                # Set the W array row equal to the max value\n",
    "                W[j,i] = np.random.rand()\n",
    "                \n",
    "                # Cases for harmonics are below, first init an array for the k values required to satisfy values\n",
    "                # around harmonic frequencies\n",
    "                deltaKRange = np.arange(1, (deltaK+1)*j/kArray[i])\n",
    "                \n",
    "                # We add the harmonic value to a range of k values based off of the deltaF entered\n",
    "                harmonicsPositive = j + deltaKRange\n",
    "                \n",
    "                # We then remove any k values that are greater than or equal to the amount of rows  \n",
    "                harmonicsPositive = np.delete(harmonicsPositive, np.where(harmonicsPositive>=W.shape[0])).astype(int)\n",
    "                \n",
    "                # We subtract a range of k values based off of the deltaF entered from the harmonic value\n",
    "                harmonicsNegative = j - deltaKRange\n",
    "                \n",
    "                # We then remove any k values that are less than 0 to avoid the out of bounds error  \n",
    "                harmonicsNegative = np.delete(harmonicsNegative, np.where(harmonicsNegative<0)).astype(int)\n",
    "                \n",
    "                # If an array is non-empty, we set the harmonic value + the deltaK values to be a random number\n",
    "\n",
    "                if harmonicsPositive.size > 0:\n",
    "                    # Create as many random numbers as indices selected\n",
    "                    W[harmonicsPositive, i] = np.random.rand(harmonicsPositive.size)\n",
    "                    \n",
    "                if harmonicsNegative.size > 0:\n",
    "                    # Create as many random numbers as indices selected\n",
    "                    W[harmonicsNegative, i] = np.random.rand(harmonicsNegative.size)\n",
    "            \n",
    "    return W        "
   ]
  },
  {
   "cell_type": "markdown",
   "metadata": {},
   "source": [
    "## Initializing Activations"
   ]
  },
  {
   "cell_type": "code",
   "execution_count": 21,
   "metadata": {},
   "outputs": [],
   "source": [
    "def initActivations(Zxx, midiNotes, noteEvents, fs=22050, hopsize=512, deltaT=.5):\n",
    "    '''This function allows us to initialize the H matrix by utilizing the STFT and the noteEvents.'''\n",
    "    \n",
    "    numNotes = len(midiNotes)\n",
    "    numFrames = Zxx.shape[1]\n",
    "    H = np.zeros([numNotes, numFrames])\n",
    "    maxNoteLengthInFrames = int(1*fs/hopsize) #this value is for the 1 second that each note plays for\n",
    "    deltaFrames = int(deltaT*fs/hopsize) #converts the deltaT (onset value) into frames\n",
    "    \n",
    "    # Create a range of values that span from the -onset value to the totalDuration + the onset value\n",
    "    noteLengthInFrames = np.arange(-deltaFrames, maxNoteLengthInFrames + deltaFrames + 1) \n",
    "    for i in range(len(noteEvents)):\n",
    "        note = noteEvents[i][0]\n",
    "        actTime = noteEvents[i][1] #time when the note is activated \n",
    "        actFrame = int(actTime*fs/hopsize) #convert the time into frames\n",
    "        \n",
    "        # Creates an array of frame values that need to be set to random, non-zero numbers\n",
    "        noteTimeActive = actFrame + noteLengthInFrames \n",
    "        \n",
    "        # Remove frames that are less than zero and greater than shape of activation matrix\n",
    "        noteTimeActive = np.delete(noteTimeActive, np.where(noteTimeActive < 0)).astype(int)\n",
    "        noteTimeActive = np.delete(noteTimeActive, np.where(noteTimeActive >= H.shape[1])).astype(int)\n",
    "        \n",
    "        # Create as many random numbers as indices selected\n",
    "        H[note, noteTimeActive] = np.random.rand(noteTimeActive.size)\n",
    "    return H"
   ]
  },
  {
   "cell_type": "markdown",
   "metadata": {},
   "source": [
    "## Score Metric"
   ]
  },
  {
   "cell_type": "code",
   "execution_count": 44,
   "metadata": {},
   "outputs": [],
   "source": [
    "def accuracyScore(queryStftMag, queryActivation, template):\n",
    "    \n",
    "    '''\n",
    "    This function calculates and returns the score for how accurately a scale matches up with the query.\n",
    "    '''\n",
    "    \n",
    "    vEstimate = np.matmul(template, queryActivation)\n",
    "    score = np.sum(np.abs(queryStftMag - vEstimate))\n",
    "    \n",
    "    return score"
   ]
  },
  {
   "cell_type": "markdown",
   "metadata": {},
   "source": [
    "## Initiate template and activation matrices for the scales"
   ]
  },
  {
   "cell_type": "code",
   "execution_count": 38,
   "metadata": {},
   "outputs": [],
   "source": [
    "def runNMF(db_Audio, midiNotes, noteEvents, keepTemplate, keepQuery):\n",
    "\n",
    "    '''\n",
    "    This function initializes the H and W matrices for the audio, as well as the STFT, which are \n",
    "    all used for the NMF function. The function returns a database with the artist's name as the \n",
    "    key and either the H or W matrix as the value. \n",
    "    '''\n",
    "    \n",
    "    # Initialize H, W, and V dictionaries. \n",
    "    dbW = {}\n",
    "    dbH = {}\n",
    "    dbV = {}\n",
    "    \n",
    "    # Loop through dictionary's items\n",
    "    for artist, audio in db_Audio.items():\n",
    "\n",
    "        # Calculations required for NMF \n",
    "        STFT = calcSTFT(audio)\n",
    "\n",
    "        magSTFT = np.abs(STFT)\n",
    "\n",
    "        initW = initTemplates(magSTFT, midiNotes)\n",
    "        initH = initActivations(magSTFT, midiNotes, noteEvents)\n",
    "        \n",
    "        # Run the NMF algorithm\n",
    "        W, H, count = NMF(initW + 1e-9, initH + 1e-9, magSTFT)\n",
    "        \n",
    "        # Save the H, W, and STFT magnitude values to their respective dictionaries.\n",
    "        dbH[artist] = H\n",
    "\n",
    "        dbW[artist] = W\n",
    "\n",
    "        dbV[artist] = magSTFT\n",
    "    \n",
    "    # Change what is returned based off the keepH and keepW values. \n",
    "    if keepTemplate:\n",
    "        return dbW\n",
    "    \n",
    "    if keepQuery:\n",
    "        return dbV, dbH\n",
    "    \n",
    "    # If both keepH and keepW are false, return 'error'\n",
    "    return 'error'"
   ]
  },
  {
   "cell_type": "code",
   "execution_count": 39,
   "metadata": {
    "scrolled": true
   },
   "outputs": [],
   "source": [
    "db_Templates = runNMF(db_Scales, midiNotes, noteEvents, keepTemplate = True, keepQuery = False)"
   ]
  },
  {
   "cell_type": "code",
   "execution_count": 40,
   "metadata": {},
   "outputs": [],
   "source": [
    "db_QueryStftMags, db_QueryActivations = runNMF(db_Scales, midiNotes, noteEvents, keepTemplate = False, keepQuery = True)"
   ]
  },
  {
   "cell_type": "code",
   "execution_count": 41,
   "metadata": {},
   "outputs": [],
   "source": [
    "def accuracyTest(db_Templates, db_QueryActivations, db_QueryStftMags):\n",
    "    \n",
    "    '''\n",
    "    This function is used to test the accuracy of the system.\n",
    "    '''\n",
    "    \n",
    "    # Initialize variables\n",
    "    amountCorrect = 0\n",
    "    totalSongs = len(db_QueryStftMags)\n",
    "    \n",
    "    # Loop through the query activation matrix database \n",
    "    for querySinger, queryActivation in db_QueryActivations.items():\n",
    "     \n",
    "        # Reset the lowest score value and the artist song name\n",
    "        lowestScoreValue = np.inf\n",
    "        artistSongName = ''\n",
    "        queryStftMag = db_QueryStftMags[querySinger]\n",
    "        \n",
    "        print('Query Artist Name: ' , querySinger)\n",
    "        \n",
    "        # Loop through the H matrix song dictionary \n",
    "        for artistName, artistTemplate in db_Templates.items():\n",
    "            \n",
    "            print(artistName)\n",
    "            \n",
    "            # Calculate the accuracy for each scale's H matrix\n",
    "            score = accuracyScore(queryStftMag, queryActivation, artistTemplate)\n",
    "            \n",
    "            # If the score is less than the previous lowest value, save the score and the artist's name\n",
    "            if score < lowestScoreValue:\n",
    "                lowestScoreValue = score\n",
    "                artistSongName = artistName\n",
    "        \n",
    "        # Once we finish loop through the scales, we check if the chosen scale artist matches the song's artist name\n",
    "        print('best artist', artistSongName)\n",
    "        \n",
    "        if artistSongName == querySinger:\n",
    "            amountCorrect += 1\n",
    "    \n",
    "    return amountCorrect/totalSongs"
   ]
  },
  {
   "cell_type": "code",
   "execution_count": 45,
   "metadata": {},
   "outputs": [
    {
     "name": "stdout",
     "output_type": "stream",
     "text": [
      "Query Artist Name:  John\n",
      "John\n",
      "Lilly\n",
      "Kailee\n",
      "best artist John\n",
      "Query Artist Name:  Lilly\n",
      "John\n",
      "Lilly\n",
      "Kailee\n",
      "best artist Lilly\n",
      "Query Artist Name:  Kailee\n",
      "John\n",
      "Lilly\n",
      "Kailee\n",
      "best artist Kailee\n"
     ]
    },
    {
     "data": {
      "text/plain": [
       "1.0"
      ]
     },
     "execution_count": 45,
     "metadata": {},
     "output_type": "execute_result"
    }
   ],
   "source": [
    "accuracyTest(db_Templates, db_QueryActivations, db_QueryStftMags)"
   ]
  },
  {
   "cell_type": "code",
   "execution_count": 28,
   "metadata": {
    "scrolled": true
   },
   "outputs": [
    {
     "name": "stdout",
     "output_type": "stream",
     "text": [
      "John\n",
      "(1025, 12)\n",
      "Lilly\n",
      "(1025, 12)\n",
      "Kailee\n",
      "(1025, 12)\n"
     ]
    }
   ],
   "source": [
    "for artist, W in db_SongTemplates.items():\n",
    "    print(artist)\n",
    "    print(W.shape)"
   ]
  },
  {
   "cell_type": "code",
   "execution_count": 29,
   "metadata": {},
   "outputs": [
    {
     "name": "stdout",
     "output_type": "stream",
     "text": [
      "John\n",
      "(12, 634)\n",
      "Lilly\n",
      "(12, 605)\n",
      "Kailee\n",
      "(12, 915)\n"
     ]
    }
   ],
   "source": [
    "for artist, H in db_HScale.items():\n",
    "    print(artist)\n",
    "    print(H.shape)"
   ]
  },
  {
   "cell_type": "code",
   "execution_count": 30,
   "metadata": {
    "scrolled": true
   },
   "outputs": [
    {
     "name": "stdout",
     "output_type": "stream",
     "text": [
      "John\n",
      "(1025, 634)\n",
      "Lilly\n",
      "(1025, 605)\n",
      "Kailee\n",
      "(1025, 915)\n"
     ]
    }
   ],
   "source": [
    "for artist, V in db_MagSTFTSong.items():\n",
    "    print(artist)\n",
    "    print(V.shape)"
   ]
  },
  {
   "cell_type": "markdown",
   "metadata": {},
   "source": [
    "# things to fix: matrix multiplication, and when to stop running NMF..."
   ]
  },
  {
   "cell_type": "code",
   "execution_count": 31,
   "metadata": {},
   "outputs": [],
   "source": [
    "audio = db_JingleBells['Lilly'] \n",
    "STFT = calcSTFT(audio)\n",
    "\n",
    "magSTFTJingle = np.abs(STFT)\n",
    "\n",
    "initW = initTemplates(magSTFTJingle, midiNotes)\n",
    "initH = initActivations(magSTFTJingle, midiNotes, noteEvents)\n",
    "\n",
    "#run the NMF algorithm\n",
    "wJingle, hJingle, count = NMF(initW+1e-9, initH+1e-9, magSTFTJingle)"
   ]
  },
  {
   "cell_type": "code",
   "execution_count": 32,
   "metadata": {},
   "outputs": [
    {
     "name": "stdout",
     "output_type": "stream",
     "text": [
      "John\n"
     ]
    },
    {
     "ename": "ValueError",
     "evalue": "operands could not be broadcast together with shapes (1025,734) (1025,634) ",
     "output_type": "error",
     "traceback": [
      "\u001b[0;31m---------------------------------------------------------------------------\u001b[0m",
      "\u001b[0;31mValueError\u001b[0m                                Traceback (most recent call last)",
      "\u001b[0;32m<ipython-input-32-70d2853e942c>\u001b[0m in \u001b[0;36m<module>\u001b[0;34m()\u001b[0m\n\u001b[1;32m     22\u001b[0m \u001b[0;34m\u001b[0m\u001b[0m\n\u001b[1;32m     23\u001b[0m     \u001b[0;31m#calculate the accuracy for each scale's H matrix\u001b[0m\u001b[0;34m\u001b[0m\u001b[0;34m\u001b[0m\u001b[0m\n\u001b[0;32m---> 24\u001b[0;31m     \u001b[0mscore\u001b[0m \u001b[0;34m=\u001b[0m \u001b[0maccuracyScore\u001b[0m\u001b[0;34m(\u001b[0m\u001b[0mmagSTFTJingle\u001b[0m\u001b[0;34m,\u001b[0m \u001b[0mwJingle\u001b[0m\u001b[0;34m,\u001b[0m \u001b[0mH\u001b[0m\u001b[0;34m)\u001b[0m\u001b[0;34m\u001b[0m\u001b[0m\n\u001b[0m\u001b[1;32m     25\u001b[0m \u001b[0;34m\u001b[0m\u001b[0m\n\u001b[1;32m     26\u001b[0m     \u001b[0;31m#if the score is less than the previous lowest value, save the score and the artist's name\u001b[0m\u001b[0;34m\u001b[0m\u001b[0;34m\u001b[0m\u001b[0m\n",
      "\u001b[0;32m<ipython-input-22-610baea4f363>\u001b[0m in \u001b[0;36maccuracyScore\u001b[0;34m(vQuery, wQuery, hScale)\u001b[0m\n\u001b[1;32m      4\u001b[0m     '''\n\u001b[1;32m      5\u001b[0m     \u001b[0mvEstimate\u001b[0m \u001b[0;34m=\u001b[0m \u001b[0mnp\u001b[0m\u001b[0;34m.\u001b[0m\u001b[0mmatmul\u001b[0m\u001b[0;34m(\u001b[0m\u001b[0mwQuery\u001b[0m\u001b[0;34m,\u001b[0m \u001b[0mhScale\u001b[0m\u001b[0;34m)\u001b[0m\u001b[0;34m\u001b[0m\u001b[0m\n\u001b[0;32m----> 6\u001b[0;31m     \u001b[0mabsDiff\u001b[0m \u001b[0;34m=\u001b[0m \u001b[0mnp\u001b[0m\u001b[0;34m.\u001b[0m\u001b[0mabs\u001b[0m\u001b[0;34m(\u001b[0m\u001b[0mvQuery\u001b[0m \u001b[0;34m-\u001b[0m \u001b[0mvEstimate\u001b[0m\u001b[0;34m)\u001b[0m\u001b[0;34m\u001b[0m\u001b[0m\n\u001b[0m\u001b[1;32m      7\u001b[0m     \u001b[0mscore\u001b[0m \u001b[0;34m=\u001b[0m \u001b[0mnp\u001b[0m\u001b[0;34m.\u001b[0m\u001b[0margmin\u001b[0m\u001b[0;34m(\u001b[0m\u001b[0mabsDiff\u001b[0m\u001b[0;34m)\u001b[0m\u001b[0;34m\u001b[0m\u001b[0m\n\u001b[1;32m      8\u001b[0m \u001b[0;34m\u001b[0m\u001b[0m\n",
      "\u001b[0;31mValueError\u001b[0m: operands could not be broadcast together with shapes (1025,734) (1025,634) "
     ]
    }
   ],
   "source": [
    "lowestScoreValue = np.inf\n",
    "artistSongName = ''\n",
    "totalSongs = len(db_Scales)\n",
    "amountCorrect = 0\n",
    "\n",
    "for artist, audio in db_Scales.items():\n",
    "    print(artist)\n",
    "    #calculations required for NMF \n",
    "    STFT = calcSTFT(audio)\n",
    "\n",
    "    magSTFT = np.abs(STFT)\n",
    "\n",
    "    initW = initTemplates(magSTFT, midiNotes)\n",
    "    initH = initActivations(magSTFT, midiNotes, noteEvents)\n",
    "\n",
    "    #run the NMF algorithm\n",
    "    W, H, count = NMF(initW+1e-9, initH+1e-9, magSTFT)\n",
    "\n",
    "    #save the H, W, and STFT magnitude values to their respective dictionaries.\n",
    "\n",
    "\n",
    "    #calculate the accuracy for each scale's H matrix\n",
    "    score = accuracyScore(magSTFTJingle, wJingle, H)\n",
    "\n",
    "    #if the score is less than the previous lowest value, save the score and the artist's name\n",
    "    if score < lowestScoreValue:\n",
    "        lowestScoreValue = score\n",
    "        artistSongName = artist\n",
    "\n",
    "    #once we finish loop through the scales, we check if the chosen scale artist matches the song's artist name\n",
    "\n",
    "    if artistSongName == artistH:\n",
    "        amountCorrect +=1\n",
    "\n",
    "amountCorrect/totalSongs\n"
   ]
  },
  {
   "cell_type": "code",
   "execution_count": null,
   "metadata": {},
   "outputs": [],
   "source": []
  }
 ],
 "metadata": {
  "kernelspec": {
   "display_name": "Python 3",
   "language": "python",
   "name": "python3"
  },
  "language_info": {
   "codemirror_mode": {
    "name": "ipython",
    "version": 3
   },
   "file_extension": ".py",
   "mimetype": "text/x-python",
   "name": "python",
   "nbconvert_exporter": "python",
   "pygments_lexer": "ipython3",
   "version": "3.6.5"
  }
 },
 "nbformat": 4,
 "nbformat_minor": 2
}
